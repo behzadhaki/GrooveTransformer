{
 "cells": [
  {
   "cell_type": "code",
   "execution_count": 1,
   "metadata": {
    "pycharm": {
     "name": "#%%\n"
    }
   },
   "outputs": [],
   "source": [
    "import numpy as np\n",
    "import math\n",
    "import matplotlib.pyplot as plt\n",
    "import os\n",
    "# import seaborn as sns\n",
    "\n",
    "from matplotlib import rc\n"
   ]
  },
  {
   "cell_type": "code",
   "execution_count": 2,
   "metadata": {
    "pycharm": {
     "name": "#%%\n"
    }
   },
   "outputs": [
    {
     "data": {
      "image/png": "[encoded data removed]",
      "text/plain": [
       "<Figure size 800x400 with 1 Axes>"
      ]
     },
     "metadata": {},
     "output_type": "display_data"
    }
   ],
   "source": [
    "\n",
    "\n",
    "\n",
    "def generate_beta_curve(n_epochs, period_epochs, rise_ratio, start_first_rise_at_epoch=0):\n",
    "    \n",
    "    def f(x, K):\n",
    "    if x == 0:\n",
    "        return 0\n",
    "    elif x == K:\n",
    "        return 1\n",
    "    else:\n",
    "        return 1 / (1 + np.exp(-10 * (x-K/2)/K))\n",
    "\n",
    "\n",
    "    def generate_rising_curve(K):\n",
    "        curve = []\n",
    "        for i in range(K):\n",
    "            curve.append(f(i, K-1))\n",
    "        return np.array(curve)\n",
    "\n",
    "    def generate_single_beta_cycle(period, rise_ratio):\n",
    "        cycle = np.ones(period)\n",
    "\n",
    "        curve_steps_in_epochs = int(period * rise_ratio)\n",
    "\n",
    "        rising_curve = generate_rising_curve(curve_steps_in_epochs)\n",
    "\n",
    "        cycle[:rising_curve.shape[0]] = rising_curve[:cycle.shape[0]]\n",
    "\n",
    "        return cycle\n",
    "\n",
    "    beta_curve = np.zeros((start_first_rise_at_epoch))\n",
    "    effective_epochs = n_epochs - start_first_rise_at_epoch\n",
    "    n_cycles = np.ceil(effective_epochs/period_epochs)\n",
    "    \n",
    "    single_cycle = generate_single_beta_cycle(period_epochs, rise_ratio)\n",
    "    \n",
    "    for c in np.arange(n_cycles):\n",
    "        beta_curve = np.append(beta_curve, single_cycle)\n",
    "        \n",
    "    return beta_curve[:n_epochs]\n",
    "        \n",
    "        \n",
    "    \n",
    "\n",
    "\n",
    "#beta_np_cyc = frange_cycle_sigmoid(start=0.0, stop=1, n_epoch=200, n_cycle=1, ratio=0.25)\n",
    "n_epochs = 300\n",
    "beta_np_cyc = generate_beta_curve(n_epochs=n_epochs, period_epochs=300, rise_ratio=0.5, start_first_rise_at_epoch=0)\n",
    "fig=plt.figure(figsize=(8,4.0))\n",
    "stride = max( int(n_epochs / 8), 1)\n",
    "\n",
    "plt.plot(range(n_epochs), beta_np_cyc, '-', label='Cyclical', marker= 's', color='k', markevery=stride,lw=2,  mec='k', mew=1 , markersize=10)\n",
    "plt.show()"
   ]
  },
  {
   "cell_type": "code",
   "execution_count": 3,
   "metadata": {},
   "outputs": [
    {
     "data": {
      "text/plain": [
       "array([], dtype=float64)"
      ]
     },
     "execution_count": 3,
     "metadata": {},
     "output_type": "execute_result"
    }
   ],
   "source": [
    "np.zeros((0))"
   ]
  },
  {
   "cell_type": "code",
   "execution_count": null,
   "metadata": {},
   "outputs": [],
   "source": []
  }
 ],
 "metadata": {
  "kernelspec": {
   "display_name": "GrooveTransformer",
   "language": "python",
   "name": "groovetransformer"
  },
  "language_info": {
   "codemirror_mode": {
    "name": "ipython",
    "version": 3
   },
   "file_extension": ".py",
   "mimetype": "text/x-python",
   "name": "python",
   "nbconvert_exporter": "python",
   "pygments_lexer": "ipython3",
   "version": "3.9.16"
  }
 },
 "nbformat": 4,
 "nbformat_minor": 1
}
