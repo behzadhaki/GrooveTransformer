{
 "cells": [
  {
   "cell_type": "code",
   "execution_count": 1,
   "metadata": {
    "collapsed": true,
    "pycharm": {
     "name": "#%%\n"
    }
   },
   "outputs": [],
   "source": [
    "import numpy as np\n",
    "import math\n",
    "import matplotlib.pyplot as plt\n",
    "import os\n",
    "# import seaborn as sns\n",
    "\n",
    "from matplotlib import rc\n",
    "plt.rc('text', usetex=True)"
   ]
  },
  {
   "cell_type": "code",
   "execution_count": 14,
   "outputs": [
    {
     "data": {
      "text/plain": "<Figure size 800x400 with 1 Axes>",
      "image/png": "[encoded data removed]"
     },
     "metadata": {},
     "output_type": "display_data"
    },
    {
     "data": {
      "text/plain": "0.013576916943744367"
     },
     "execution_count": 14,
     "metadata": {},
     "output_type": "execute_result"
    }
   ],
   "source": [
    "\n",
    "\n",
    "\n",
    "def frange_cycle_linear(start, stop, n_epoch, n_cycle=4, ratio=0.5):\n",
    "    L = np.ones(n_epoch)\n",
    "    period = n_epoch / n_cycle\n",
    "    step = (stop - start) / (period * ratio)  # linear schedule\n",
    "\n",
    "    for c in range(n_cycle):\n",
    "\n",
    "        v, i = start, 0\n",
    "        while v <= stop and (int(i + c * period) < n_epoch):\n",
    "            L[int(i + c * period)] = v\n",
    "            v += step\n",
    "            i += 1\n",
    "    return L\n",
    "\n",
    "\n",
    "def frange_cycle_sigmoid(start, stop, n_epoch, n_cycle=4, ratio=0.5):\n",
    "    L = np.ones(n_epoch)\n",
    "    period = n_epoch / n_cycle\n",
    "    step = (stop - start) / (period * ratio)  # step is in [0,1]\n",
    "\n",
    "    # transform into [-6, 6] for plots: v*12.-6.\n",
    "\n",
    "    for c in range(n_cycle):\n",
    "\n",
    "        v, i = start, 0\n",
    "        while v <= stop:\n",
    "            L[int(i + c * period)] = 1.0 / (1.0 + np.exp(- (v * 12. - 6.)))\n",
    "            v += step\n",
    "            i += 1\n",
    "    return L\n",
    "\n",
    "\n",
    "#  function  = 1 − cos(a), where a scans from 0 to pi/2\n",
    "\n",
    "def frange_cycle_cosine(start, stop, n_epoch, n_cycle=4, ratio=0.5):\n",
    "    L = np.ones(n_epoch)\n",
    "    period = n_epoch / n_cycle\n",
    "    step = (stop - start) / (period * ratio)  # step is in [0,1]\n",
    "\n",
    "    # transform into [0, pi] for plots:\n",
    "\n",
    "    for c in range(n_cycle):\n",
    "\n",
    "        v, i = start, 0\n",
    "        while v <= stop:\n",
    "            L[int(i + c * period)] = 0.5 - .5 * math.cos(v * math.pi)\n",
    "            v += step\n",
    "            i += 1\n",
    "    return L\n",
    "\n",
    "\n",
    "def frange(start, stop, step, n_epoch):\n",
    "    L = np.ones(n_epoch)\n",
    "    v, i = start, 0\n",
    "    while v <= stop:\n",
    "        L[i] = v\n",
    "        v += step\n",
    "        i += 1\n",
    "    return L\n",
    "\n",
    "\n",
    "n_epoch = 200\n",
    "\n",
    "beta_np_cyc = frange_cycle_sigmoid(start=0.0, stop=1, n_epoch=200, n_cycle=2, ratio=0.7)\n",
    "\n",
    "fig=plt.figure(figsize=(8,4.0))\n",
    "stride = max( int(n_epoch / 8), 1)\n",
    "\n",
    "plt.plot(range(n_epoch), beta_np_cyc, '-', label='Cyclical', marker= 's', color='k', markevery=stride,lw=2,  mec='k', mew=1 , markersize=10)\n",
    "plt.show()\n",
    "beta_np_cyc[10]"
   ],
   "metadata": {
    "collapsed": false,
    "pycharm": {
     "name": "#%%\n"
    }
   }
  },
  {
   "cell_type": "code",
   "execution_count": null,
   "outputs": [],
   "source": [],
   "metadata": {
    "collapsed": false,
    "pycharm": {
     "name": "#%%\n"
    }
   }
  }
 ],
 "metadata": {
  "kernelspec": {
   "display_name": "Python 3",
   "language": "python",
   "name": "python3"
  },
  "language_info": {
   "codemirror_mode": {
    "name": "ipython",
    "version": 2
   },
   "file_extension": ".py",
   "mimetype": "text/x-python",
   "name": "python",
   "nbconvert_exporter": "python",
   "pygments_lexer": "ipython2",
   "version": "2.7.6"
  }
 },
 "nbformat": 4,
 "nbformat_minor": 0
}