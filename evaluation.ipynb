{
 "cells": [
  {
   "cell_type": "code",
   "execution_count": 15,
   "metadata": {},
   "outputs": [
    {
     "data": {
      "text/html": [
       "<div class=\"bk-root\">\n",
       "        <a href=\"https://bokeh.org\" target=\"_blank\" class=\"bk-logo bk-logo-small bk-logo-notebook\"></a>\n",
       "        <span id=\"1004\">Loading BokehJS ...</span>\n",
       "    </div>\n"
      ]
     },
     "metadata": {},
     "output_type": "display_data"
    },
    {
     "data": {
      "application/javascript": "(function(root) {\n  function now() {\n    return new Date();\n  }\n\n  const force = true;\n\n  if (typeof root._bokeh_onload_callbacks === \"undefined\" || force === true) {\n    root._bokeh_onload_callbacks = [];\n    root._bokeh_is_loading = undefined;\n  }\n\nconst JS_MIME_TYPE = 'application/javascript';\n  const HTML_MIME_TYPE = 'text/html';\n  const EXEC_MIME_TYPE = 'application/vnd.bokehjs_exec.v0+json';\n  const CLASS_NAME = 'output_bokeh rendered_html';\n\n  /**\n   * Render data to the DOM node\n   */\n  function render(props, node) {\n    const script = document.createElement(\"script\");\n    node.appendChild(script);\n  }\n\n  /**\n   * Handle when an output is cleared or removed\n   */\n  function handleClearOutput(event, handle) {\n    const cell = handle.cell;\n\n    const id = cell.output_area._bokeh_element_id;\n    const server_id = cell.output_area._bokeh_server_id;\n    // Clean up Bokeh references\n    if (id != null && id in Bokeh.index) {\n      Bokeh.index[id].model.document.clear();\n      delete Bokeh.index[id];\n    }\n\n    if (server_id !== undefined) {\n      // Clean up Bokeh references\n      const cmd_clean = \"from bokeh.io.state import curstate; print(curstate().uuid_to_server['\" + server_id + \"'].get_sessions()[0].document.roots[0]._id)\";\n      cell.notebook.kernel.execute(cmd_clean, {\n        iopub: {\n          output: function(msg) {\n            const id = msg.content.text.trim();\n            if (id in Bokeh.index) {\n              Bokeh.index[id].model.document.clear();\n              delete Bokeh.index[id];\n            }\n          }\n        }\n      });\n      // Destroy server and session\n      const cmd_destroy = \"import bokeh.io.notebook as ion; ion.destroy_server('\" + server_id + \"')\";\n      cell.notebook.kernel.execute(cmd_destroy);\n    }\n  }\n\n  /**\n   * Handle when a new output is added\n   */\n  function handleAddOutput(event, handle) {\n    const output_area = handle.output_area;\n    const output = handle.output;\n\n    // limit handleAddOutput to display_data with EXEC_MIME_TYPE content only\n    if ((output.output_type != \"display_data\") || (!Object.prototype.hasOwnProperty.call(output.data, EXEC_MIME_TYPE))) {\n      return\n    }\n\n    const toinsert = output_area.element.find(\".\" + CLASS_NAME.split(' ')[0]);\n\n    if (output.metadata[EXEC_MIME_TYPE][\"id\"] !== undefined) {\n      toinsert[toinsert.length - 1].firstChild.textContent = output.data[JS_MIME_TYPE];\n      // store reference to embed id on output_area\n      output_area._bokeh_element_id = output.metadata[EXEC_MIME_TYPE][\"id\"];\n    }\n    if (output.metadata[EXEC_MIME_TYPE][\"server_id\"] !== undefined) {\n      const bk_div = document.createElement(\"div\");\n      bk_div.innerHTML = output.data[HTML_MIME_TYPE];\n      const script_attrs = bk_div.children[0].attributes;\n      for (let i = 0; i < script_attrs.length; i++) {\n        toinsert[toinsert.length - 1].firstChild.setAttribute(script_attrs[i].name, script_attrs[i].value);\n        toinsert[toinsert.length - 1].firstChild.textContent = bk_div.children[0].textContent\n      }\n      // store reference to server id on output_area\n      output_area._bokeh_server_id = output.metadata[EXEC_MIME_TYPE][\"server_id\"];\n    }\n  }\n\n  function register_renderer(events, OutputArea) {\n\n    function append_mime(data, metadata, element) {\n      // create a DOM node to render to\n      const toinsert = this.create_output_subarea(\n        metadata,\n        CLASS_NAME,\n        EXEC_MIME_TYPE\n      );\n      this.keyboard_manager.register_events(toinsert);\n      // Render to node\n      const props = {data: data, metadata: metadata[EXEC_MIME_TYPE]};\n      render(props, toinsert[toinsert.length - 1]);\n      element.append(toinsert);\n      return toinsert\n    }\n\n    /* Handle when an output is cleared or removed */\n    events.on('clear_output.CodeCell', handleClearOutput);\n    events.on('delete.Cell', handleClearOutput);\n\n    /* Handle when a new output is added */\n    events.on('output_added.OutputArea', handleAddOutput);\n\n    /**\n     * Register the mime type and append_mime function with output_area\n     */\n    OutputArea.prototype.register_mime_type(EXEC_MIME_TYPE, append_mime, {\n      /* Is output safe? */\n      safe: true,\n      /* Index of renderer in `output_area.display_order` */\n      index: 0\n    });\n  }\n\n  // register the mime type if in Jupyter Notebook environment and previously unregistered\n  if (root.Jupyter !== undefined) {\n    const events = require('base/js/events');\n    const OutputArea = require('notebook/js/outputarea').OutputArea;\n\n    if (OutputArea.prototype.mime_types().indexOf(EXEC_MIME_TYPE) == -1) {\n      register_renderer(events, OutputArea);\n    }\n  }\n  if (typeof (root._bokeh_timeout) === \"undefined\" || force === true) {\n    root._bokeh_timeout = Date.now() + 5000;\n    root._bokeh_failed_load = false;\n  }\n\n  const NB_LOAD_WARNING = {'data': {'text/html':\n     \"<div style='background-color: #fdd'>\\n\"+\n     \"<p>\\n\"+\n     \"BokehJS does not appear to have successfully loaded. If loading BokehJS from CDN, this \\n\"+\n     \"may be due to a slow or bad network connection. Possible fixes:\\n\"+\n     \"</p>\\n\"+\n     \"<ul>\\n\"+\n     \"<li>re-rerun `output_notebook()` to attempt to load from CDN again, or</li>\\n\"+\n     \"<li>use INLINE resources instead, as so:</li>\\n\"+\n     \"</ul>\\n\"+\n     \"<code>\\n\"+\n     \"from bokeh.resources import INLINE\\n\"+\n     \"output_notebook(resources=INLINE)\\n\"+\n     \"</code>\\n\"+\n     \"</div>\"}};\n\n  function display_loaded() {\n    const el = document.getElementById(\"1004\");\n    if (el != null) {\n      el.textContent = \"BokehJS is loading...\";\n    }\n    if (root.Bokeh !== undefined) {\n      if (el != null) {\n        el.textContent = \"BokehJS \" + root.Bokeh.version + \" successfully loaded.\";\n      }\n    } else if (Date.now() < root._bokeh_timeout) {\n      setTimeout(display_loaded, 100)\n    }\n  }\n\n  function run_callbacks() {\n    try {\n      root._bokeh_onload_callbacks.forEach(function(callback) {\n        if (callback != null)\n          callback();\n      });\n    } finally {\n      delete root._bokeh_onload_callbacks\n    }\n    console.debug(\"Bokeh: all callbacks have finished\");\n  }\n\n  function load_libs(css_urls, js_urls, callback) {\n    if (css_urls == null) css_urls = [];\n    if (js_urls == null) js_urls = [];\n\n    root._bokeh_onload_callbacks.push(callback);\n    if (root._bokeh_is_loading > 0) {\n      console.debug(\"Bokeh: BokehJS is being loaded, scheduling callback at\", now());\n      return null;\n    }\n    if (js_urls == null || js_urls.length === 0) {\n      run_callbacks();\n      return null;\n    }\n    console.debug(\"Bokeh: BokehJS not loaded, scheduling load and callback at\", now());\n    root._bokeh_is_loading = css_urls.length + js_urls.length;\n\n    function on_load() {\n      root._bokeh_is_loading--;\n      if (root._bokeh_is_loading === 0) {\n        console.debug(\"Bokeh: all BokehJS libraries/stylesheets loaded\");\n        run_callbacks()\n      }\n    }\n\n    function on_error(url) {\n      console.error(\"failed to load \" + url);\n    }\n\n    for (let i = 0; i < css_urls.length; i++) {\n      const url = css_urls[i];\n      const element = document.createElement(\"link\");\n      element.onload = on_load;\n      element.onerror = on_error.bind(null, url);\n      element.rel = \"stylesheet\";\n      element.type = \"text/css\";\n      element.href = url;\n      console.debug(\"Bokeh: injecting link tag for BokehJS stylesheet: \", url);\n      document.body.appendChild(element);\n    }\n\n    for (let i = 0; i < js_urls.length; i++) {\n      const url = js_urls[i];\n      const element = document.createElement('script');\n      element.onload = on_load;\n      element.onerror = on_error.bind(null, url);\n      element.async = false;\n      element.src = url;\n      console.debug(\"Bokeh: injecting script tag for BokehJS library: \", url);\n      document.head.appendChild(element);\n    }\n  };\n\n  function inject_raw_css(css) {\n    const element = document.createElement(\"style\");\n    element.appendChild(document.createTextNode(css));\n    document.body.appendChild(element);\n  }\n\n  const js_urls = [\"https://cdn.bokeh.org/bokeh/release/bokeh-2.4.3.min.js\", \"https://cdn.bokeh.org/bokeh/release/bokeh-gl-2.4.3.min.js\", \"https://cdn.bokeh.org/bokeh/release/bokeh-widgets-2.4.3.min.js\", \"https://cdn.bokeh.org/bokeh/release/bokeh-tables-2.4.3.min.js\", \"https://cdn.bokeh.org/bokeh/release/bokeh-mathjax-2.4.3.min.js\"];\n  const css_urls = [];\n\n  const inline_js = [    function(Bokeh) {\n      Bokeh.set_log_level(\"info\");\n    },\nfunction(Bokeh) {\n    }\n  ];\n\n  function run_inline_js() {\n    if (root.Bokeh !== undefined || force === true) {\n          for (let i = 0; i < inline_js.length; i++) {\n      inline_js[i].call(root, root.Bokeh);\n    }\nif (force === true) {\n        display_loaded();\n      }} else if (Date.now() < root._bokeh_timeout) {\n      setTimeout(run_inline_js, 100);\n    } else if (!root._bokeh_failed_load) {\n      console.log(\"Bokeh: BokehJS failed to load within specified timeout.\");\n      root._bokeh_failed_load = true;\n    } else if (force !== true) {\n      const cell = $(document.getElementById(\"1004\")).parents('.cell').data().cell;\n      cell.output_area.append_execute_result(NB_LOAD_WARNING)\n    }\n  }\n\n  if (root._bokeh_is_loading === 0) {\n    console.debug(\"Bokeh: BokehJS loaded, going straight to plotting\");\n    run_inline_js();\n  } else {\n    load_libs(css_urls, js_urls, function() {\n      console.debug(\"Bokeh: BokehJS plotting callback run at\", now());\n      run_inline_js();\n    });\n  }\n}(window));",
      "application/vnd.bokehjs_load.v0+json": ""
     },
     "metadata": {},
     "output_type": "display_data"
    }
   ],
   "source": [
    "import torch\n",
    "import os\n",
    "from helpers.VAE.modelLoader import load_variational_mgt_model\n",
    "from bokeh.io import output_notebook\n",
    "from bokeh.plotting import show\n",
    "import IPython.display as ipd\n",
    "import sys\n",
    "import pickle\n",
    "import bz2\n",
    "import plotly.express as px\n",
    "\n",
    "from hvo_sequence.hvo_seq import HVO_Sequence\n",
    "from hvo_sequence.drum_mappings import ROLAND_REDUCED_MAPPING\n",
    "from data.src.dataLoaders import load_gmd_hvo_sequences\n",
    "\n",
    "import numpy as np\n",
    "import pandas as pd\n",
    "\n",
    "import uuid\n",
    "\n",
    "output_notebook()"
   ]
  },
  {
   "cell_type": "code",
   "execution_count": 26,
   "metadata": {},
   "outputs": [],
   "source": [
    "with bz2.BZ2File('data/i2dgd/guitar2drum.bz2pickle', 'rb') as file:\n",
    "    data = pickle.load(file)"
   ]
  },
  {
   "cell_type": "code",
   "execution_count": 34,
   "metadata": {},
   "outputs": [
    {
     "name": "stderr",
     "output_type": "stream",
     "text": [
      "INFO:helpers/VAE/modelLoader.py:Model was loaded to cpu!!!\n"
     ]
    },
    {
     "name": "stdout",
     "output_type": "stream",
     "text": [
      "Offset activation is sigmoid, bias is initialized to 0.5\n"
     ]
    }
   ],
   "source": [
    "model = load_variational_mgt_model(\"models/drawn-sweep-18/190.pth\")"
   ]
  },
  {
   "cell_type": "code",
   "execution_count": 44,
   "metadata": {},
   "outputs": [
    {
     "data": {
      "text/plain": [
       "[<hvo_sequence.hvo_seq.HVO_Sequence at 0x2c967a877f0>,\n",
       " <hvo_sequence.hvo_seq.HVO_Sequence at 0x2c967a87a90>,\n",
       " <hvo_sequence.hvo_seq.HVO_Sequence at 0x2c967a87d30>,\n",
       " <hvo_sequence.hvo_seq.HVO_Sequence at 0x2c967a87fd0>,\n",
       " <hvo_sequence.hvo_seq.HVO_Sequence at 0x2c967a8f2b0>,\n",
       " <hvo_sequence.hvo_seq.HVO_Sequence at 0x2c967a9d370>,\n",
       " <hvo_sequence.hvo_seq.HVO_Sequence at 0x2c967a9d610>,\n",
       " <hvo_sequence.hvo_seq.HVO_Sequence at 0x2c967a9d8b0>,\n",
       " <hvo_sequence.hvo_seq.HVO_Sequence at 0x2c967a9db50>,\n",
       " <hvo_sequence.hvo_seq.HVO_Sequence at 0x2c967a9ddf0>,\n",
       " <hvo_sequence.hvo_seq.HVO_Sequence at 0x2c967aa6250>,\n",
       " <hvo_sequence.hvo_seq.HVO_Sequence at 0x2c967aa64f0>,\n",
       " <hvo_sequence.hvo_seq.HVO_Sequence at 0x2c967aa6790>,\n",
       " <hvo_sequence.hvo_seq.HVO_Sequence at 0x2c967aa6a30>,\n",
       " <hvo_sequence.hvo_seq.HVO_Sequence at 0x2c967aa6cd0>,\n",
       " <hvo_sequence.hvo_seq.HVO_Sequence at 0x2c967aa6f70>,\n",
       " <hvo_sequence.hvo_seq.HVO_Sequence at 0x2c967aad250>,\n",
       " <hvo_sequence.hvo_seq.HVO_Sequence at 0x2c967aad4f0>,\n",
       " <hvo_sequence.hvo_seq.HVO_Sequence at 0x2c967aad790>,\n",
       " <hvo_sequence.hvo_seq.HVO_Sequence at 0x2c967aadaf0>,\n",
       " <hvo_sequence.hvo_seq.HVO_Sequence at 0x2c967ab5610>,\n",
       " <hvo_sequence.hvo_seq.HVO_Sequence at 0x2c967ab58b0>,\n",
       " <hvo_sequence.hvo_seq.HVO_Sequence at 0x2c967ab5b50>,\n",
       " <hvo_sequence.hvo_seq.HVO_Sequence at 0x2c967ab5df0>,\n",
       " <hvo_sequence.hvo_seq.HVO_Sequence at 0x2c967abc0d0>,\n",
       " <hvo_sequence.hvo_seq.HVO_Sequence at 0x2c967abc370>,\n",
       " <hvo_sequence.hvo_seq.HVO_Sequence at 0x2c967ac2250>,\n",
       " <hvo_sequence.hvo_seq.HVO_Sequence at 0x2c967ac24f0>,\n",
       " <hvo_sequence.hvo_seq.HVO_Sequence at 0x2c967ac2790>,\n",
       " <hvo_sequence.hvo_seq.HVO_Sequence at 0x2c967ac2a90>,\n",
       " <hvo_sequence.hvo_seq.HVO_Sequence at 0x2c967ac2d30>,\n",
       " <hvo_sequence.hvo_seq.HVO_Sequence at 0x2c967ac2fd0>,\n",
       " <hvo_sequence.hvo_seq.HVO_Sequence at 0x2c967aca2b0>,\n",
       " <hvo_sequence.hvo_seq.HVO_Sequence at 0x2c967aca550>,\n",
       " <hvo_sequence.hvo_seq.HVO_Sequence at 0x2c967acae50>,\n",
       " <hvo_sequence.hvo_seq.HVO_Sequence at 0x2c967ad0130>,\n",
       " <hvo_sequence.hvo_seq.HVO_Sequence at 0x2c967ad03d0>,\n",
       " <hvo_sequence.hvo_seq.HVO_Sequence at 0x2c967ad0670>,\n",
       " <hvo_sequence.hvo_seq.HVO_Sequence at 0x2c967ad0910>,\n",
       " <hvo_sequence.hvo_seq.HVO_Sequence at 0x2c967ad0c10>,\n",
       " <hvo_sequence.hvo_seq.HVO_Sequence at 0x2c967ad0eb0>,\n",
       " <hvo_sequence.hvo_seq.HVO_Sequence at 0x2c967ad9190>,\n",
       " <hvo_sequence.hvo_seq.HVO_Sequence at 0x2c967ad94f0>,\n",
       " <hvo_sequence.hvo_seq.HVO_Sequence at 0x2c967ad9790>,\n",
       " <hvo_sequence.hvo_seq.HVO_Sequence at 0x2c967ad9a30>,\n",
       " <hvo_sequence.hvo_seq.HVO_Sequence at 0x2c967ad9cd0>,\n",
       " <hvo_sequence.hvo_seq.HVO_Sequence at 0x2c967ad9f70>,\n",
       " <hvo_sequence.hvo_seq.HVO_Sequence at 0x2c967ae2250>,\n",
       " <hvo_sequence.hvo_seq.HVO_Sequence at 0x2c967ae24f0>,\n",
       " <hvo_sequence.hvo_seq.HVO_Sequence at 0x2c967ae2790>,\n",
       " <hvo_sequence.hvo_seq.HVO_Sequence at 0x2c967ae2a30>,\n",
       " <hvo_sequence.hvo_seq.HVO_Sequence at 0x2c967ae2cd0>,\n",
       " <hvo_sequence.hvo_seq.HVO_Sequence at 0x2c967ae2f70>,\n",
       " <hvo_sequence.hvo_seq.HVO_Sequence at 0x2c967aeb8b0>,\n",
       " <hvo_sequence.hvo_seq.HVO_Sequence at 0x2c967aebb50>,\n",
       " <hvo_sequence.hvo_seq.HVO_Sequence at 0x2c967aebdf0>,\n",
       " <hvo_sequence.hvo_seq.HVO_Sequence at 0x2c967af10d0>,\n",
       " <hvo_sequence.hvo_seq.HVO_Sequence at 0x2c967af13d0>,\n",
       " <hvo_sequence.hvo_seq.HVO_Sequence at 0x2c967af1730>,\n",
       " <hvo_sequence.hvo_seq.HVO_Sequence at 0x2c967af19d0>,\n",
       " <hvo_sequence.hvo_seq.HVO_Sequence at 0x2c967af1c70>,\n",
       " <hvo_sequence.hvo_seq.HVO_Sequence at 0x2c967af90d0>,\n",
       " <hvo_sequence.hvo_seq.HVO_Sequence at 0x2c967af93d0>,\n",
       " <hvo_sequence.hvo_seq.HVO_Sequence at 0x2c967af9730>,\n",
       " <hvo_sequence.hvo_seq.HVO_Sequence at 0x2c967af99d0>,\n",
       " <hvo_sequence.hvo_seq.HVO_Sequence at 0x2c967af9c70>,\n",
       " <hvo_sequence.hvo_seq.HVO_Sequence at 0x2c967afe2b0>,\n",
       " <hvo_sequence.hvo_seq.HVO_Sequence at 0x2c967afe5b0>,\n",
       " <hvo_sequence.hvo_seq.HVO_Sequence at 0x2c967afe910>,\n",
       " <hvo_sequence.hvo_seq.HVO_Sequence at 0x2c967afebb0>,\n",
       " <hvo_sequence.hvo_seq.HVO_Sequence at 0x2c967afee50>,\n",
       " <hvo_sequence.hvo_seq.HVO_Sequence at 0x2c967b07130>,\n",
       " <hvo_sequence.hvo_seq.HVO_Sequence at 0x2c967b07430>,\n",
       " <hvo_sequence.hvo_seq.HVO_Sequence at 0x2c967b07730>,\n",
       " <hvo_sequence.hvo_seq.HVO_Sequence at 0x2c967b07af0>,\n",
       " <hvo_sequence.hvo_seq.HVO_Sequence at 0x2c967b07d90>,\n",
       " <hvo_sequence.hvo_seq.HVO_Sequence at 0x2c967b100d0>,\n",
       " <hvo_sequence.hvo_seq.HVO_Sequence at 0x2c967b10370>,\n",
       " <hvo_sequence.hvo_seq.HVO_Sequence at 0x2c967b10670>,\n",
       " <hvo_sequence.hvo_seq.HVO_Sequence at 0x2c967b10910>,\n",
       " <hvo_sequence.hvo_seq.HVO_Sequence at 0x2c967b10bb0>,\n",
       " <hvo_sequence.hvo_seq.HVO_Sequence at 0x2c967b10e50>,\n",
       " <hvo_sequence.hvo_seq.HVO_Sequence at 0x2c967b15250>,\n",
       " <hvo_sequence.hvo_seq.HVO_Sequence at 0x2c967b15610>,\n",
       " <hvo_sequence.hvo_seq.HVO_Sequence at 0x2c967b158b0>,\n",
       " <hvo_sequence.hvo_seq.HVO_Sequence at 0x2c967b15bb0>,\n",
       " <hvo_sequence.hvo_seq.HVO_Sequence at 0x2c967b15e50>,\n",
       " <hvo_sequence.hvo_seq.HVO_Sequence at 0x2c967b20130>,\n",
       " <hvo_sequence.hvo_seq.HVO_Sequence at 0x2c967b203d0>,\n",
       " <hvo_sequence.hvo_seq.HVO_Sequence at 0x2c967b20670>,\n",
       " <hvo_sequence.hvo_seq.HVO_Sequence at 0x2c967b20910>,\n",
       " <hvo_sequence.hvo_seq.HVO_Sequence at 0x2c967b20bb0>,\n",
       " <hvo_sequence.hvo_seq.HVO_Sequence at 0x2c967b20e50>,\n",
       " <hvo_sequence.hvo_seq.HVO_Sequence at 0x2c967b27130>,\n",
       " <hvo_sequence.hvo_seq.HVO_Sequence at 0x2c967b27430>,\n",
       " <hvo_sequence.hvo_seq.HVO_Sequence at 0x2c967b276d0>,\n",
       " <hvo_sequence.hvo_seq.HVO_Sequence at 0x2c967b27a30>,\n",
       " <hvo_sequence.hvo_seq.HVO_Sequence at 0x2c967b27cd0>,\n",
       " <hvo_sequence.hvo_seq.HVO_Sequence at 0x2c967b27f70>,\n",
       " <hvo_sequence.hvo_seq.HVO_Sequence at 0x2c967b30250>,\n",
       " <hvo_sequence.hvo_seq.HVO_Sequence at 0x2c967b304f0>,\n",
       " <hvo_sequence.hvo_seq.HVO_Sequence at 0x2c967b30790>,\n",
       " <hvo_sequence.hvo_seq.HVO_Sequence at 0x2c967b30a30>,\n",
       " <hvo_sequence.hvo_seq.HVO_Sequence at 0x2c967b30cd0>,\n",
       " <hvo_sequence.hvo_seq.HVO_Sequence at 0x2c967b30f70>,\n",
       " <hvo_sequence.hvo_seq.HVO_Sequence at 0x2c967b3a430>,\n",
       " <hvo_sequence.hvo_seq.HVO_Sequence at 0x2c967b3a6d0>,\n",
       " <hvo_sequence.hvo_seq.HVO_Sequence at 0x2c967b3a9d0>,\n",
       " <hvo_sequence.hvo_seq.HVO_Sequence at 0x2c967b3af10>,\n",
       " <hvo_sequence.hvo_seq.HVO_Sequence at 0x2c967b811f0>,\n",
       " <hvo_sequence.hvo_seq.HVO_Sequence at 0x2c967b81490>,\n",
       " <hvo_sequence.hvo_seq.HVO_Sequence at 0x2c967b81730>,\n",
       " <hvo_sequence.hvo_seq.HVO_Sequence at 0x2c967b819d0>,\n",
       " <hvo_sequence.hvo_seq.HVO_Sequence at 0x2c967b81c70>,\n",
       " <hvo_sequence.hvo_seq.HVO_Sequence at 0x2c967b8a310>,\n",
       " <hvo_sequence.hvo_seq.HVO_Sequence at 0x2c967b8a730>,\n",
       " <hvo_sequence.hvo_seq.HVO_Sequence at 0x2c967b8a9d0>,\n",
       " <hvo_sequence.hvo_seq.HVO_Sequence at 0x2c967b8acd0>,\n",
       " <hvo_sequence.hvo_seq.HVO_Sequence at 0x2c967b8afd0>,\n",
       " <hvo_sequence.hvo_seq.HVO_Sequence at 0x2c967b912b0>,\n",
       " <hvo_sequence.hvo_seq.HVO_Sequence at 0x2c967b91550>,\n",
       " <hvo_sequence.hvo_seq.HVO_Sequence at 0x2c967b917f0>,\n",
       " <hvo_sequence.hvo_seq.HVO_Sequence at 0x2c967b91a90>,\n",
       " <hvo_sequence.hvo_seq.HVO_Sequence at 0x2c967b91d30>,\n",
       " <hvo_sequence.hvo_seq.HVO_Sequence at 0x2c967b9b070>,\n",
       " <hvo_sequence.hvo_seq.HVO_Sequence at 0x2c967b9b310>,\n",
       " <hvo_sequence.hvo_seq.HVO_Sequence at 0x2c967b9b5b0>,\n",
       " <hvo_sequence.hvo_seq.HVO_Sequence at 0x2c967b9b8b0>,\n",
       " <hvo_sequence.hvo_seq.HVO_Sequence at 0x2c967b9bb50>,\n",
       " <hvo_sequence.hvo_seq.HVO_Sequence at 0x2c967b9bdf0>,\n",
       " <hvo_sequence.hvo_seq.HVO_Sequence at 0x2c967ba2130>,\n",
       " <hvo_sequence.hvo_seq.HVO_Sequence at 0x2c967ba23d0>,\n",
       " <hvo_sequence.hvo_seq.HVO_Sequence at 0x2c967ba2670>,\n",
       " <hvo_sequence.hvo_seq.HVO_Sequence at 0x2c967ba2910>,\n",
       " <hvo_sequence.hvo_seq.HVO_Sequence at 0x2c967ba2bb0>,\n",
       " <hvo_sequence.hvo_seq.HVO_Sequence at 0x2c967ba2e50>,\n",
       " <hvo_sequence.hvo_seq.HVO_Sequence at 0x2c967bab130>,\n",
       " <hvo_sequence.hvo_seq.HVO_Sequence at 0x2c967bab3d0>,\n",
       " <hvo_sequence.hvo_seq.HVO_Sequence at 0x2c967bab670>,\n",
       " <hvo_sequence.hvo_seq.HVO_Sequence at 0x2c967bab910>,\n",
       " <hvo_sequence.hvo_seq.HVO_Sequence at 0x2c967babbb0>,\n",
       " <hvo_sequence.hvo_seq.HVO_Sequence at 0x2c967babe50>,\n",
       " <hvo_sequence.hvo_seq.HVO_Sequence at 0x2c967bb3130>,\n",
       " <hvo_sequence.hvo_seq.HVO_Sequence at 0x2c967bb33d0>,\n",
       " <hvo_sequence.hvo_seq.HVO_Sequence at 0x2c967bb3670>,\n",
       " <hvo_sequence.hvo_seq.HVO_Sequence at 0x2c967bb3910>,\n",
       " <hvo_sequence.hvo_seq.HVO_Sequence at 0x2c967bb3bb0>,\n",
       " <hvo_sequence.hvo_seq.HVO_Sequence at 0x2c967bbca30>,\n",
       " <hvo_sequence.hvo_seq.HVO_Sequence at 0x2c967bbcd90>,\n",
       " <hvo_sequence.hvo_seq.HVO_Sequence at 0x2c967bc2070>,\n",
       " <hvo_sequence.hvo_seq.HVO_Sequence at 0x2c967bc2310>,\n",
       " <hvo_sequence.hvo_seq.HVO_Sequence at 0x2c967bc25b0>,\n",
       " <hvo_sequence.hvo_seq.HVO_Sequence at 0x2c967bc2850>,\n",
       " <hvo_sequence.hvo_seq.HVO_Sequence at 0x2c967bc2af0>,\n",
       " <hvo_sequence.hvo_seq.HVO_Sequence at 0x2c967bc2d90>,\n",
       " <hvo_sequence.hvo_seq.HVO_Sequence at 0x2c967bc9070>,\n",
       " <hvo_sequence.hvo_seq.HVO_Sequence at 0x2c967bc9310>,\n",
       " <hvo_sequence.hvo_seq.HVO_Sequence at 0x2c967bc95b0>,\n",
       " <hvo_sequence.hvo_seq.HVO_Sequence at 0x2c967bc9850>,\n",
       " <hvo_sequence.hvo_seq.HVO_Sequence at 0x2c967bc9af0>,\n",
       " <hvo_sequence.hvo_seq.HVO_Sequence at 0x2c967bc9d90>,\n",
       " <hvo_sequence.hvo_seq.HVO_Sequence at 0x2c967bd2070>,\n",
       " <hvo_sequence.hvo_seq.HVO_Sequence at 0x2c967bd2310>,\n",
       " <hvo_sequence.hvo_seq.HVO_Sequence at 0x2c967bd25b0>,\n",
       " <hvo_sequence.hvo_seq.HVO_Sequence at 0x2c967bd2850>,\n",
       " <hvo_sequence.hvo_seq.HVO_Sequence at 0x2c967bd2af0>,\n",
       " <hvo_sequence.hvo_seq.HVO_Sequence at 0x2c967bda070>,\n",
       " <hvo_sequence.hvo_seq.HVO_Sequence at 0x2c967bda310>,\n",
       " <hvo_sequence.hvo_seq.HVO_Sequence at 0x2c967bda5b0>,\n",
       " <hvo_sequence.hvo_seq.HVO_Sequence at 0x2c967bda850>,\n",
       " <hvo_sequence.hvo_seq.HVO_Sequence at 0x2c967bdaaf0>,\n",
       " <hvo_sequence.hvo_seq.HVO_Sequence at 0x2c967bdad90>,\n",
       " <hvo_sequence.hvo_seq.HVO_Sequence at 0x2c967be3070>,\n",
       " <hvo_sequence.hvo_seq.HVO_Sequence at 0x2c967be3310>,\n",
       " <hvo_sequence.hvo_seq.HVO_Sequence at 0x2c967be35b0>,\n",
       " <hvo_sequence.hvo_seq.HVO_Sequence at 0x2c967be3850>,\n",
       " <hvo_sequence.hvo_seq.HVO_Sequence at 0x2c967be3d30>,\n",
       " <hvo_sequence.hvo_seq.HVO_Sequence at 0x2c967be3fd0>,\n",
       " <hvo_sequence.hvo_seq.HVO_Sequence at 0x2c967bec370>,\n",
       " <hvo_sequence.hvo_seq.HVO_Sequence at 0x2c967bec610>,\n",
       " <hvo_sequence.hvo_seq.HVO_Sequence at 0x2c967bec8b0>,\n",
       " <hvo_sequence.hvo_seq.HVO_Sequence at 0x2c967becb50>,\n",
       " <hvo_sequence.hvo_seq.HVO_Sequence at 0x2c967becdf0>,\n",
       " <hvo_sequence.hvo_seq.HVO_Sequence at 0x2c967bf1130>,\n",
       " <hvo_sequence.hvo_seq.HVO_Sequence at 0x2c967bf13d0>,\n",
       " <hvo_sequence.hvo_seq.HVO_Sequence at 0x2c967bfc6d0>,\n",
       " <hvo_sequence.hvo_seq.HVO_Sequence at 0x2c967bfc970>,\n",
       " <hvo_sequence.hvo_seq.HVO_Sequence at 0x2c967bfcc10>,\n",
       " <hvo_sequence.hvo_seq.HVO_Sequence at 0x2c967bfceb0>,\n",
       " <hvo_sequence.hvo_seq.HVO_Sequence at 0x2c968203190>,\n",
       " <hvo_sequence.hvo_seq.HVO_Sequence at 0x2c968203430>,\n",
       " <hvo_sequence.hvo_seq.HVO_Sequence at 0x2c968208e50>,\n",
       " <hvo_sequence.hvo_seq.HVO_Sequence at 0x2c96820f250>,\n",
       " <hvo_sequence.hvo_seq.HVO_Sequence at 0x2c96820f5b0>,\n",
       " <hvo_sequence.hvo_seq.HVO_Sequence at 0x2c96820f850>,\n",
       " <hvo_sequence.hvo_seq.HVO_Sequence at 0x2c96820faf0>,\n",
       " <hvo_sequence.hvo_seq.HVO_Sequence at 0x2c96820fd90>,\n",
       " <hvo_sequence.hvo_seq.HVO_Sequence at 0x2c968218070>,\n",
       " <hvo_sequence.hvo_seq.HVO_Sequence at 0x2c968218910>,\n",
       " <hvo_sequence.hvo_seq.HVO_Sequence at 0x2c96821e250>,\n",
       " <hvo_sequence.hvo_seq.HVO_Sequence at 0x2c96821e4f0>,\n",
       " <hvo_sequence.hvo_seq.HVO_Sequence at 0x2c96821e850>,\n",
       " <hvo_sequence.hvo_seq.HVO_Sequence at 0x2c96821eaf0>,\n",
       " <hvo_sequence.hvo_seq.HVO_Sequence at 0x2c968223d30>,\n",
       " <hvo_sequence.hvo_seq.HVO_Sequence at 0x2c968223fd0>,\n",
       " <hvo_sequence.hvo_seq.HVO_Sequence at 0x2c9682282b0>,\n",
       " <hvo_sequence.hvo_seq.HVO_Sequence at 0x2c968228550>,\n",
       " <hvo_sequence.hvo_seq.HVO_Sequence at 0x2c9682287f0>,\n",
       " <hvo_sequence.hvo_seq.HVO_Sequence at 0x2c968228a90>,\n",
       " <hvo_sequence.hvo_seq.HVO_Sequence at 0x2c968228d30>,\n",
       " <hvo_sequence.hvo_seq.HVO_Sequence at 0x2c968233070>,\n",
       " <hvo_sequence.hvo_seq.HVO_Sequence at 0x2c968233310>,\n",
       " <hvo_sequence.hvo_seq.HVO_Sequence at 0x2c968233d30>,\n",
       " <hvo_sequence.hvo_seq.HVO_Sequence at 0x2c968233fd0>,\n",
       " <hvo_sequence.hvo_seq.HVO_Sequence at 0x2c968239670>,\n",
       " <hvo_sequence.hvo_seq.HVO_Sequence at 0x2c968239910>,\n",
       " <hvo_sequence.hvo_seq.HVO_Sequence at 0x2c968239eb0>,\n",
       " <hvo_sequence.hvo_seq.HVO_Sequence at 0x2c968240190>,\n",
       " <hvo_sequence.hvo_seq.HVO_Sequence at 0x2c968240430>,\n",
       " <hvo_sequence.hvo_seq.HVO_Sequence at 0x2c9682406d0>,\n",
       " <hvo_sequence.hvo_seq.HVO_Sequence at 0x2c968240970>,\n",
       " <hvo_sequence.hvo_seq.HVO_Sequence at 0x2c968240c10>,\n",
       " <hvo_sequence.hvo_seq.HVO_Sequence at 0x2c968240eb0>,\n",
       " <hvo_sequence.hvo_seq.HVO_Sequence at 0x2c968249190>,\n",
       " <hvo_sequence.hvo_seq.HVO_Sequence at 0x2c968249430>,\n",
       " <hvo_sequence.hvo_seq.HVO_Sequence at 0x2c9682496d0>,\n",
       " <hvo_sequence.hvo_seq.HVO_Sequence at 0x2c968249970>,\n",
       " <hvo_sequence.hvo_seq.HVO_Sequence at 0x2c968249c10>,\n",
       " <hvo_sequence.hvo_seq.HVO_Sequence at 0x2c968249eb0>,\n",
       " <hvo_sequence.hvo_seq.HVO_Sequence at 0x2c9682536d0>,\n",
       " <hvo_sequence.hvo_seq.HVO_Sequence at 0x2c968253970>,\n",
       " <hvo_sequence.hvo_seq.HVO_Sequence at 0x2c968253c10>,\n",
       " <hvo_sequence.hvo_seq.HVO_Sequence at 0x2c968253eb0>,\n",
       " <hvo_sequence.hvo_seq.HVO_Sequence at 0x2c96825b190>,\n",
       " <hvo_sequence.hvo_seq.HVO_Sequence at 0x2c96825b430>,\n",
       " <hvo_sequence.hvo_seq.HVO_Sequence at 0x2c96825b6d0>,\n",
       " <hvo_sequence.hvo_seq.HVO_Sequence at 0x2c96825b970>,\n",
       " <hvo_sequence.hvo_seq.HVO_Sequence at 0x2c96825bc10>,\n",
       " <hvo_sequence.hvo_seq.HVO_Sequence at 0x2c9682621f0>,\n",
       " <hvo_sequence.hvo_seq.HVO_Sequence at 0x2c968262490>,\n",
       " <hvo_sequence.hvo_seq.HVO_Sequence at 0x2c968262730>,\n",
       " <hvo_sequence.hvo_seq.HVO_Sequence at 0x2c9682629d0>,\n",
       " <hvo_sequence.hvo_seq.HVO_Sequence at 0x2c968262c70>,\n",
       " <hvo_sequence.hvo_seq.HVO_Sequence at 0x2c968268c10>,\n",
       " <hvo_sequence.hvo_seq.HVO_Sequence at 0x2c968268f70>,\n",
       " <hvo_sequence.hvo_seq.HVO_Sequence at 0x2c96826e250>,\n",
       " <hvo_sequence.hvo_seq.HVO_Sequence at 0x2c96826e4f0>,\n",
       " <hvo_sequence.hvo_seq.HVO_Sequence at 0x2c96826e790>,\n",
       " <hvo_sequence.hvo_seq.HVO_Sequence at 0x2c96826ea30>,\n",
       " <hvo_sequence.hvo_seq.HVO_Sequence at 0x2c96826ecd0>,\n",
       " <hvo_sequence.hvo_seq.HVO_Sequence at 0x2c96826ef70>,\n",
       " <hvo_sequence.hvo_seq.HVO_Sequence at 0x2c968279250>,\n",
       " <hvo_sequence.hvo_seq.HVO_Sequence at 0x2c968279c70>,\n",
       " <hvo_sequence.hvo_seq.HVO_Sequence at 0x2c968279f10>,\n",
       " <hvo_sequence.hvo_seq.HVO_Sequence at 0x2c96827d1f0>,\n",
       " <hvo_sequence.hvo_seq.HVO_Sequence at 0x2c96827d550>,\n",
       " <hvo_sequence.hvo_seq.HVO_Sequence at 0x2c96827d7f0>,\n",
       " <hvo_sequence.hvo_seq.HVO_Sequence at 0x2c96827da90>,\n",
       " <hvo_sequence.hvo_seq.HVO_Sequence at 0x2c96827dd30>,\n",
       " <hvo_sequence.hvo_seq.HVO_Sequence at 0x2c96828c0d0>,\n",
       " <hvo_sequence.hvo_seq.HVO_Sequence at 0x2c96828c430>,\n",
       " <hvo_sequence.hvo_seq.HVO_Sequence at 0x2c96828c6d0>,\n",
       " <hvo_sequence.hvo_seq.HVO_Sequence at 0x2c96828c970>,\n",
       " <hvo_sequence.hvo_seq.HVO_Sequence at 0x2c96828cc10>,\n",
       " <hvo_sequence.hvo_seq.HVO_Sequence at 0x2c96828cfd0>,\n",
       " <hvo_sequence.hvo_seq.HVO_Sequence at 0x2c9682942b0>,\n",
       " <hvo_sequence.hvo_seq.HVO_Sequence at 0x2c968294550>,\n",
       " <hvo_sequence.hvo_seq.HVO_Sequence at 0x2c968294850>,\n",
       " <hvo_sequence.hvo_seq.HVO_Sequence at 0x2c968294af0>,\n",
       " <hvo_sequence.hvo_seq.HVO_Sequence at 0x2c96829f970>,\n",
       " <hvo_sequence.hvo_seq.HVO_Sequence at 0x2c96829fc10>,\n",
       " <hvo_sequence.hvo_seq.HVO_Sequence at 0x2c96829feb0>,\n",
       " <hvo_sequence.hvo_seq.HVO_Sequence at 0x2c9682a71f0>,\n",
       " <hvo_sequence.hvo_seq.HVO_Sequence at 0x2c9682a7490>,\n",
       " <hvo_sequence.hvo_seq.HVO_Sequence at 0x2c9682a7730>,\n",
       " <hvo_sequence.hvo_seq.HVO_Sequence at 0x2c9682a79d0>,\n",
       " <hvo_sequence.hvo_seq.HVO_Sequence at 0x2c9682a7c70>,\n",
       " <hvo_sequence.hvo_seq.HVO_Sequence at 0x2c9682a7f10>,\n",
       " <hvo_sequence.hvo_seq.HVO_Sequence at 0x2c9682ad7f0>,\n",
       " <hvo_sequence.hvo_seq.HVO_Sequence at 0x2c9682ada90>,\n",
       " <hvo_sequence.hvo_seq.HVO_Sequence at 0x2c9682adeb0>,\n",
       " <hvo_sequence.hvo_seq.HVO_Sequence at 0x2c9682b3190>,\n",
       " <hvo_sequence.hvo_seq.HVO_Sequence at 0x2c9682b3430>,\n",
       " <hvo_sequence.hvo_seq.HVO_Sequence at 0x2c9682b36d0>,\n",
       " <hvo_sequence.hvo_seq.HVO_Sequence at 0x2c9682b3c10>,\n",
       " <hvo_sequence.hvo_seq.HVO_Sequence at 0x2c9682b3f70>,\n",
       " <hvo_sequence.hvo_seq.HVO_Sequence at 0x2c9682bb250>,\n",
       " <hvo_sequence.hvo_seq.HVO_Sequence at 0x2c9682bb4f0>,\n",
       " <hvo_sequence.hvo_seq.HVO_Sequence at 0x2c9682bb790>,\n",
       " <hvo_sequence.hvo_seq.HVO_Sequence at 0x2c9682bba30>,\n",
       " <hvo_sequence.hvo_seq.HVO_Sequence at 0x2c9682c21f0>,\n",
       " <hvo_sequence.hvo_seq.HVO_Sequence at 0x2c9682c2490>,\n",
       " <hvo_sequence.hvo_seq.HVO_Sequence at 0x2c9682c2790>,\n",
       " <hvo_sequence.hvo_seq.HVO_Sequence at 0x2c9682c2d30>,\n",
       " <hvo_sequence.hvo_seq.HVO_Sequence at 0x2c9682c90d0>,\n",
       " <hvo_sequence.hvo_seq.HVO_Sequence at 0x2c9682c9370>,\n",
       " <hvo_sequence.hvo_seq.HVO_Sequence at 0x2c9682c9610>,\n",
       " <hvo_sequence.hvo_seq.HVO_Sequence at 0x2c9682c98b0>,\n",
       " <hvo_sequence.hvo_seq.HVO_Sequence at 0x2c9682c9b50>,\n",
       " <hvo_sequence.hvo_seq.HVO_Sequence at 0x2c9682c9df0>,\n",
       " <hvo_sequence.hvo_seq.HVO_Sequence at 0x2c9682d30d0>,\n",
       " <hvo_sequence.hvo_seq.HVO_Sequence at 0x2c9682d3370>,\n",
       " <hvo_sequence.hvo_seq.HVO_Sequence at 0x2c9682d3610>,\n",
       " <hvo_sequence.hvo_seq.HVO_Sequence at 0x2c9682d38b0>,\n",
       " <hvo_sequence.hvo_seq.HVO_Sequence at 0x2c9682d3b50>,\n",
       " <hvo_sequence.hvo_seq.HVO_Sequence at 0x2c9682d3df0>,\n",
       " <hvo_sequence.hvo_seq.HVO_Sequence at 0x2c9682db0d0>,\n",
       " <hvo_sequence.hvo_seq.HVO_Sequence at 0x2c9682dbbb0>,\n",
       " <hvo_sequence.hvo_seq.HVO_Sequence at 0x2c9682dbf10>,\n",
       " <hvo_sequence.hvo_seq.HVO_Sequence at 0x2c9682e41f0>,\n",
       " <hvo_sequence.hvo_seq.HVO_Sequence at 0x2c9682e4490>,\n",
       " <hvo_sequence.hvo_seq.HVO_Sequence at 0x2c9682e4730>,\n",
       " <hvo_sequence.hvo_seq.HVO_Sequence at 0x2c9682e49d0>,\n",
       " <hvo_sequence.hvo_seq.HVO_Sequence at 0x2c9682e4c70>,\n",
       " <hvo_sequence.hvo_seq.HVO_Sequence at 0x2c9682e4f10>,\n",
       " <hvo_sequence.hvo_seq.HVO_Sequence at 0x2c9682eb1f0>,\n",
       " <hvo_sequence.hvo_seq.HVO_Sequence at 0x2c9682ebc10>,\n",
       " <hvo_sequence.hvo_seq.HVO_Sequence at 0x2c9682f7910>,\n",
       " <hvo_sequence.hvo_seq.HVO_Sequence at 0x2c9682f7bb0>,\n",
       " <hvo_sequence.hvo_seq.HVO_Sequence at 0x2c9682f7e50>,\n",
       " <hvo_sequence.hvo_seq.HVO_Sequence at 0x2c9682fc130>,\n",
       " <hvo_sequence.hvo_seq.HVO_Sequence at 0x2c9682fc430>,\n",
       " <hvo_sequence.hvo_seq.HVO_Sequence at 0x2c9682fc6d0>,\n",
       " <hvo_sequence.hvo_seq.HVO_Sequence at 0x2c9682fc9d0>,\n",
       " <hvo_sequence.hvo_seq.HVO_Sequence at 0x2c9682fcd30>,\n",
       " <hvo_sequence.hvo_seq.HVO_Sequence at 0x2c968306130>,\n",
       " <hvo_sequence.hvo_seq.HVO_Sequence at 0x2c968306df0>,\n",
       " <hvo_sequence.hvo_seq.HVO_Sequence at 0x2c96830b0d0>,\n",
       " <hvo_sequence.hvo_seq.HVO_Sequence at 0x2c96830b850>,\n",
       " <hvo_sequence.hvo_seq.HVO_Sequence at 0x2c96830baf0>,\n",
       " <hvo_sequence.hvo_seq.HVO_Sequence at 0x2c96830bd90>,\n",
       " <hvo_sequence.hvo_seq.HVO_Sequence at 0x2c9683110d0>,\n",
       " <hvo_sequence.hvo_seq.HVO_Sequence at 0x2c968311790>,\n",
       " <hvo_sequence.hvo_seq.HVO_Sequence at 0x2c968311a30>,\n",
       " <hvo_sequence.hvo_seq.HVO_Sequence at 0x2c968311cd0>,\n",
       " <hvo_sequence.hvo_seq.HVO_Sequence at 0x2c96831a070>,\n",
       " <hvo_sequence.hvo_seq.HVO_Sequence at 0x2c96831a310>,\n",
       " <hvo_sequence.hvo_seq.HVO_Sequence at 0x2c96831a5b0>,\n",
       " <hvo_sequence.hvo_seq.HVO_Sequence at 0x2c96831a850>,\n",
       " <hvo_sequence.hvo_seq.HVO_Sequence at 0x2c96831aaf0>,\n",
       " <hvo_sequence.hvo_seq.HVO_Sequence at 0x2c96831ad90>,\n",
       " <hvo_sequence.hvo_seq.HVO_Sequence at 0x2c968320070>,\n",
       " <hvo_sequence.hvo_seq.HVO_Sequence at 0x2c968320310>,\n",
       " <hvo_sequence.hvo_seq.HVO_Sequence at 0x2c9683205b0>,\n",
       " <hvo_sequence.hvo_seq.HVO_Sequence at 0x2c968320850>,\n",
       " <hvo_sequence.hvo_seq.HVO_Sequence at 0x2c968320af0>,\n",
       " <hvo_sequence.hvo_seq.HVO_Sequence at 0x2c968320d90>,\n",
       " <hvo_sequence.hvo_seq.HVO_Sequence at 0x2c96832c070>,\n",
       " <hvo_sequence.hvo_seq.HVO_Sequence at 0x2c96832c310>,\n",
       " <hvo_sequence.hvo_seq.HVO_Sequence at 0x2c96832c5b0>,\n",
       " <hvo_sequence.hvo_seq.HVO_Sequence at 0x2c96832ca90>,\n",
       " <hvo_sequence.hvo_seq.HVO_Sequence at 0x2c96832cd30>,\n",
       " <hvo_sequence.hvo_seq.HVO_Sequence at 0x2c968331070>,\n",
       " <hvo_sequence.hvo_seq.HVO_Sequence at 0x2c968331310>,\n",
       " <hvo_sequence.hvo_seq.HVO_Sequence at 0x2c968331610>,\n",
       " <hvo_sequence.hvo_seq.HVO_Sequence at 0x2c9683318b0>,\n",
       " <hvo_sequence.hvo_seq.HVO_Sequence at 0x2c968331b50>,\n",
       " <hvo_sequence.hvo_seq.HVO_Sequence at 0x2c968331e50>,\n",
       " <hvo_sequence.hvo_seq.HVO_Sequence at 0x2c96833a130>,\n",
       " <hvo_sequence.hvo_seq.HVO_Sequence at 0x2c96833aa30>,\n",
       " <hvo_sequence.hvo_seq.HVO_Sequence at 0x2c968340f10>,\n",
       " <hvo_sequence.hvo_seq.HVO_Sequence at 0x2c9683441f0>,\n",
       " <hvo_sequence.hvo_seq.HVO_Sequence at 0x2c968344490>,\n",
       " <hvo_sequence.hvo_seq.HVO_Sequence at 0x2c968344730>,\n",
       " <hvo_sequence.hvo_seq.HVO_Sequence at 0x2c9683449d0>,\n",
       " <hvo_sequence.hvo_seq.HVO_Sequence at 0x2c968344d90>,\n",
       " <hvo_sequence.hvo_seq.HVO_Sequence at 0x2c96834d070>,\n",
       " <hvo_sequence.hvo_seq.HVO_Sequence at 0x2c96834d310>,\n",
       " <hvo_sequence.hvo_seq.HVO_Sequence at 0x2c96834d5b0>,\n",
       " <hvo_sequence.hvo_seq.HVO_Sequence at 0x2c96834d850>,\n",
       " <hvo_sequence.hvo_seq.HVO_Sequence at 0x2c96834daf0>,\n",
       " <hvo_sequence.hvo_seq.HVO_Sequence at 0x2c96834dd90>,\n",
       " <hvo_sequence.hvo_seq.HVO_Sequence at 0x2c968355070>,\n",
       " <hvo_sequence.hvo_seq.HVO_Sequence at 0x2c968355310>,\n",
       " <hvo_sequence.hvo_seq.HVO_Sequence at 0x2c9683555b0>,\n",
       " <hvo_sequence.hvo_seq.HVO_Sequence at 0x2c9683607f0>,\n",
       " <hvo_sequence.hvo_seq.HVO_Sequence at 0x2c968360a90>,\n",
       " <hvo_sequence.hvo_seq.HVO_Sequence at 0x2c968366fd0>,\n",
       " <hvo_sequence.hvo_seq.HVO_Sequence at 0x2c96836b2b0>,\n",
       " <hvo_sequence.hvo_seq.HVO_Sequence at 0x2c96836b550>,\n",
       " <hvo_sequence.hvo_seq.HVO_Sequence at 0x2c96836b7f0>,\n",
       " <hvo_sequence.hvo_seq.HVO_Sequence at 0x2c96836ba90>,\n",
       " <hvo_sequence.hvo_seq.HVO_Sequence at 0x2c96836bd30>,\n",
       " <hvo_sequence.hvo_seq.HVO_Sequence at 0x2c96836bfd0>,\n",
       " <hvo_sequence.hvo_seq.HVO_Sequence at 0x2c9683722b0>,\n",
       " <hvo_sequence.hvo_seq.HVO_Sequence at 0x2c968372550>,\n",
       " <hvo_sequence.hvo_seq.HVO_Sequence at 0x2c9683727f0>,\n",
       " <hvo_sequence.hvo_seq.HVO_Sequence at 0x2c968372a90>,\n",
       " <hvo_sequence.hvo_seq.HVO_Sequence at 0x2c968372df0>,\n",
       " <hvo_sequence.hvo_seq.HVO_Sequence at 0x2c96837b0d0>,\n",
       " <hvo_sequence.hvo_seq.HVO_Sequence at 0x2c96837b490>,\n",
       " <hvo_sequence.hvo_seq.HVO_Sequence at 0x2c96837b790>,\n",
       " <hvo_sequence.hvo_seq.HVO_Sequence at 0x2c96837ba30>,\n",
       " <hvo_sequence.hvo_seq.HVO_Sequence at 0x2c96837bcd0>,\n",
       " <hvo_sequence.hvo_seq.HVO_Sequence at 0x2c96837bf70>,\n",
       " <hvo_sequence.hvo_seq.HVO_Sequence at 0x2c968383250>,\n",
       " <hvo_sequence.hvo_seq.HVO_Sequence at 0x2c9683834f0>,\n",
       " <hvo_sequence.hvo_seq.HVO_Sequence at 0x2c968383790>,\n",
       " <hvo_sequence.hvo_seq.HVO_Sequence at 0x2c968383a30>,\n",
       " <hvo_sequence.hvo_seq.HVO_Sequence at 0x2c968383cd0>,\n",
       " <hvo_sequence.hvo_seq.HVO_Sequence at 0x2c968383f70>,\n",
       " <hvo_sequence.hvo_seq.HVO_Sequence at 0x2c96838c790>,\n",
       " <hvo_sequence.hvo_seq.HVO_Sequence at 0x2c968393070>,\n",
       " <hvo_sequence.hvo_seq.HVO_Sequence at 0x2c968393310>,\n",
       " <hvo_sequence.hvo_seq.HVO_Sequence at 0x2c968393610>,\n",
       " <hvo_sequence.hvo_seq.HVO_Sequence at 0x2c9683938b0>,\n",
       " <hvo_sequence.hvo_seq.HVO_Sequence at 0x2c968393b50>,\n",
       " <hvo_sequence.hvo_seq.HVO_Sequence at 0x2c9683996d0>,\n",
       " <hvo_sequence.hvo_seq.HVO_Sequence at 0x2c968399970>,\n",
       " <hvo_sequence.hvo_seq.HVO_Sequence at 0x2c968399c10>,\n",
       " <hvo_sequence.hvo_seq.HVO_Sequence at 0x2c968399eb0>,\n",
       " <hvo_sequence.hvo_seq.HVO_Sequence at 0x2c9683a3190>,\n",
       " <hvo_sequence.hvo_seq.HVO_Sequence at 0x2c9683a3430>,\n",
       " <hvo_sequence.hvo_seq.HVO_Sequence at 0x2c9683a36d0>,\n",
       " <hvo_sequence.hvo_seq.HVO_Sequence at 0x2c9683a3970>,\n",
       " <hvo_sequence.hvo_seq.HVO_Sequence at 0x2c9683a3c10>,\n",
       " <hvo_sequence.hvo_seq.HVO_Sequence at 0x2c9683a3eb0>,\n",
       " <hvo_sequence.hvo_seq.HVO_Sequence at 0x2c9683a9190>,\n",
       " <hvo_sequence.hvo_seq.HVO_Sequence at 0x2c9683a9430>,\n",
       " <hvo_sequence.hvo_seq.HVO_Sequence at 0x2c9683a9730>,\n",
       " <hvo_sequence.hvo_seq.HVO_Sequence at 0x2c9683a99d0>,\n",
       " <hvo_sequence.hvo_seq.HVO_Sequence at 0x2c9683a9c70>,\n",
       " <hvo_sequence.hvo_seq.HVO_Sequence at 0x2c9683a9f10>,\n",
       " <hvo_sequence.hvo_seq.HVO_Sequence at 0x2c9683b1b50>,\n",
       " <hvo_sequence.hvo_seq.HVO_Sequence at 0x2c9683b1df0>,\n",
       " <hvo_sequence.hvo_seq.HVO_Sequence at 0x2c9683b90d0>,\n",
       " <hvo_sequence.hvo_seq.HVO_Sequence at 0x2c9683be5b0>,\n",
       " <hvo_sequence.hvo_seq.HVO_Sequence at 0x2c9683be8b0>,\n",
       " <hvo_sequence.hvo_seq.HVO_Sequence at 0x2c9683beb50>,\n",
       " <hvo_sequence.hvo_seq.HVO_Sequence at 0x2c9683bedf0>,\n",
       " <hvo_sequence.hvo_seq.HVO_Sequence at 0x2c9683c70d0>,\n",
       " <hvo_sequence.hvo_seq.HVO_Sequence at 0x2c9683c7370>,\n",
       " <hvo_sequence.hvo_seq.HVO_Sequence at 0x2c9683c7610>,\n",
       " <hvo_sequence.hvo_seq.HVO_Sequence at 0x2c9683c78b0>,\n",
       " <hvo_sequence.hvo_seq.HVO_Sequence at 0x2c9683c7c10>,\n",
       " <hvo_sequence.hvo_seq.HVO_Sequence at 0x2c9683c7eb0>,\n",
       " <hvo_sequence.hvo_seq.HVO_Sequence at 0x2c9683ce190>,\n",
       " <hvo_sequence.hvo_seq.HVO_Sequence at 0x2c9683ce430>,\n",
       " <hvo_sequence.hvo_seq.HVO_Sequence at 0x2c9683ce6d0>,\n",
       " <hvo_sequence.hvo_seq.HVO_Sequence at 0x2c9683ce970>,\n",
       " <hvo_sequence.hvo_seq.HVO_Sequence at 0x2c9683ced30>,\n",
       " <hvo_sequence.hvo_seq.HVO_Sequence at 0x2c9683cefd0>,\n",
       " <hvo_sequence.hvo_seq.HVO_Sequence at 0x2c9683d62b0>,\n",
       " <hvo_sequence.hvo_seq.HVO_Sequence at 0x2c9683d6550>,\n",
       " <hvo_sequence.hvo_seq.HVO_Sequence at 0x2c9683d67f0>,\n",
       " <hvo_sequence.hvo_seq.HVO_Sequence at 0x2c9683d6a90>,\n",
       " <hvo_sequence.hvo_seq.HVO_Sequence at 0x2c9683d6d90>,\n",
       " <hvo_sequence.hvo_seq.HVO_Sequence at 0x2c9683de190>,\n",
       " <hvo_sequence.hvo_seq.HVO_Sequence at 0x2c9683de430>,\n",
       " <hvo_sequence.hvo_seq.HVO_Sequence at 0x2c9683de6d0>,\n",
       " <hvo_sequence.hvo_seq.HVO_Sequence at 0x2c9683de970>,\n",
       " <hvo_sequence.hvo_seq.HVO_Sequence at 0x2c9683decd0>,\n",
       " <hvo_sequence.hvo_seq.HVO_Sequence at 0x2c9683def70>,\n",
       " <hvo_sequence.hvo_seq.HVO_Sequence at 0x2c9683e7250>,\n",
       " <hvo_sequence.hvo_seq.HVO_Sequence at 0x2c9683e7550>,\n",
       " <hvo_sequence.hvo_seq.HVO_Sequence at 0x2c9683e77f0>,\n",
       " <hvo_sequence.hvo_seq.HVO_Sequence at 0x2c9683e7a90>,\n",
       " <hvo_sequence.hvo_seq.HVO_Sequence at 0x2c9683e7d30>,\n",
       " <hvo_sequence.hvo_seq.HVO_Sequence at 0x2c9683e7fd0>,\n",
       " <hvo_sequence.hvo_seq.HVO_Sequence at 0x2c9683f12b0>,\n",
       " <hvo_sequence.hvo_seq.HVO_Sequence at 0x2c9683f1550>,\n",
       " <hvo_sequence.hvo_seq.HVO_Sequence at 0x2c9683f17f0>,\n",
       " <hvo_sequence.hvo_seq.HVO_Sequence at 0x2c9683f1a90>,\n",
       " <hvo_sequence.hvo_seq.HVO_Sequence at 0x2c9683f1d30>,\n",
       " <hvo_sequence.hvo_seq.HVO_Sequence at 0x2c9683f1fd0>,\n",
       " <hvo_sequence.hvo_seq.HVO_Sequence at 0x2c9683f7310>,\n",
       " <hvo_sequence.hvo_seq.HVO_Sequence at 0x2c9683f75b0>,\n",
       " <hvo_sequence.hvo_seq.HVO_Sequence at 0x2c9683f7850>,\n",
       " <hvo_sequence.hvo_seq.HVO_Sequence at 0x2c9683f7b50>,\n",
       " <hvo_sequence.hvo_seq.HVO_Sequence at 0x2c9683f7e50>,\n",
       " <hvo_sequence.hvo_seq.HVO_Sequence at 0x2c968a02130>,\n",
       " <hvo_sequence.hvo_seq.HVO_Sequence at 0x2c968a023d0>,\n",
       " <hvo_sequence.hvo_seq.HVO_Sequence at 0x2c968a02670>,\n",
       " <hvo_sequence.hvo_seq.HVO_Sequence at 0x2c968a02970>,\n",
       " <hvo_sequence.hvo_seq.HVO_Sequence at 0x2c968a02c10>,\n",
       " <hvo_sequence.hvo_seq.HVO_Sequence at 0x2c968a02eb0>,\n",
       " <hvo_sequence.hvo_seq.HVO_Sequence at 0x2c968a07430>,\n",
       " <hvo_sequence.hvo_seq.HVO_Sequence at 0x2c968a076d0>,\n",
       " <hvo_sequence.hvo_seq.HVO_Sequence at 0x2c968a07970>,\n",
       " <hvo_sequence.hvo_seq.HVO_Sequence at 0x2c968a07c10>,\n",
       " <hvo_sequence.hvo_seq.HVO_Sequence at 0x2c968a07f10>,\n",
       " <hvo_sequence.hvo_seq.HVO_Sequence at 0x2c968a0f1f0>,\n",
       " <hvo_sequence.hvo_seq.HVO_Sequence at 0x2c968a0f490>,\n",
       " <hvo_sequence.hvo_seq.HVO_Sequence at 0x2c968a0f730>,\n",
       " <hvo_sequence.hvo_seq.HVO_Sequence at 0x2c968a0f9d0>,\n",
       " <hvo_sequence.hvo_seq.HVO_Sequence at 0x2c968a0fd30>,\n",
       " <hvo_sequence.hvo_seq.HVO_Sequence at 0x2c968a0ffd0>,\n",
       " <hvo_sequence.hvo_seq.HVO_Sequence at 0x2c968a182b0>,\n",
       " <hvo_sequence.hvo_seq.HVO_Sequence at 0x2c968a18550>,\n",
       " <hvo_sequence.hvo_seq.HVO_Sequence at 0x2c968a187f0>,\n",
       " <hvo_sequence.hvo_seq.HVO_Sequence at 0x2c968a18a90>,\n",
       " <hvo_sequence.hvo_seq.HVO_Sequence at 0x2c968a18d30>,\n",
       " <hvo_sequence.hvo_seq.HVO_Sequence at 0x2c968a1f2b0>,\n",
       " <hvo_sequence.hvo_seq.HVO_Sequence at 0x2c968a1f790>,\n",
       " <hvo_sequence.hvo_seq.HVO_Sequence at 0x2c968a1fa30>,\n",
       " <hvo_sequence.hvo_seq.HVO_Sequence at 0x2c968a1fcd0>,\n",
       " <hvo_sequence.hvo_seq.HVO_Sequence at 0x2c968a1ff70>,\n",
       " <hvo_sequence.hvo_seq.HVO_Sequence at 0x2c968a26250>,\n",
       " <hvo_sequence.hvo_seq.HVO_Sequence at 0x2c968a264f0>,\n",
       " <hvo_sequence.hvo_seq.HVO_Sequence at 0x2c968a26790>,\n",
       " <hvo_sequence.hvo_seq.HVO_Sequence at 0x2c968a26a30>,\n",
       " <hvo_sequence.hvo_seq.HVO_Sequence at 0x2c968a26cd0>,\n",
       " <hvo_sequence.hvo_seq.HVO_Sequence at 0x2c968a26f70>,\n",
       " <hvo_sequence.hvo_seq.HVO_Sequence at 0x2c968a2f490>,\n",
       " <hvo_sequence.hvo_seq.HVO_Sequence at 0x2c968a2f730>,\n",
       " <hvo_sequence.hvo_seq.HVO_Sequence at 0x2c968a2f9d0>,\n",
       " <hvo_sequence.hvo_seq.HVO_Sequence at 0x2c968a2fc70>,\n",
       " <hvo_sequence.hvo_seq.HVO_Sequence at 0x2c968a2ff10>,\n",
       " <hvo_sequence.hvo_seq.HVO_Sequence at 0x2c968a38cd0>,\n",
       " <hvo_sequence.hvo_seq.HVO_Sequence at 0x2c968a38f70>,\n",
       " <hvo_sequence.hvo_seq.HVO_Sequence at 0x2c968a3d250>,\n",
       " <hvo_sequence.hvo_seq.HVO_Sequence at 0x2c968a3d4f0>,\n",
       " <hvo_sequence.hvo_seq.HVO_Sequence at 0x2c968a3d790>,\n",
       " <hvo_sequence.hvo_seq.HVO_Sequence at 0x2c968a3da90>,\n",
       " <hvo_sequence.hvo_seq.HVO_Sequence at 0x2c968a3dd30>,\n",
       " <hvo_sequence.hvo_seq.HVO_Sequence at 0x2c968a460d0>,\n",
       " <hvo_sequence.hvo_seq.HVO_Sequence at 0x2c968a46370>,\n",
       " <hvo_sequence.hvo_seq.HVO_Sequence at 0x2c968a46610>,\n",
       " <hvo_sequence.hvo_seq.HVO_Sequence at 0x2c968a468b0>,\n",
       " <hvo_sequence.hvo_seq.HVO_Sequence at 0x2c968a46b50>,\n",
       " <hvo_sequence.hvo_seq.HVO_Sequence at 0x2c968a46df0>,\n",
       " <hvo_sequence.hvo_seq.HVO_Sequence at 0x2c968a4e550>,\n",
       " <hvo_sequence.hvo_seq.HVO_Sequence at 0x2c968a4e7f0>,\n",
       " <hvo_sequence.hvo_seq.HVO_Sequence at 0x2c968a4eaf0>,\n",
       " <hvo_sequence.hvo_seq.HVO_Sequence at 0x2c968a4ed90>,\n",
       " <hvo_sequence.hvo_seq.HVO_Sequence at 0x2c968a54070>,\n",
       " <hvo_sequence.hvo_seq.HVO_Sequence at 0x2c968a54310>,\n",
       " <hvo_sequence.hvo_seq.HVO_Sequence at 0x2c968a545b0>,\n",
       " <hvo_sequence.hvo_seq.HVO_Sequence at 0x2c968a54850>,\n",
       " <hvo_sequence.hvo_seq.HVO_Sequence at 0x2c968a54e50>,\n",
       " <hvo_sequence.hvo_seq.HVO_Sequence at 0x2c968a5c130>,\n",
       " <hvo_sequence.hvo_seq.HVO_Sequence at 0x2c968a5c490>,\n",
       " <hvo_sequence.hvo_seq.HVO_Sequence at 0x2c968a5c790>,\n",
       " <hvo_sequence.hvo_seq.HVO_Sequence at 0x2c968a629d0>,\n",
       " <hvo_sequence.hvo_seq.HVO_Sequence at 0x2c968a62cd0>,\n",
       " <hvo_sequence.hvo_seq.HVO_Sequence at 0x2c968a62f70>,\n",
       " <hvo_sequence.hvo_seq.HVO_Sequence at 0x2c968a68250>,\n",
       " <hvo_sequence.hvo_seq.HVO_Sequence at 0x2c968a6e130>,\n",
       " <hvo_sequence.hvo_seq.HVO_Sequence at 0x2c968a6e490>,\n",
       " <hvo_sequence.hvo_seq.HVO_Sequence at 0x2c968a6e730>,\n",
       " <hvo_sequence.hvo_seq.HVO_Sequence at 0x2c968a6e9d0>,\n",
       " <hvo_sequence.hvo_seq.HVO_Sequence at 0x2c968a6ec70>,\n",
       " <hvo_sequence.hvo_seq.HVO_Sequence at 0x2c968a75610>,\n",
       " <hvo_sequence.hvo_seq.HVO_Sequence at 0x2c968a758b0>,\n",
       " <hvo_sequence.hvo_seq.HVO_Sequence at 0x2c968a75b50>,\n",
       " <hvo_sequence.hvo_seq.HVO_Sequence at 0x2c968a75df0>,\n",
       " <hvo_sequence.hvo_seq.HVO_Sequence at 0x2c968a7f0d0>,\n",
       " <hvo_sequence.hvo_seq.HVO_Sequence at 0x2c968a7f430>,\n",
       " <hvo_sequence.hvo_seq.HVO_Sequence at 0x2c968a7f6d0>,\n",
       " <hvo_sequence.hvo_seq.HVO_Sequence at 0x2c968a7f970>,\n",
       " <hvo_sequence.hvo_seq.HVO_Sequence at 0x2c968a7fc70>,\n",
       " <hvo_sequence.hvo_seq.HVO_Sequence at 0x2c968a7ff10>,\n",
       " <hvo_sequence.hvo_seq.HVO_Sequence at 0x2c968ac61f0>,\n",
       " <hvo_sequence.hvo_seq.HVO_Sequence at 0x2c968ac6490>,\n",
       " <hvo_sequence.hvo_seq.HVO_Sequence at 0x2c968ac6730>,\n",
       " <hvo_sequence.hvo_seq.HVO_Sequence at 0x2c968ac69d0>,\n",
       " <hvo_sequence.hvo_seq.HVO_Sequence at 0x2c968ac6c70>,\n",
       " <hvo_sequence.hvo_seq.HVO_Sequence at 0x2c968ac6f10>,\n",
       " <hvo_sequence.hvo_seq.HVO_Sequence at 0x2c968acf1f0>,\n",
       " <hvo_sequence.hvo_seq.HVO_Sequence at 0x2c968acf6d0>,\n",
       " <hvo_sequence.hvo_seq.HVO_Sequence at 0x2c968acf970>,\n",
       " <hvo_sequence.hvo_seq.HVO_Sequence at 0x2c968acfc10>,\n",
       " <hvo_sequence.hvo_seq.HVO_Sequence at 0x2c968acfeb0>,\n",
       " <hvo_sequence.hvo_seq.HVO_Sequence at 0x2c968ad8190>,\n",
       " <hvo_sequence.hvo_seq.HVO_Sequence at 0x2c968ad8610>,\n",
       " <hvo_sequence.hvo_seq.HVO_Sequence at 0x2c968ad88b0>,\n",
       " <hvo_sequence.hvo_seq.HVO_Sequence at 0x2c968ad8b50>,\n",
       " <hvo_sequence.hvo_seq.HVO_Sequence at 0x2c968ad8df0>,\n",
       " <hvo_sequence.hvo_seq.HVO_Sequence at 0x2c968ade0d0>,\n",
       " <hvo_sequence.hvo_seq.HVO_Sequence at 0x2c968ade670>,\n",
       " <hvo_sequence.hvo_seq.HVO_Sequence at 0x2c968ade910>,\n",
       " <hvo_sequence.hvo_seq.HVO_Sequence at 0x2c968adebb0>,\n",
       " <hvo_sequence.hvo_seq.HVO_Sequence at 0x2c968adee50>,\n",
       " <hvo_sequence.hvo_seq.HVO_Sequence at 0x2c968ae7130>,\n",
       " <hvo_sequence.hvo_seq.HVO_Sequence at 0x2c968ae73d0>,\n",
       " <hvo_sequence.hvo_seq.HVO_Sequence at 0x2c968ae7670>,\n",
       " <hvo_sequence.hvo_seq.HVO_Sequence at 0x2c968ae7910>,\n",
       " <hvo_sequence.hvo_seq.HVO_Sequence at 0x2c968ae7bb0>,\n",
       " <hvo_sequence.hvo_seq.HVO_Sequence at 0x2c968aefcd0>,\n",
       " <hvo_sequence.hvo_seq.HVO_Sequence at 0x2c968af49d0>,\n",
       " <hvo_sequence.hvo_seq.HVO_Sequence at 0x2c968afa0d0>,\n",
       " <hvo_sequence.hvo_seq.HVO_Sequence at 0x2c968afa370>,\n",
       " <hvo_sequence.hvo_seq.HVO_Sequence at 0x2c968afa670>,\n",
       " <hvo_sequence.hvo_seq.HVO_Sequence at 0x2c968afa910>,\n",
       " <hvo_sequence.hvo_seq.HVO_Sequence at 0x2c968b06250>,\n",
       " <hvo_sequence.hvo_seq.HVO_Sequence at 0x2c968b064f0>,\n",
       " <hvo_sequence.hvo_seq.HVO_Sequence at 0x2c968b06790>,\n",
       " <hvo_sequence.hvo_seq.HVO_Sequence at 0x2c968b06c70>,\n",
       " <hvo_sequence.hvo_seq.HVO_Sequence at 0x2c968b06f70>,\n",
       " <hvo_sequence.hvo_seq.HVO_Sequence at 0x2c968b0c310>,\n",
       " <hvo_sequence.hvo_seq.HVO_Sequence at 0x2c968b0c6d0>,\n",
       " <hvo_sequence.hvo_seq.HVO_Sequence at 0x2c968b0c970>,\n",
       " <hvo_sequence.hvo_seq.HVO_Sequence at 0x2c968b0cc10>,\n",
       " <hvo_sequence.hvo_seq.HVO_Sequence at 0x2c968b0ceb0>,\n",
       " <hvo_sequence.hvo_seq.HVO_Sequence at 0x2c968b14190>,\n",
       " <hvo_sequence.hvo_seq.HVO_Sequence at 0x2c968b14430>,\n",
       " <hvo_sequence.hvo_seq.HVO_Sequence at 0x2c968b19a90>,\n",
       " <hvo_sequence.hvo_seq.HVO_Sequence at 0x2c968b19d30>,\n",
       " <hvo_sequence.hvo_seq.HVO_Sequence at 0x2c968b19fd0>,\n",
       " <hvo_sequence.hvo_seq.HVO_Sequence at 0x2c968b21370>,\n",
       " <hvo_sequence.hvo_seq.HVO_Sequence at 0x2c968b21610>,\n",
       " <hvo_sequence.hvo_seq.HVO_Sequence at 0x2c968b218b0>,\n",
       " <hvo_sequence.hvo_seq.HVO_Sequence at 0x2c968b21b50>,\n",
       " <hvo_sequence.hvo_seq.HVO_Sequence at 0x2c968b21df0>,\n",
       " <hvo_sequence.hvo_seq.HVO_Sequence at 0x2c968b2a0d0>,\n",
       " <hvo_sequence.hvo_seq.HVO_Sequence at 0x2c968b2a370>,\n",
       " <hvo_sequence.hvo_seq.HVO_Sequence at 0x2c968b2a6d0>,\n",
       " <hvo_sequence.hvo_seq.HVO_Sequence at 0x2c968b2a970>,\n",
       " <hvo_sequence.hvo_seq.HVO_Sequence at 0x2c968b2ac10>,\n",
       " <hvo_sequence.hvo_seq.HVO_Sequence at 0x2c968b2aeb0>,\n",
       " <hvo_sequence.hvo_seq.HVO_Sequence at 0x2c968b30190>,\n",
       " <hvo_sequence.hvo_seq.HVO_Sequence at 0x2c968b30430>,\n",
       " <hvo_sequence.hvo_seq.HVO_Sequence at 0x2c968b306d0>,\n",
       " <hvo_sequence.hvo_seq.HVO_Sequence at 0x2c968b30a90>,\n",
       " <hvo_sequence.hvo_seq.HVO_Sequence at 0x2c968b30d30>,\n",
       " <hvo_sequence.hvo_seq.HVO_Sequence at 0x2c968b39190>,\n",
       " <hvo_sequence.hvo_seq.HVO_Sequence at 0x2c968b39430>,\n",
       " <hvo_sequence.hvo_seq.HVO_Sequence at 0x2c968b396d0>,\n",
       " <hvo_sequence.hvo_seq.HVO_Sequence at 0x2c968b39970>,\n",
       " <hvo_sequence.hvo_seq.HVO_Sequence at 0x2c968b39c10>,\n",
       " <hvo_sequence.hvo_seq.HVO_Sequence at 0x2c968b39eb0>,\n",
       " <hvo_sequence.hvo_seq.HVO_Sequence at 0x2c968b41250>,\n",
       " <hvo_sequence.hvo_seq.HVO_Sequence at 0x2c968b414f0>,\n",
       " <hvo_sequence.hvo_seq.HVO_Sequence at 0x2c968b41790>,\n",
       " <hvo_sequence.hvo_seq.HVO_Sequence at 0x2c968b41a30>,\n",
       " <hvo_sequence.hvo_seq.HVO_Sequence at 0x2c968b41cd0>,\n",
       " <hvo_sequence.hvo_seq.HVO_Sequence at 0x2c968b41f70>,\n",
       " <hvo_sequence.hvo_seq.HVO_Sequence at 0x2c968b49250>,\n",
       " <hvo_sequence.hvo_seq.HVO_Sequence at 0x2c968b49670>,\n",
       " <hvo_sequence.hvo_seq.HVO_Sequence at 0x2c968b49910>,\n",
       " <hvo_sequence.hvo_seq.HVO_Sequence at 0x2c968b49bb0>,\n",
       " <hvo_sequence.hvo_seq.HVO_Sequence at 0x2c968b49e50>,\n",
       " <hvo_sequence.hvo_seq.HVO_Sequence at 0x2c968b52130>,\n",
       " <hvo_sequence.hvo_seq.HVO_Sequence at 0x2c968b523d0>,\n",
       " <hvo_sequence.hvo_seq.HVO_Sequence at 0x2c968b52670>,\n",
       " <hvo_sequence.hvo_seq.HVO_Sequence at 0x2c968b52a90>,\n",
       " <hvo_sequence.hvo_seq.HVO_Sequence at 0x2c968b595b0>,\n",
       " <hvo_sequence.hvo_seq.HVO_Sequence at 0x2c968b5d790>,\n",
       " <hvo_sequence.hvo_seq.HVO_Sequence at 0x2c968b5da30>,\n",
       " <hvo_sequence.hvo_seq.HVO_Sequence at 0x2c968b5dd90>,\n",
       " <hvo_sequence.hvo_seq.HVO_Sequence at 0x2c968b65070>,\n",
       " <hvo_sequence.hvo_seq.HVO_Sequence at 0x2c968b65310>,\n",
       " <hvo_sequence.hvo_seq.HVO_Sequence at 0x2c968b65670>,\n",
       " <hvo_sequence.hvo_seq.HVO_Sequence at 0x2c968b65910>,\n",
       " <hvo_sequence.hvo_seq.HVO_Sequence at 0x2c968b65c70>,\n",
       " <hvo_sequence.hvo_seq.HVO_Sequence at 0x2c968b65f10>,\n",
       " <hvo_sequence.hvo_seq.HVO_Sequence at 0x2c968b6d310>,\n",
       " <hvo_sequence.hvo_seq.HVO_Sequence at 0x2c968b6d5b0>,\n",
       " <hvo_sequence.hvo_seq.HVO_Sequence at 0x2c968bd1c10>,\n",
       " <hvo_sequence.hvo_seq.HVO_Sequence at 0x2c968bd1eb0>,\n",
       " <hvo_sequence.hvo_seq.HVO_Sequence at 0x2c968bd6190>,\n",
       " <hvo_sequence.hvo_seq.HVO_Sequence at 0x2c968bd6430>,\n",
       " <hvo_sequence.hvo_seq.HVO_Sequence at 0x2c968bdc430>,\n",
       " <hvo_sequence.hvo_seq.HVO_Sequence at 0x2c968bdc6d0>,\n",
       " <hvo_sequence.hvo_seq.HVO_Sequence at 0x2c968bdc970>,\n",
       " <hvo_sequence.hvo_seq.HVO_Sequence at 0x2c968bdcc10>,\n",
       " <hvo_sequence.hvo_seq.HVO_Sequence at 0x2c968bdceb0>,\n",
       " <hvo_sequence.hvo_seq.HVO_Sequence at 0x2c968be73d0>,\n",
       " <hvo_sequence.hvo_seq.HVO_Sequence at 0x2c968be7670>,\n",
       " <hvo_sequence.hvo_seq.HVO_Sequence at 0x2c968be7910>,\n",
       " <hvo_sequence.hvo_seq.HVO_Sequence at 0x2c968be7bb0>,\n",
       " <hvo_sequence.hvo_seq.HVO_Sequence at 0x2c968be7e50>,\n",
       " <hvo_sequence.hvo_seq.HVO_Sequence at 0x2c968bec130>,\n",
       " <hvo_sequence.hvo_seq.HVO_Sequence at 0x2c968bec430>,\n",
       " <hvo_sequence.hvo_seq.HVO_Sequence at 0x2c968bec6d0>,\n",
       " <hvo_sequence.hvo_seq.HVO_Sequence at 0x2c968beca90>,\n",
       " <hvo_sequence.hvo_seq.HVO_Sequence at 0x2c968bf4250>,\n",
       " <hvo_sequence.hvo_seq.HVO_Sequence at 0x2c968bf44f0>,\n",
       " <hvo_sequence.hvo_seq.HVO_Sequence at 0x2c968bf4790>,\n",
       " <hvo_sequence.hvo_seq.HVO_Sequence at 0x2c968bf4a90>,\n",
       " <hvo_sequence.hvo_seq.HVO_Sequence at 0x2c968bfe130>,\n",
       " <hvo_sequence.hvo_seq.HVO_Sequence at 0x2c968bfe3d0>,\n",
       " <hvo_sequence.hvo_seq.HVO_Sequence at 0x2c968bfe670>,\n",
       " <hvo_sequence.hvo_seq.HVO_Sequence at 0x2c968bfe910>,\n",
       " <hvo_sequence.hvo_seq.HVO_Sequence at 0x2c968bfebb0>,\n",
       " <hvo_sequence.hvo_seq.HVO_Sequence at 0x2c968bfee50>,\n",
       " <hvo_sequence.hvo_seq.HVO_Sequence at 0x2c968e06130>,\n",
       " <hvo_sequence.hvo_seq.HVO_Sequence at 0x2c968e063d0>,\n",
       " <hvo_sequence.hvo_seq.HVO_Sequence at 0x2c968e06670>,\n",
       " <hvo_sequence.hvo_seq.HVO_Sequence at 0x2c968e06910>,\n",
       " <hvo_sequence.hvo_seq.HVO_Sequence at 0x2c968e06c70>,\n",
       " <hvo_sequence.hvo_seq.HVO_Sequence at 0x2c968e06f10>,\n",
       " <hvo_sequence.hvo_seq.HVO_Sequence at 0x2c968e0e430>,\n",
       " <hvo_sequence.hvo_seq.HVO_Sequence at 0x2c968e0e6d0>,\n",
       " <hvo_sequence.hvo_seq.HVO_Sequence at 0x2c968e0e970>,\n",
       " <hvo_sequence.hvo_seq.HVO_Sequence at 0x2c968e0ec70>,\n",
       " <hvo_sequence.hvo_seq.HVO_Sequence at 0x2c968e0ef10>,\n",
       " <hvo_sequence.hvo_seq.HVO_Sequence at 0x2c968e131f0>,\n",
       " <hvo_sequence.hvo_seq.HVO_Sequence at 0x2c968e13490>,\n",
       " <hvo_sequence.hvo_seq.HVO_Sequence at 0x2c968e13730>,\n",
       " <hvo_sequence.hvo_seq.HVO_Sequence at 0x2c968e13a30>,\n",
       " <hvo_sequence.hvo_seq.HVO_Sequence at 0x2c968e13cd0>,\n",
       " <hvo_sequence.hvo_seq.HVO_Sequence at 0x2c968e13f70>,\n",
       " <hvo_sequence.hvo_seq.HVO_Sequence at 0x2c968e1c250>,\n",
       " <hvo_sequence.hvo_seq.HVO_Sequence at 0x2c968e1c550>,\n",
       " <hvo_sequence.hvo_seq.HVO_Sequence at 0x2c968e1c7f0>,\n",
       " <hvo_sequence.hvo_seq.HVO_Sequence at 0x2c968e249d0>,\n",
       " <hvo_sequence.hvo_seq.HVO_Sequence at 0x2c968e24c70>,\n",
       " <hvo_sequence.hvo_seq.HVO_Sequence at 0x2c968e24f10>,\n",
       " <hvo_sequence.hvo_seq.HVO_Sequence at 0x2c968e2b1f0>,\n",
       " <hvo_sequence.hvo_seq.HVO_Sequence at 0x2c968e2b490>,\n",
       " <hvo_sequence.hvo_seq.HVO_Sequence at 0x2c968e2b730>,\n",
       " <hvo_sequence.hvo_seq.HVO_Sequence at 0x2c968e2b9d0>,\n",
       " <hvo_sequence.hvo_seq.HVO_Sequence at 0x2c968e2bc70>,\n",
       " <hvo_sequence.hvo_seq.HVO_Sequence at 0x2c968e2bf10>,\n",
       " <hvo_sequence.hvo_seq.HVO_Sequence at 0x2c968e33a90>,\n",
       " <hvo_sequence.hvo_seq.HVO_Sequence at 0x2c968e33d30>,\n",
       " <hvo_sequence.hvo_seq.HVO_Sequence at 0x2c968e33fd0>,\n",
       " <hvo_sequence.hvo_seq.HVO_Sequence at 0x2c968e392b0>,\n",
       " <hvo_sequence.hvo_seq.HVO_Sequence at 0x2c968e39550>,\n",
       " <hvo_sequence.hvo_seq.HVO_Sequence at 0x2c968e397f0>,\n",
       " <hvo_sequence.hvo_seq.HVO_Sequence at 0x2c968e39a90>,\n",
       " <hvo_sequence.hvo_seq.HVO_Sequence at 0x2c968e39d30>,\n",
       " <hvo_sequence.hvo_seq.HVO_Sequence at 0x2c968e39fd0>,\n",
       " <hvo_sequence.hvo_seq.HVO_Sequence at 0x2c968e412b0>,\n",
       " <hvo_sequence.hvo_seq.HVO_Sequence at 0x2c968e41550>,\n",
       " <hvo_sequence.hvo_seq.HVO_Sequence at 0x2c968e417f0>,\n",
       " <hvo_sequence.hvo_seq.HVO_Sequence at 0x2c968e41a90>,\n",
       " <hvo_sequence.hvo_seq.HVO_Sequence at 0x2c968e41d30>,\n",
       " <hvo_sequence.hvo_seq.HVO_Sequence at 0x2c968e41fd0>,\n",
       " <hvo_sequence.hvo_seq.HVO_Sequence at 0x2c968e4d2b0>,\n",
       " <hvo_sequence.hvo_seq.HVO_Sequence at 0x2c968e4d5b0>,\n",
       " <hvo_sequence.hvo_seq.HVO_Sequence at 0x2c968e4d910>,\n",
       " <hvo_sequence.hvo_seq.HVO_Sequence at 0x2c968e4dbb0>,\n",
       " <hvo_sequence.hvo_seq.HVO_Sequence at 0x2c968e4de50>,\n",
       " <hvo_sequence.hvo_seq.HVO_Sequence at 0x2c968e54130>,\n",
       " <hvo_sequence.hvo_seq.HVO_Sequence at 0x2c968e543d0>,\n",
       " <hvo_sequence.hvo_seq.HVO_Sequence at 0x2c968e54670>,\n",
       " <hvo_sequence.hvo_seq.HVO_Sequence at 0x2c968e54910>,\n",
       " <hvo_sequence.hvo_seq.HVO_Sequence at 0x2c968e54bb0>,\n",
       " <hvo_sequence.hvo_seq.HVO_Sequence at 0x2c968e54e50>,\n",
       " <hvo_sequence.hvo_seq.HVO_Sequence at 0x2c968e5a130>,\n",
       " <hvo_sequence.hvo_seq.HVO_Sequence at 0x2c968e5a3d0>,\n",
       " <hvo_sequence.hvo_seq.HVO_Sequence at 0x2c968e5a670>,\n",
       " <hvo_sequence.hvo_seq.HVO_Sequence at 0x2c968e5a970>,\n",
       " <hvo_sequence.hvo_seq.HVO_Sequence at 0x2c968e5ac10>,\n",
       " <hvo_sequence.hvo_seq.HVO_Sequence at 0x2c968e5aeb0>,\n",
       " <hvo_sequence.hvo_seq.HVO_Sequence at 0x2c968e62190>,\n",
       " <hvo_sequence.hvo_seq.HVO_Sequence at 0x2c968e62430>,\n",
       " <hvo_sequence.hvo_seq.HVO_Sequence at 0x2c968e626d0>,\n",
       " <hvo_sequence.hvo_seq.HVO_Sequence at 0x2c968e62a90>,\n",
       " <hvo_sequence.hvo_seq.HVO_Sequence at 0x2c968e62d30>,\n",
       " <hvo_sequence.hvo_seq.HVO_Sequence at 0x2c968e62fd0>,\n",
       " <hvo_sequence.hvo_seq.HVO_Sequence at 0x2c968e6b2b0>,\n",
       " <hvo_sequence.hvo_seq.HVO_Sequence at 0x2c968e6b550>,\n",
       " <hvo_sequence.hvo_seq.HVO_Sequence at 0x2c968e6b7f0>,\n",
       " <hvo_sequence.hvo_seq.HVO_Sequence at 0x2c968e6bb50>,\n",
       " <hvo_sequence.hvo_seq.HVO_Sequence at 0x2c968e6bdf0>,\n",
       " <hvo_sequence.hvo_seq.HVO_Sequence at 0x2c968e720d0>,\n",
       " <hvo_sequence.hvo_seq.HVO_Sequence at 0x2c968e72670>,\n",
       " <hvo_sequence.hvo_seq.HVO_Sequence at 0x2c968e72970>,\n",
       " <hvo_sequence.hvo_seq.HVO_Sequence at 0x2c968e72c10>,\n",
       " <hvo_sequence.hvo_seq.HVO_Sequence at 0x2c968e72eb0>,\n",
       " <hvo_sequence.hvo_seq.HVO_Sequence at 0x2c968e7a190>,\n",
       " <hvo_sequence.hvo_seq.HVO_Sequence at 0x2c968e7a430>,\n",
       " <hvo_sequence.hvo_seq.HVO_Sequence at 0x2c968e7f430>,\n",
       " <hvo_sequence.hvo_seq.HVO_Sequence at 0x2c968e7f6d0>,\n",
       " <hvo_sequence.hvo_seq.HVO_Sequence at 0x2c968e7fa90>,\n",
       " <hvo_sequence.hvo_seq.HVO_Sequence at 0x2c968e7fd30>,\n",
       " <hvo_sequence.hvo_seq.HVO_Sequence at 0x2c968e88070>,\n",
       " <hvo_sequence.hvo_seq.HVO_Sequence at 0x2c968e88370>,\n",
       " <hvo_sequence.hvo_seq.HVO_Sequence at 0x2c968e88610>,\n",
       " <hvo_sequence.hvo_seq.HVO_Sequence at 0x2c968e888b0>,\n",
       " <hvo_sequence.hvo_seq.HVO_Sequence at 0x2c968e88b50>,\n",
       " <hvo_sequence.hvo_seq.HVO_Sequence at 0x2c968e88f70>,\n",
       " <hvo_sequence.hvo_seq.HVO_Sequence at 0x2c968e8f250>,\n",
       " <hvo_sequence.hvo_seq.HVO_Sequence at 0x2c968e8f4f0>,\n",
       " <hvo_sequence.hvo_seq.HVO_Sequence at 0x2c968e8f790>,\n",
       " <hvo_sequence.hvo_seq.HVO_Sequence at 0x2c968e8fa30>,\n",
       " <hvo_sequence.hvo_seq.HVO_Sequence at 0x2c968e9aa30>,\n",
       " <hvo_sequence.hvo_seq.HVO_Sequence at 0x2c968e9acd0>,\n",
       " <hvo_sequence.hvo_seq.HVO_Sequence at 0x2c968e9af70>,\n",
       " <hvo_sequence.hvo_seq.HVO_Sequence at 0x2c968ea1370>,\n",
       " <hvo_sequence.hvo_seq.HVO_Sequence at 0x2c968ea1610>,\n",
       " <hvo_sequence.hvo_seq.HVO_Sequence at 0x2c968ea1af0>,\n",
       " <hvo_sequence.hvo_seq.HVO_Sequence at 0x2c968eac790>,\n",
       " <hvo_sequence.hvo_seq.HVO_Sequence at 0x2c968eaca30>,\n",
       " <hvo_sequence.hvo_seq.HVO_Sequence at 0x2c968eaccd0>,\n",
       " <hvo_sequence.hvo_seq.HVO_Sequence at 0x2c968eacf70>,\n",
       " <hvo_sequence.hvo_seq.HVO_Sequence at 0x2c968eb4250>,\n",
       " <hvo_sequence.hvo_seq.HVO_Sequence at 0x2c968eb44f0>,\n",
       " <hvo_sequence.hvo_seq.HVO_Sequence at 0x2c968eb4790>,\n",
       " <hvo_sequence.hvo_seq.HVO_Sequence at 0x2c968eb4a30>,\n",
       " <hvo_sequence.hvo_seq.HVO_Sequence at 0x2c968eb4cd0>,\n",
       " <hvo_sequence.hvo_seq.HVO_Sequence at 0x2c968eb4f70>,\n",
       " <hvo_sequence.hvo_seq.HVO_Sequence at 0x2c968ebc250>,\n",
       " <hvo_sequence.hvo_seq.HVO_Sequence at 0x2c968ebc4f0>,\n",
       " <hvo_sequence.hvo_seq.HVO_Sequence at 0x2c968ebc790>,\n",
       " <hvo_sequence.hvo_seq.HVO_Sequence at 0x2c968ebca30>,\n",
       " <hvo_sequence.hvo_seq.HVO_Sequence at 0x2c968ebccd0>,\n",
       " <hvo_sequence.hvo_seq.HVO_Sequence at 0x2c968ebcf70>,\n",
       " <hvo_sequence.hvo_seq.HVO_Sequence at 0x2c968ec5250>,\n",
       " <hvo_sequence.hvo_seq.HVO_Sequence at 0x2c968ec54f0>,\n",
       " <hvo_sequence.hvo_seq.HVO_Sequence at 0x2c968ec5790>,\n",
       " <hvo_sequence.hvo_seq.HVO_Sequence at 0x2c968ec5a30>,\n",
       " <hvo_sequence.hvo_seq.HVO_Sequence at 0x2c968ec5cd0>,\n",
       " <hvo_sequence.hvo_seq.HVO_Sequence at 0x2c968ecdbb0>,\n",
       " <hvo_sequence.hvo_seq.HVO_Sequence at 0x2c968ecdf10>,\n",
       " <hvo_sequence.hvo_seq.HVO_Sequence at 0x2c968ed31f0>,\n",
       " <hvo_sequence.hvo_seq.HVO_Sequence at 0x2c968ed3490>,\n",
       " <hvo_sequence.hvo_seq.HVO_Sequence at 0x2c968ed3730>,\n",
       " <hvo_sequence.hvo_seq.HVO_Sequence at 0x2c968ed3fd0>,\n",
       " <hvo_sequence.hvo_seq.HVO_Sequence at 0x2c968eda5b0>,\n",
       " <hvo_sequence.hvo_seq.HVO_Sequence at 0x2c968eda850>,\n",
       " <hvo_sequence.hvo_seq.HVO_Sequence at 0x2c968edaaf0>,\n",
       " <hvo_sequence.hvo_seq.HVO_Sequence at 0x2c968ee45b0>,\n",
       " <hvo_sequence.hvo_seq.HVO_Sequence at 0x2c968ee4910>,\n",
       " <hvo_sequence.hvo_seq.HVO_Sequence at 0x2c968ee4bb0>,\n",
       " <hvo_sequence.hvo_seq.HVO_Sequence at 0x2c968ee4e50>,\n",
       " <hvo_sequence.hvo_seq.HVO_Sequence at 0x2c968eed130>,\n",
       " <hvo_sequence.hvo_seq.HVO_Sequence at 0x2c968eeda90>,\n",
       " <hvo_sequence.hvo_seq.HVO_Sequence at 0x2c968eedd30>,\n",
       " <hvo_sequence.hvo_seq.HVO_Sequence at 0x2c968eedfd0>,\n",
       " <hvo_sequence.hvo_seq.HVO_Sequence at 0x2c968ef42b0>,\n",
       " <hvo_sequence.hvo_seq.HVO_Sequence at 0x2c968ef4550>,\n",
       " <hvo_sequence.hvo_seq.HVO_Sequence at 0x2c968ef48b0>,\n",
       " <hvo_sequence.hvo_seq.HVO_Sequence at 0x2c968ef4b50>,\n",
       " <hvo_sequence.hvo_seq.HVO_Sequence at 0x2c968ef4df0>,\n",
       " <hvo_sequence.hvo_seq.HVO_Sequence at 0x2c968eff310>,\n",
       " <hvo_sequence.hvo_seq.HVO_Sequence at 0x2c968eff5b0>,\n",
       " <hvo_sequence.hvo_seq.HVO_Sequence at 0x2c968eff970>,\n",
       " <hvo_sequence.hvo_seq.HVO_Sequence at 0x2c968f076d0>,\n",
       " <hvo_sequence.hvo_seq.HVO_Sequence at 0x2c968f07d90>,\n",
       " <hvo_sequence.hvo_seq.HVO_Sequence at 0x2c968f0d250>,\n",
       " <hvo_sequence.hvo_seq.HVO_Sequence at 0x2c968f0d4f0>,\n",
       " <hvo_sequence.hvo_seq.HVO_Sequence at 0x2c968f0d790>,\n",
       " <hvo_sequence.hvo_seq.HVO_Sequence at 0x2c968f0da30>,\n",
       " <hvo_sequence.hvo_seq.HVO_Sequence at 0x2c968f0dcd0>,\n",
       " <hvo_sequence.hvo_seq.HVO_Sequence at 0x2c968f0df70>,\n",
       " <hvo_sequence.hvo_seq.HVO_Sequence at 0x2c968f16250>,\n",
       " <hvo_sequence.hvo_seq.HVO_Sequence at 0x2c968f164f0>,\n",
       " <hvo_sequence.hvo_seq.HVO_Sequence at 0x2c968f16a90>,\n",
       " <hvo_sequence.hvo_seq.HVO_Sequence at 0x2c968f1c4f0>,\n",
       " <hvo_sequence.hvo_seq.HVO_Sequence at 0x2c968f1c7f0>,\n",
       " <hvo_sequence.hvo_seq.HVO_Sequence at 0x2c968f248b0>,\n",
       " <hvo_sequence.hvo_seq.HVO_Sequence at 0x2c968f24b50>,\n",
       " <hvo_sequence.hvo_seq.HVO_Sequence at 0x2c968f24df0>,\n",
       " <hvo_sequence.hvo_seq.HVO_Sequence at 0x2c968f292b0>,\n",
       " <hvo_sequence.hvo_seq.HVO_Sequence at 0x2c968f29550>,\n",
       " <hvo_sequence.hvo_seq.HVO_Sequence at 0x2c968f298b0>,\n",
       " <hvo_sequence.hvo_seq.HVO_Sequence at 0x2c968f29b50>,\n",
       " <hvo_sequence.hvo_seq.HVO_Sequence at 0x2c968f29df0>,\n",
       " <hvo_sequence.hvo_seq.HVO_Sequence at 0x2c968f30eb0>,\n",
       " <hvo_sequence.hvo_seq.HVO_Sequence at 0x2c968f36190>,\n",
       " <hvo_sequence.hvo_seq.HVO_Sequence at 0x2c968f36490>,\n",
       " <hvo_sequence.hvo_seq.HVO_Sequence at 0x2c968f36730>,\n",
       " <hvo_sequence.hvo_seq.HVO_Sequence at 0x2c968f369d0>,\n",
       " <hvo_sequence.hvo_seq.HVO_Sequence at 0x2c968f3e070>,\n",
       " <hvo_sequence.hvo_seq.HVO_Sequence at 0x2c968f3e310>,\n",
       " <hvo_sequence.hvo_seq.HVO_Sequence at 0x2c968f3e6d0>,\n",
       " <hvo_sequence.hvo_seq.HVO_Sequence at 0x2c968f3e9d0>,\n",
       " <hvo_sequence.hvo_seq.HVO_Sequence at 0x2c968f3ec70>,\n",
       " <hvo_sequence.hvo_seq.HVO_Sequence at 0x2c968f3efd0>,\n",
       " <hvo_sequence.hvo_seq.HVO_Sequence at 0x2c968f462b0>,\n",
       " <hvo_sequence.hvo_seq.HVO_Sequence at 0x2c968f46550>,\n",
       " <hvo_sequence.hvo_seq.HVO_Sequence at 0x2c968f469d0>,\n",
       " <hvo_sequence.hvo_seq.HVO_Sequence at 0x2c968f46c70>,\n",
       " <hvo_sequence.hvo_seq.HVO_Sequence at 0x2c968f46f10>,\n",
       " <hvo_sequence.hvo_seq.HVO_Sequence at 0x2c968f4f1f0>,\n",
       " <hvo_sequence.hvo_seq.HVO_Sequence at 0x2c968f4f490>,\n",
       " <hvo_sequence.hvo_seq.HVO_Sequence at 0x2c968f4f730>,\n",
       " <hvo_sequence.hvo_seq.HVO_Sequence at 0x2c968f4f9d0>,\n",
       " <hvo_sequence.hvo_seq.HVO_Sequence at 0x2c968f4fc70>,\n",
       " <hvo_sequence.hvo_seq.HVO_Sequence at 0x2c968f4ff10>,\n",
       " <hvo_sequence.hvo_seq.HVO_Sequence at 0x2c968f581f0>,\n",
       " <hvo_sequence.hvo_seq.HVO_Sequence at 0x2c968f58550>,\n",
       " <hvo_sequence.hvo_seq.HVO_Sequence at 0x2c968f587f0>,\n",
       " <hvo_sequence.hvo_seq.HVO_Sequence at 0x2c968f58a90>,\n",
       " <hvo_sequence.hvo_seq.HVO_Sequence at 0x2c968f58d30>,\n",
       " <hvo_sequence.hvo_seq.HVO_Sequence at 0x2c968f58fd0>,\n",
       " <hvo_sequence.hvo_seq.HVO_Sequence at 0x2c968f603d0>,\n",
       " <hvo_sequence.hvo_seq.HVO_Sequence at 0x2c968f608b0>,\n",
       " <hvo_sequence.hvo_seq.HVO_Sequence at 0x2c968f60b50>,\n",
       " <hvo_sequence.hvo_seq.HVO_Sequence at 0x2c968f60df0>,\n",
       " <hvo_sequence.hvo_seq.HVO_Sequence at 0x2c968f726d0>,\n",
       " <hvo_sequence.hvo_seq.HVO_Sequence at 0x2c968f72970>,\n",
       " <hvo_sequence.hvo_seq.HVO_Sequence at 0x2c968f72c10>,\n",
       " <hvo_sequence.hvo_seq.HVO_Sequence at 0x2c968f72eb0>,\n",
       " <hvo_sequence.hvo_seq.HVO_Sequence at 0x2c968f78190>,\n",
       " <hvo_sequence.hvo_seq.HVO_Sequence at 0x2c968f78430>,\n",
       " <hvo_sequence.hvo_seq.HVO_Sequence at 0x2c968f786d0>,\n",
       " <hvo_sequence.hvo_seq.HVO_Sequence at 0x2c968f78970>,\n",
       " <hvo_sequence.hvo_seq.HVO_Sequence at 0x2c968f78c70>,\n",
       " <hvo_sequence.hvo_seq.HVO_Sequence at 0x2c968f78f10>,\n",
       " <hvo_sequence.hvo_seq.HVO_Sequence at 0x2c968f7f1f0>,\n",
       " <hvo_sequence.hvo_seq.HVO_Sequence at 0x2c968f7f490>,\n",
       " <hvo_sequence.hvo_seq.HVO_Sequence at 0x2c968f7f730>,\n",
       " <hvo_sequence.hvo_seq.HVO_Sequence at 0x2c968f7f9d0>,\n",
       " <hvo_sequence.hvo_seq.HVO_Sequence at 0x2c968f7fc70>,\n",
       " <hvo_sequence.hvo_seq.HVO_Sequence at 0x2c968f7ff10>,\n",
       " <hvo_sequence.hvo_seq.HVO_Sequence at 0x2c968f891f0>,\n",
       " <hvo_sequence.hvo_seq.HVO_Sequence at 0x2c968f895b0>,\n",
       " <hvo_sequence.hvo_seq.HVO_Sequence at 0x2c968f89850>,\n",
       " <hvo_sequence.hvo_seq.HVO_Sequence at 0x2c968f89af0>,\n",
       " <hvo_sequence.hvo_seq.HVO_Sequence at 0x2c968f89d90>,\n",
       " <hvo_sequence.hvo_seq.HVO_Sequence at 0x2c968f92070>,\n",
       " <hvo_sequence.hvo_seq.HVO_Sequence at 0x2c968f92310>,\n",
       " <hvo_sequence.hvo_seq.HVO_Sequence at 0x2c968f925b0>,\n",
       " <hvo_sequence.hvo_seq.HVO_Sequence at 0x2c968f92850>,\n",
       " <hvo_sequence.hvo_seq.HVO_Sequence at 0x2c968f92af0>,\n",
       " <hvo_sequence.hvo_seq.HVO_Sequence at 0x2c968f92d90>,\n",
       " <hvo_sequence.hvo_seq.HVO_Sequence at 0x2c968f98070>,\n",
       " <hvo_sequence.hvo_seq.HVO_Sequence at 0x2c968f98670>,\n",
       " <hvo_sequence.hvo_seq.HVO_Sequence at 0x2c968f98910>,\n",
       " <hvo_sequence.hvo_seq.HVO_Sequence at 0x2c968f98bb0>,\n",
       " <hvo_sequence.hvo_seq.HVO_Sequence at 0x2c968f98e50>,\n",
       " <hvo_sequence.hvo_seq.HVO_Sequence at 0x2c968fa1130>,\n",
       " <hvo_sequence.hvo_seq.HVO_Sequence at 0x2c968fa13d0>,\n",
       " <hvo_sequence.hvo_seq.HVO_Sequence at 0x2c968fa1850>,\n",
       " <hvo_sequence.hvo_seq.HVO_Sequence at 0x2c968fa1bb0>,\n",
       " <hvo_sequence.hvo_seq.HVO_Sequence at 0x2c968fa1e50>,\n",
       " <hvo_sequence.hvo_seq.HVO_Sequence at 0x2c968fa8130>,\n",
       " <hvo_sequence.hvo_seq.HVO_Sequence at 0x2c968fa83d0>,\n",
       " <hvo_sequence.hvo_seq.HVO_Sequence at 0x2c968fa8790>,\n",
       " <hvo_sequence.hvo_seq.HVO_Sequence at 0x2c968fa8a30>,\n",
       " <hvo_sequence.hvo_seq.HVO_Sequence at 0x2c968fa8cd0>,\n",
       " <hvo_sequence.hvo_seq.HVO_Sequence at 0x2c968fa8f70>,\n",
       " <hvo_sequence.hvo_seq.HVO_Sequence at 0x2c968fb1250>,\n",
       " <hvo_sequence.hvo_seq.HVO_Sequence at 0x2c968fb14f0>,\n",
       " <hvo_sequence.hvo_seq.HVO_Sequence at 0x2c968fb19d0>,\n",
       " <hvo_sequence.hvo_seq.HVO_Sequence at 0x2c968fb1c70>,\n",
       " <hvo_sequence.hvo_seq.HVO_Sequence at 0x2c968fb1f10>,\n",
       " <hvo_sequence.hvo_seq.HVO_Sequence at 0x2c968fbf3d0>,\n",
       " <hvo_sequence.hvo_seq.HVO_Sequence at 0x2c968fbf670>,\n",
       " <hvo_sequence.hvo_seq.HVO_Sequence at 0x2c968fbfb50>,\n",
       " <hvo_sequence.hvo_seq.HVO_Sequence at 0x2c968fbfdf0>,\n",
       " <hvo_sequence.hvo_seq.HVO_Sequence at 0x2c968fc70d0>,\n",
       " <hvo_sequence.hvo_seq.HVO_Sequence at 0x2c968fc7370>,\n",
       " <hvo_sequence.hvo_seq.HVO_Sequence at 0x2c968fc7610>,\n",
       " <hvo_sequence.hvo_seq.HVO_Sequence at 0x2c968fc79d0>,\n",
       " <hvo_sequence.hvo_seq.HVO_Sequence at 0x2c968fc7c70>,\n",
       " <hvo_sequence.hvo_seq.HVO_Sequence at 0x2c968fc7f10>,\n",
       " <hvo_sequence.hvo_seq.HVO_Sequence at 0x2c968fcd1f0>,\n",
       " <hvo_sequence.hvo_seq.HVO_Sequence at 0x2c968fcd490>,\n",
       " <hvo_sequence.hvo_seq.HVO_Sequence at 0x2c968fcd730>,\n",
       " <hvo_sequence.hvo_seq.HVO_Sequence at 0x2c968fcd9d0>,\n",
       " <hvo_sequence.hvo_seq.HVO_Sequence at 0x2c968fcdc70>,\n",
       " <hvo_sequence.hvo_seq.HVO_Sequence at 0x2c968fcdf10>,\n",
       " <hvo_sequence.hvo_seq.HVO_Sequence at 0x2c968fd61f0>,\n",
       " <hvo_sequence.hvo_seq.HVO_Sequence at 0x2c968fd66d0>,\n",
       " <hvo_sequence.hvo_seq.HVO_Sequence at 0x2c968fe1c10>,\n",
       " <hvo_sequence.hvo_seq.HVO_Sequence at 0x2c968fe1eb0>,\n",
       " <hvo_sequence.hvo_seq.HVO_Sequence at 0x2c968fe7190>,\n",
       " <hvo_sequence.hvo_seq.HVO_Sequence at 0x2c968fe7430>,\n",
       " <hvo_sequence.hvo_seq.HVO_Sequence at 0x2c968fe76d0>,\n",
       " <hvo_sequence.hvo_seq.HVO_Sequence at 0x2c968fe7970>,\n",
       " <hvo_sequence.hvo_seq.HVO_Sequence at 0x2c968fe7c10>,\n",
       " <hvo_sequence.hvo_seq.HVO_Sequence at 0x2c968ff0070>,\n",
       " <hvo_sequence.hvo_seq.HVO_Sequence at 0x2c968ff0310>,\n",
       " <hvo_sequence.hvo_seq.HVO_Sequence at 0x2c968ff05b0>,\n",
       " <hvo_sequence.hvo_seq.HVO_Sequence at 0x2c968ff0850>,\n",
       " <hvo_sequence.hvo_seq.HVO_Sequence at 0x2c968ff0af0>,\n",
       " <hvo_sequence.hvo_seq.HVO_Sequence at 0x2c968ff0df0>,\n",
       " <hvo_sequence.hvo_seq.HVO_Sequence at 0x2c968ff60d0>,\n",
       " <hvo_sequence.hvo_seq.HVO_Sequence at 0x2c968ff6370>,\n",
       " <hvo_sequence.hvo_seq.HVO_Sequence at 0x2c968ff6610>,\n",
       " <hvo_sequence.hvo_seq.HVO_Sequence at 0x2c968ff68b0>,\n",
       " <hvo_sequence.hvo_seq.HVO_Sequence at 0x2c968ff6b50>,\n",
       " <hvo_sequence.hvo_seq.HVO_Sequence at 0x2c968ff6df0>,\n",
       " <hvo_sequence.hvo_seq.HVO_Sequence at 0x2c968fff2b0>,\n",
       " <hvo_sequence.hvo_seq.HVO_Sequence at 0x2c968fff550>,\n",
       " <hvo_sequence.hvo_seq.HVO_Sequence at 0x2c969205370>,\n",
       " <hvo_sequence.hvo_seq.HVO_Sequence at 0x2c969205610>,\n",
       " <hvo_sequence.hvo_seq.HVO_Sequence at 0x2c969205910>,\n",
       " <hvo_sequence.hvo_seq.HVO_Sequence at 0x2c969205bb0>,\n",
       " <hvo_sequence.hvo_seq.HVO_Sequence at 0x2c969205e50>,\n",
       " <hvo_sequence.hvo_seq.HVO_Sequence at 0x2c96920c130>,\n",
       " <hvo_sequence.hvo_seq.HVO_Sequence at 0x2c96920c5b0>,\n",
       " <hvo_sequence.hvo_seq.HVO_Sequence at 0x2c96920c850>,\n",
       " <hvo_sequence.hvo_seq.HVO_Sequence at 0x2c96920cb50>,\n",
       " <hvo_sequence.hvo_seq.HVO_Sequence at 0x2c96920cdf0>,\n",
       " <hvo_sequence.hvo_seq.HVO_Sequence at 0x2c9692150d0>,\n",
       " <hvo_sequence.hvo_seq.HVO_Sequence at 0x2c969215370>,\n",
       " <hvo_sequence.hvo_seq.HVO_Sequence at 0x2c9692156d0>,\n",
       " <hvo_sequence.hvo_seq.HVO_Sequence at 0x2c969215970>,\n",
       " <hvo_sequence.hvo_seq.HVO_Sequence at 0x2c969215c10>,\n",
       " <hvo_sequence.hvo_seq.HVO_Sequence at 0x2c969215eb0>,\n",
       " <hvo_sequence.hvo_seq.HVO_Sequence at 0x2c96921c190>,\n",
       " <hvo_sequence.hvo_seq.HVO_Sequence at 0x2c96921c430>,\n",
       " <hvo_sequence.hvo_seq.HVO_Sequence at 0x2c96921c6d0>,\n",
       " <hvo_sequence.hvo_seq.HVO_Sequence at 0x2c96921c970>,\n",
       " <hvo_sequence.hvo_seq.HVO_Sequence at 0x2c96921cc10>,\n",
       " <hvo_sequence.hvo_seq.HVO_Sequence at 0x2c96921ceb0>,\n",
       " <hvo_sequence.hvo_seq.HVO_Sequence at 0x2c969224190>,\n",
       " <hvo_sequence.hvo_seq.HVO_Sequence at 0x2c969224490>,\n",
       " <hvo_sequence.hvo_seq.HVO_Sequence at 0x2c969224730>,\n",
       " <hvo_sequence.hvo_seq.HVO_Sequence at 0x2c9692249d0>,\n",
       " <hvo_sequence.hvo_seq.HVO_Sequence at 0x2c969224c70>,\n",
       " <hvo_sequence.hvo_seq.HVO_Sequence at 0x2c969224f10>,\n",
       " <hvo_sequence.hvo_seq.HVO_Sequence at 0x2c96922d1f0>,\n",
       " <hvo_sequence.hvo_seq.HVO_Sequence at 0x2c96922d490>,\n",
       " <hvo_sequence.hvo_seq.HVO_Sequence at 0x2c969292af0>,\n",
       " <hvo_sequence.hvo_seq.HVO_Sequence at 0x2c969292d90>,\n",
       " <hvo_sequence.hvo_seq.HVO_Sequence at 0x2c969299070>,\n",
       " <hvo_sequence.hvo_seq.HVO_Sequence at 0x2c969299310>,\n",
       " <hvo_sequence.hvo_seq.HVO_Sequence at 0x2c9692995b0>,\n",
       " <hvo_sequence.hvo_seq.HVO_Sequence at 0x2c969299850>,\n",
       " <hvo_sequence.hvo_seq.HVO_Sequence at 0x2c969299af0>,\n",
       " <hvo_sequence.hvo_seq.HVO_Sequence at 0x2c9692a09d0>,\n",
       " <hvo_sequence.hvo_seq.HVO_Sequence at 0x2c9692a0d30>,\n",
       " ...]"
      ]
     },
     "execution_count": 44,
     "metadata": {},
     "output_type": "execute_result"
    }
   ],
   "source": [
    "test = data['test']\n",
    "\n",
    "inputs = test['inputs']\n",
    "outputs = test['outputs']\n",
    "outputs_hvos = test['outputs_hvo_seqs']\n",
    "outputs_hvos"
   ]
  },
  {
   "cell_type": "code",
   "execution_count": 38,
   "metadata": {},
   "outputs": [],
   "source": [
    "## Utility Methods\n",
    "def fix_dimensions(hvo_tensor):\n",
    "  \"\"\"Adjusts the length of the hvo sequence to 32 time steps.\n",
    "  Adjustment by truncation or padding with zeros\n",
    "  Works for tensor of shape (T, N*3) and also (1, T, N*3) \n",
    "  where T is time steps and N is the number of voices\n",
    "  \"\"\"\n",
    "  if len(hvo_tensor.shape)==2:\n",
    "    number_of_steps = hvo_tensor.shape[0]\n",
    "    if number_of_steps > 32:\n",
    "      hvo_tensor = hvo_tensor[:32, :]\n",
    "    elif number_of_steps < 32:\n",
    "        hvo_tensor = torch.concatenate(\n",
    "            (hvo_tensor, torch.zeros((32 - number_of_steps, hvo_tensor.shape[-1]))), axis=0)\n",
    "  else:\n",
    "    number_of_steps = hvo_tensor.shape[1]\n",
    "    if number_of_steps > 32:\n",
    "        hvo_tensor = hvo_tensor[:, :32, :]\n",
    "    elif number_of_steps < 32:\n",
    "        hvo_tensor = torch.concatenate(\n",
    "            (hvo_tensor, torch.zeros((1, 32 - number_of_steps, hvo_tensor.shape[-1]))), axis=1)\n",
    "  return hvo_tensor\n",
    "\n",
    "def get_flattened_version(sample_hvo_seq):\n",
    "  \"\"\" Returns a new hvo_sequence class that hold the flattened version \n",
    "  --> Useful for plotting and generationg audios \n",
    "  \"\"\"\n",
    "  groove_temp = sample_hvo_seq.copy_zero()\n",
    "  groove_temp.hvo = fix_dimensions(sample_hvo_seq.flatten_voices(reduce_dim=False))\n",
    "  return groove_temp\n",
    "\n",
    "\n",
    "def plot_and_synthesize(hvo_seq_sample):\n",
    "  \"\"\" Plots the piano roll of the sequence stored in the hvo_sequence object\n",
    "  and also returns the synthesized pattern\n",
    "  \"\"\"\n",
    "  hvo_seq_sample.piano_roll(show_figure=True)\n",
    "  audio = hvo_seq_sample.synthesize(\n",
    "      sf_path=\"hvo_sequence/soundfonts/TamaRockSTAR.sf2\")\n",
    "  return audio\n",
    "\n",
    "def encode_into_latent_z(model_, in_groove):\n",
    "  \"\"\" returns Z corresponding to a provided groove of shape (1, 32, 3)\n",
    "  \"\"\"\n",
    "  # Generation using an Input Groove\n",
    "  # Step 1. Get the mean and var of the latent encoding\n",
    "  mu, logvar = model_.encode_to_mu_logvar(in_groove)\n",
    "  \n",
    "  # Step 2. Sample a latent vector (z) from latent distribution\n",
    "  latent_z = model_.reparametrize(mu, logvar)\n",
    "    \n",
    "  return latent_z\n",
    "\n",
    "def generate_from_groove(model_, in_groove, sampling_thresh=0.4):\n",
    "  \"\"\" returns a full drum pattern based on the provided input groove\n",
    "  \"\"\"\n",
    "  latent_z = encode_into_latent_z(model_, in_groove)\n",
    "\n",
    "  # Step 3. Generate using the latent encoding \n",
    "  return model.sample(\n",
    "      latent_z=latent_z, \n",
    "      voice_thresholds=[sampling_thresh],\n",
    "      voice_max_count_allowed=[32],\n",
    "      return_concatenated=True,\n",
    "      sampling_mode=0)\n",
    "\n",
    "\n",
    "def decode_z_into_drums(model_, latent_z, sampling_thresh=0.5):\n",
    "  \"\"\" returns a full drum pattern based on a provided latent encoding Z\n",
    "  \"\"\"\n",
    "  return model_.sample(latent_z=torch.tensor(latent_z, dtype=torch.float32), \n",
    "                   voice_thresholds=[sampling_thresh]*9,\n",
    "                   voice_max_count_allowed=[32]*9,\n",
    "                   return_concatenated=True,\n",
    "                   sampling_mode=0)\n",
    "\n",
    "\n",
    "def save_to_midi(hvo_seq_pattern, filename=None):\n",
    "  \"\"\" saves the score in a hvo_seq_pattern obj as midi\n",
    "  \"\"\"\n",
    "  if filename is None:\n",
    "    filename = str(uuid.uuid4())\n",
    "  hvo_seq_pattern.save_hvo_to_midi(f\"{filename}.mid\")\n",
    "  print(f\"saved to {filename}.mid\")"
   ]
  },
  {
   "cell_type": "code",
   "execution_count": 41,
   "metadata": {},
   "outputs": [
    {
     "data": {
      "text/plain": [
       "torch.Size([32, 3])"
      ]
     },
     "execution_count": 41,
     "metadata": {},
     "output_type": "execute_result"
    }
   ],
   "source": [
    "groove = torch.tensor(inputs[0], dtype=torch.float32)\n",
    "groove.shape\n",
    "\n"
   ]
  },
  {
   "cell_type": "code",
   "execution_count": 49,
   "metadata": {},
   "outputs": [
    {
     "name": "stdout",
     "output_type": "stream",
     "text": [
      "The shape of the groove tensor is: torch.Size([1, 32, 3])\n"
     ]
    },
    {
     "ename": "IndexError",
     "evalue": "index 1 is out of bounds for dimension 2 with size 1",
     "output_type": "error",
     "traceback": [
      "\u001b[1;31m---------------------------------------------------------------------------\u001b[0m",
      "\u001b[1;31mIndexError\u001b[0m                                Traceback (most recent call last)",
      "Cell \u001b[1;32mIn[49], line 8\u001b[0m\n\u001b[0;32m      2\u001b[0m groove \u001b[39m=\u001b[39m fix_dimensions(torch\u001b[39m.\u001b[39mtensor(\n\u001b[0;32m      3\u001b[0m     [outputs_hvos[\u001b[39m1\u001b[39m]\u001b[39m.\u001b[39mflatten_voices(reduce_dim\u001b[39m=\u001b[39m\u001b[39mTrue\u001b[39;00m)], \n\u001b[0;32m      4\u001b[0m     dtype\u001b[39m=\u001b[39mtorch\u001b[39m.\u001b[39mfloat32))\n\u001b[0;32m      5\u001b[0m \u001b[39mprint\u001b[39m(\u001b[39mf\u001b[39m\u001b[39m\"\u001b[39m\u001b[39mThe shape of the groove tensor is: \u001b[39m\u001b[39m{\u001b[39;00mgroove\u001b[39m.\u001b[39mshape\u001b[39m}\u001b[39;00m\u001b[39m\"\u001b[39m)\n\u001b[1;32m----> 8\u001b[0m generated \u001b[39m=\u001b[39m generate_from_groove(model, groove)\n\u001b[0;32m      9\u001b[0m generated\u001b[39m.\u001b[39mshape\n",
      "Cell \u001b[1;32mIn[38], line 60\u001b[0m, in \u001b[0;36mgenerate_from_groove\u001b[1;34m(model_, in_groove, sampling_thresh)\u001b[0m\n\u001b[0;32m     57\u001b[0m latent_z \u001b[39m=\u001b[39m encode_into_latent_z(model_, in_groove)\n\u001b[0;32m     59\u001b[0m \u001b[39m# Step 3. Generate using the latent encoding \u001b[39;00m\n\u001b[1;32m---> 60\u001b[0m \u001b[39mreturn\u001b[39;00m model\u001b[39m.\u001b[39;49msample(\n\u001b[0;32m     61\u001b[0m     latent_z\u001b[39m=\u001b[39;49mlatent_z, \n\u001b[0;32m     62\u001b[0m     voice_thresholds\u001b[39m=\u001b[39;49m[sampling_thresh]\u001b[39m*\u001b[39;49m\u001b[39m9\u001b[39;49m,\n\u001b[0;32m     63\u001b[0m     voice_max_count_allowed\u001b[39m=\u001b[39;49m[\u001b[39m32\u001b[39;49m]\u001b[39m*\u001b[39;49m\u001b[39m9\u001b[39;49m,\n\u001b[0;32m     64\u001b[0m     return_concatenated\u001b[39m=\u001b[39;49m\u001b[39mTrue\u001b[39;49;00m,\n\u001b[0;32m     65\u001b[0m     sampling_mode\u001b[39m=\u001b[39;49m\u001b[39m0\u001b[39;49m)\n",
      "File \u001b[1;32mf:\\Nil\\GrooveTransformer\\model\\VAE\\MonotonicGrooveVAE.py:166\u001b[0m, in \u001b[0;36mGrooveTransformerEncoderVAE.sample\u001b[1;34m(self, latent_z, voice_thresholds, voice_max_count_allowed, return_concatenated, sampling_mode)\u001b[0m\n\u001b[0;32m    155\u001b[0m \u001b[39mdef\u001b[39;00m \u001b[39msample\u001b[39m(\u001b[39mself\u001b[39m, latent_z, voice_thresholds, voice_max_count_allowed,\n\u001b[0;32m    156\u001b[0m        return_concatenated\u001b[39m=\u001b[39m\u001b[39mFalse\u001b[39;00m, sampling_mode\u001b[39m=\u001b[39m\u001b[39m0\u001b[39m):\n\u001b[0;32m    157\u001b[0m \u001b[39m    \u001b[39m\u001b[39m\"\"\"Converts the latent vector into hit, vel, offset values\u001b[39;00m\n\u001b[0;32m    158\u001b[0m \n\u001b[0;32m    159\u001b[0m \u001b[39m    :param latent_z: (Tensor) [N x latent_dim]\u001b[39;00m\n\u001b[1;32m   (...)\u001b[0m\n\u001b[0;32m    164\u001b[0m \u001b[39m                                1 for bernoulli sampling\u001b[39;00m\n\u001b[0;32m    165\u001b[0m \u001b[39m    \"\"\"\u001b[39;00m\n\u001b[1;32m--> 166\u001b[0m     \u001b[39mreturn\u001b[39;00m \u001b[39mself\u001b[39;49m\u001b[39m.\u001b[39;49mDecoder\u001b[39m.\u001b[39;49msample(\n\u001b[0;32m    167\u001b[0m         latent_z\u001b[39m=\u001b[39;49mlatent_z,\n\u001b[0;32m    168\u001b[0m         voice_thresholds\u001b[39m=\u001b[39;49mvoice_thresholds,\n\u001b[0;32m    169\u001b[0m         voice_max_count_allowed\u001b[39m=\u001b[39;49mvoice_max_count_allowed,\n\u001b[0;32m    170\u001b[0m         return_concatenated\u001b[39m=\u001b[39;49mreturn_concatenated,\n\u001b[0;32m    171\u001b[0m         sampling_mode\u001b[39m=\u001b[39;49msampling_mode)\n",
      "File \u001b[1;32mf:\\Nil\\GrooveTransformer\\model\\VAE\\shared_model_components.py:350\u001b[0m, in \u001b[0;36mVAE_Decoder.sample\u001b[1;34m(self, latent_z, voice_thresholds, voice_max_count_allowed, return_concatenated, sampling_mode)\u001b[0m\n\u001b[0;32m    348\u001b[0m \u001b[39mif\u001b[39;00m sampling_mode \u001b[39m==\u001b[39m \u001b[39m0\u001b[39m:\n\u001b[0;32m    349\u001b[0m     \u001b[39mfor\u001b[39;00m ix, (thres, max_count) \u001b[39min\u001b[39;00m \u001b[39menumerate\u001b[39m(\u001b[39mzip\u001b[39m(voice_thresholds, voice_max_count_allowed)):\n\u001b[1;32m--> 350\u001b[0m         max_indices \u001b[39m=\u001b[39m torch\u001b[39m.\u001b[39mtopk(_h[:, :, ix], max_count)\u001b[39m.\u001b[39mindices[\u001b[39m0\u001b[39m]\n\u001b[0;32m    351\u001b[0m         h[:, max_indices, ix] \u001b[39m=\u001b[39m _h[:, max_indices, ix]\n\u001b[0;32m    352\u001b[0m         h[:, :, ix] \u001b[39m=\u001b[39m torch\u001b[39m.\u001b[39mwhere(h[:, :, ix] \u001b[39m>\u001b[39m thres, \u001b[39m1\u001b[39m, \u001b[39m0\u001b[39m)\n",
      "\u001b[1;31mIndexError\u001b[0m: index 1 is out of bounds for dimension 2 with size 1"
     ]
    }
   ],
   "source": [
    "# Create the groove\n",
    "groove = fix_dimensions(torch.tensor(\n",
    "    [outputs_hvos[1].flatten_voices(reduce_dim=True)], \n",
    "    dtype=torch.float32))\n",
    "print(f\"The shape of the groove tensor is: {groove.shape}\")\n",
    "  \n",
    "  \n",
    "generated = generate_from_groove(model, groove)\n",
    "generated.shape"
   ]
  },
  {
   "cell_type": "code",
   "execution_count": 23,
   "metadata": {},
   "outputs": [
    {
     "data": {
      "application/vnd.plotly.v1+json": {
       "config": {
        "plotlyServerURL": "https://plot.ly"
       },
       "data": [
        {
         "alignmentgroup": "True",
         "hovertemplate": "City=%{x}<br>Age=%{y}<extra></extra>",
         "legendgroup": "",
         "marker": {
          "color": "#636efa"
         },
         "name": "",
         "notched": false,
         "offsetgroup": "",
         "orientation": "v",
         "showlegend": false,
         "type": "box",
         "x": [
          "New York",
          "London",
          "Paris",
          "London",
          "New York"
         ],
         "x0": " ",
         "xaxis": "x",
         "y": [
          25,
          30,
          27,
          25,
          28
         ],
         "y0": " ",
         "yaxis": "y"
        }
       ],
       "layout": {
        "boxmode": "group",
        "legend": {
         "tracegroupgap": 0
        },
        "margin": {
         "t": 60
        },
        "template": {
         "data": {
          "bar": [
           {
            "error_x": {
             "color": "#2a3f5f"
            },
            "error_y": {
             "color": "#2a3f5f"
            },
            "marker": {
             "line": {
              "color": "#E5ECF6",
              "width": 0.5
             },
             "pattern": {
              "fillmode": "overlay",
              "size": 10,
              "solidity": 0.2
             }
            },
            "type": "bar"
           }
          ],
          "barpolar": [
           {
            "marker": {
             "line": {
              "color": "#E5ECF6",
              "width": 0.5
             },
             "pattern": {
              "fillmode": "overlay",
              "size": 10,
              "solidity": 0.2
             }
            },
            "type": "barpolar"
           }
          ],
          "carpet": [
           {
            "aaxis": {
             "endlinecolor": "#2a3f5f",
             "gridcolor": "white",
             "linecolor": "white",
             "minorgridcolor": "white",
             "startlinecolor": "#2a3f5f"
            },
            "baxis": {
             "endlinecolor": "#2a3f5f",
             "gridcolor": "white",
             "linecolor": "white",
             "minorgridcolor": "white",
             "startlinecolor": "#2a3f5f"
            },
            "type": "carpet"
           }
          ],
          "choropleth": [
           {
            "colorbar": {
             "outlinewidth": 0,
             "ticks": ""
            },
            "type": "choropleth"
           }
          ],
          "contour": [
           {
            "colorbar": {
             "outlinewidth": 0,
             "ticks": ""
            },
            "colorscale": [
             [
              0,
              "#0d0887"
             ],
             [
              0.1111111111111111,
              "#46039f"
             ],
             [
              0.2222222222222222,
              "#7201a8"
             ],
             [
              0.3333333333333333,
              "#9c179e"
             ],
             [
              0.4444444444444444,
              "#bd3786"
             ],
             [
              0.5555555555555556,
              "#d8576b"
             ],
             [
              0.6666666666666666,
              "#ed7953"
             ],
             [
              0.7777777777777778,
              "#fb9f3a"
             ],
             [
              0.8888888888888888,
              "#fdca26"
             ],
             [
              1,
              "#f0f921"
             ]
            ],
            "type": "contour"
           }
          ],
          "contourcarpet": [
           {
            "colorbar": {
             "outlinewidth": 0,
             "ticks": ""
            },
            "type": "contourcarpet"
           }
          ],
          "heatmap": [
           {
            "colorbar": {
             "outlinewidth": 0,
             "ticks": ""
            },
            "colorscale": [
             [
              0,
              "#0d0887"
             ],
             [
              0.1111111111111111,
              "#46039f"
             ],
             [
              0.2222222222222222,
              "#7201a8"
             ],
             [
              0.3333333333333333,
              "#9c179e"
             ],
             [
              0.4444444444444444,
              "#bd3786"
             ],
             [
              0.5555555555555556,
              "#d8576b"
             ],
             [
              0.6666666666666666,
              "#ed7953"
             ],
             [
              0.7777777777777778,
              "#fb9f3a"
             ],
             [
              0.8888888888888888,
              "#fdca26"
             ],
             [
              1,
              "#f0f921"
             ]
            ],
            "type": "heatmap"
           }
          ],
          "heatmapgl": [
           {
            "colorbar": {
             "outlinewidth": 0,
             "ticks": ""
            },
            "colorscale": [
             [
              0,
              "#0d0887"
             ],
             [
              0.1111111111111111,
              "#46039f"
             ],
             [
              0.2222222222222222,
              "#7201a8"
             ],
             [
              0.3333333333333333,
              "#9c179e"
             ],
             [
              0.4444444444444444,
              "#bd3786"
             ],
             [
              0.5555555555555556,
              "#d8576b"
             ],
             [
              0.6666666666666666,
              "#ed7953"
             ],
             [
              0.7777777777777778,
              "#fb9f3a"
             ],
             [
              0.8888888888888888,
              "#fdca26"
             ],
             [
              1,
              "#f0f921"
             ]
            ],
            "type": "heatmapgl"
           }
          ],
          "histogram": [
           {
            "marker": {
             "pattern": {
              "fillmode": "overlay",
              "size": 10,
              "solidity": 0.2
             }
            },
            "type": "histogram"
           }
          ],
          "histogram2d": [
           {
            "colorbar": {
             "outlinewidth": 0,
             "ticks": ""
            },
            "colorscale": [
             [
              0,
              "#0d0887"
             ],
             [
              0.1111111111111111,
              "#46039f"
             ],
             [
              0.2222222222222222,
              "#7201a8"
             ],
             [
              0.3333333333333333,
              "#9c179e"
             ],
             [
              0.4444444444444444,
              "#bd3786"
             ],
             [
              0.5555555555555556,
              "#d8576b"
             ],
             [
              0.6666666666666666,
              "#ed7953"
             ],
             [
              0.7777777777777778,
              "#fb9f3a"
             ],
             [
              0.8888888888888888,
              "#fdca26"
             ],
             [
              1,
              "#f0f921"
             ]
            ],
            "type": "histogram2d"
           }
          ],
          "histogram2dcontour": [
           {
            "colorbar": {
             "outlinewidth": 0,
             "ticks": ""
            },
            "colorscale": [
             [
              0,
              "#0d0887"
             ],
             [
              0.1111111111111111,
              "#46039f"
             ],
             [
              0.2222222222222222,
              "#7201a8"
             ],
             [
              0.3333333333333333,
              "#9c179e"
             ],
             [
              0.4444444444444444,
              "#bd3786"
             ],
             [
              0.5555555555555556,
              "#d8576b"
             ],
             [
              0.6666666666666666,
              "#ed7953"
             ],
             [
              0.7777777777777778,
              "#fb9f3a"
             ],
             [
              0.8888888888888888,
              "#fdca26"
             ],
             [
              1,
              "#f0f921"
             ]
            ],
            "type": "histogram2dcontour"
           }
          ],
          "mesh3d": [
           {
            "colorbar": {
             "outlinewidth": 0,
             "ticks": ""
            },
            "type": "mesh3d"
           }
          ],
          "parcoords": [
           {
            "line": {
             "colorbar": {
              "outlinewidth": 0,
              "ticks": ""
             }
            },
            "type": "parcoords"
           }
          ],
          "pie": [
           {
            "automargin": true,
            "type": "pie"
           }
          ],
          "scatter": [
           {
            "fillpattern": {
             "fillmode": "overlay",
             "size": 10,
             "solidity": 0.2
            },
            "type": "scatter"
           }
          ],
          "scatter3d": [
           {
            "line": {
             "colorbar": {
              "outlinewidth": 0,
              "ticks": ""
             }
            },
            "marker": {
             "colorbar": {
              "outlinewidth": 0,
              "ticks": ""
             }
            },
            "type": "scatter3d"
           }
          ],
          "scattercarpet": [
           {
            "marker": {
             "colorbar": {
              "outlinewidth": 0,
              "ticks": ""
             }
            },
            "type": "scattercarpet"
           }
          ],
          "scattergeo": [
           {
            "marker": {
             "colorbar": {
              "outlinewidth": 0,
              "ticks": ""
             }
            },
            "type": "scattergeo"
           }
          ],
          "scattergl": [
           {
            "marker": {
             "colorbar": {
              "outlinewidth": 0,
              "ticks": ""
             }
            },
            "type": "scattergl"
           }
          ],
          "scattermapbox": [
           {
            "marker": {
             "colorbar": {
              "outlinewidth": 0,
              "ticks": ""
             }
            },
            "type": "scattermapbox"
           }
          ],
          "scatterpolar": [
           {
            "marker": {
             "colorbar": {
              "outlinewidth": 0,
              "ticks": ""
             }
            },
            "type": "scatterpolar"
           }
          ],
          "scatterpolargl": [
           {
            "marker": {
             "colorbar": {
              "outlinewidth": 0,
              "ticks": ""
             }
            },
            "type": "scatterpolargl"
           }
          ],
          "scatterternary": [
           {
            "marker": {
             "colorbar": {
              "outlinewidth": 0,
              "ticks": ""
             }
            },
            "type": "scatterternary"
           }
          ],
          "surface": [
           {
            "colorbar": {
             "outlinewidth": 0,
             "ticks": ""
            },
            "colorscale": [
             [
              0,
              "#0d0887"
             ],
             [
              0.1111111111111111,
              "#46039f"
             ],
             [
              0.2222222222222222,
              "#7201a8"
             ],
             [
              0.3333333333333333,
              "#9c179e"
             ],
             [
              0.4444444444444444,
              "#bd3786"
             ],
             [
              0.5555555555555556,
              "#d8576b"
             ],
             [
              0.6666666666666666,
              "#ed7953"
             ],
             [
              0.7777777777777778,
              "#fb9f3a"
             ],
             [
              0.8888888888888888,
              "#fdca26"
             ],
             [
              1,
              "#f0f921"
             ]
            ],
            "type": "surface"
           }
          ],
          "table": [
           {
            "cells": {
             "fill": {
              "color": "#EBF0F8"
             },
             "line": {
              "color": "white"
             }
            },
            "header": {
             "fill": {
              "color": "#C8D4E3"
             },
             "line": {
              "color": "white"
             }
            },
            "type": "table"
           }
          ]
         },
         "layout": {
          "annotationdefaults": {
           "arrowcolor": "#2a3f5f",
           "arrowhead": 0,
           "arrowwidth": 1
          },
          "autotypenumbers": "strict",
          "coloraxis": {
           "colorbar": {
            "outlinewidth": 0,
            "ticks": ""
           }
          },
          "colorscale": {
           "diverging": [
            [
             0,
             "#8e0152"
            ],
            [
             0.1,
             "#c51b7d"
            ],
            [
             0.2,
             "#de77ae"
            ],
            [
             0.3,
             "#f1b6da"
            ],
            [
             0.4,
             "#fde0ef"
            ],
            [
             0.5,
             "#f7f7f7"
            ],
            [
             0.6,
             "#e6f5d0"
            ],
            [
             0.7,
             "#b8e186"
            ],
            [
             0.8,
             "#7fbc41"
            ],
            [
             0.9,
             "#4d9221"
            ],
            [
             1,
             "#276419"
            ]
           ],
           "sequential": [
            [
             0,
             "#0d0887"
            ],
            [
             0.1111111111111111,
             "#46039f"
            ],
            [
             0.2222222222222222,
             "#7201a8"
            ],
            [
             0.3333333333333333,
             "#9c179e"
            ],
            [
             0.4444444444444444,
             "#bd3786"
            ],
            [
             0.5555555555555556,
             "#d8576b"
            ],
            [
             0.6666666666666666,
             "#ed7953"
            ],
            [
             0.7777777777777778,
             "#fb9f3a"
            ],
            [
             0.8888888888888888,
             "#fdca26"
            ],
            [
             1,
             "#f0f921"
            ]
           ],
           "sequentialminus": [
            [
             0,
             "#0d0887"
            ],
            [
             0.1111111111111111,
             "#46039f"
            ],
            [
             0.2222222222222222,
             "#7201a8"
            ],
            [
             0.3333333333333333,
             "#9c179e"
            ],
            [
             0.4444444444444444,
             "#bd3786"
            ],
            [
             0.5555555555555556,
             "#d8576b"
            ],
            [
             0.6666666666666666,
             "#ed7953"
            ],
            [
             0.7777777777777778,
             "#fb9f3a"
            ],
            [
             0.8888888888888888,
             "#fdca26"
            ],
            [
             1,
             "#f0f921"
            ]
           ]
          },
          "colorway": [
           "#636efa",
           "#EF553B",
           "#00cc96",
           "#ab63fa",
           "#FFA15A",
           "#19d3f3",
           "#FF6692",
           "#B6E880",
           "#FF97FF",
           "#FECB52"
          ],
          "font": {
           "color": "#2a3f5f"
          },
          "geo": {
           "bgcolor": "white",
           "lakecolor": "white",
           "landcolor": "#E5ECF6",
           "showlakes": true,
           "showland": true,
           "subunitcolor": "white"
          },
          "hoverlabel": {
           "align": "left"
          },
          "hovermode": "closest",
          "mapbox": {
           "style": "light"
          },
          "paper_bgcolor": "white",
          "plot_bgcolor": "#E5ECF6",
          "polar": {
           "angularaxis": {
            "gridcolor": "white",
            "linecolor": "white",
            "ticks": ""
           },
           "bgcolor": "#E5ECF6",
           "radialaxis": {
            "gridcolor": "white",
            "linecolor": "white",
            "ticks": ""
           }
          },
          "scene": {
           "xaxis": {
            "backgroundcolor": "#E5ECF6",
            "gridcolor": "white",
            "gridwidth": 2,
            "linecolor": "white",
            "showbackground": true,
            "ticks": "",
            "zerolinecolor": "white"
           },
           "yaxis": {
            "backgroundcolor": "#E5ECF6",
            "gridcolor": "white",
            "gridwidth": 2,
            "linecolor": "white",
            "showbackground": true,
            "ticks": "",
            "zerolinecolor": "white"
           },
           "zaxis": {
            "backgroundcolor": "#E5ECF6",
            "gridcolor": "white",
            "gridwidth": 2,
            "linecolor": "white",
            "showbackground": true,
            "ticks": "",
            "zerolinecolor": "white"
           }
          },
          "shapedefaults": {
           "line": {
            "color": "#2a3f5f"
           }
          },
          "ternary": {
           "aaxis": {
            "gridcolor": "white",
            "linecolor": "white",
            "ticks": ""
           },
           "baxis": {
            "gridcolor": "white",
            "linecolor": "white",
            "ticks": ""
           },
           "bgcolor": "#E5ECF6",
           "caxis": {
            "gridcolor": "white",
            "linecolor": "white",
            "ticks": ""
           }
          },
          "title": {
           "x": 0.05
          },
          "xaxis": {
           "automargin": true,
           "gridcolor": "white",
           "linecolor": "white",
           "ticks": "",
           "title": {
            "standoff": 15
           },
           "zerolinecolor": "white",
           "zerolinewidth": 2
          },
          "yaxis": {
           "automargin": true,
           "gridcolor": "white",
           "linecolor": "white",
           "ticks": "",
           "title": {
            "standoff": 15
           },
           "zerolinecolor": "white",
           "zerolinewidth": 2
          }
         }
        },
        "xaxis": {
         "anchor": "y",
         "domain": [
          0,
          1
         ],
         "title": {
          "text": "City"
         }
        },
        "yaxis": {
         "anchor": "x",
         "domain": [
          0,
          1
         ],
         "title": {
          "text": "Age"
         }
        }
       }
      }
     },
     "metadata": {},
     "output_type": "display_data"
    }
   ],
   "source": [
    "import pandas as pd\n",
    "\n",
    "data_hits = {\n",
    "    'Guitar Groove': ['John', 'Alice', 'Bob', 'Alice', 'John'],\n",
    "    'Original Drum Groove': [25, 30, 27, 25, 28],\n",
    "    'Predicted Drum Groove': ['New York', 'London', 'Paris', 'London', 'New York']\n",
    "}\n",
    "\n",
    "df = pd.DataFrame(data_hits)\n",
    "df\n",
    "\n",
    "fig = px.box(df, x=\"City\", y=\"Age\")\n",
    "fig.show()"
   ]
  }
 ],
 "metadata": {
  "kernelspec": {
   "display_name": "GrooveTransformer",
   "language": "python",
   "name": "python3"
  },
  "language_info": {
   "codemirror_mode": {
    "name": "ipython",
    "version": 3
   },
   "file_extension": ".py",
   "mimetype": "text/x-python",
   "name": "python",
   "nbconvert_exporter": "python",
   "pygments_lexer": "ipython3",
   "version": "3.9.13"
  },
  "orig_nbformat": 4
 },
 "nbformat": 4,
 "nbformat_minor": 2
}
