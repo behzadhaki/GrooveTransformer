{
 "cells": [
  {
   "cell_type": "code",
   "execution_count": 1,
   "metadata": {},
   "outputs": [
    {
     "name": "stderr",
     "output_type": "stream",
     "text": [
      "Could not import fluidsynth. AUDIO rendering will not work.\n"
     ]
    },
    {
     "data": {
      "text/html": [
       "<style>\n",
       "        .bk-notebook-logo {\n",
       "            display: block;\n",
       "            width: 20px;\n",
       "            height: 20px;\n",
       "            background-image: url(data:image/png;base64,iVBORw0KGgoAAAANSUhEUgAAABQAAAAUCAYAAACNiR0NAAAABHNCSVQICAgIfAhkiAAAAAlwSFlzAAALEgAACxIB0t1+/AAAABx0RVh0U29mdHdhcmUAQWRvYmUgRmlyZXdvcmtzIENTNui8sowAAAOkSURBVDiNjZRtaJVlGMd/1/08zzln5zjP1LWcU9N0NkN8m2CYjpgQYQXqSs0I84OLIC0hkEKoPtiH3gmKoiJDU7QpLgoLjLIQCpEsNJ1vqUOdO7ppbuec5+V+rj4ctwzd8IIbbi6u+8f1539dt3A78eXC7QizUF7gyV1fD1Yqg4JWz84yffhm0qkFqBogB9rM8tZdtwVsPUhWhGcFJngGeWrPzHm5oaMmkfEg1usvLFyc8jLRqDOMru7AyC8saQr7GG7f5fvDeH7Ej8CM66nIF+8yngt6HWaKh7k49Soy9nXurCi1o3qUbS3zWfrYeQDTB/Qj6kX6Ybhw4B+bOYoLKCC9H3Nu/leUTZ1JdRWkkn2ldcCamzrcf47KKXdAJllSlxAOkRgyHsGC/zRday5Qld9DyoM4/q/rUoy/CXh3jzOu3bHUVZeU+DEn8FInkPBFlu3+nW3Nw0mk6vCDiWg8CeJaxEwuHS3+z5RgY+YBR6V1Z1nxSOfoaPa4LASWxxdNp+VWTk7+4vzaou8v8PN+xo+KY2xsw6une2frhw05CTYOmQvsEhjhWjn0bmXPjpE1+kplmmkP3suftwTubK9Vq22qKmrBhpY4jvd5afdRA3wGjFAgcnTK2s4hY0/GPNIb0nErGMCRxWOOX64Z8RAC4oCXdklmEvcL8o0BfkNK4lUg9HTl+oPlQxdNo3Mg4Nv175e/1LDGzZen30MEjRUtmXSfiTVu1kK8W4txyV6BMKlbgk3lMwYCiusNy9fVfvvwMxv8Ynl6vxoByANLTWplvuj/nF9m2+PDtt1eiHPBr1oIfhCChQMBw6Aw0UulqTKZdfVvfG7VcfIqLG9bcldL/+pdWTLxLUy8Qq38heUIjh4XlzZxzQm19lLFlr8vdQ97rjZVOLf8nclzckbcD4wxXMidpX30sFd37Fv/GtwwhzhxGVAprjbg0gCAEeIgwCZyTV2Z1REEW8O4py0wsjeloKoMr6iCY6dP92H6Vw/oTyICIthibxjm/DfN9lVz8IqtqKYLUXfoKVMVQVVJOElGjrnnUt9T9wbgp8AyYKaGlqingHZU/uG2NTZSVqwHQTWkx9hxjkpWDaCg6Ckj5qebgBVbT3V3NNXMSiWSDdGV3hrtzla7J+duwPOToIg42ChPQOQjspnSlp1V+Gjdged7+8UN5CRAV7a5EdFNwCjEaBR27b3W890TE7g24NAP/mMDXRWrGoFPQI9ls/MWO2dWFAar/xcOIImbbpA3zgAAAABJRU5ErkJggg==);\n",
       "        }\n",
       "    </style>\n",
       "    <div>\n",
       "        <a href=\"https://bokeh.org\" target=\"_blank\" class=\"bk-notebook-logo\"></a>\n",
       "        <span id=\"dedb905d-a4b2-4fc0-a7be-ad9da9409a04\">Loading BokehJS ...</span>\n",
       "    </div>\n"
      ]
     },
     "metadata": {},
     "output_type": "display_data"
    },
    {
     "data": {
      "application/javascript": "(function(root) {\n  function now() {\n    return new Date();\n  }\n\n  const force = true;\n\n  if (typeof root._bokeh_onload_callbacks === \"undefined\" || force === true) {\n    root._bokeh_onload_callbacks = [];\n    root._bokeh_is_loading = undefined;\n  }\n\nconst JS_MIME_TYPE = 'application/javascript';\n  const HTML_MIME_TYPE = 'text/html';\n  const EXEC_MIME_TYPE = 'application/vnd.bokehjs_exec.v0+json';\n  const CLASS_NAME = 'output_bokeh rendered_html';\n\n  /**\n   * Render data to the DOM node\n   */\n  function render(props, node) {\n    const script = document.createElement(\"script\");\n    node.appendChild(script);\n  }\n\n  /**\n   * Handle when an output is cleared or removed\n   */\n  function handleClearOutput(event, handle) {\n    const cell = handle.cell;\n\n    const id = cell.output_area._bokeh_element_id;\n    const server_id = cell.output_area._bokeh_server_id;\n    // Clean up Bokeh references\n    if (id != null && id in Bokeh.index) {\n      Bokeh.index[id].model.document.clear();\n      delete Bokeh.index[id];\n    }\n\n    if (server_id !== undefined) {\n      // Clean up Bokeh references\n      const cmd_clean = \"from bokeh.io.state import curstate; print(curstate().uuid_to_server['\" + server_id + \"'].get_sessions()[0].document.roots[0]._id)\";\n      cell.notebook.kernel.execute(cmd_clean, {\n        iopub: {\n          output: function(msg) {\n            const id = msg.content.text.trim();\n            if (id in Bokeh.index) {\n              Bokeh.index[id].model.document.clear();\n              delete Bokeh.index[id];\n            }\n          }\n        }\n      });\n      // Destroy server and session\n      const cmd_destroy = \"import bokeh.io.notebook as ion; ion.destroy_server('\" + server_id + \"')\";\n      cell.notebook.kernel.execute(cmd_destroy);\n    }\n  }\n\n  /**\n   * Handle when a new output is added\n   */\n  function handleAddOutput(event, handle) {\n    const output_area = handle.output_area;\n    const output = handle.output;\n\n    // limit handleAddOutput to display_data with EXEC_MIME_TYPE content only\n    if ((output.output_type != \"display_data\") || (!Object.prototype.hasOwnProperty.call(output.data, EXEC_MIME_TYPE))) {\n      return\n    }\n\n    const toinsert = output_area.element.find(\".\" + CLASS_NAME.split(' ')[0]);\n\n    if (output.metadata[EXEC_MIME_TYPE][\"id\"] !== undefined) {\n      toinsert[toinsert.length - 1].firstChild.textContent = output.data[JS_MIME_TYPE];\n      // store reference to embed id on output_area\n      output_area._bokeh_element_id = output.metadata[EXEC_MIME_TYPE][\"id\"];\n    }\n    if (output.metadata[EXEC_MIME_TYPE][\"server_id\"] !== undefined) {\n      const bk_div = document.createElement(\"div\");\n      bk_div.innerHTML = output.data[HTML_MIME_TYPE];\n      const script_attrs = bk_div.children[0].attributes;\n      for (let i = 0; i < script_attrs.length; i++) {\n        toinsert[toinsert.length - 1].firstChild.setAttribute(script_attrs[i].name, script_attrs[i].value);\n        toinsert[toinsert.length - 1].firstChild.textContent = bk_div.children[0].textContent\n      }\n      // store reference to server id on output_area\n      output_area._bokeh_server_id = output.metadata[EXEC_MIME_TYPE][\"server_id\"];\n    }\n  }\n\n  function register_renderer(events, OutputArea) {\n\n    function append_mime(data, metadata, element) {\n      // create a DOM node to render to\n      const toinsert = this.create_output_subarea(\n        metadata,\n        CLASS_NAME,\n        EXEC_MIME_TYPE\n      );\n      this.keyboard_manager.register_events(toinsert);\n      // Render to node\n      const props = {data: data, metadata: metadata[EXEC_MIME_TYPE]};\n      render(props, toinsert[toinsert.length - 1]);\n      element.append(toinsert);\n      return toinsert\n    }\n\n    /* Handle when an output is cleared or removed */\n    events.on('clear_output.CodeCell', handleClearOutput);\n    events.on('delete.Cell', handleClearOutput);\n\n    /* Handle when a new output is added */\n    events.on('output_added.OutputArea', handleAddOutput);\n\n    /**\n     * Register the mime type and append_mime function with output_area\n     */\n    OutputArea.prototype.register_mime_type(EXEC_MIME_TYPE, append_mime, {\n      /* Is output safe? */\n      safe: true,\n      /* Index of renderer in `output_area.display_order` */\n      index: 0\n    });\n  }\n\n  // register the mime type if in Jupyter Notebook environment and previously unregistered\n  if (root.Jupyter !== undefined) {\n    const events = require('base/js/events');\n    const OutputArea = require('notebook/js/outputarea').OutputArea;\n\n    if (OutputArea.prototype.mime_types().indexOf(EXEC_MIME_TYPE) == -1) {\n      register_renderer(events, OutputArea);\n    }\n  }\n  if (typeof (root._bokeh_timeout) === \"undefined\" || force === true) {\n    root._bokeh_timeout = Date.now() + 5000;\n    root._bokeh_failed_load = false;\n  }\n\n  const NB_LOAD_WARNING = {'data': {'text/html':\n     \"<div style='background-color: #fdd'>\\n\"+\n     \"<p>\\n\"+\n     \"BokehJS does not appear to have successfully loaded. If loading BokehJS from CDN, this \\n\"+\n     \"may be due to a slow or bad network connection. Possible fixes:\\n\"+\n     \"</p>\\n\"+\n     \"<ul>\\n\"+\n     \"<li>re-rerun `output_notebook()` to attempt to load from CDN again, or</li>\\n\"+\n     \"<li>use INLINE resources instead, as so:</li>\\n\"+\n     \"</ul>\\n\"+\n     \"<code>\\n\"+\n     \"from bokeh.resources import INLINE\\n\"+\n     \"output_notebook(resources=INLINE)\\n\"+\n     \"</code>\\n\"+\n     \"</div>\"}};\n\n  function display_loaded() {\n    const el = document.getElementById(\"dedb905d-a4b2-4fc0-a7be-ad9da9409a04\");\n    if (el != null) {\n      el.textContent = \"BokehJS is loading...\";\n    }\n    if (root.Bokeh !== undefined) {\n      if (el != null) {\n        el.textContent = \"BokehJS \" + root.Bokeh.version + \" successfully loaded.\";\n      }\n    } else if (Date.now() < root._bokeh_timeout) {\n      setTimeout(display_loaded, 100)\n    }\n  }\n\n  function run_callbacks() {\n    try {\n      root._bokeh_onload_callbacks.forEach(function(callback) {\n        if (callback != null)\n          callback();\n      });\n    } finally {\n      delete root._bokeh_onload_callbacks\n    }\n    console.debug(\"Bokeh: all callbacks have finished\");\n  }\n\n  function load_libs(css_urls, js_urls, callback) {\n    if (css_urls == null) css_urls = [];\n    if (js_urls == null) js_urls = [];\n\n    root._bokeh_onload_callbacks.push(callback);\n    if (root._bokeh_is_loading > 0) {\n      console.debug(\"Bokeh: BokehJS is being loaded, scheduling callback at\", now());\n      return null;\n    }\n    if (js_urls == null || js_urls.length === 0) {\n      run_callbacks();\n      return null;\n    }\n    console.debug(\"Bokeh: BokehJS not loaded, scheduling load and callback at\", now());\n    root._bokeh_is_loading = css_urls.length + js_urls.length;\n\n    function on_load() {\n      root._bokeh_is_loading--;\n      if (root._bokeh_is_loading === 0) {\n        console.debug(\"Bokeh: all BokehJS libraries/stylesheets loaded\");\n        run_callbacks()\n      }\n    }\n\n    function on_error(url) {\n      console.error(\"failed to load \" + url);\n    }\n\n    for (let i = 0; i < css_urls.length; i++) {\n      const url = css_urls[i];\n      const element = document.createElement(\"link\");\n      element.onload = on_load;\n      element.onerror = on_error.bind(null, url);\n      element.rel = \"stylesheet\";\n      element.type = \"text/css\";\n      element.href = url;\n      console.debug(\"Bokeh: injecting link tag for BokehJS stylesheet: \", url);\n      document.body.appendChild(element);\n    }\n\n    for (let i = 0; i < js_urls.length; i++) {\n      const url = js_urls[i];\n      const element = document.createElement('script');\n      element.onload = on_load;\n      element.onerror = on_error.bind(null, url);\n      element.async = false;\n      element.src = url;\n      console.debug(\"Bokeh: injecting script tag for BokehJS library: \", url);\n      document.head.appendChild(element);\n    }\n  };\n\n  function inject_raw_css(css) {\n    const element = document.createElement(\"style\");\n    element.appendChild(document.createTextNode(css));\n    document.body.appendChild(element);\n  }\n\n  const js_urls = [\"https://cdn.bokeh.org/bokeh/release/bokeh-3.1.1.min.js\", \"https://cdn.bokeh.org/bokeh/release/bokeh-gl-3.1.1.min.js\", \"https://cdn.bokeh.org/bokeh/release/bokeh-widgets-3.1.1.min.js\", \"https://cdn.bokeh.org/bokeh/release/bokeh-tables-3.1.1.min.js\", \"https://cdn.bokeh.org/bokeh/release/bokeh-mathjax-3.1.1.min.js\"];\n  const css_urls = [];\n\n  const inline_js = [    function(Bokeh) {\n      Bokeh.set_log_level(\"info\");\n    },\nfunction(Bokeh) {\n    }\n  ];\n\n  function run_inline_js() {\n    if (root.Bokeh !== undefined || force === true) {\n          for (let i = 0; i < inline_js.length; i++) {\n      inline_js[i].call(root, root.Bokeh);\n    }\nif (force === true) {\n        display_loaded();\n      }} else if (Date.now() < root._bokeh_timeout) {\n      setTimeout(run_inline_js, 100);\n    } else if (!root._bokeh_failed_load) {\n      console.log(\"Bokeh: BokehJS failed to load within specified timeout.\");\n      root._bokeh_failed_load = true;\n    } else if (force !== true) {\n      const cell = $(document.getElementById(\"dedb905d-a4b2-4fc0-a7be-ad9da9409a04\")).parents('.cell').data().cell;\n      cell.output_area.append_execute_result(NB_LOAD_WARNING)\n    }\n  }\n\n  if (root._bokeh_is_loading === 0) {\n    console.debug(\"Bokeh: BokehJS loaded, going straight to plotting\");\n    run_inline_js();\n  } else {\n    load_libs(css_urls, js_urls, function() {\n      console.debug(\"Bokeh: BokehJS plotting callback run at\", now());\n      run_inline_js();\n    });\n  }\n}(window));",
      "application/vnd.bokehjs_load.v0+json": ""
     },
     "metadata": {},
     "output_type": "display_data"
    }
   ],
   "source": [
    "from hvo_sequence import midi_to_hvo_sequence\n",
    "from hvo_sequence import ROLAND_REDUCED_MAPPING\n",
    "GROOVE_MAPPING = {f'groove': [x for x in range(128)]}\n",
    "\n",
    "import pandas as pd\n",
    "import os\n",
    "import numpy as np\n",
    "import json\n",
    "\n",
    "from bokeh.io import output_notebook, reset_output, show, save\n",
    "\n",
    "try:\n",
    "    reset_output()\n",
    "    output_notebook()\n",
    "except:\n",
    "    output_notebook()"
   ]
  },
  {
   "cell_type": "code",
   "execution_count": 2,
   "metadata": {},
   "outputs": [
    {
     "name": "stdout",
     "output_type": "stream",
     "text": [
      "11462\n"
     ]
    }
   ],
   "source": [
    "# Collecting desired tracks\n",
    "#   - Has genre\n",
    "#   - Contains Guitar and Drums\n",
    "#   - Constant 4/4 Time Signature\n",
    "\n",
    "dataset_genre_drums = 'F:/Nil/Instrument2Groove2Drum/data/lmd_separated/has_genre/has_drums/'\n",
    "\n",
    "print(len(os.listdir(dataset_genre_drums)))"
   ]
  },
  {
   "cell_type": "code",
   "execution_count": 3,
   "metadata": {},
   "outputs": [],
   "source": [
    "genre_annotation_json = 'F:/Nil/Instrument2Groove2Drum/data/lmd_matched_genre.json'\n",
    "\n",
    "genre_annotation_no_duplicates = pd.read_json(genre_annotation_json).drop_duplicates(subset=['trackId'], keep='first').set_index('filename')"
   ]
  },
  {
   "cell_type": "code",
   "execution_count": 4,
   "metadata": {},
   "outputs": [],
   "source": [
    "file_paths = {}\n",
    "\n",
    "for root, dirs, files in os.walk(dataset_genre_drums):\n",
    "    lakh_id = os.path.basename(root)\n",
    "    if lakh_id in genre_annotation_no_duplicates.index:\n",
    "        md = pd.read_csv(os.path.join(root, f\"{lakh_id}.csv\"))\n",
    "        if (md.iloc[:, -2:] == 4).all().all():\n",
    "            genre = genre_annotation_no_duplicates.loc[lakh_id]['genre']\n",
    "            drums = None # Single file containing _[Drums]_\n",
    "            guitars = [] # List of _[Guitar X]_ files\n",
    "            for file in files:\n",
    "                if \"_[Drums]_\" in file:\n",
    "                    drums = os.path.join(root, file)\n",
    "                elif \"_[Guitar\" in file:\n",
    "                    guitars.append(os.path.join(root, file))\n",
    "            if drums is not None and len(guitars):\n",
    "                file_paths[lakh_id.replace(\".mid\", \"\")] = (drums, guitars, genre)"
   ]
  },
  {
   "cell_type": "code",
   "execution_count": 5,
   "metadata": {},
   "outputs": [
    {
     "data": {
      "text/plain": [
       "2746"
      ]
     },
     "execution_count": 5,
     "metadata": {},
     "output_type": "execute_result"
    }
   ],
   "source": [
    "len(file_paths)"
   ]
  },
  {
   "cell_type": "code",
   "execution_count": 6,
   "metadata": {},
   "outputs": [],
   "source": [
    "def merge_hvo_sequences(hvo_sequences):\n",
    "    assert all(hvo_seq.hvo.shape == hvo_sequences[0].hvo.shape for hvo_seq in hvo_sequences)\n",
    "\n",
    "    shape = hvo_sequences[0].hvo.shape\n",
    "    merged_arr = np.zeros_like(hvo_sequences[0].hvo)\n",
    "\n",
    "    for i in range(shape[0]):\n",
    "        max_val = -np.inf\n",
    "        max_row = None\n",
    "        for hvo_seq in hvo_sequences:\n",
    "            if hvo_seq.hvo[i, 1] > max_val:\n",
    "                max_val = hvo_seq.hvo[i, 1]\n",
    "                max_row = hvo_seq.hvo[i, :]\n",
    "        merged_arr[i, :] = max_row\n",
    "\n",
    "    return merged_arr"
   ]
  },
  {
   "cell_type": "code",
   "execution_count": null,
   "metadata": {},
   "outputs": [],
   "source": [
    "training_data = {}\n",
    "\n",
    "inputs = []\n",
    "outputs = []\n",
    "filenames = []\n",
    "genres = []\n",
    "\n",
    "max_iter = 4\n",
    "\n",
    "for lakh_id, values in file_paths.items():\n",
    "    drum_path, guitar_paths, genre = values\n",
    "\n",
    "    _2bar_hvo_seqs_drums = []\n",
    "    _2bar_hvo_seqs_drum_grooves = []\n",
    "    _2bar_hvo_seqs_guitar_grooves = []\n",
    "\n",
    "    common_md = {\n",
    "            'genre': genre,\n",
    "            'lakh_id': lakh_id\n",
    "        }\n",
    "\n",
    "    # Drum HVO\n",
    "    drum_hvo = midi_to_hvo_sequence(filename=drum_path, drum_mapping=ROLAND_REDUCED_MAPPING, beat_division_factors=[4])\n",
    "    drum_hvo.metadata['instrument'] = 'drums'\n",
    "    drum_hvo.metadata['midi_path'] = drum_path\n",
    "    drum_hvo.metadata.update(common_md)\n",
    "    # Adjusting lenght to be multiple of 16\n",
    "    drum_n_bars = drum_hvo.number_of_steps / 16\n",
    "    drum_hvo.adjust_length(int(np.round(drum_n_bars) * 16))\n",
    "\n",
    "    # Drum Groove HVO\n",
    "    drum_groove_hvo = midi_to_hvo_sequence(filename=drum_path, drum_mapping=GROOVE_MAPPING, beat_division_factors=[4])\n",
    "    drum_groove_hvo.metadata['instrument'] = 'drums'\n",
    "    drum_groove_hvo.metadata['midi_path'] = drum_path\n",
    "    drum_groove_hvo.metadata.update(common_md)\n",
    "    # Adjusting lenght to be multiple of 16\n",
    "    drum_groove_hvo.adjust_length(int(np.round(drum_n_bars) * 16))\n",
    "\n",
    "    # Guitar Grooves HVOs \n",
    "    all_guitar_grooves_hvo = []\n",
    "    for guitar_path in guitar_paths:\n",
    "        guitar_groove_hvo = midi_to_hvo_sequence(filename=guitar_path, drum_mapping=GROOVE_MAPPING, beat_division_factors=[4])\n",
    "        guitar_groove_hvo.metadata['instrument'] = 'guitar'\n",
    "        guitar_groove_hvo.metadata['midi_path'] = guitar_path # Irrelevant\n",
    "        guitar_groove_hvo.metadata.update(common_md)\n",
    "        # Adjusting lenght to be multiple of 16\n",
    "        guitar_groove_hvo.adjust_length(int(np.round(drum_n_bars) * 16))\n",
    "        all_guitar_grooves_hvo.append(guitar_groove_hvo)\n",
    "\n",
    "\n",
    "    # Splitting into 2 bar segments\n",
    "    for w_start in range(int(drum_n_bars)-1):\n",
    "        start_step = int(w_start * 16)\n",
    "        end_step = start_step + 32\n",
    "        \n",
    "        # Drum HVOs\n",
    "        seg_drum_hvo_seq = drum_hvo.copy_empty()\n",
    "        seg_drum_hvo_seq.hvo = drum_hvo.hvo[start_step:end_step]\n",
    "        _2bar_hvo_seqs_drums.append(seg_drum_hvo_seq)\n",
    "\n",
    "        # Drum Grooves HVOs\n",
    "        seg_drum_groove_hvo_seq = drum_groove_hvo.copy_empty()\n",
    "        seg_drum_groove_hvo_seq.hvo = drum_groove_hvo.hvo[start_step:end_step]\n",
    "        _2bar_hvo_seqs_drum_grooves.append(seg_drum_groove_hvo_seq)\n",
    "\n",
    "        # Guitar Grooves HVOs\n",
    "        all_seq_guitar_hvo_seqs = []\n",
    "        for guitar_groove_hvo in all_guitar_grooves_hvo:\n",
    "            seg_guitar_hvo_seq = guitar_groove_hvo.copy_empty()\n",
    "            seg_guitar_hvo_seq.hvo = guitar_groove_hvo.hvo[start_step:end_step]\n",
    "            all_seq_guitar_hvo_seqs.append(seg_guitar_hvo_seq)\n",
    "        # Merging guitar sequences into a single HVO\n",
    "        seg_guitar_hvo_seq = all_seq_guitar_hvo_seqs[0].copy_empty()\n",
    "        seg_guitar_hvo_seq.hvo = merge_hvo_sequences(all_seq_guitar_hvo_seqs)\n",
    "        _2bar_hvo_seqs_guitar_grooves.append(seg_guitar_hvo_seq)\n",
    "\n",
    "    training_data.update({\n",
    "        lakh_id: {\n",
    "            \"drum_score\": _2bar_hvo_seqs_drums,\n",
    "            \"drum_groove\": _2bar_hvo_seqs_drum_grooves,\n",
    "            \"guitar_groove\": _2bar_hvo_seqs_guitar_grooves\n",
    "        }\n",
    "    })\n",
    "\n",
    "    for i in range(len(_2bar_hvo_seqs_drums)):\n",
    "        inputs.append(_2bar_hvo_seqs_guitar_grooves[i].hvo)\n",
    "        outputs.append(_2bar_hvo_seqs_drum_grooves[i].hvo)\n",
    "        filenames.append(lakh_id)\n",
    "        genres.append(genre)"
   ]
  }
 ],
 "metadata": {
  "kernelspec": {
   "display_name": "GrooveTransformer",
   "language": "python",
   "name": "python3"
  },
  "language_info": {
   "codemirror_mode": {
    "name": "ipython",
    "version": 3
   },
   "file_extension": ".py",
   "mimetype": "text/x-python",
   "name": "python",
   "nbconvert_exporter": "python",
   "pygments_lexer": "ipython3",
   "version": "3.9.13"
  },
  "orig_nbformat": 4
 },
 "nbformat": 4,
 "nbformat_minor": 2
}
