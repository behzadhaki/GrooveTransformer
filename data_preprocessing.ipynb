{
 "cells": [
  {
   "cell_type": "code",
   "execution_count": 3,
   "metadata": {},
   "outputs": [],
   "source": [
    "from hvo_sequence import midi_to_hvo_sequence\n",
    "from hvo_sequence import ROLAND_REDUCED_MAPPING\n",
    "GROOVE_MAPPING = {f'groove': [x for x in range(128)]}\n",
    "\n",
    "import pandas as pd\n",
    "from tqdm import tqdm\n",
    "import os\n",
    "import numpy as np\n",
    "import pickle\n",
    "import bz2\n",
    "from sklearn.model_selection import train_test_split"
   ]
  },
  {
   "cell_type": "code",
   "execution_count": 2,
   "metadata": {},
   "outputs": [
    {
     "name": "stdout",
     "output_type": "stream",
     "text": [
      "11462\n"
     ]
    }
   ],
   "source": [
    "# Collecting desired tracks\n",
    "#   - Has genre\n",
    "#   - Contains Guitar and Drums\n",
    "#   - Constant 4/4 Time Signature\n",
    "\n",
    "dataset_genre_drums_path = 'F:/Nil/Instrument2Groove2Drum/data/lmd_separated/has_genre/has_drums/'\n",
    "\n",
    "print(len(os.listdir(dataset_genre_drums_path)))"
   ]
  },
  {
   "cell_type": "code",
   "execution_count": 3,
   "metadata": {},
   "outputs": [],
   "source": [
    "genre_annotation_json_path = 'F:/Nil/Instrument2Groove2Drum/data/lmd_matched_genre.json'\n",
    "\n",
    "genre_annotation_no_duplicates = pd.read_json(genre_annotation_json_path).drop_duplicates(subset=['trackId'], keep='first').set_index('filename')"
   ]
  },
  {
   "cell_type": "code",
   "execution_count": 4,
   "metadata": {},
   "outputs": [],
   "source": [
    "file_paths = {}\n",
    "\n",
    "for root, dirs, files in os.walk(dataset_genre_drums_path):\n",
    "    lakh_id = os.path.basename(root)\n",
    "    if lakh_id in genre_annotation_no_duplicates.index:\n",
    "        md = pd.read_csv(os.path.join(root, f\"{lakh_id}.csv\"))\n",
    "        if (md.iloc[:, -2:] == 4).all().all():\n",
    "            genre = genre_annotation_no_duplicates.loc[lakh_id]['genre']\n",
    "            drums = None # Single file containing _[Drums]_\n",
    "            guitars = [] # List of _[Guitar X]_ files\n",
    "            for file in files:\n",
    "                if \"_[Drums]_\" in file:\n",
    "                    drums = os.path.join(root, file)\n",
    "                elif \"_[Guitar\" in file:\n",
    "                    guitars.append(os.path.join(root, file))\n",
    "            if drums is not None and len(guitars):\n",
    "                file_paths[lakh_id.replace(\".mid\", \"\")] = (drums, guitars, genre)"
   ]
  },
  {
   "cell_type": "code",
   "execution_count": 5,
   "metadata": {},
   "outputs": [
    {
     "data": {
      "text/plain": [
       "2746"
      ]
     },
     "execution_count": 5,
     "metadata": {},
     "output_type": "execute_result"
    }
   ],
   "source": [
    "len(file_paths)"
   ]
  },
  {
   "cell_type": "code",
   "execution_count": 6,
   "metadata": {},
   "outputs": [],
   "source": [
    "def merge_hvo_sequences(hvo_sequences):\n",
    "    assert all(hvo_seq.hvo.shape == hvo_sequences[0].hvo.shape for hvo_seq in hvo_sequences)\n",
    "\n",
    "    shape = hvo_sequences[0].hvo.shape\n",
    "    merged_arr = np.zeros_like(hvo_sequences[0].hvo)\n",
    "\n",
    "    for i in range(shape[0]):\n",
    "        max_val = -np.inf\n",
    "        max_row = None\n",
    "        for hvo_seq in hvo_sequences:\n",
    "            if hvo_seq.hvo[i, 1] > max_val:\n",
    "                max_val = hvo_seq.hvo[i, 1]\n",
    "                max_row = hvo_seq.hvo[i, :]\n",
    "        merged_arr[i, :] = max_row\n",
    "\n",
    "    return merged_arr"
   ]
  },
  {
   "cell_type": "code",
   "execution_count": 7,
   "metadata": {},
   "outputs": [
    {
     "name": "stderr",
     "output_type": "stream",
     "text": [
      "100%|██████████| 2746/2746 [2:50:01<00:00,  3.71s/it]    \n"
     ]
    }
   ],
   "source": [
    "training_data = {}\n",
    "\n",
    "inputs = []\n",
    "outputs = []\n",
    "filenames = []\n",
    "genres = []\n",
    "inputs_hvo_seqs = []\n",
    "outputs_hvo_seqs = []\n",
    "\n",
    "for lakh_id, values in tqdm(file_paths.items()):\n",
    "    drum_path, guitar_paths, genre = values\n",
    "\n",
    "    _2bar_hvo_seqs_drums = []\n",
    "    _2bar_hvo_seqs_drum_grooves = []\n",
    "    _2bar_hvo_seqs_guitar_grooves = []\n",
    "\n",
    "    common_md = {\n",
    "            'style_primary': genre,\n",
    "            'lakh_id': lakh_id\n",
    "    }\n",
    "\n",
    "    # Drum HVO\n",
    "    drum_hvo = midi_to_hvo_sequence(filename=drum_path, drum_mapping=ROLAND_REDUCED_MAPPING, beat_division_factors=[4])\n",
    "    drum_hvo.metadata['instrument'] = 'drums'\n",
    "    drum_hvo.metadata['midi_path'] = drum_path\n",
    "    drum_hvo.metadata.update(common_md)\n",
    "    # Adjusting lenght to be multiple of 16\n",
    "    drum_n_bars = drum_hvo.number_of_steps / 16\n",
    "    drum_hvo.adjust_length(int(np.round(drum_n_bars) * 16))\n",
    "\n",
    "    # Drum Groove HVO\n",
    "    drum_groove_hvo = midi_to_hvo_sequence(filename=drum_path, drum_mapping=GROOVE_MAPPING, beat_division_factors=[4])\n",
    "    drum_groove_hvo.metadata['instrument'] = 'drums'\n",
    "    drum_groove_hvo.metadata['midi_path'] = drum_path\n",
    "    drum_groove_hvo.metadata.update(common_md)\n",
    "    # Adjusting lenght to be multiple of 16\n",
    "    drum_groove_hvo.adjust_length(int(np.round(drum_n_bars) * 16))\n",
    "\n",
    "    # Guitar Grooves HVOs \n",
    "    all_guitar_grooves_hvo = []\n",
    "    for guitar_path in guitar_paths:\n",
    "        guitar_groove_hvo = midi_to_hvo_sequence(filename=guitar_path, drum_mapping=GROOVE_MAPPING, beat_division_factors=[4])\n",
    "        guitar_groove_hvo.metadata['instrument'] = 'guitar'\n",
    "        guitar_groove_hvo.metadata.update(common_md)\n",
    "        # Adjusting lenght to be multiple of 16\n",
    "        guitar_groove_hvo.adjust_length(int(np.round(drum_n_bars) * 16))\n",
    "        all_guitar_grooves_hvo.append(guitar_groove_hvo)\n",
    "\n",
    "\n",
    "    # Splitting into 2 bar segments\n",
    "    for w_start in range(int(drum_n_bars)-1):\n",
    "        start_step = int(w_start * 16)\n",
    "        end_step = start_step + 32\n",
    "        \n",
    "        # Drum HVOs\n",
    "        seg_drum_hvo_seq = drum_hvo.copy_empty()\n",
    "        seg_drum_hvo_seq.hvo = drum_hvo.hvo[start_step:end_step]\n",
    "\n",
    "        # Drum Grooves HVOs\n",
    "        seg_drum_groove_hvo_seq = drum_groove_hvo.copy_empty()\n",
    "        seg_drum_groove_hvo_seq.hvo = drum_groove_hvo.hvo[start_step:end_step]\n",
    "\n",
    "        # Guitar Grooves HVOs\n",
    "        all_seq_guitar_hvo_seqs = []\n",
    "        for guitar_groove_hvo in all_guitar_grooves_hvo:\n",
    "            seg_guitar_groove_hvo_seq = guitar_groove_hvo.copy_empty()\n",
    "            seg_guitar_groove_hvo_seq.hvo = guitar_groove_hvo.hvo[start_step:end_step]\n",
    "            all_seq_guitar_hvo_seqs.append(seg_guitar_groove_hvo_seq)\n",
    "        # Merging guitar sequences into a single HVO\n",
    "        seg_guitar_groove_hvo_seq = all_seq_guitar_hvo_seqs[0].copy_empty()\n",
    "        seg_guitar_groove_hvo_seq.hvo = merge_hvo_sequences(all_seq_guitar_hvo_seqs)\n",
    "\n",
    "        if np.any(seg_guitar_groove_hvo_seq.hits) and np.any(seg_drum_groove_hvo_seq.hits):\n",
    "            _2bar_hvo_seqs_drums.append(seg_drum_hvo_seq)\n",
    "            _2bar_hvo_seqs_drum_grooves.append(seg_drum_groove_hvo_seq)\n",
    "            _2bar_hvo_seqs_guitar_grooves.append(seg_guitar_groove_hvo_seq)\n",
    "\n",
    "    # Appending data into corresponding lists\n",
    "    for i in range(len(_2bar_hvo_seqs_drums)):\n",
    "        inputs.append(_2bar_hvo_seqs_guitar_grooves[i].hvo)\n",
    "        inputs_hvo_seqs.append(_2bar_hvo_seqs_guitar_grooves[i])\n",
    "        outputs.append(_2bar_hvo_seqs_drum_grooves[i].hvo)\n",
    "        outputs_hvo_seqs.append(_2bar_hvo_seqs_drum_grooves[i])\n",
    "        filenames.append(lakh_id)\n",
    "        genres.append(genre)\n"
   ]
  },
  {
   "cell_type": "code",
   "execution_count": 1,
   "metadata": {},
   "outputs": [
    {
     "ename": "NameError",
     "evalue": "name 'inputs' is not defined",
     "output_type": "error",
     "traceback": [
      "\u001b[1;31m---------------------------------------------------------------------------\u001b[0m",
      "\u001b[1;31mNameError\u001b[0m                                 Traceback (most recent call last)",
      "Cell \u001b[1;32mIn[1], line 1\u001b[0m\n\u001b[1;32m----> 1\u001b[0m \u001b[39mlen\u001b[39m(inputs)\n",
      "\u001b[1;31mNameError\u001b[0m: name 'inputs' is not defined"
     ]
    }
   ],
   "source": [
    "len(inputs)"
   ]
  },
  {
   "cell_type": "code",
   "execution_count": 8,
   "metadata": {},
   "outputs": [],
   "source": [
    "# Separation of the data into 80% train - 20% test.\n",
    "\n",
    "assert len(inputs) == len(outputs) == len(genres) == len(inputs_hvo_seqs) == len(outputs_hvo_seqs)\n",
    "\n",
    "indexes = list(range(len(inputs)))\n",
    "\n",
    "train_indexes, test_indexes = train_test_split(indexes, test_size=0.2, random_state=42)"
   ]
  },
  {
   "cell_type": "code",
   "execution_count": 17,
   "metadata": {},
   "outputs": [
    {
     "name": "stdout",
     "output_type": "stream",
     "text": [
      "Total number of samples (2bar sequences): 235186\n",
      "Number of train samples: 188148\n",
      "Number of test samples: 47038\n"
     ]
    }
   ],
   "source": [
    "print(f\"Total number of samples (2bar sequences): {len(indexes)}\")\n",
    "print(f\"Number of train samples: {len(train_indexes)}\")\n",
    "print(f\"Number of test samples: {len(test_indexes)}\")"
   ]
  },
  {
   "cell_type": "code",
   "execution_count": 9,
   "metadata": {},
   "outputs": [],
   "source": [
    "data = {\n",
    "    \"train\": {\n",
    "        \"inputs\": [inputs[i] for i in train_indexes],\n",
    "        \"outputs\": [outputs[i] for i in train_indexes],\n",
    "        \"outputs_hvo_seqs\": [outputs_hvo_seqs[i] for i in train_indexes],\n",
    "        \"filenames\": [filenames[i] for i in train_indexes],\n",
    "        \"style_primary\": [genres[i] for i in train_indexes]\n",
    "    },\n",
    "    \"test\": {\n",
    "        \"inputs\": [inputs[i] for i in test_indexes],\n",
    "        \"outputs\": [outputs[i] for i in test_indexes],\n",
    "        \"outputs_hvo_seqs\": [outputs_hvo_seqs[i] for i in test_indexes],\n",
    "        \"filenames\": [filenames[i] for i in test_indexes],\n",
    "        \"style_primary\": [genres[i] for i in test_indexes]\n",
    "    },\n",
    "}"
   ]
  },
  {
   "cell_type": "code",
   "execution_count": 12,
   "metadata": {},
   "outputs": [],
   "source": [
    "preprocessed_data_path = 'data/i2dgd/preprocessed_data.bz2pickle'\n",
    "with bz2.BZ2File(preprocessed_data_path, 'wb') as file:\n",
    "    pickle.dump(data, file)"
   ]
  },
  {
   "cell_type": "code",
   "execution_count": 4,
   "metadata": {},
   "outputs": [],
   "source": [
    "preprocessed_data_path = 'data/i2dgd/preprocessed_data.bz2pickle'\n",
    "with bz2.BZ2File(preprocessed_data_path, 'rb') as file:\n",
    "    new_data = pickle.load(file)"
   ]
  },
  {
   "cell_type": "code",
   "execution_count": 13,
   "metadata": {},
   "outputs": [
    {
     "data": {
      "text/plain": [
       "{'instrument': 'drums',\n",
       " 'midi_path': 'F:/Nil/Instrument2Groove2Drum/data/lmd_separated/has_genre/has_drums/66536dc07ecb2dac3fdf287f64acfe1e.mid\\\\[]_[Drums]_[tqF]_[vqF].mid',\n",
       " 'genre': 'Rock',\n",
       " 'lakh_id': '66536dc07ecb2dac3fdf287f64acfe1e'}"
      ]
     },
     "execution_count": 13,
     "metadata": {},
     "output_type": "execute_result"
    }
   ],
   "source": [
    "sq = new_data[\"train\"][\"outputs_hvo_seqs\"][0]\n",
    "sq.metadata"
   ]
  }
 ],
 "metadata": {
  "kernelspec": {
   "display_name": "GrooveTransformer",
   "language": "python",
   "name": "python3"
  },
  "language_info": {
   "codemirror_mode": {
    "name": "ipython",
    "version": 3
   },
   "file_extension": ".py",
   "mimetype": "text/x-python",
   "name": "python",
   "nbconvert_exporter": "python",
   "pygments_lexer": "ipython3",
   "version": "3.9.13"
  },
  "orig_nbformat": 4
 },
 "nbformat": 4,
 "nbformat_minor": 2
}
