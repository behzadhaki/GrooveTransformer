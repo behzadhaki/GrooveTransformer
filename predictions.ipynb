{
 "cells": [
  {
   "cell_type": "code",
   "execution_count": null,
   "metadata": {},
   "outputs": [],
   "source": [
    "import torch\n",
    "import os\n",
    "from helpers.VAE.modelLoader import load_variational_mgt_model\n",
    "import IPython.display as ipd\n",
    "# import sys\n",
    "import pickle\n",
    "import bz2\n",
    "import plotly.express as px\n",
    "import plotly.graph_objects as go\n",
    "\n",
    "from hvo_sequence.hvo_seq import HVO_Sequence\n",
    "from hvo_sequence.drum_mappings import ROLAND_REDUCED_MAPPING\n",
    "\n",
    "import numpy as np\n",
    "import pandas as pd\n",
    "\n",
    "from bokeh.io import output_notebook\n",
    "output_notebook() "
   ]
  },
  {
   "cell_type": "code",
   "execution_count": null,
   "metadata": {},
   "outputs": [],
   "source": [
    "def plot(hvo_seq_sample):\n",
    "  \"\"\" Plots the piano roll of the sequence stored in the hvo_sequence object\n",
    "  \"\"\"\n",
    "  hvo_seq_sample.piano_roll(show_figure=True)"
   ]
  },
  {
   "cell_type": "code",
   "execution_count": null,
   "metadata": {},
   "outputs": [],
   "source": [
    "with bz2.BZ2File('data/i2dgd/guitar2drum.bz2pickle', 'rb') as file:\n",
    "    data = pickle.load(file)"
   ]
  },
  {
   "cell_type": "code",
   "execution_count": null,
   "metadata": {},
   "outputs": [],
   "source": [
    "inputs = data['test']['inputs']\n",
    "outputs = data['test']['outputs']\n",
    "outputs_hvos = data['test']['outputs_hvo_seqs']"
   ]
  },
  {
   "cell_type": "code",
   "execution_count": null,
   "metadata": {},
   "outputs": [],
   "source": [
    "with bz2.BZ2File('models/predictions.bz2pickle', 'rb') as file:\n",
    "    predictions = pickle.load(file)"
   ]
  },
  {
   "cell_type": "code",
   "execution_count": null,
   "metadata": {},
   "outputs": [],
   "source": [
    "from random import randint\n",
    "\n",
    "idx = randint(0, len(outputs_hvos)-1)\n",
    "\n",
    "input_hvo = outputs_hvos[idx].copy_zero()\n",
    "input_hvo.hvo = inputs[idx]\n",
    "\n",
    "output_hvo = outputs_hvos[idx]\n",
    "\n",
    "pred1_hvo = outputs_hvos[idx].copy_zero()\n",
    "pred2_hvo = outputs_hvos[idx].copy_zero()\n",
    "pred1_hvo.hvo = predictions['Model 5'][idx]\n",
    "pred2_hvo.hvo = predictions['Model 8'][idx]\n",
    "\n",
    "concatenation = input_hvo + output_hvo + pred1_hvo + pred2_hvo\n",
    "\n",
    "plot(input_hvo)\n",
    "plot(output_hvo)\n",
    "plot(pred1_hvo)\n",
    "plot(pred2_hvo)"
   ]
  },
  {
   "cell_type": "code",
   "execution_count": null,
   "metadata": {},
   "outputs": [],
   "source": [
    "from hvo_sequence import midi_to_hvo_sequence\n",
    "audio = pred1_hvo.synthesize()"
   ]
  }
 ],
 "metadata": {
  "kernelspec": {
   "display_name": "Python 3",
   "language": "python",
   "name": "python3"
  },
  "language_info": {
   "codemirror_mode": {
    "name": "ipython",
    "version": 3
   },
   "file_extension": ".py",
   "mimetype": "text/x-python",
   "name": "python",
   "nbconvert_exporter": "python",
   "pygments_lexer": "ipython3",
   "version": "3.10.11"
  },
  "orig_nbformat": 4
 },
 "nbformat": 4,
 "nbformat_minor": 2
}
