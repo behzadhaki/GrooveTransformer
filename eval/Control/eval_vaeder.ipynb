{
 "cells": [
  {
   "cell_type": "code",
   "execution_count": null,
   "metadata": {
    "is_executing": true,
    "ExecuteTime": {
     "start_time": "2023-08-09T23:09:53.754152Z"
    }
   },
   "outputs": [],
   "source": [
    "import matplotlib\n",
    "import matplotlib.pyplot as plt\n",
    "import torch\n",
    "import os\n",
    "import wandb\n",
    "import numpy as np\n",
    "import json\n",
    "\n",
    "\n",
    "from data.src.dataLoaders import GrooveDataSet_Control\n",
    "from model import GrooveControl_VAE\n",
    "from eval_vaeder_tools import *"
   ]
  },
  {
   "cell_type": "code",
   "execution_count": null,
   "metadata": {
    "is_executing": true,
    "ExecuteTime": {
     "start_time": "2023-08-09T23:10:02.855072Z"
    }
   },
   "outputs": [],
   "source": [
    "DATASET_JSON_PATH = \"../../data/dataset_json_settings/4_4_BeatsAndFills_gmd.json\"\n",
    "WANDB_PATH = \"mmil_julian/ControlAdversarial/\"\n",
    "MODELS_DICT = {\"revived_3_epoch_490\": \"490:v2\"}\n",
    "GENRE_JSON_PATH = \"../../data/control/gmd_genre_dict.json\"\n",
    "GEN_UMAPS = True\n",
    "GEN_MIDI = True\n",
    "GEN_EVALS = True\n",
    "SERIALIZE_WHOLE_MODEL = True\n",
    "SERIALIZE_MODEL_COMPONENTS = False\n",
    "\n",
    "DOWNSAMPLE = 0.1\n",
    "\n",
    "print(MODELS_DICT)"
   ]
  },
  {
   "cell_type": "code",
   "execution_count": null,
   "metadata": {
    "is_executing": true,
    "ExecuteTime": {
     "start_time": "2023-08-09T23:10:02.857080Z"
    }
   },
   "outputs": [],
   "source": [
    "print(\"Loading Normalization Functions\")\n",
    "norm_dataset = GrooveDataSet_Control(\n",
    "    dataset_setting_json_path=DATASET_JSON_PATH,\n",
    "    subset_tag=\"train\",\n",
    "    max_len=32,\n",
    "    collapse_tapped_sequence=True,\n",
    "    load_as_tensor=True,\n",
    "    down_sampled_ratio=DOWNSAMPLE,\n",
    "    normalize_densities=True,\n",
    "    normalize_intensities=True)\n",
    "\n",
    "print(\"hi\")\n",
    "density_norm_fn = norm_dataset.normalize_density\n",
    "intensity_norm_fn = norm_dataset.normalize_intensity"
   ]
  },
  {
   "cell_type": "code",
   "execution_count": null,
   "metadata": {
    "is_executing": true,
    "ExecuteTime": {
     "start_time": "2023-08-09T23:10:02.859295Z"
    }
   },
   "outputs": [],
   "source": [
    "for model_name, artifact_path in MODELS_DICT.items():\n",
    "    print(f\"\\n**Evaluating {model_name}\")"
   ]
  },
  {
   "cell_type": "code",
   "execution_count": null,
   "metadata": {
    "is_executing": true,
    "ExecuteTime": {
     "start_time": "2023-08-09T23:10:02.860664Z"
    }
   },
   "outputs": [],
   "source": []
  }
 ],
 "metadata": {
  "kernelspec": {
   "display_name": "groovetransformer",
   "language": "python",
   "name": "groovetransformer"
  },
  "language_info": {
   "codemirror_mode": {
    "name": "ipython",
    "version": 3
   },
   "file_extension": ".py",
   "mimetype": "text/x-python",
   "name": "python",
   "nbconvert_exporter": "python",
   "pygments_lexer": "ipython3",
   "version": "3.9.17"
  }
 },
 "nbformat": 4,
 "nbformat_minor": 1
}
