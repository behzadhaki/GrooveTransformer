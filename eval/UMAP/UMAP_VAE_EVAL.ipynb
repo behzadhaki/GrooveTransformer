{
 "cells": [
  {
   "cell_type": "code",
   "execution_count": null,
   "id": "fd928ebf",
   "metadata": {
    "pycharm": {
     "name": "#%%\n"
    }
   },
   "outputs": [],
   "source": [
    "import wandb\n",
    "import os\n",
    "os.environ[\"WANDB_SILENT\"] = \"true\"\n",
    "\n",
    "run_name = \"noble-field-7\""
   ]
  },
  {
   "cell_type": "code",
   "execution_count": null,
   "id": "db90c018",
   "metadata": {
    "pycharm": {
     "name": "#%%\n"
    }
   },
   "outputs": [],
   "source": [
    "run = wandb.init()\n",
    "links = {\n",
    "    \"GOOD_AVERAGE_glamorous-sweep-62\": \"mmil_vae_g2d/voice_distribution_and_genre_distribution_imbalance/model_epoch_100:v283\",\n",
    "    \"GOOD_azure-sweep-54\": \"mmil_vae_g2d/voice_distribution_and_genre_distribution_imbalance/model_epoch_100:v279\",\n",
    "    \"GOOD_apricot-sweep-17\": \"mmil_vae_g2d/voice_distribution_and_genre_distribution_imbalance/model_epoch_100:v242\",\n",
    "    \"GOOD_hearty-sweep-60\": \"mmil_vae_g2d/voice_distribution_and_genre_distribution_imbalance/model_epoch_100:v280\",\n",
    "    \"GOOD_worldly-sweep-22\": \"mmil_vae_g2d/voice_distribution_and_genre_distribution_imbalance/model_epoch_100:v245\",\n",
    "    \"GOOD_legendary-sweep-5\": \"mmil_vae_g2d/voice_distribution_and_genre_distribution_imbalance/model_epoch_100:v230\",\n",
    "    \"drawn_river_6\": \"mmil_vae_g2d/beta_annealing_study/model_epoch_100:v2\",\n",
    "    \"worldly-firebrand-5\": \"mmil_vae_g2d/beta_annealing_study/model_epoch_100:v1\",\n",
    "    \"noble-field-7\": \"mmil_vae_g2d/beta_annealing_study/model_epoch_100:v3\"\n",
    "}\n",
    "artifact = run.use_artifact(links[run_name], type='model')\n",
    "artifact_dir = artifact.download()"
   ]
  },
  {
   "cell_type": "code",
   "execution_count": null,
   "id": "771e5435",
   "metadata": {
    "pycharm": {
     "name": "#%%\n"
    }
   },
   "outputs": [],
   "source": [
    "import sys\n",
    "sys.path.insert(0, \"../..\")"
   ]
  },
  {
   "cell_type": "code",
   "execution_count": null,
   "id": "d5b6d50d",
   "metadata": {
    "pycharm": {
     "name": "#%%\n"
    }
   },
   "outputs": [],
   "source": [
    "from helpers import load_variational_mgt_model\n",
    "from model import GrooveTransformerEncoderVAE\n",
    "import torch"
   ]
  },
  {
   "cell_type": "code",
   "execution_count": null,
   "id": "a5626153",
   "metadata": {
    "pycharm": {
     "name": "#%%\n"
    }
   },
   "outputs": [],
   "source": [
    "from helpers import load_variational_mgt_model   \n",
    "import os"
   ]
  },
  {
   "cell_type": "code",
   "execution_count": null,
   "id": "499d4197",
   "metadata": {
    "pycharm": {
     "name": "#%%\n"
    }
   },
   "outputs": [],
   "source": [
    "model = load_variational_mgt_model(os.path.join(artifact_dir, \"100.pth\"))"
   ]
  },
  {
   "cell_type": "code",
   "execution_count": null,
   "id": "c618187b",
   "metadata": {
    "pycharm": {
     "name": "#%%\n"
    }
   },
   "outputs": [],
   "source": []
  },
  {
   "cell_type": "code",
   "execution_count": null,
   "id": "46df4459",
   "metadata": {
    "pycharm": {
     "name": "#%%\n"
    }
   },
   "outputs": [],
   "source": []
  },
  {
   "cell_type": "code",
   "execution_count": null,
   "id": "8914f220",
   "metadata": {
    "pycharm": {
     "name": "#%%\n"
    }
   },
   "outputs": [],
   "source": []
  },
  {
   "cell_type": "code",
   "execution_count": null,
   "id": "778ba17d",
   "metadata": {
    "pycharm": {
     "name": "#%%\n"
    }
   },
   "outputs": [],
   "source": [
    "from data import load_gmd_hvo_sequences\n",
    "\n",
    "train_set = load_gmd_hvo_sequences(\n",
    "    dataset_setting_json_path = \"../../data/dataset_json_settings/4_4_Beats_gmd.json\", \n",
    "    subset_tag = \"test\", \n",
    "    force_regenerate=False)"
   ]
  },
  {
   "cell_type": "code",
   "execution_count": null,
   "id": "f683176e",
   "metadata": {
    "pycharm": {
     "name": "#%%\n"
    }
   },
   "outputs": [],
   "source": [
    "gt_sample = train_set[0]\n",
    "groove = torch.tensor([gt_sample.flatten_voices(reduce_dim=True)], dtype=torch.float32)\n",
    "gt_sample.metadata"
   ]
  },
  {
   "cell_type": "code",
   "execution_count": null,
   "id": "ea5d6f37",
   "metadata": {
    "pycharm": {
     "name": "#%%\n"
    }
   },
   "outputs": [],
   "source": [
    "mu, logvar = model.encode_to_mu_logvar(groove)\n",
    "latent_z = model.reparametrize(mu, logvar)"
   ]
  },
  {
   "cell_type": "code",
   "execution_count": null,
   "id": "e43d19f3",
   "metadata": {
    "pycharm": {
     "name": "#%%\n"
    }
   },
   "outputs": [],
   "source": [
    "latent_z"
   ]
  },
  {
   "cell_type": "code",
   "execution_count": null,
   "id": "6a7d4beb",
   "metadata": {
    "pycharm": {
     "name": "#%%\n"
    }
   },
   "outputs": [],
   "source": [
    "voice_thresholds = [0.5] * 9\n",
    "voice_max_count_allowed = [32] * 9\n",
    "h, v, o = model.sample(latent_z=latent_z,\n",
    "                       voice_thresholds=voice_thresholds,\n",
    "                       voice_max_count_allowed=voice_max_count_allowed,\n",
    "                       return_concatenated=False,\n",
    "                       sampling_mode=0)\n",
    "print(h, v, o)"
   ]
  },
  {
   "cell_type": "code",
   "execution_count": null,
   "id": "985f1b50",
   "metadata": {
    "pycharm": {
     "name": "#%%\n"
    }
   },
   "outputs": [],
   "source": [
    "import numpy as np\n",
    "from sklearn.datasets import load_digits\n",
    "from sklearn.model_selection import train_test_split\n",
    "from sklearn.preprocessing import StandardScaler\n",
    "import pandas as pd\n"
   ]
  },
  {
   "cell_type": "code",
   "execution_count": 14,
   "id": "95fa9a2a",
   "metadata": {
    "pycharm": {
     "name": "#%%\n"
    }
   },
   "outputs": [],
   "source": [
    "latents = []\n",
    "labels = []\n",
    "metadatas = []\n",
    "use_all_styles = True\n",
    "\n",
    "for gt_sample in train_set:\n",
    "    if (use_all_styles or (gt_sample.metadata[\"style_primary\"] in [\"rock\", \"funk\", \"afrobeat\"])):\n",
    "        metadatas.append(gt_sample.metadata)\n",
    "        labels.append(gt_sample.metadata[\"style_primary\"])\n",
    "        groove = torch.zeros((1, 32, 3))\n",
    "        flattened_ = torch.tensor([gt_sample.flatten_voices(reduce_dim=True)], dtype=torch.float32)[:,:32, :]\n",
    "        t_steps = flattened_.shape[1]\n",
    "        groove[:, :t_steps, :] = flattened_\n",
    "        mu, logvar = model.encode_to_mu_logvar(groove)\n",
    "        latent_z = model.reparametrize(mu, logvar)\n",
    "        latents.append(latent_z.detach().cpu().numpy())\n",
    "\n",
    "latents = np.array(latents).squeeze(1)\n",
    "features = np.expand_dims(latents, -1) # we use each dimension of latent_z as a feature\n",
    "feature_labels = [f\"z_{dim}\" for dim in range(features.shape[1])]"
   ]
  },
  {
   "cell_type": "code",
   "execution_count": null,
   "id": "d7ae321c",
   "metadata": {
    "pycharm": {
     "name": "#%%\n"
    }
   },
   "outputs": [],
   "source": []
  },
  {
   "cell_type": "code",
   "execution_count": null,
   "id": "17656165",
   "metadata": {
    "pycharm": {
     "name": "#%%\n"
    }
   },
   "outputs": [],
   "source": []
  },
  {
   "cell_type": "code",
   "execution_count": null,
   "id": "5e265140",
   "metadata": {
    "pycharm": {
     "name": "#%%\n"
    }
   },
   "outputs": [],
   "source": []
  },
  {
   "cell_type": "code",
   "execution_count": 15,
   "id": "6bd1bdc3",
   "metadata": {
    "pycharm": {
     "name": "#%%\n"
    }
   },
   "outputs": [
    {
     "data": {
      "text/html": [
       "<div>\n",
       "<style scoped>\n",
       "    .dataframe tbody tr th:only-of-type {\n",
       "        vertical-align: middle;\n",
       "    }\n",
       "\n",
       "    .dataframe tbody tr th {\n",
       "        vertical-align: top;\n",
       "    }\n",
       "\n",
       "    .dataframe thead th {\n",
       "        text-align: right;\n",
       "    }\n",
       "</style>\n",
       "<table border=\"1\" class=\"dataframe\">\n",
       "  <thead>\n",
       "    <tr style=\"text-align: right;\">\n",
       "      <th></th>\n",
       "      <th>style_primary</th>\n",
       "      <th>z_0</th>\n",
       "      <th>z_1</th>\n",
       "      <th>z_2</th>\n",
       "      <th>z_3</th>\n",
       "      <th>z_4</th>\n",
       "      <th>z_5</th>\n",
       "      <th>z_6</th>\n",
       "      <th>z_7</th>\n",
       "      <th>z_8</th>\n",
       "      <th>...</th>\n",
       "      <th>z_118</th>\n",
       "      <th>z_119</th>\n",
       "      <th>z_120</th>\n",
       "      <th>z_121</th>\n",
       "      <th>z_122</th>\n",
       "      <th>z_123</th>\n",
       "      <th>z_124</th>\n",
       "      <th>z_125</th>\n",
       "      <th>z_126</th>\n",
       "      <th>z_127</th>\n",
       "    </tr>\n",
       "  </thead>\n",
       "  <tbody>\n",
       "    <tr>\n",
       "      <th>0</th>\n",
       "      <td>soul</td>\n",
       "      <td>1.103464</td>\n",
       "      <td>-0.626700</td>\n",
       "      <td>-0.198182</td>\n",
       "      <td>-0.475626</td>\n",
       "      <td>0.903612</td>\n",
       "      <td>1.176979</td>\n",
       "      <td>0.007071</td>\n",
       "      <td>-1.041442</td>\n",
       "      <td>-0.532061</td>\n",
       "      <td>...</td>\n",
       "      <td>-1.407513</td>\n",
       "      <td>-1.766600</td>\n",
       "      <td>0.244445</td>\n",
       "      <td>-0.343117</td>\n",
       "      <td>0.493831</td>\n",
       "      <td>0.194009</td>\n",
       "      <td>-0.491197</td>\n",
       "      <td>0.833408</td>\n",
       "      <td>1.829738</td>\n",
       "      <td>-1.031805</td>\n",
       "    </tr>\n",
       "    <tr>\n",
       "      <th>1</th>\n",
       "      <td>soul</td>\n",
       "      <td>-0.128921</td>\n",
       "      <td>-1.169329</td>\n",
       "      <td>-0.530025</td>\n",
       "      <td>1.133850</td>\n",
       "      <td>-0.088824</td>\n",
       "      <td>-0.676383</td>\n",
       "      <td>-0.968475</td>\n",
       "      <td>0.684501</td>\n",
       "      <td>0.308862</td>\n",
       "      <td>...</td>\n",
       "      <td>-0.204265</td>\n",
       "      <td>-0.836512</td>\n",
       "      <td>1.142790</td>\n",
       "      <td>2.095299</td>\n",
       "      <td>-0.865173</td>\n",
       "      <td>1.231519</td>\n",
       "      <td>-0.755949</td>\n",
       "      <td>1.260754</td>\n",
       "      <td>1.949624</td>\n",
       "      <td>-0.265518</td>\n",
       "    </tr>\n",
       "    <tr>\n",
       "      <th>2</th>\n",
       "      <td>soul</td>\n",
       "      <td>-1.628883</td>\n",
       "      <td>-1.120446</td>\n",
       "      <td>-0.006517</td>\n",
       "      <td>0.367408</td>\n",
       "      <td>0.551159</td>\n",
       "      <td>1.970728</td>\n",
       "      <td>-0.098604</td>\n",
       "      <td>-0.393517</td>\n",
       "      <td>-0.466214</td>\n",
       "      <td>...</td>\n",
       "      <td>0.484740</td>\n",
       "      <td>-0.091725</td>\n",
       "      <td>1.484421</td>\n",
       "      <td>0.078342</td>\n",
       "      <td>1.401415</td>\n",
       "      <td>0.500967</td>\n",
       "      <td>-0.233326</td>\n",
       "      <td>1.772177</td>\n",
       "      <td>1.666774</td>\n",
       "      <td>-1.516757</td>\n",
       "    </tr>\n",
       "    <tr>\n",
       "      <th>3</th>\n",
       "      <td>soul</td>\n",
       "      <td>0.424331</td>\n",
       "      <td>-0.720564</td>\n",
       "      <td>0.318271</td>\n",
       "      <td>1.695400</td>\n",
       "      <td>0.329941</td>\n",
       "      <td>1.417686</td>\n",
       "      <td>-0.688277</td>\n",
       "      <td>-0.670036</td>\n",
       "      <td>-0.126297</td>\n",
       "      <td>...</td>\n",
       "      <td>-0.171639</td>\n",
       "      <td>0.380275</td>\n",
       "      <td>1.566107</td>\n",
       "      <td>-0.192974</td>\n",
       "      <td>0.535072</td>\n",
       "      <td>1.059456</td>\n",
       "      <td>-0.539561</td>\n",
       "      <td>1.127323</td>\n",
       "      <td>1.365738</td>\n",
       "      <td>0.399845</td>\n",
       "    </tr>\n",
       "    <tr>\n",
       "      <th>4</th>\n",
       "      <td>soul</td>\n",
       "      <td>0.503676</td>\n",
       "      <td>-1.312784</td>\n",
       "      <td>-1.121984</td>\n",
       "      <td>1.591133</td>\n",
       "      <td>-0.169920</td>\n",
       "      <td>0.575592</td>\n",
       "      <td>0.883954</td>\n",
       "      <td>-0.198365</td>\n",
       "      <td>-1.374069</td>\n",
       "      <td>...</td>\n",
       "      <td>-0.078318</td>\n",
       "      <td>-1.509660</td>\n",
       "      <td>3.626695</td>\n",
       "      <td>1.878944</td>\n",
       "      <td>1.846746</td>\n",
       "      <td>-0.214075</td>\n",
       "      <td>-1.364839</td>\n",
       "      <td>1.611233</td>\n",
       "      <td>1.570689</td>\n",
       "      <td>1.026336</td>\n",
       "    </tr>\n",
       "  </tbody>\n",
       "</table>\n",
       "<p>5 rows × 129 columns</p>\n",
       "</div>"
      ],
      "text/plain": [
       "  style_primary       z_0       z_1       z_2       z_3       z_4       z_5  \\\n",
       "0          soul  1.103464 -0.626700 -0.198182 -0.475626  0.903612  1.176979   \n",
       "1          soul -0.128921 -1.169329 -0.530025  1.133850 -0.088824 -0.676383   \n",
       "2          soul -1.628883 -1.120446 -0.006517  0.367408  0.551159  1.970728   \n",
       "3          soul  0.424331 -0.720564  0.318271  1.695400  0.329941  1.417686   \n",
       "4          soul  0.503676 -1.312784 -1.121984  1.591133 -0.169920  0.575592   \n",
       "\n",
       "        z_6       z_7       z_8  ...     z_118     z_119     z_120     z_121  \\\n",
       "0  0.007071 -1.041442 -0.532061  ... -1.407513 -1.766600  0.244445 -0.343117   \n",
       "1 -0.968475  0.684501  0.308862  ... -0.204265 -0.836512  1.142790  2.095299   \n",
       "2 -0.098604 -0.393517 -0.466214  ...  0.484740 -0.091725  1.484421  0.078342   \n",
       "3 -0.688277 -0.670036 -0.126297  ... -0.171639  0.380275  1.566107 -0.192974   \n",
       "4  0.883954 -0.198365 -1.374069  ... -0.078318 -1.509660  3.626695  1.878944   \n",
       "\n",
       "      z_122     z_123     z_124     z_125     z_126     z_127  \n",
       "0  0.493831  0.194009 -0.491197  0.833408  1.829738 -1.031805  \n",
       "1 -0.865173  1.231519 -0.755949  1.260754  1.949624 -0.265518  \n",
       "2  1.401415  0.500967 -0.233326  1.772177  1.666774 -1.516757  \n",
       "3  0.535072  1.059456 -0.539561  1.127323  1.365738  0.399845  \n",
       "4  1.846746 -0.214075 -1.364839  1.611233  1.570689  1.026336  \n",
       "\n",
       "[5 rows x 129 columns]"
      ]
     },
     "execution_count": 15,
     "metadata": {},
     "output_type": "execute_result"
    }
   ],
   "source": [
    "import pandas as pd\n",
    "data = {\"style_primary\": [style for style in labels]}\n",
    "data.update({f\"z_{dim_i}\": latents[:, dim_i] for dim_i in range(features.shape[1])})\n",
    "df = pd.DataFrame(data)\n",
    "df.head()"
   ]
  },
  {
   "cell_type": "code",
   "execution_count": 16,
   "id": "c006f84b",
   "metadata": {
    "pycharm": {
     "name": "#%%\n"
    }
   },
   "outputs": [],
   "source": [
    "from umap import UMAP"
   ]
  },
  {
   "cell_type": "code",
   "execution_count": 17,
   "id": "77149a54",
   "metadata": {
    "pycharm": {
     "name": "#%%\n"
    }
   },
   "outputs": [],
   "source": [
    "embedding_dims = 2\n",
    "umap = UMAP(n_components=embedding_dims, metric=\"euclidean\", n_neighbors=20)\n",
    "embeddings = umap.fit_transform(df.drop(\"style_primary\", axis=1))"
   ]
  },
  {
   "cell_type": "code",
   "execution_count": 18,
   "id": "99cd0cbf",
   "metadata": {
    "pycharm": {
     "name": "#%%\n"
    }
   },
   "outputs": [],
   "source": [
    "from bokeh.palettes import inferno, Category20b\n",
    "from bokeh.core.enums import MarkerType\n",
    "\n",
    "styles = sorted(df.style_primary.unique())\n",
    "hues = inferno(len(styles))\n",
    "hues = Category20b[20]\n",
    "style_hue_map = {f\"{style}\": hues[i] for i, style in enumerate(styles)}\n",
    "\n",
    "bases = [\n",
    "    \"circle\",\n",
    "    \"diamond\",\n",
    "    \"inverted_triangle\",\n",
    "    \"square\",\n",
    "    \"star\",\n",
    "    \"triangle\",\n",
    "] * 4\n",
    "\n",
    "marker_map = {style: bases[ix] for ix, style in enumerate(styles)}"
   ]
  },
  {
   "cell_type": "code",
   "execution_count": 19,
   "id": "3dde59dc",
   "metadata": {
    "pycharm": {
     "name": "#%%\n"
    }
   },
   "outputs": [
    {
     "data": {
      "text/plain": [
       "'/Users/behzadhaki/Github/GrooveTransformer/eval/UMAP/UMAP_noble-field-7.html'"
      ]
     },
     "execution_count": 19,
     "metadata": {},
     "output_type": "execute_result"
    }
   ],
   "source": [
    "from collections import OrderedDict\n",
    "from bokeh.plotting import figure, show, save\n",
    "\n",
    "embedding_dict = dict()\n",
    "styles = df.style_primary\n",
    "\n",
    "\n",
    "for ix, style in enumerate(styles):\n",
    "    if(not style in embedding_dict):\n",
    "        embedding_dict.update({style: ([], [])})\n",
    "    embedding_dict[style][0].append(embeddings[ix][0])\n",
    "    embedding_dict[style][1].append(embeddings[ix][1])\n",
    "    \n",
    "\n",
    "TOOLS=\"hover,crosshair,pan,wheel_zoom,zoom_in,zoom_out,box_zoom,undo,redo,reset,tap,save,box_select,poly_select,lasso_select,\"\n",
    "\n",
    "p = figure(tools=TOOLS)\n",
    "\n",
    "for key, values in embedding_dict.items():\n",
    "    p.scatter(values[0], values[1],\n",
    "              fill_color=style_hue_map[key], \n",
    "              line_color=None, legend_label=key, marker=marker_map[key], size=12)\n",
    "p.legend.click_policy=\"hide\"\n",
    "save(p, f\"UMAP_{run_name}.html\")"
   ]
  },
  {
   "cell_type": "code",
   "execution_count": null,
   "id": "cf8456d6",
   "metadata": {
    "pycharm": {
     "name": "#%%\n"
    }
   },
   "outputs": [],
   "source": [
    "embedding_dict"
   ]
  },
  {
   "cell_type": "code",
   "execution_count": null,
   "id": "1a4a1540",
   "metadata": {
    "pycharm": {
     "name": "#%%\n"
    }
   },
   "outputs": [],
   "source": [
    "# from sklearn.manifold import TSNE\n",
    "# umap = TSNE(n_components=embedding_dims)\n",
    "# embeddings = umap.fit_transform(df.drop(\"style_primary\", axis=1))"
   ]
  },
  {
   "cell_type": "code",
   "execution_count": null,
   "id": "7890b92b",
   "metadata": {
    "pycharm": {
     "name": "#%%\n"
    }
   },
   "outputs": [],
   "source": [
    "# import numpy as np\n",
    "\n",
    "# from bokeh.plotting import figure, show, save\n",
    "# from bokeh.io import output_notebook\n",
    "\n",
    "# TOOLS=\"hover,crosshair,pan,wheel_zoom,zoom_in,zoom_out,box_zoom,undo,redo,reset,tap,save,box_select,poly_select,lasso_select,\"\n",
    "\n",
    "# p = figure(tools=TOOLS)\n",
    "\n",
    "# p.scatter(embeddings[:, 0], embeddings[:, 1],\n",
    "         #  fill_color=colors, fill_alpha=0.6,\n",
    "          # line_color=None)\n",
    "\n",
    "# save(p, \"TSNE.html\") "
   ]
  },
  {
   "cell_type": "markdown",
   "id": "b463363c",
   "metadata": {
    "pycharm": {
     "name": "#%%\n"
    }
   },
   "source": []
  },
  {
   "cell_type": "code",
   "execution_count": null,
   "id": "16bd3cd6",
   "metadata": {
    "pycharm": {
     "name": "#%%\n"
    }
   },
   "outputs": [],
   "source": []
  }
 ],
 "metadata": {
  "kernelspec": {
   "display_name": "GrooveTransformerVenv",
   "language": "python",
   "name": "groovetransformervenv"
  },
  "language_info": {
   "codemirror_mode": {
    "name": "ipython",
    "version": 3
   },
   "file_extension": ".py",
   "mimetype": "text/x-python",
   "name": "python",
   "nbconvert_exporter": "python",
   "pygments_lexer": "ipython3",
   "version": "3.9.12"
  }
 },
 "nbformat": 4,
 "nbformat_minor": 5
}
