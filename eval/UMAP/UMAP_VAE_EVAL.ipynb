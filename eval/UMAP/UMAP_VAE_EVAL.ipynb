{
 "cells": [
  {
   "cell_type": "code",
   "execution_count": 3,
   "id": "fd928ebf",
   "metadata": {
    "pycharm": {
     "name": "#%%\n"
    },
    "scrolled": true
   },
   "outputs": [
    {
     "name": "stdout",
     "output_type": "stream",
     "text": [
      "Holoviews not installed, will not be able to generate violin plots\n"
     ]
    },
    {
     "name": "stderr",
     "output_type": "stream",
     "text": [
      "WARNING:data.Base.utils:Holoviews not installed. Please install holoviews to be able to generate heatmaps.\n"
     ]
    },
    {
     "data": {
      "text/html": [
       "<div class=\"bk-root\">\n",
       "        <a href=\"https://bokeh.org\" target=\"_blank\" class=\"bk-logo bk-logo-small bk-logo-notebook\"></a>\n",
       "        <span id=\"1002\">Loading BokehJS ...</span>\n",
       "    </div>\n"
      ]
     },
     "metadata": {},
     "output_type": "display_data"
    },
    {
     "data": {
      "application/javascript": [
       "(function(root) {\n",
       "  function now() {\n",
       "    return new Date();\n",
       "  }\n",
       "\n",
       "  const force = true;\n",
       "\n",
       "  if (typeof root._bokeh_onload_callbacks === \"undefined\" || force === true) {\n",
       "    root._bokeh_onload_callbacks = [];\n",
       "    root._bokeh_is_loading = undefined;\n",
       "  }\n",
       "\n",
       "const JS_MIME_TYPE = 'application/javascript';\n",
       "  const HTML_MIME_TYPE = 'text/html';\n",
       "  const EXEC_MIME_TYPE = 'application/vnd.bokehjs_exec.v0+json';\n",
       "  const CLASS_NAME = 'output_bokeh rendered_html';\n",
       "\n",
       "  /**\n",
       "   * Render data to the DOM node\n",
       "   */\n",
       "  function render(props, node) {\n",
       "    const script = document.createElement(\"script\");\n",
       "    node.appendChild(script);\n",
       "  }\n",
       "\n",
       "  /**\n",
       "   * Handle when an output is cleared or removed\n",
       "   */\n",
       "  function handleClearOutput(event, handle) {\n",
       "    const cell = handle.cell;\n",
       "\n",
       "    const id = cell.output_area._bokeh_element_id;\n",
       "    const server_id = cell.output_area._bokeh_server_id;\n",
       "    // Clean up Bokeh references\n",
       "    if (id != null && id in Bokeh.index) {\n",
       "      Bokeh.index[id].model.document.clear();\n",
       "      delete Bokeh.index[id];\n",
       "    }\n",
       "\n",
       "    if (server_id !== undefined) {\n",
       "      // Clean up Bokeh references\n",
       "      const cmd_clean = \"from bokeh.io.state import curstate; print(curstate().uuid_to_server['\" + server_id + \"'].get_sessions()[0].document.roots[0]._id)\";\n",
       "      cell.notebook.kernel.execute(cmd_clean, {\n",
       "        iopub: {\n",
       "          output: function(msg) {\n",
       "            const id = msg.content.text.trim();\n",
       "            if (id in Bokeh.index) {\n",
       "              Bokeh.index[id].model.document.clear();\n",
       "              delete Bokeh.index[id];\n",
       "            }\n",
       "          }\n",
       "        }\n",
       "      });\n",
       "      // Destroy server and session\n",
       "      const cmd_destroy = \"import bokeh.io.notebook as ion; ion.destroy_server('\" + server_id + \"')\";\n",
       "      cell.notebook.kernel.execute(cmd_destroy);\n",
       "    }\n",
       "  }\n",
       "\n",
       "  /**\n",
       "   * Handle when a new output is added\n",
       "   */\n",
       "  function handleAddOutput(event, handle) {\n",
       "    const output_area = handle.output_area;\n",
       "    const output = handle.output;\n",
       "\n",
       "    // limit handleAddOutput to display_data with EXEC_MIME_TYPE content only\n",
       "    if ((output.output_type != \"display_data\") || (!Object.prototype.hasOwnProperty.call(output.data, EXEC_MIME_TYPE))) {\n",
       "      return\n",
       "    }\n",
       "\n",
       "    const toinsert = output_area.element.find(\".\" + CLASS_NAME.split(' ')[0]);\n",
       "\n",
       "    if (output.metadata[EXEC_MIME_TYPE][\"id\"] !== undefined) {\n",
       "      toinsert[toinsert.length - 1].firstChild.textContent = output.data[JS_MIME_TYPE];\n",
       "      // store reference to embed id on output_area\n",
       "      output_area._bokeh_element_id = output.metadata[EXEC_MIME_TYPE][\"id\"];\n",
       "    }\n",
       "    if (output.metadata[EXEC_MIME_TYPE][\"server_id\"] !== undefined) {\n",
       "      const bk_div = document.createElement(\"div\");\n",
       "      bk_div.innerHTML = output.data[HTML_MIME_TYPE];\n",
       "      const script_attrs = bk_div.children[0].attributes;\n",
       "      for (let i = 0; i < script_attrs.length; i++) {\n",
       "        toinsert[toinsert.length - 1].firstChild.setAttribute(script_attrs[i].name, script_attrs[i].value);\n",
       "        toinsert[toinsert.length - 1].firstChild.textContent = bk_div.children[0].textContent\n",
       "      }\n",
       "      // store reference to server id on output_area\n",
       "      output_area._bokeh_server_id = output.metadata[EXEC_MIME_TYPE][\"server_id\"];\n",
       "    }\n",
       "  }\n",
       "\n",
       "  function register_renderer(events, OutputArea) {\n",
       "\n",
       "    function append_mime(data, metadata, element) {\n",
       "      // create a DOM node to render to\n",
       "      const toinsert = this.create_output_subarea(\n",
       "        metadata,\n",
       "        CLASS_NAME,\n",
       "        EXEC_MIME_TYPE\n",
       "      );\n",
       "      this.keyboard_manager.register_events(toinsert);\n",
       "      // Render to node\n",
       "      const props = {data: data, metadata: metadata[EXEC_MIME_TYPE]};\n",
       "      render(props, toinsert[toinsert.length - 1]);\n",
       "      element.append(toinsert);\n",
       "      return toinsert\n",
       "    }\n",
       "\n",
       "    /* Handle when an output is cleared or removed */\n",
       "    events.on('clear_output.CodeCell', handleClearOutput);\n",
       "    events.on('delete.Cell', handleClearOutput);\n",
       "\n",
       "    /* Handle when a new output is added */\n",
       "    events.on('output_added.OutputArea', handleAddOutput);\n",
       "\n",
       "    /**\n",
       "     * Register the mime type and append_mime function with output_area\n",
       "     */\n",
       "    OutputArea.prototype.register_mime_type(EXEC_MIME_TYPE, append_mime, {\n",
       "      /* Is output safe? */\n",
       "      safe: true,\n",
       "      /* Index of renderer in `output_area.display_order` */\n",
       "      index: 0\n",
       "    });\n",
       "  }\n",
       "\n",
       "  // register the mime type if in Jupyter Notebook environment and previously unregistered\n",
       "  if (root.Jupyter !== undefined) {\n",
       "    const events = require('base/js/events');\n",
       "    const OutputArea = require('notebook/js/outputarea').OutputArea;\n",
       "\n",
       "    if (OutputArea.prototype.mime_types().indexOf(EXEC_MIME_TYPE) == -1) {\n",
       "      register_renderer(events, OutputArea);\n",
       "    }\n",
       "  }\n",
       "  if (typeof (root._bokeh_timeout) === \"undefined\" || force === true) {\n",
       "    root._bokeh_timeout = Date.now() + 5000;\n",
       "    root._bokeh_failed_load = false;\n",
       "  }\n",
       "\n",
       "  const NB_LOAD_WARNING = {'data': {'text/html':\n",
       "     \"<div style='background-color: #fdd'>\\n\"+\n",
       "     \"<p>\\n\"+\n",
       "     \"BokehJS does not appear to have successfully loaded. If loading BokehJS from CDN, this \\n\"+\n",
       "     \"may be due to a slow or bad network connection. Possible fixes:\\n\"+\n",
       "     \"</p>\\n\"+\n",
       "     \"<ul>\\n\"+\n",
       "     \"<li>re-rerun `output_notebook()` to attempt to load from CDN again, or</li>\\n\"+\n",
       "     \"<li>use INLINE resources instead, as so:</li>\\n\"+\n",
       "     \"</ul>\\n\"+\n",
       "     \"<code>\\n\"+\n",
       "     \"from bokeh.resources import INLINE\\n\"+\n",
       "     \"output_notebook(resources=INLINE)\\n\"+\n",
       "     \"</code>\\n\"+\n",
       "     \"</div>\"}};\n",
       "\n",
       "  function display_loaded() {\n",
       "    const el = document.getElementById(\"1002\");\n",
       "    if (el != null) {\n",
       "      el.textContent = \"BokehJS is loading...\";\n",
       "    }\n",
       "    if (root.Bokeh !== undefined) {\n",
       "      if (el != null) {\n",
       "        el.textContent = \"BokehJS \" + root.Bokeh.version + \" successfully loaded.\";\n",
       "      }\n",
       "    } else if (Date.now() < root._bokeh_timeout) {\n",
       "      setTimeout(display_loaded, 100)\n",
       "    }\n",
       "  }\n",
       "\n",
       "  function run_callbacks() {\n",
       "    try {\n",
       "      root._bokeh_onload_callbacks.forEach(function(callback) {\n",
       "        if (callback != null)\n",
       "          callback();\n",
       "      });\n",
       "    } finally {\n",
       "      delete root._bokeh_onload_callbacks\n",
       "    }\n",
       "    console.debug(\"Bokeh: all callbacks have finished\");\n",
       "  }\n",
       "\n",
       "  function load_libs(css_urls, js_urls, callback) {\n",
       "    if (css_urls == null) css_urls = [];\n",
       "    if (js_urls == null) js_urls = [];\n",
       "\n",
       "    root._bokeh_onload_callbacks.push(callback);\n",
       "    if (root._bokeh_is_loading > 0) {\n",
       "      console.debug(\"Bokeh: BokehJS is being loaded, scheduling callback at\", now());\n",
       "      return null;\n",
       "    }\n",
       "    if (js_urls == null || js_urls.length === 0) {\n",
       "      run_callbacks();\n",
       "      return null;\n",
       "    }\n",
       "    console.debug(\"Bokeh: BokehJS not loaded, scheduling load and callback at\", now());\n",
       "    root._bokeh_is_loading = css_urls.length + js_urls.length;\n",
       "\n",
       "    function on_load() {\n",
       "      root._bokeh_is_loading--;\n",
       "      if (root._bokeh_is_loading === 0) {\n",
       "        console.debug(\"Bokeh: all BokehJS libraries/stylesheets loaded\");\n",
       "        run_callbacks()\n",
       "      }\n",
       "    }\n",
       "\n",
       "    function on_error(url) {\n",
       "      console.error(\"failed to load \" + url);\n",
       "    }\n",
       "\n",
       "    for (let i = 0; i < css_urls.length; i++) {\n",
       "      const url = css_urls[i];\n",
       "      const element = document.createElement(\"link\");\n",
       "      element.onload = on_load;\n",
       "      element.onerror = on_error.bind(null, url);\n",
       "      element.rel = \"stylesheet\";\n",
       "      element.type = \"text/css\";\n",
       "      element.href = url;\n",
       "      console.debug(\"Bokeh: injecting link tag for BokehJS stylesheet: \", url);\n",
       "      document.body.appendChild(element);\n",
       "    }\n",
       "\n",
       "    for (let i = 0; i < js_urls.length; i++) {\n",
       "      const url = js_urls[i];\n",
       "      const element = document.createElement('script');\n",
       "      element.onload = on_load;\n",
       "      element.onerror = on_error.bind(null, url);\n",
       "      element.async = false;\n",
       "      element.src = url;\n",
       "      console.debug(\"Bokeh: injecting script tag for BokehJS library: \", url);\n",
       "      document.head.appendChild(element);\n",
       "    }\n",
       "  };\n",
       "\n",
       "  function inject_raw_css(css) {\n",
       "    const element = document.createElement(\"style\");\n",
       "    element.appendChild(document.createTextNode(css));\n",
       "    document.body.appendChild(element);\n",
       "  }\n",
       "\n",
       "  const js_urls = [\"https://cdn.bokeh.org/bokeh/release/bokeh-2.4.3.min.js\", \"https://cdn.bokeh.org/bokeh/release/bokeh-gl-2.4.3.min.js\", \"https://cdn.bokeh.org/bokeh/release/bokeh-widgets-2.4.3.min.js\", \"https://cdn.bokeh.org/bokeh/release/bokeh-tables-2.4.3.min.js\", \"https://cdn.bokeh.org/bokeh/release/bokeh-mathjax-2.4.3.min.js\"];\n",
       "  const css_urls = [];\n",
       "\n",
       "  const inline_js = [    function(Bokeh) {\n",
       "      Bokeh.set_log_level(\"info\");\n",
       "    },\n",
       "function(Bokeh) {\n",
       "    }\n",
       "  ];\n",
       "\n",
       "  function run_inline_js() {\n",
       "    if (root.Bokeh !== undefined || force === true) {\n",
       "          for (let i = 0; i < inline_js.length; i++) {\n",
       "      inline_js[i].call(root, root.Bokeh);\n",
       "    }\n",
       "if (force === true) {\n",
       "        display_loaded();\n",
       "      }} else if (Date.now() < root._bokeh_timeout) {\n",
       "      setTimeout(run_inline_js, 100);\n",
       "    } else if (!root._bokeh_failed_load) {\n",
       "      console.log(\"Bokeh: BokehJS failed to load within specified timeout.\");\n",
       "      root._bokeh_failed_load = true;\n",
       "    } else if (force !== true) {\n",
       "      const cell = $(document.getElementById(\"1002\")).parents('.cell').data().cell;\n",
       "      cell.output_area.append_execute_result(NB_LOAD_WARNING)\n",
       "    }\n",
       "  }\n",
       "\n",
       "  if (root._bokeh_is_loading === 0) {\n",
       "    console.debug(\"Bokeh: BokehJS loaded, going straight to plotting\");\n",
       "    run_inline_js();\n",
       "  } else {\n",
       "    load_libs(css_urls, js_urls, function() {\n",
       "      console.debug(\"Bokeh: BokehJS plotting callback run at\", now());\n",
       "      run_inline_js();\n",
       "    });\n",
       "  }\n",
       "}(window));"
      ],
      "application/vnd.bokehjs_load.v0+json": "(function(root) {\n  function now() {\n    return new Date();\n  }\n\n  const force = true;\n\n  if (typeof root._bokeh_onload_callbacks === \"undefined\" || force === true) {\n    root._bokeh_onload_callbacks = [];\n    root._bokeh_is_loading = undefined;\n  }\n\n\n  if (typeof (root._bokeh_timeout) === \"undefined\" || force === true) {\n    root._bokeh_timeout = Date.now() + 5000;\n    root._bokeh_failed_load = false;\n  }\n\n  const NB_LOAD_WARNING = {'data': {'text/html':\n     \"<div style='background-color: #fdd'>\\n\"+\n     \"<p>\\n\"+\n     \"BokehJS does not appear to have successfully loaded. If loading BokehJS from CDN, this \\n\"+\n     \"may be due to a slow or bad network connection. Possible fixes:\\n\"+\n     \"</p>\\n\"+\n     \"<ul>\\n\"+\n     \"<li>re-rerun `output_notebook()` to attempt to load from CDN again, or</li>\\n\"+\n     \"<li>use INLINE resources instead, as so:</li>\\n\"+\n     \"</ul>\\n\"+\n     \"<code>\\n\"+\n     \"from bokeh.resources import INLINE\\n\"+\n     \"output_notebook(resources=INLINE)\\n\"+\n     \"</code>\\n\"+\n     \"</div>\"}};\n\n  function display_loaded() {\n    const el = document.getElementById(\"1002\");\n    if (el != null) {\n      el.textContent = \"BokehJS is loading...\";\n    }\n    if (root.Bokeh !== undefined) {\n      if (el != null) {\n        el.textContent = \"BokehJS \" + root.Bokeh.version + \" successfully loaded.\";\n      }\n    } else if (Date.now() < root._bokeh_timeout) {\n      setTimeout(display_loaded, 100)\n    }\n  }\n\n  function run_callbacks() {\n    try {\n      root._bokeh_onload_callbacks.forEach(function(callback) {\n        if (callback != null)\n          callback();\n      });\n    } finally {\n      delete root._bokeh_onload_callbacks\n    }\n    console.debug(\"Bokeh: all callbacks have finished\");\n  }\n\n  function load_libs(css_urls, js_urls, callback) {\n    if (css_urls == null) css_urls = [];\n    if (js_urls == null) js_urls = [];\n\n    root._bokeh_onload_callbacks.push(callback);\n    if (root._bokeh_is_loading > 0) {\n      console.debug(\"Bokeh: BokehJS is being loaded, scheduling callback at\", now());\n      return null;\n    }\n    if (js_urls == null || js_urls.length === 0) {\n      run_callbacks();\n      return null;\n    }\n    console.debug(\"Bokeh: BokehJS not loaded, scheduling load and callback at\", now());\n    root._bokeh_is_loading = css_urls.length + js_urls.length;\n\n    function on_load() {\n      root._bokeh_is_loading--;\n      if (root._bokeh_is_loading === 0) {\n        console.debug(\"Bokeh: all BokehJS libraries/stylesheets loaded\");\n        run_callbacks()\n      }\n    }\n\n    function on_error(url) {\n      console.error(\"failed to load \" + url);\n    }\n\n    for (let i = 0; i < css_urls.length; i++) {\n      const url = css_urls[i];\n      const element = document.createElement(\"link\");\n      element.onload = on_load;\n      element.onerror = on_error.bind(null, url);\n      element.rel = \"stylesheet\";\n      element.type = \"text/css\";\n      element.href = url;\n      console.debug(\"Bokeh: injecting link tag for BokehJS stylesheet: \", url);\n      document.body.appendChild(element);\n    }\n\n    for (let i = 0; i < js_urls.length; i++) {\n      const url = js_urls[i];\n      const element = document.createElement('script');\n      element.onload = on_load;\n      element.onerror = on_error.bind(null, url);\n      element.async = false;\n      element.src = url;\n      console.debug(\"Bokeh: injecting script tag for BokehJS library: \", url);\n      document.head.appendChild(element);\n    }\n  };\n\n  function inject_raw_css(css) {\n    const element = document.createElement(\"style\");\n    element.appendChild(document.createTextNode(css));\n    document.body.appendChild(element);\n  }\n\n  const js_urls = [\"https://cdn.bokeh.org/bokeh/release/bokeh-2.4.3.min.js\", \"https://cdn.bokeh.org/bokeh/release/bokeh-gl-2.4.3.min.js\", \"https://cdn.bokeh.org/bokeh/release/bokeh-widgets-2.4.3.min.js\", \"https://cdn.bokeh.org/bokeh/release/bokeh-tables-2.4.3.min.js\", \"https://cdn.bokeh.org/bokeh/release/bokeh-mathjax-2.4.3.min.js\"];\n  const css_urls = [];\n\n  const inline_js = [    function(Bokeh) {\n      Bokeh.set_log_level(\"info\");\n    },\nfunction(Bokeh) {\n    }\n  ];\n\n  function run_inline_js() {\n    if (root.Bokeh !== undefined || force === true) {\n          for (let i = 0; i < inline_js.length; i++) {\n      inline_js[i].call(root, root.Bokeh);\n    }\nif (force === true) {\n        display_loaded();\n      }} else if (Date.now() < root._bokeh_timeout) {\n      setTimeout(run_inline_js, 100);\n    } else if (!root._bokeh_failed_load) {\n      console.log(\"Bokeh: BokehJS failed to load within specified timeout.\");\n      root._bokeh_failed_load = true;\n    } else if (force !== true) {\n      const cell = $(document.getElementById(\"1002\")).parents('.cell').data().cell;\n      cell.output_area.append_execute_result(NB_LOAD_WARNING)\n    }\n  }\n\n  if (root._bokeh_is_loading === 0) {\n    console.debug(\"Bokeh: BokehJS loaded, going straight to plotting\");\n    run_inline_js();\n  } else {\n    load_libs(css_urls, js_urls, function() {\n      console.debug(\"Bokeh: BokehJS plotting callback run at\", now());\n      run_inline_js();\n    });\n  }\n}(window));"
     },
     "metadata": {},
     "output_type": "display_data"
    }
   ],
   "source": [
    "import wandb\n",
    "import os\n",
    "os.environ[\"WANDB_SILENT\"] = \"true\"\n",
    "\n",
    "import numpy as np\n",
    "import pandas as pd\n",
    "\n",
    "import sys\n",
    "sys.path.insert(0, \"../..\")\n",
    "\n",
    "from helpers import load_variational_mgt_model\n",
    "from model import GrooveTransformerEncoderVAE\n",
    "import torch\n",
    "\n",
    "from umap import UMAP\n",
    "\n",
    "from bokeh.palettes import inferno, Category20b\n",
    "from bokeh.core.enums import MarkerType\n",
    "from bokeh.plotting import figure, show, save\n",
    "from bokeh.io import output_notebook\n",
    "output_notebook()\n",
    "\n",
    "\n"
   ]
  },
  {
   "cell_type": "code",
   "execution_count": 35,
   "id": "db90c018",
   "metadata": {
    "pycharm": {
     "name": "#%%\n"
    }
   },
   "outputs": [
    {
     "data": {
      "application/vnd.jupyter.widget-view+json": {
       "model_id": "35fa0b0a2eac46b1a0d463c302442f26",
       "version_major": 2,
       "version_minor": 0
      },
      "text/plain": [
       "VBox(children=(Label(value='Waiting for wandb.init()...\\r'), FloatProgress(value=0.01666845876655619, max=1.0)…"
      ]
     },
     "metadata": {},
     "output_type": "display_data"
    }
   ],
   "source": [
    "run = wandb.init()\n",
    "links = {\n",
    "    \"GOOD_AVERAGE_glamorous-sweep-62\": \"mmil_vae_g2d/voice_distribution_and_genre_distribution_imbalance/model_epoch_100:v283\",\n",
    "    \"GOOD_azure-sweep-54\": \"mmil_vae_g2d/voice_distribution_and_genre_distribution_imbalance/model_epoch_100:v279\",\n",
    "    \"GOOD_apricot-sweep-17\": \"mmil_vae_g2d/voice_distribution_and_genre_distribution_imbalance/model_epoch_100:v242\",\n",
    "    \"GOOD_hearty-sweep-60\": \"mmil_vae_g2d/voice_distribution_and_genre_distribution_imbalance/model_epoch_100:v280\",\n",
    "    \"GOOD_worldly-sweep-22\": \"mmil_vae_g2d/voice_distribution_and_genre_distribution_imbalance/model_epoch_100:v245\",\n",
    "    \"GOOD_legendary-sweep-5\": \"mmil_vae_g2d/voice_distribution_and_genre_distribution_imbalance/model_epoch_100:v230\",\n",
    "    \"drawn_river_6\": \"mmil_vae_g2d/beta_annealing_study/model_epoch_100:v2\",\n",
    "    \"worldly-firebrand-5\": \"mmil_vae_g2d/beta_annealing_study/model_epoch_100:v1\",\n",
    "    \"noble-field-7\": \"mmil_vae_g2d/beta_annealing_study/model_epoch_100:v3\",\n",
    "    \"young-violet-12\": \"mmil_vae_g2d/beta_annealing_study/model_epoch_700:v0\",\n",
    "    \"kind-gorge-14\": \"mmil_vae_g2d/beta_annealing_study/model_epoch_500:v1\",\n",
    "    \"confused-feather-17\": \"mmil_vae_g2d/beta_annealing_study/model_epoch_090:v0\"\n",
    "    \n",
    "}\n",
    "run_name = \"confused-feather-17\"\n",
    "artifact = run.use_artifact(links[run_name], type='model')\n",
    "artifact_dir = artifact.download()"
   ]
  },
  {
   "cell_type": "markdown",
   "id": "3b6594e9",
   "metadata": {
    "pycharm": {
     "name": "#%%\n"
    }
   },
   "source": []
  },
  {
   "cell_type": "code",
   "execution_count": 45,
   "id": "d5b6d50d",
   "metadata": {
    "pycharm": {
     "name": "#%%\n"
    }
   },
   "outputs": [
    {
     "name": "stderr",
     "output_type": "stream",
     "text": [
      "INFO:data.Base.dataLoaders:Loading gmd dataset\n",
      "INFO:data.Base.dataLoaders:Loading Cached Version from: data/gmd/resources/cached/beat_division_factor_[4]/drum_mapping_label_ROLAND_REDUCED_MAPPING/beat_type_['beat']_time_signature_['4-4']\n"
     ]
    }
   ],
   "source": [
    "from data import load_gmd_hvo_sequences\n",
    "\n",
    "test_set = load_gmd_hvo_sequences(\n",
    "    dataset_setting_json_path = \"../../data/dataset_json_settings/4_4_Beats_gmd.json\", \n",
    "    subset_tag = \"test\", \n",
    "    force_regenerate=False)"
   ]
  },
  {
   "cell_type": "code",
   "execution_count": 46,
   "id": "a5626153",
   "metadata": {
    "pycharm": {
     "name": "#%%\n"
    }
   },
   "outputs": [
    {
     "name": "stdout",
     "output_type": "stream",
     "text": [
      "Offset activation is sigmoid, bias is initialized to 0.5\n"
     ]
    }
   ],
   "source": [
    "model = load_variational_mgt_model(os.path.join(artifact_dir, \"090.pth\"))"
   ]
  },
  {
   "cell_type": "code",
   "execution_count": 47,
   "id": "499d4197",
   "metadata": {
    "pycharm": {
     "name": "#%%\n"
    }
   },
   "outputs": [
    {
     "data": {
      "text/plain": [
       "{'Source': 'Groove MIDI Dataset',\n",
       " 'drummer': 'drummer1',\n",
       " 'session': 'eval_session',\n",
       " 'loop_id': 'drummer1/eval_session/10:000',\n",
       " 'master_id': 'drummer1/eval_session/10',\n",
       " 'style_primary': 'soul',\n",
       " 'style_secondary': 'groove10',\n",
       " 'bpm': '102',\n",
       " 'beat_type': 'beat',\n",
       " 'time_signature': '4-4',\n",
       " 'full_midi_filename': 'drummer1/eval_session/10_soul-groove10_102_beat_4-4.mid',\n",
       " 'full_audio_filename': 'drummer1/eval_session/10_soul-groove10_102_beat_4-4.wav'}"
      ]
     },
     "execution_count": 47,
     "metadata": {},
     "output_type": "execute_result"
    }
   ],
   "source": [
    "gt_sample = test_set[0]\n",
    "groove = torch.tensor([gt_sample.flatten_voices(reduce_dim=True)], dtype=torch.float32)\n",
    "gt_sample.metadata"
   ]
  },
  {
   "cell_type": "code",
   "execution_count": null,
   "id": "c618187b",
   "metadata": {
    "pycharm": {
     "name": "#%%\n"
    }
   },
   "outputs": [],
   "source": []
  },
  {
   "cell_type": "code",
   "execution_count": 48,
   "id": "46df4459",
   "metadata": {
    "pycharm": {
     "name": "#%%\n"
    }
   },
   "outputs": [
    {
     "data": {
      "text/plain": [
       "tensor([[-0.6900, -0.4444,  0.3034,  0.1347,  0.9214,  0.2585, -0.6418, -1.0061,\n",
       "          0.8347, -1.5086,  1.0133,  3.6551, -0.1974,  0.4088,  0.8435,  0.3896,\n",
       "         -0.2774,  0.0580, -0.6307,  0.4291, -0.3979,  1.8178, -2.7101,  0.0621,\n",
       "         -0.0853, -1.5414,  0.1522, -1.5367, -1.8749,  2.0110, -1.8613,  1.2111,\n",
       "          0.3769,  1.3507,  0.2016, -0.5687,  0.2932,  0.8866, -0.7119,  0.8716,\n",
       "         -1.4853,  0.1980, -0.0418, -2.5995, -1.1396, -0.6304,  2.1820,  0.1831,\n",
       "          0.1847,  0.0907,  0.2572, -0.1507, -1.9242, -0.5474,  0.1977,  0.2870,\n",
       "          0.5377, -1.3959, -0.8147, -1.7201, -0.0761, -0.2512, -0.5325, -0.6322,\n",
       "          0.5361, -1.8775, -0.5158,  0.6766, -0.1270,  1.5611,  0.3009,  0.7009,\n",
       "         -0.0947,  1.3176, -0.3054, -0.4037, -1.3737,  1.0943,  0.8008,  0.4314,\n",
       "          0.3708, -1.1106, -0.0508, -0.1025, -0.9768,  0.1179,  0.8844,  0.9830,\n",
       "          0.8999,  0.2081,  1.7322, -0.9414, -0.5995,  0.0268,  0.7533, -1.2559,\n",
       "          0.4019, -1.1851, -0.9713, -1.0694, -0.7145, -0.8325,  0.2337, -0.1128,\n",
       "          1.1426, -0.1268, -1.3307,  0.5823, -1.2128, -0.0298,  1.1676,  0.0160,\n",
       "          0.5591,  0.4678, -0.2528, -0.8626, -0.7536, -0.4458,  0.6444,  0.0100,\n",
       "         -0.6495, -0.9848, -0.7574, -1.1535,  0.7562, -0.8226,  0.7502, -0.7600]])"
      ]
     },
     "execution_count": 48,
     "metadata": {},
     "output_type": "execute_result"
    }
   ],
   "source": [
    "mu, logvar = model.encode_to_mu_logvar(groove)\n",
    "latent_z = model.reparametrize(mu, logvar)\n",
    "latent_z"
   ]
  },
  {
   "cell_type": "code",
   "execution_count": null,
   "id": "8914f220",
   "metadata": {
    "pycharm": {
     "name": "#%%\n"
    }
   },
   "outputs": [],
   "source": []
  },
  {
   "cell_type": "code",
   "execution_count": 49,
   "id": "778ba17d",
   "metadata": {
    "pycharm": {
     "name": "#%%\n"
    }
   },
   "outputs": [
    {
     "name": "stdout",
     "output_type": "stream",
     "text": [
      "tensor([[[0., 0., 0., 0., 0., 0., 0., 0., 0.],\n",
      "         [0., 0., 0., 0., 0., 0., 0., 0., 0.],\n",
      "         [0., 0., 1., 0., 0., 0., 0., 0., 0.],\n",
      "         [0., 0., 0., 0., 0., 0., 0., 0., 0.],\n",
      "         [0., 1., 1., 0., 0., 0., 0., 0., 0.],\n",
      "         [0., 0., 0., 0., 0., 0., 0., 0., 0.],\n",
      "         [0., 0., 1., 0., 0., 0., 0., 0., 0.],\n",
      "         [0., 0., 0., 0., 0., 0., 0., 0., 0.],\n",
      "         [1., 0., 1., 0., 0., 0., 0., 0., 0.],\n",
      "         [0., 0., 0., 0., 0., 0., 0., 0., 0.],\n",
      "         [1., 0., 1., 0., 0., 0., 0., 0., 0.],\n",
      "         [0., 0., 0., 0., 0., 0., 0., 0., 0.],\n",
      "         [0., 1., 1., 0., 0., 0., 0., 0., 0.],\n",
      "         [0., 0., 0., 0., 0., 0., 0., 0., 0.],\n",
      "         [0., 0., 1., 0., 0., 0., 0., 0., 0.],\n",
      "         [0., 1., 0., 0., 0., 0., 0., 0., 0.],\n",
      "         [1., 0., 1., 0., 0., 0., 0., 0., 0.],\n",
      "         [0., 0., 0., 0., 0., 0., 0., 0., 0.],\n",
      "         [0., 0., 1., 0., 0., 0., 0., 0., 0.],\n",
      "         [0., 0., 0., 0., 0., 0., 0., 0., 0.],\n",
      "         [0., 1., 1., 0., 0., 0., 0., 0., 0.],\n",
      "         [0., 0., 0., 0., 0., 0., 0., 0., 0.],\n",
      "         [0., 0., 1., 0., 0., 0., 0., 0., 0.],\n",
      "         [0., 0., 0., 0., 0., 0., 0., 0., 0.],\n",
      "         [1., 0., 1., 0., 0., 0., 0., 0., 0.],\n",
      "         [0., 0., 0., 0., 0., 0., 0., 0., 0.],\n",
      "         [1., 0., 1., 0., 0., 0., 0., 0., 0.],\n",
      "         [0., 0., 0., 0., 0., 0., 0., 0., 0.],\n",
      "         [0., 1., 1., 0., 0., 0., 0., 0., 0.],\n",
      "         [0., 0., 0., 0., 0., 0., 0., 0., 0.],\n",
      "         [0., 0., 1., 0., 0., 0., 0., 0., 0.],\n",
      "         [0., 1., 0., 0., 0., 0., 0., 0., 0.]]]) tensor([[[7.2326e-02, 9.6789e-03, 6.5679e-02, 3.3120e-03, 9.4615e-04,\n",
      "          3.7955e-04, 2.1141e-03, 9.5996e-03, 2.3788e-02],\n",
      "         [1.8496e-03, 1.3161e-02, 1.6099e-03, 2.5176e-04, 1.3748e-04,\n",
      "          8.9993e-05, 4.5951e-04, 5.0288e-05, 5.8312e-04],\n",
      "         [8.9156e-02, 3.4353e-02, 3.1762e-01, 6.6765e-02, 4.8338e-03,\n",
      "          1.5395e-03, 3.3349e-03, 3.2682e-03, 8.7500e-02],\n",
      "         [1.6531e-03, 1.2793e-03, 1.4664e-03, 1.3247e-04, 5.6985e-05,\n",
      "          1.7047e-05, 6.0119e-05, 1.8437e-05, 4.0183e-04],\n",
      "         [4.9482e-02, 8.0355e-01, 4.4267e-01, 2.4931e-02, 7.0264e-03,\n",
      "          1.2878e-03, 2.4123e-03, 8.6688e-03, 1.1980e-01],\n",
      "         [2.0647e-03, 1.0213e-02, 1.7364e-03, 1.7229e-04, 7.9944e-05,\n",
      "          3.1275e-05, 2.1881e-04, 3.2028e-05, 5.9344e-04],\n",
      "         [6.3611e-02, 3.2654e-02, 4.0128e-01, 2.4965e-02, 4.2223e-03,\n",
      "          1.1960e-03, 1.5919e-03, 4.0001e-03, 1.0045e-01],\n",
      "         [1.1966e-02, 6.7402e-02, 1.2333e-02, 8.8639e-04, 3.0895e-04,\n",
      "          1.5429e-04, 9.2058e-04, 1.4017e-04, 3.8438e-03],\n",
      "         [2.2386e-01, 2.4426e-02, 3.1928e-01, 1.2663e-02, 3.8181e-03,\n",
      "          6.7461e-04, 1.4410e-03, 8.7543e-03, 8.5605e-02],\n",
      "         [1.6468e-03, 1.2398e-02, 1.6469e-03, 2.1746e-04, 1.1574e-04,\n",
      "          5.1305e-05, 2.7786e-04, 5.1448e-05, 6.7708e-04],\n",
      "         [1.8168e-01, 4.8732e-02, 3.1432e-01, 1.0644e-01, 5.6871e-03,\n",
      "          2.1969e-03, 4.2436e-03, 3.0226e-03, 1.1163e-01],\n",
      "         [9.3338e-04, 2.7083e-03, 1.0000e-03, 9.3049e-05, 5.8357e-05,\n",
      "          2.4118e-05, 8.6307e-05, 1.1340e-05, 3.1435e-04],\n",
      "         [3.9278e-02, 7.7419e-01, 4.7305e-01, 1.9346e-02, 8.4877e-03,\n",
      "          1.5310e-03, 3.1300e-03, 5.8296e-03, 1.1199e-01],\n",
      "         [6.2792e-03, 4.7372e-02, 7.7333e-03, 3.6509e-04, 6.6773e-04,\n",
      "          3.1967e-04, 1.4907e-03, 1.1214e-04, 1.0848e-03],\n",
      "         [3.8268e-02, 5.4421e-02, 3.4923e-01, 1.9264e-02, 6.1476e-03,\n",
      "          2.0412e-03, 3.3107e-03, 5.0811e-03, 9.2379e-02],\n",
      "         [1.1429e-02, 1.2562e-01, 1.8252e-02, 1.5646e-03, 8.4237e-04,\n",
      "          4.4983e-04, 3.2331e-03, 3.0147e-04, 4.6898e-03],\n",
      "         [3.2946e-01, 3.1567e-02, 3.5387e-01, 1.4678e-02, 2.9861e-03,\n",
      "          1.2898e-03, 2.4643e-03, 1.7588e-02, 1.0518e-01],\n",
      "         [1.8289e-03, 1.9094e-02, 1.9283e-03, 2.6552e-04, 1.3297e-04,\n",
      "          1.0503e-04, 5.4924e-04, 5.7888e-05, 7.2579e-04],\n",
      "         [1.1226e-01, 4.3701e-02, 3.4179e-01, 8.5474e-02, 6.0704e-03,\n",
      "          2.5554e-03, 5.9396e-03, 2.2406e-03, 1.0609e-01],\n",
      "         [2.5796e-03, 2.5986e-03, 3.2855e-03, 2.1387e-04, 1.0055e-04,\n",
      "          4.1790e-05, 9.4898e-05, 2.0672e-05, 6.6430e-04],\n",
      "         [5.7929e-02, 7.8101e-01, 4.3119e-01, 2.1210e-02, 8.7988e-03,\n",
      "          1.6453e-03, 3.3175e-03, 9.9206e-03, 1.2290e-01],\n",
      "         [1.2695e-03, 6.8679e-03, 1.1459e-03, 1.4021e-04, 7.2309e-05,\n",
      "          2.8628e-05, 1.8503e-04, 1.7870e-05, 4.2681e-04],\n",
      "         [5.3494e-02, 3.2503e-02, 4.1466e-01, 2.9655e-02, 4.7390e-03,\n",
      "          1.5876e-03, 2.0618e-03, 3.7367e-03, 9.9092e-02],\n",
      "         [1.1647e-02, 6.3859e-02, 9.4985e-03, 4.7635e-04, 2.8879e-04,\n",
      "          2.3540e-04, 1.3918e-03, 1.0951e-04, 2.2097e-03],\n",
      "         [2.3806e-01, 3.2165e-02, 3.4706e-01, 1.8915e-02, 5.1926e-03,\n",
      "          1.1853e-03, 1.8202e-03, 8.8884e-03, 9.6261e-02],\n",
      "         [2.5830e-03, 2.4290e-02, 2.5937e-03, 2.9831e-04, 2.3897e-04,\n",
      "          1.3153e-04, 6.3120e-04, 7.4179e-05, 9.2466e-04],\n",
      "         [1.9246e-01, 5.6741e-02, 3.3334e-01, 1.5196e-01, 8.3673e-03,\n",
      "          3.1660e-03, 6.1725e-03, 3.4274e-03, 1.1713e-01],\n",
      "         [1.4723e-03, 6.4880e-03, 2.1800e-03, 1.5403e-04, 1.3800e-04,\n",
      "          7.5810e-05, 2.6157e-04, 2.4729e-05, 6.5180e-04],\n",
      "         [4.7171e-02, 7.5188e-01, 4.6726e-01, 2.0251e-02, 1.6579e-02,\n",
      "          4.8027e-03, 8.1443e-03, 6.5516e-03, 1.0402e-01],\n",
      "         [9.5707e-03, 9.3342e-02, 1.1549e-02, 7.1591e-04, 1.5052e-03,\n",
      "          9.9051e-04, 3.7071e-03, 1.5943e-04, 1.1991e-03],\n",
      "         [4.6861e-02, 7.5266e-02, 3.4085e-01, 3.9547e-02, 1.1011e-02,\n",
      "          5.7351e-03, 5.9884e-03, 3.5454e-03, 9.1646e-02],\n",
      "         [1.1334e-02, 1.4710e-01, 1.9072e-02, 1.6542e-03, 2.2096e-03,\n",
      "          1.2982e-03, 8.0130e-03, 4.2825e-04, 4.1389e-03]]]) tensor([[[ 4.0096e-02,  2.9129e-04,  1.6761e-02, -7.5376e-04,  1.4834e-03,\n",
      "          -6.7192e-04,  9.6703e-04,  9.5249e-03, -5.2647e-03],\n",
      "         [-2.9239e-02, -1.9623e-02,  1.3085e-03, -1.1247e-03,  1.7700e-03,\n",
      "           5.4926e-04, -1.0020e-02, -4.2981e-04, -3.1700e-03],\n",
      "         [-5.1871e-02, -2.6535e-02, -6.6844e-02, -1.5446e-02, -8.2940e-04,\n",
      "          -8.1387e-04, -6.1274e-05, -1.6075e-03, -2.9573e-02],\n",
      "         [-9.3997e-03, -3.2801e-03,  1.0272e-02, -3.1950e-03, -2.4046e-03,\n",
      "          -1.5911e-03, -4.4549e-03, -2.0992e-03,  1.7172e-03],\n",
      "         [ 4.9840e-03, -9.0497e-02, -1.0066e-01, -4.3897e-03, -1.2170e-03,\n",
      "          -1.9135e-03, -4.1246e-03,  2.5809e-03, -8.0481e-03],\n",
      "         [ 2.5161e-03, -2.0907e-02,  8.8874e-03, -1.6334e-03,  1.2326e-04,\n",
      "           1.4722e-03, -4.1255e-03, -5.3293e-03, -1.7022e-03],\n",
      "         [-4.5122e-02, -1.3201e-02, -6.3866e-02, -1.0789e-02, -2.0479e-03,\n",
      "          -2.7104e-03, -2.8427e-03, -2.8729e-03, -1.9233e-02],\n",
      "         [ 1.2267e-02, -1.3934e-02,  1.2879e-02,  1.8730e-03,  2.7609e-03,\n",
      "           1.5912e-03,  2.9582e-04, -1.2980e-03, -3.4557e-03],\n",
      "         [-6.4626e-02, -2.6502e-02, -9.5127e-02, -3.6667e-03, -3.7242e-03,\n",
      "          -8.2451e-04, -6.0625e-03, -7.2154e-04, -3.0075e-02],\n",
      "         [-2.0457e-02, -1.5953e-02,  2.8235e-03, -1.0750e-04,  2.8425e-03,\n",
      "           3.2811e-03, -4.7423e-03, -1.2722e-03, -2.4491e-03],\n",
      "         [-8.5272e-02, -2.2851e-02, -6.3953e-02, -1.9359e-02, -9.9578e-04,\n",
      "          -1.7603e-03, -1.6240e-03,  8.0520e-04, -3.3274e-02],\n",
      "         [ 9.7376e-04, -1.2613e-02,  8.5405e-03, -1.3601e-03, -5.0417e-04,\n",
      "          -1.5900e-03, -3.1554e-03, -1.9764e-03, -2.3564e-03],\n",
      "         [-9.7631e-03, -9.7942e-02, -1.1318e-01, -3.6233e-03, -3.4239e-03,\n",
      "          -1.3006e-03, -1.8939e-03,  1.3779e-03, -1.2913e-02],\n",
      "         [ 3.3718e-04, -2.9106e-02,  3.3937e-03,  4.9412e-05,  3.4183e-04,\n",
      "          -1.7666e-03,  7.0995e-04, -1.2107e-03,  3.1890e-03],\n",
      "         [-2.8590e-02, -2.4826e-02, -7.5708e-02, -9.1088e-03, -3.6624e-03,\n",
      "          -3.7332e-03, -8.9357e-03, -1.4695e-03, -2.3162e-02],\n",
      "         [ 5.4995e-03, -3.6105e-02,  2.2278e-03,  2.8806e-03,  2.7434e-03,\n",
      "           4.6086e-04, -3.1479e-03,  1.1419e-03, -3.5623e-04],\n",
      "         [-8.9617e-02, -3.8678e-02, -9.0310e-02, -2.1718e-03, -2.3919e-03,\n",
      "          -2.0801e-03, -5.2852e-03, -1.2960e-03, -2.5722e-02],\n",
      "         [-2.1558e-02, -1.5593e-02, -3.2040e-04, -6.1804e-04,  3.4823e-03,\n",
      "           1.0874e-03, -8.4626e-03,  1.8678e-03,  1.9437e-04],\n",
      "         [-5.9561e-02, -2.4496e-02, -6.8516e-02, -1.9031e-02, -7.5340e-04,\n",
      "          -2.0083e-03,  3.9122e-03, -1.9468e-03, -2.9638e-02],\n",
      "         [-1.0641e-02, -2.6280e-03,  9.4209e-03, -4.5266e-03, -1.5581e-03,\n",
      "          -3.2148e-03, -6.0393e-03, -3.0496e-03,  1.0152e-03],\n",
      "         [ 3.7189e-03, -9.5774e-02, -1.1629e-01, -4.2532e-03, -4.1607e-03,\n",
      "          -3.0450e-03, -9.3298e-03,  4.1963e-03, -1.6070e-02],\n",
      "         [-3.3326e-03, -1.9987e-02,  5.1595e-03, -2.0127e-03, -2.3675e-04,\n",
      "           1.2435e-03, -5.1682e-03, -3.5458e-03,  1.4834e-03],\n",
      "         [-3.9421e-02, -1.1853e-02, -5.4810e-02, -1.0804e-02, -1.1353e-03,\n",
      "          -3.3126e-03, -4.5405e-03, -2.3550e-03, -1.6967e-02],\n",
      "         [ 5.9747e-03, -2.1225e-02,  8.8423e-03,  3.8731e-03,  3.0290e-03,\n",
      "           6.7109e-04, -4.4329e-03, -8.9771e-04, -3.2034e-03],\n",
      "         [-7.1078e-02, -2.4711e-02, -1.0044e-01, -3.7091e-03, -3.4741e-03,\n",
      "          -1.3229e-03, -6.4986e-03, -2.0730e-03, -2.7744e-02],\n",
      "         [-1.7242e-02, -2.4499e-02,  8.3269e-03,  1.4913e-04,  2.0391e-03,\n",
      "           5.8484e-04, -7.0404e-03,  1.0525e-03, -4.9805e-03],\n",
      "         [-7.9049e-02, -1.8918e-02, -6.7976e-02, -1.9513e-02, -1.8459e-03,\n",
      "          -1.7079e-03, -2.3733e-03, -6.1223e-04, -2.9916e-02],\n",
      "         [-5.7608e-03, -8.2472e-03,  1.0129e-02, -1.9192e-03, -5.6347e-04,\n",
      "          -2.1022e-03, -5.2796e-03, -8.4710e-04, -4.8143e-04],\n",
      "         [-1.0798e-02, -9.0410e-02, -1.2525e-01, -8.7240e-04, -4.8763e-03,\n",
      "          -3.8342e-03, -4.9860e-03, -8.8066e-05, -1.7641e-02],\n",
      "         [-7.4840e-04, -2.9560e-02,  1.0194e-02, -1.6763e-03,  2.0944e-03,\n",
      "          -3.8349e-03, -5.8000e-03,  7.6860e-04,  6.0818e-03],\n",
      "         [-4.2517e-02, -3.4878e-02, -6.3687e-02, -1.0208e-02, -3.1770e-03,\n",
      "          -6.0660e-03, -1.1697e-02, -2.7390e-03, -2.2405e-02],\n",
      "         [-5.7412e-03, -3.5073e-02,  1.1166e-02,  9.8234e-04,  1.7405e-05,\n",
      "          -2.8651e-03, -1.0380e-02,  2.3534e-03,  1.6484e-03]]])\n"
     ]
    }
   ],
   "source": [
    "voice_thresholds = [0.5] * 9\n",
    "voice_max_count_allowed = [32] * 9\n",
    "h, v, o = model.sample(latent_z=latent_z,\n",
    "                       voice_thresholds=voice_thresholds,\n",
    "                       voice_max_count_allowed=voice_max_count_allowed,\n",
    "                       return_concatenated=False,\n",
    "                       sampling_mode=0)\n",
    "print(h, v, o)"
   ]
  },
  {
   "cell_type": "code",
   "execution_count": null,
   "id": "f683176e",
   "metadata": {
    "pycharm": {
     "name": "#%%\n"
    }
   },
   "outputs": [],
   "source": []
  },
  {
   "cell_type": "code",
   "execution_count": 50,
   "id": "ea5d6f37",
   "metadata": {
    "pycharm": {
     "name": "#%%\n"
    }
   },
   "outputs": [],
   "source": [
    "latents = []\n",
    "labels = []\n",
    "metadatas = []\n",
    "use_all_styles = True\n",
    "\n",
    "for gt_sample in test_set:\n",
    "    if (use_all_styles or (gt_sample.metadata[\"style_primary\"] in [\"rock\", \"funk\", \"afrobeat\"])):\n",
    "        metadatas.append(gt_sample.metadata)\n",
    "        labels.append(gt_sample.metadata[\"style_primary\"])\n",
    "        groove = torch.zeros((1, 32, 3))\n",
    "        flattened_ = torch.tensor([gt_sample.flatten_voices(reduce_dim=True)], dtype=torch.float32)[:,:32, :]\n",
    "        t_steps = flattened_.shape[1]\n",
    "        groove[:, :t_steps, :] = flattened_\n",
    "        mu, logvar = model.encode_to_mu_logvar(groove)\n",
    "        latent_z = model.reparametrize(mu, logvar)\n",
    "        latents.append(latent_z.detach().cpu().numpy())\n",
    "\n",
    "latents = np.array(latents).squeeze(1)\n",
    "features = np.expand_dims(latents, -1) # we use each dimension of latent_z as a feature\n",
    "feature_labels = [f\"z_{dim}\" for dim in range(features.shape[1])]"
   ]
  },
  {
   "cell_type": "code",
   "execution_count": null,
   "id": "e43d19f3",
   "metadata": {
    "pycharm": {
     "name": "#%%\n"
    }
   },
   "outputs": [],
   "source": []
  },
  {
   "cell_type": "code",
   "execution_count": 51,
   "id": "6a7d4beb",
   "metadata": {
    "pycharm": {
     "name": "#%%\n"
    }
   },
   "outputs": [
    {
     "data": {
      "text/html": [
       "<div>\n",
       "<style scoped>\n",
       "    .dataframe tbody tr th:only-of-type {\n",
       "        vertical-align: middle;\n",
       "    }\n",
       "\n",
       "    .dataframe tbody tr th {\n",
       "        vertical-align: top;\n",
       "    }\n",
       "\n",
       "    .dataframe thead th {\n",
       "        text-align: right;\n",
       "    }\n",
       "</style>\n",
       "<table border=\"1\" class=\"dataframe\">\n",
       "  <thead>\n",
       "    <tr style=\"text-align: right;\">\n",
       "      <th></th>\n",
       "      <th>style_primary</th>\n",
       "      <th>z_0</th>\n",
       "      <th>z_1</th>\n",
       "      <th>z_2</th>\n",
       "      <th>z_3</th>\n",
       "      <th>z_4</th>\n",
       "      <th>z_5</th>\n",
       "      <th>z_6</th>\n",
       "      <th>z_7</th>\n",
       "      <th>z_8</th>\n",
       "      <th>...</th>\n",
       "      <th>z_118</th>\n",
       "      <th>z_119</th>\n",
       "      <th>z_120</th>\n",
       "      <th>z_121</th>\n",
       "      <th>z_122</th>\n",
       "      <th>z_123</th>\n",
       "      <th>z_124</th>\n",
       "      <th>z_125</th>\n",
       "      <th>z_126</th>\n",
       "      <th>z_127</th>\n",
       "    </tr>\n",
       "  </thead>\n",
       "  <tbody>\n",
       "    <tr>\n",
       "      <th>0</th>\n",
       "      <td>soul</td>\n",
       "      <td>0.979023</td>\n",
       "      <td>0.233069</td>\n",
       "      <td>0.111509</td>\n",
       "      <td>-0.504703</td>\n",
       "      <td>2.631382</td>\n",
       "      <td>1.752098</td>\n",
       "      <td>2.560483</td>\n",
       "      <td>1.410372</td>\n",
       "      <td>1.800011</td>\n",
       "      <td>...</td>\n",
       "      <td>-0.808512</td>\n",
       "      <td>0.571675</td>\n",
       "      <td>-0.014047</td>\n",
       "      <td>-0.317053</td>\n",
       "      <td>-0.762000</td>\n",
       "      <td>1.281474</td>\n",
       "      <td>0.140603</td>\n",
       "      <td>0.006950</td>\n",
       "      <td>0.514216</td>\n",
       "      <td>0.344799</td>\n",
       "    </tr>\n",
       "    <tr>\n",
       "      <th>1</th>\n",
       "      <td>soul</td>\n",
       "      <td>-2.879863</td>\n",
       "      <td>-1.257560</td>\n",
       "      <td>-0.185040</td>\n",
       "      <td>0.118882</td>\n",
       "      <td>1.159302</td>\n",
       "      <td>0.743724</td>\n",
       "      <td>-0.208088</td>\n",
       "      <td>-0.228568</td>\n",
       "      <td>-2.161211</td>\n",
       "      <td>...</td>\n",
       "      <td>0.499796</td>\n",
       "      <td>-0.505619</td>\n",
       "      <td>0.637984</td>\n",
       "      <td>-2.138556</td>\n",
       "      <td>0.382957</td>\n",
       "      <td>-0.639571</td>\n",
       "      <td>0.179651</td>\n",
       "      <td>-1.035419</td>\n",
       "      <td>-0.065432</td>\n",
       "      <td>-1.437978</td>\n",
       "    </tr>\n",
       "    <tr>\n",
       "      <th>2</th>\n",
       "      <td>soul</td>\n",
       "      <td>-1.170722</td>\n",
       "      <td>-1.886661</td>\n",
       "      <td>-0.449983</td>\n",
       "      <td>-0.663444</td>\n",
       "      <td>1.399997</td>\n",
       "      <td>-0.290256</td>\n",
       "      <td>0.301659</td>\n",
       "      <td>0.001132</td>\n",
       "      <td>-1.826960</td>\n",
       "      <td>...</td>\n",
       "      <td>1.817958</td>\n",
       "      <td>0.925579</td>\n",
       "      <td>0.261184</td>\n",
       "      <td>-0.513301</td>\n",
       "      <td>-1.698608</td>\n",
       "      <td>0.529939</td>\n",
       "      <td>-0.148180</td>\n",
       "      <td>-0.787439</td>\n",
       "      <td>-2.422021</td>\n",
       "      <td>0.403708</td>\n",
       "    </tr>\n",
       "    <tr>\n",
       "      <th>3</th>\n",
       "      <td>soul</td>\n",
       "      <td>-2.157297</td>\n",
       "      <td>-0.378227</td>\n",
       "      <td>0.249099</td>\n",
       "      <td>-0.392280</td>\n",
       "      <td>-0.131119</td>\n",
       "      <td>0.760492</td>\n",
       "      <td>-0.543589</td>\n",
       "      <td>-0.886329</td>\n",
       "      <td>-0.038678</td>\n",
       "      <td>...</td>\n",
       "      <td>1.672265</td>\n",
       "      <td>-0.934707</td>\n",
       "      <td>1.234030</td>\n",
       "      <td>0.396867</td>\n",
       "      <td>-0.783238</td>\n",
       "      <td>-0.612750</td>\n",
       "      <td>1.432293</td>\n",
       "      <td>1.400588</td>\n",
       "      <td>1.634989</td>\n",
       "      <td>-0.319299</td>\n",
       "    </tr>\n",
       "    <tr>\n",
       "      <th>4</th>\n",
       "      <td>soul</td>\n",
       "      <td>-1.505247</td>\n",
       "      <td>0.859131</td>\n",
       "      <td>-0.842252</td>\n",
       "      <td>0.223342</td>\n",
       "      <td>-0.079079</td>\n",
       "      <td>0.245053</td>\n",
       "      <td>-0.249977</td>\n",
       "      <td>0.785670</td>\n",
       "      <td>0.132599</td>\n",
       "      <td>...</td>\n",
       "      <td>-1.096236</td>\n",
       "      <td>-0.075319</td>\n",
       "      <td>-1.715709</td>\n",
       "      <td>-0.346729</td>\n",
       "      <td>-1.290694</td>\n",
       "      <td>-0.274146</td>\n",
       "      <td>-0.261431</td>\n",
       "      <td>-0.168129</td>\n",
       "      <td>1.380819</td>\n",
       "      <td>-1.254665</td>\n",
       "    </tr>\n",
       "  </tbody>\n",
       "</table>\n",
       "<p>5 rows × 129 columns</p>\n",
       "</div>"
      ],
      "text/plain": [
       "  style_primary       z_0       z_1       z_2       z_3       z_4       z_5  \\\n",
       "0          soul  0.979023  0.233069  0.111509 -0.504703  2.631382  1.752098   \n",
       "1          soul -2.879863 -1.257560 -0.185040  0.118882  1.159302  0.743724   \n",
       "2          soul -1.170722 -1.886661 -0.449983 -0.663444  1.399997 -0.290256   \n",
       "3          soul -2.157297 -0.378227  0.249099 -0.392280 -0.131119  0.760492   \n",
       "4          soul -1.505247  0.859131 -0.842252  0.223342 -0.079079  0.245053   \n",
       "\n",
       "        z_6       z_7       z_8  ...     z_118     z_119     z_120     z_121  \\\n",
       "0  2.560483  1.410372  1.800011  ... -0.808512  0.571675 -0.014047 -0.317053   \n",
       "1 -0.208088 -0.228568 -2.161211  ...  0.499796 -0.505619  0.637984 -2.138556   \n",
       "2  0.301659  0.001132 -1.826960  ...  1.817958  0.925579  0.261184 -0.513301   \n",
       "3 -0.543589 -0.886329 -0.038678  ...  1.672265 -0.934707  1.234030  0.396867   \n",
       "4 -0.249977  0.785670  0.132599  ... -1.096236 -0.075319 -1.715709 -0.346729   \n",
       "\n",
       "      z_122     z_123     z_124     z_125     z_126     z_127  \n",
       "0 -0.762000  1.281474  0.140603  0.006950  0.514216  0.344799  \n",
       "1  0.382957 -0.639571  0.179651 -1.035419 -0.065432 -1.437978  \n",
       "2 -1.698608  0.529939 -0.148180 -0.787439 -2.422021  0.403708  \n",
       "3 -0.783238 -0.612750  1.432293  1.400588  1.634989 -0.319299  \n",
       "4 -1.290694 -0.274146 -0.261431 -0.168129  1.380819 -1.254665  \n",
       "\n",
       "[5 rows x 129 columns]"
      ]
     },
     "execution_count": 51,
     "metadata": {},
     "output_type": "execute_result"
    }
   ],
   "source": [
    "data = {\"style_primary\": [style for style in labels]}\n",
    "data.update({f\"z_{dim_i}\": latents[:, dim_i] for dim_i in range(features.shape[1])})\n",
    "df = pd.DataFrame(data)\n",
    "df.head()"
   ]
  },
  {
   "cell_type": "code",
   "execution_count": 52,
   "id": "7d9fe8cf",
   "metadata": {},
   "outputs": [],
   "source": [
    "use_z_dims = np.arange(32, 64, 1)\n",
    "umap_df_keys = [f\"z_{ix}\" for ix in use_z_dims]\n",
    "umap_df = df\n",
    "for key in df.keys():\n",
    "    umap_df = umap_df if key in umap_df_keys else umap_df.drop(key, axis=1)\n"
   ]
  },
  {
   "cell_type": "code",
   "execution_count": 53,
   "id": "77149a54",
   "metadata": {
    "pycharm": {
     "name": "#%%\n"
    }
   },
   "outputs": [],
   "source": [
    "embedding_dims = 2\n",
    "umap = UMAP(n_components=embedding_dims, metric=\"cosine\", n_neighbors=20)\n",
    "embeddings = umap.fit_transform(umap_df)"
   ]
  },
  {
   "cell_type": "code",
   "execution_count": 54,
   "id": "99cd0cbf",
   "metadata": {
    "pycharm": {
     "name": "#%%\n"
    }
   },
   "outputs": [],
   "source": [
    "\n",
    "\n",
    "\n",
    "styles = sorted(df.style_primary.unique())\n",
    "hues = inferno(len(styles))\n",
    "hues = Category20b[20]\n",
    "style_hue_map = {f\"{style}\": hues[i] for i, style in enumerate(styles)}\n",
    "\n",
    "\n",
    "\n",
    "marker_map = {style: bases[ix] for ix, style in enumerate(styles)}"
   ]
  },
  {
   "cell_type": "code",
   "execution_count": 55,
   "id": "3dde59dc",
   "metadata": {
    "pycharm": {
     "name": "#%%\n"
    }
   },
   "outputs": [
    {
     "data": {
      "text/html": [
       "\n",
       "  <div class=\"bk-root\" id=\"87690506-a8b1-4fe3-91ca-60014f66c0e2\" data-root-id=\"4331\"></div>\n"
      ]
     },
     "metadata": {},
     "output_type": "display_data"
    },
    {
     "data": {
      "application/javascript": [
       "(function(root) {\n",
       "  function embed_document(root) {\n",
       "  const docs_json = {\"c97b763a-d52f-488f-bf4a-2b6766cd4cff\":{\"defs\":[],\"roots\":{\"references\":[{\"attributes\":{\"below\":[{\"id\":\"4340\"}],\"center\":[{\"id\":\"4343\"},{\"id\":\"4347\"},{\"id\":\"4403\"}],\"left\":[{\"id\":\"4344\"}],\"renderers\":[{\"id\":\"4387\"},{\"id\":\"4409\"},{\"id\":\"4432\"},{\"id\":\"4457\"},{\"id\":\"4484\"},{\"id\":\"4513\"},{\"id\":\"4544\"},{\"id\":\"4577\"},{\"id\":\"4612\"},{\"id\":\"4649\"},{\"id\":\"4688\"}],\"title\":{\"id\":\"4389\"},\"toolbar\":{\"id\":\"4367\"},\"x_range\":{\"id\":\"4332\"},\"x_scale\":{\"id\":\"4336\"},\"y_range\":{\"id\":\"4334\"},\"y_scale\":{\"id\":\"4338\"}},\"id\":\"4331\",\"subtype\":\"Figure\",\"type\":\"Plot\"},{\"attributes\":{},\"id\":\"4473\",\"type\":\"UnionRenderers\"},{\"attributes\":{\"source\":{\"id\":\"4428\"}},\"id\":\"4433\",\"type\":\"CDSView\"},{\"attributes\":{\"fill_alpha\":{\"value\":0.1},\"fill_color\":{\"value\":\"#b5cf6b\"},\"hatch_alpha\":{\"value\":0.1},\"line_alpha\":{\"value\":0.1},\"line_color\":{\"value\":null},\"size\":{\"value\":12},\"x\":{\"field\":\"x\"},\"y\":{\"field\":\"y\"}},\"id\":\"4455\",\"type\":\"Scatter\"},{\"attributes\":{\"fill_color\":{\"value\":\"#bd9e39\"},\"line_color\":{\"value\":null},\"marker\":{\"value\":\"square\"},\"size\":{\"value\":12},\"x\":{\"field\":\"x\"},\"y\":{\"field\":\"y\"}},\"id\":\"4481\",\"type\":\"Scatter\"},{\"attributes\":{\"fill_alpha\":{\"value\":0.2},\"fill_color\":{\"value\":\"#b5cf6b\"},\"hatch_alpha\":{\"value\":0.2},\"line_alpha\":{\"value\":0.2},\"line_color\":{\"value\":null},\"size\":{\"value\":12},\"x\":{\"field\":\"x\"},\"y\":{\"field\":\"y\"}},\"id\":\"4456\",\"type\":\"Scatter\"},{\"attributes\":{},\"id\":\"4567\",\"type\":\"Selection\"},{\"attributes\":{\"source\":{\"id\":\"4405\"}},\"id\":\"4410\",\"type\":\"CDSView\"},{\"attributes\":{\"source\":{\"id\":\"4453\"}},\"id\":\"4458\",\"type\":\"CDSView\"},{\"attributes\":{},\"id\":\"4355\",\"type\":\"UndoTool\"},{\"attributes\":{\"data\":{\"x\":[4.947070121765137,7.761816501617432,5.333517074584961,8.387893676757812,4.1957783699035645,8.277667999267578,7.370652675628662,6.588528156280518,6.2557783126831055,6.982087135314941,4.60562801361084,4.956508636474609,7.360896587371826,6.722524166107178,4.457014560699463,4.428990364074707,6.266461372375488,8.359079360961914,5.907405853271484,4.913034439086914,7.065539360046387,8.004289627075195,7.019113063812256,5.41126823425293,5.653444290161133,4.1772894859313965,7.305953502655029,6.989200592041016,8.468090057373047,7.734346866607666,4.389538764953613,5.966181755065918,6.840199947357178,5.14244270324707,6.034736156463623,4.072760581970215,4.394518852233887,5.679178714752197,6.89093017578125,6.249300003051758,4.653573513031006,5.170344352722168,7.444887161254883,7.809872150421143,6.669900417327881,6.419934272766113,7.283052444458008,6.965789794921875,5.9430952072143555,6.548474311828613,4.383783340454102,3.8599536418914795,6.210416316986084,5.584524154663086,5.865357398986816,8.563974380493164,5.368759632110596,7.377419471740723,6.086299896240234,5.137866497039795,7.632055282592773,5.451967239379883,7.590267181396484,7.477533340454102,6.113100528717041,4.430902481079102,4.6146955490112305,4.3302083015441895,4.743601322174072,5.77925443649292,6.23983907699585,7.419778823852539,7.660773754119873,8.035063743591309,6.937270164489746,8.32127571105957,4.9342360496521,7.974987983703613,6.218954086303711,4.429130554199219,8.262113571166992,4.48038387298584,6.957390785217285,4.6423797607421875,5.240736961364746,7.6653618812561035,7.5412678718566895,5.743499279022217,6.562978267669678,4.517073631286621,7.804090976715088,7.048253059387207,5.243134021759033,8.48375415802002,5.458282470703125,6.412088871002197,5.874727725982666,6.913086414337158,6.217419624328613,6.716192245483398,7.763028144836426,5.557225704193115,8.263465881347656,4.233108043670654,7.885344505310059,4.837487697601318,6.184120178222656,6.694211483001709,6.918591499328613,5.339142799377441],\"y\":[4.320520877838135,1.682846188545227,4.595552921295166,2.323329448699951,3.988992929458618,4.477640151977539,2.2444090843200684,2.7281899452209473,3.95892071723938,3.5472171306610107,5.39528226852417,4.2089691162109375,4.004042148590088,1.3651790618896484,1.8150447607040405,1.626052975654602,1.8562676906585693,4.642643928527832,3.3066070079803467,2.680656909942627,6.13812255859375,3.7119855880737305,2.210428237915039,4.939211845397949,2.4911444187164307,2.553475856781006,2.1081175804138184,4.175373077392578,2.5572893619537354,2.9311819076538086,3.1040537357330322,5.707308769226074,3.8017539978027344,2.2095274925231934,4.872939109802246,4.941832065582275,3.4376330375671387,1.4722586870193481,2.413637399673462,1.9456297159194946,3.7046701908111572,2.498063564300537,5.393488883972168,2.078408718109131,3.5208427906036377,2.930243968963623,5.098291397094727,1.2122570276260376,4.176455974578857,5.005294322967529,4.988466262817383,4.47313928604126,3.388793468475342,2.854510545730591,4.216732501983643,3.9739742279052734,3.5480127334594727,5.286957740783691,5.658562183380127,2.3855319023132324,1.6991987228393555,4.272907733917236,5.049737930297852,2.7982306480407715,3.856471061706543,5.4677839279174805,4.3004350662231445,4.681857109069824,5.079885005950928,2.438467502593994,3.325759172439575,2.990199089050293,4.233386516571045,1.913286805152893,6.160477161407471,3.78047251701355,4.230731964111328,3.1047024726867676,3.1052932739257812,2.9428176879882812,4.447074890136719,4.141841411590576,1.4922598600387573,4.9063591957092285,1.5826728343963623,3.578695058822632,3.2843801975250244,5.860342502593994,5.1836347579956055,3.925478458404541,4.041977405548096,2.23915958404541,1.5802435874938965,3.542746067047119,1.627742886543274,3.1188526153564453,2.3599116802215576,5.207690715789795,5.395028591156006,4.780216217041016,4.0440592765808105,6.039161682128906,2.914250373840332,2.5831825733184814,2.262718915939331,5.372217178344727,3.2973031997680664,4.1024088859558105,3.616438150405884,5.550859451293945]},\"selected\":{\"id\":\"4447\"},\"selection_policy\":{\"id\":\"4446\"}},\"id\":\"4428\",\"type\":\"ColumnDataSource\"},{\"attributes\":{},\"id\":\"4398\",\"type\":\"Selection\"},{\"attributes\":{\"coordinates\":null,\"data_source\":{\"id\":\"4405\"},\"glyph\":{\"id\":\"4406\"},\"group\":null,\"hover_glyph\":null,\"muted_glyph\":{\"id\":\"4408\"},\"nonselection_glyph\":{\"id\":\"4407\"},\"view\":{\"id\":\"4410\"}},\"id\":\"4409\",\"type\":\"GlyphRenderer\"},{\"attributes\":{\"fill_alpha\":{\"value\":0.1},\"fill_color\":{\"value\":\"#9c9ede\"},\"hatch_alpha\":{\"value\":0.1},\"line_alpha\":{\"value\":0.1},\"line_color\":{\"value\":null},\"marker\":{\"value\":\"square\"},\"size\":{\"value\":12},\"x\":{\"field\":\"x\"},\"y\":{\"field\":\"y\"}},\"id\":\"4430\",\"type\":\"Scatter\"},{\"attributes\":{\"label\":{\"value\":\"punk\"},\"renderers\":[{\"id\":\"4577\"}]},\"id\":\"4607\",\"type\":\"LegendItem\"},{\"attributes\":{\"coordinates\":null,\"data_source\":{\"id\":\"4453\"},\"glyph\":{\"id\":\"4454\"},\"group\":null,\"hover_glyph\":null,\"muted_glyph\":{\"id\":\"4456\"},\"nonselection_glyph\":{\"id\":\"4455\"},\"view\":{\"id\":\"4458\"}},\"id\":\"4457\",\"type\":\"GlyphRenderer\"},{\"attributes\":{\"source\":{\"id\":\"4573\"}},\"id\":\"4578\",\"type\":\"CDSView\"},{\"attributes\":{\"coordinates\":null,\"data_source\":{\"id\":\"4540\"},\"glyph\":{\"id\":\"4541\"},\"group\":null,\"hover_glyph\":null,\"muted_glyph\":{\"id\":\"4543\"},\"nonselection_glyph\":{\"id\":\"4542\"},\"view\":{\"id\":\"4545\"}},\"id\":\"4544\",\"type\":\"GlyphRenderer\"},{\"attributes\":{\"source\":{\"id\":\"4383\"}},\"id\":\"4388\",\"type\":\"CDSView\"},{\"attributes\":{\"callback\":null},\"id\":\"4348\",\"type\":\"HoverTool\"},{\"attributes\":{\"data\":{\"x\":[5.62920618057251,5.650905132293701,7.21259880065918,5.176043510437012,4.749663352966309,6.200470924377441,5.265019416809082,6.210687160491943,8.581148147583008,6.229814529418945,6.595626354217529,6.918291091918945,8.005847930908203,4.426898956298828,5.119295597076416,5.756503582000732,5.112414836883545,7.983775615692139,5.356906890869141,7.2078537940979,7.283042907714844,5.4821295738220215,5.799540042877197,7.8683319091796875,7.81516695022583,6.061105728149414,6.15472412109375,6.265389442443848,5.347470760345459,6.87467622756958,7.525721073150635,5.456791400909424,4.802258491516113,4.480720520019531,4.7131171226501465,8.293926239013672,5.987289905548096,4.721661567687988,8.781846046447754,6.172516822814941,5.628795623779297,7.645676612854004,5.231687068939209,6.296756744384766,7.113429546356201,7.012960910797119,7.858127593994141,7.109283924102783,6.457979202270508,5.2964959144592285,6.412846088409424,4.76698637008667,6.10443115234375,5.4713568687438965,4.631993770599365,7.441250324249268,6.54055118560791,6.435313701629639],\"y\":[4.957644939422607,2.6376445293426514,6.110639572143555,3.642369031906128,4.242519855499268,3.1913013458251953,4.977322101593018,2.381497859954834,3.548232316970825,4.295377254486084,1.5593854188919067,3.3701741695404053,2.0904741287231445,2.2823009490966797,5.106614589691162,4.066046714782715,4.664947986602783,4.4583001136779785,6.034587860107422,4.80633020401001,5.181161403656006,1.757495403289795,5.925866603851318,4.819352626800537,4.607834815979004,1.3826338052749634,2.7626025676727295,2.736168146133423,4.688086032867432,5.414818286895752,2.1326308250427246,4.917956829071045,2.7285642623901367,3.7826573848724365,5.042500972747803,4.163719654083252,1.3652576208114624,4.748265743255615,3.5969011783599854,5.308872699737549,1.8007322549819946,2.896352529525757,5.517387390136719,4.371592998504639,3.7897329330444336,4.846580982208252,5.485533237457275,2.961475372314453,1.8452867269515991,1.1323747634887695,1.437044620513916,5.617086410522461,4.7555623054504395,4.128347396850586,4.061298847198486,1.9797008037567139,1.894059419631958,3.583521604537964]},\"selected\":{\"id\":\"4602\"},\"selection_policy\":{\"id\":\"4601\"}},\"id\":\"4573\",\"type\":\"ColumnDataSource\"},{\"attributes\":{},\"id\":\"4393\",\"type\":\"AllLabels\"},{\"attributes\":{\"label\":{\"value\":\"soul\"},\"renderers\":[{\"id\":\"4387\"}]},\"id\":\"4404\",\"type\":\"LegendItem\"},{\"attributes\":{},\"id\":\"4474\",\"type\":\"Selection\"},{\"attributes\":{\"coordinates\":null,\"data_source\":{\"id\":\"4428\"},\"glyph\":{\"id\":\"4429\"},\"group\":null,\"hover_glyph\":null,\"muted_glyph\":{\"id\":\"4431\"},\"nonselection_glyph\":{\"id\":\"4430\"},\"view\":{\"id\":\"4433\"}},\"id\":\"4432\",\"type\":\"GlyphRenderer\"},{\"attributes\":{\"fill_alpha\":{\"value\":0.2},\"fill_color\":{\"value\":\"#5254a3\"},\"hatch_alpha\":{\"value\":0.2},\"line_alpha\":{\"value\":0.2},\"line_color\":{\"value\":null},\"marker\":{\"value\":\"diamond\"},\"size\":{\"value\":12},\"x\":{\"field\":\"x\"},\"y\":{\"field\":\"y\"}},\"id\":\"4408\",\"type\":\"Scatter\"},{\"attributes\":{\"overlay\":{\"id\":\"4364\"}},\"id\":\"4354\",\"type\":\"BoxZoomTool\"},{\"attributes\":{\"fill_alpha\":{\"value\":0.1},\"fill_color\":{\"value\":\"#e7ba52\"},\"hatch_alpha\":{\"value\":0.1},\"line_alpha\":{\"value\":0.1},\"line_color\":{\"value\":null},\"marker\":{\"value\":\"star\"},\"size\":{\"value\":12},\"x\":{\"field\":\"x\"},\"y\":{\"field\":\"y\"}},\"id\":\"4385\",\"type\":\"Scatter\"},{\"attributes\":{\"data\":{\"x\":[4.849488258361816,6.988176345825195,8.22476863861084,7.323095321655273,8.722233772277832,6.687950134277344,6.000059604644775,6.287576675415039,3.652054786682129,6.5605034828186035,5.855274200439453,8.386451721191406,5.886658191680908,5.411677360534668,6.012319564819336,5.166011333465576,7.026304244995117,7.333970546722412,6.1186113357543945,5.863686561584473,5.5237321853637695,5.579351902008057,3.907555341720581,6.788470268249512,5.0635881423950195,7.654359340667725,7.805148601531982,6.392178058624268,4.486799240112305,6.932591438293457,5.656396865844727,7.109333515167236,5.495162487030029,4.887833595275879,8.67982006072998,7.225829601287842,6.453090667724609,6.076877117156982,7.306046009063721,8.40241813659668,6.652459621429443,7.34116792678833,7.232948303222656,6.464479446411133,5.828553199768066,7.325613498687744,8.817888259887695,8.602564811706543,5.506325721740723,7.485355854034424,7.577140808105469,7.899575233459473,6.802387237548828,7.950693130493164,5.974212646484375,7.008613109588623,5.020195484161377,6.3877081871032715,6.96152400970459,7.681402206420898],\"y\":[3.5557913780212402,3.976790189743042,3.3114547729492188,3.648116111755371,3.2106640338897705,5.608340740203857,3.562473773956299,2.034266233444214,3.5580062866210938,5.4796576499938965,4.556259632110596,4.8606367111206055,1.839523434638977,3.953639030456543,3.0843210220336914,4.969264984130859,3.7416725158691406,1.5996769666671753,4.835941314697266,3.4968981742858887,3.644548177719116,5.267645835876465,3.5383543968200684,3.5316925048828125,4.334355354309082,1.5811182260513306,4.780311107635498,3.6171953678131104,3.2584950923919678,4.387775897979736,3.643448829650879,3.4130513668060303,3.7926011085510254,4.919296741485596,3.5818729400634766,2.4152374267578125,3.925752878189087,2.5427279472351074,4.2423906326293945,5.056233882904053,4.467707633972168,4.37525749206543,4.6736741065979,3.2724523544311523,4.470129013061523,1.6057300567626953,3.1417288780212402,2.8524019718170166,2.137436628341675,4.7281036376953125,4.88425874710083,5.559414386749268,1.7617723941802979,3.4426956176757812,5.0729241371154785,5.578700065612793,2.126612901687622,5.0601043701171875,3.634420156478882,1.8095794916152954]},\"selected\":{\"id\":\"4474\"},\"selection_policy\":{\"id\":\"4473\"}},\"id\":\"4453\",\"type\":\"ColumnDataSource\"},{\"attributes\":{\"fill_alpha\":{\"value\":0.2},\"fill_color\":{\"value\":\"#637939\"},\"hatch_alpha\":{\"value\":0.2},\"line_alpha\":{\"value\":0.2},\"line_color\":{\"value\":null},\"marker\":{\"value\":\"star\"},\"size\":{\"value\":12},\"x\":{\"field\":\"x\"},\"y\":{\"field\":\"y\"}},\"id\":\"4543\",\"type\":\"Scatter\"},{\"attributes\":{\"fill_alpha\":{\"value\":0.2},\"fill_color\":{\"value\":\"#cedb9c\"},\"hatch_alpha\":{\"value\":0.2},\"line_alpha\":{\"value\":0.2},\"line_color\":{\"value\":null},\"marker\":{\"value\":\"diamond\"},\"size\":{\"value\":12},\"x\":{\"field\":\"x\"},\"y\":{\"field\":\"y\"}},\"id\":\"4576\",\"type\":\"Scatter\"},{\"attributes\":{\"data\":{\"x\":[6.415422439575195,4.944825649261475,7.762619495391846,5.2204484939575195,6.957286357879639,5.192041397094727,4.82392692565918,4.893412113189697,5.458014488220215,5.583721160888672,4.72963285446167,5.4767165184021,3.967540979385376,8.056899070739746,5.819812297821045,8.606623649597168,5.711085796356201,3.855226755142212,8.147648811340332,6.0027265548706055,6.070445537567139,7.698220252990723,6.367179870605469,5.769041061401367,5.93981409072876,5.98728084564209,5.938438892364502,5.701499938964844,6.198281764984131,4.8773112297058105,5.601982116699219,5.8926591873168945,5.0119194984436035,5.842165470123291,6.707704544067383,6.910701751708984,6.373859405517578,7.221566677093506,6.407841205596924,6.022488594055176,6.650810718536377,6.810627460479736,6.465437889099121,4.659567832946777,7.36848783493042,6.8883233070373535,6.355039596557617,5.319262504577637,7.906489849090576,8.396193504333496,6.963684558868408,7.947508335113525,7.532822608947754,8.074188232421875,7.465116500854492,5.0868120193481445,4.720877170562744,4.5472822189331055,5.432347774505615,6.038137435913086,6.969102382659912,4.586936950683594,8.047653198242188],\"y\":[5.184529781341553,3.3324735164642334,5.341544151306152,5.107761383056641,3.406632661819458,3.631291627883911,4.3226141929626465,2.271132230758667,6.014702796936035,5.491416931152344,4.102597236633301,3.0024425983428955,3.7585289478302,3.24722957611084,2.728555679321289,3.475196123123169,5.130005836486816,3.824965238571167,2.140803098678589,4.352705478668213,3.944958448410034,5.119718074798584,4.340512752532959,2.7376112937927246,1.0968729257583618,1.8994876146316528,5.409006595611572,2.802424669265747,1.380165934562683,4.106518268585205,1.2512640953063965,5.22201681137085,5.739560127258301,4.97549295425415,5.761932373046875,3.769763469696045,2.6253178119659424,5.844991683959961,4.403134822845459,6.178271770477295,4.820363521575928,3.0270514488220215,4.536036014556885,4.515995502471924,2.9560325145721436,2.5830769538879395,2.338237762451172,3.03014874458313,4.778761386871338,3.070589542388916,4.221211910247803,3.000610828399658,1.654855489730835,2.167680025100708,2.9914867877960205,2.832162618637085,4.614933967590332,1.9583232402801514,3.5361297130584717,2.5703907012939453,2.871203660964966,4.233162879943848,2.681929111480713]},\"selected\":{\"id\":\"4567\"},\"selection_policy\":{\"id\":\"4566\"}},\"id\":\"4540\",\"type\":\"ColumnDataSource\"},{\"attributes\":{\"bottom_units\":\"screen\",\"coordinates\":null,\"fill_alpha\":0.5,\"fill_color\":\"lightgrey\",\"group\":null,\"left_units\":\"screen\",\"level\":\"overlay\",\"line_alpha\":1.0,\"line_color\":\"black\",\"line_dash\":[4,4],\"line_width\":2,\"right_units\":\"screen\",\"syncable\":false,\"top_units\":\"screen\"},\"id\":\"4363\",\"type\":\"BoxAnnotation\"},{\"attributes\":{\"label\":{\"value\":\"hiphop\"},\"renderers\":[{\"id\":\"4432\"}]},\"id\":\"4452\",\"type\":\"LegendItem\"},{\"attributes\":{\"coordinates\":null,\"data_source\":{\"id\":\"4383\"},\"glyph\":{\"id\":\"4384\"},\"group\":null,\"hover_glyph\":null,\"muted_glyph\":{\"id\":\"4386\"},\"nonselection_glyph\":{\"id\":\"4385\"},\"view\":{\"id\":\"4388\"}},\"id\":\"4387\",\"type\":\"GlyphRenderer\"},{\"attributes\":{\"fill_alpha\":{\"value\":0.2},\"fill_color\":{\"value\":\"#9c9ede\"},\"hatch_alpha\":{\"value\":0.2},\"line_alpha\":{\"value\":0.2},\"line_color\":{\"value\":null},\"marker\":{\"value\":\"square\"},\"size\":{\"value\":12},\"x\":{\"field\":\"x\"},\"y\":{\"field\":\"y\"}},\"id\":\"4431\",\"type\":\"Scatter\"},{\"attributes\":{},\"id\":\"4396\",\"type\":\"AllLabels\"},{\"attributes\":{\"fill_color\":{\"value\":\"#b5cf6b\"},\"line_color\":{\"value\":null},\"size\":{\"value\":12},\"x\":{\"field\":\"x\"},\"y\":{\"field\":\"y\"}},\"id\":\"4454\",\"type\":\"Scatter\"},{\"attributes\":{\"fill_color\":{\"value\":\"#cedb9c\"},\"line_color\":{\"value\":null},\"marker\":{\"value\":\"diamond\"},\"size\":{\"value\":12},\"x\":{\"field\":\"x\"},\"y\":{\"field\":\"y\"}},\"id\":\"4574\",\"type\":\"Scatter\"},{\"attributes\":{\"fill_alpha\":{\"value\":0.1},\"fill_color\":{\"value\":\"#cedb9c\"},\"hatch_alpha\":{\"value\":0.1},\"line_alpha\":{\"value\":0.1},\"line_color\":{\"value\":null},\"marker\":{\"value\":\"diamond\"},\"size\":{\"value\":12},\"x\":{\"field\":\"x\"},\"y\":{\"field\":\"y\"}},\"id\":\"4575\",\"type\":\"Scatter\"},{\"attributes\":{\"fill_alpha\":{\"value\":0.1},\"fill_color\":{\"value\":\"#637939\"},\"hatch_alpha\":{\"value\":0.1},\"line_alpha\":{\"value\":0.1},\"line_color\":{\"value\":null},\"marker\":{\"value\":\"star\"},\"size\":{\"value\":12},\"x\":{\"field\":\"x\"},\"y\":{\"field\":\"y\"}},\"id\":\"4542\",\"type\":\"Scatter\"},{\"attributes\":{},\"id\":\"4446\",\"type\":\"UnionRenderers\"},{\"attributes\":{\"axis\":{\"id\":\"4344\"},\"coordinates\":null,\"dimension\":1,\"group\":null,\"ticker\":null},\"id\":\"4347\",\"type\":\"Grid\"},{\"attributes\":{},\"id\":\"4332\",\"type\":\"DataRange1d\"},{\"attributes\":{\"source\":{\"id\":\"4540\"}},\"id\":\"4545\",\"type\":\"CDSView\"},{\"attributes\":{\"fill_color\":{\"value\":\"#9c9ede\"},\"line_color\":{\"value\":null},\"marker\":{\"value\":\"square\"},\"size\":{\"value\":12},\"x\":{\"field\":\"x\"},\"y\":{\"field\":\"y\"}},\"id\":\"4429\",\"type\":\"Scatter\"},{\"attributes\":{\"label\":{\"value\":\"funk\"},\"renderers\":[{\"id\":\"4409\"}]},\"id\":\"4427\",\"type\":\"LegendItem\"},{\"attributes\":{},\"id\":\"4566\",\"type\":\"UnionRenderers\"},{\"attributes\":{},\"id\":\"4602\",\"type\":\"Selection\"},{\"attributes\":{\"label\":{\"value\":\"jazz\"},\"renderers\":[{\"id\":\"4544\"}]},\"id\":\"4572\",\"type\":\"LegendItem\"},{\"attributes\":{},\"id\":\"4601\",\"type\":\"UnionRenderers\"},{\"attributes\":{},\"id\":\"4350\",\"type\":\"PanTool\"},{\"attributes\":{\"click_policy\":\"hide\",\"coordinates\":null,\"group\":null,\"items\":[{\"id\":\"4404\"},{\"id\":\"4427\"},{\"id\":\"4452\"},{\"id\":\"4479\"},{\"id\":\"4508\"},{\"id\":\"4539\"},{\"id\":\"4572\"},{\"id\":\"4607\"},{\"id\":\"4644\"},{\"id\":\"4683\"},{\"id\":\"4724\"}]},\"id\":\"4403\",\"type\":\"Legend\"},{\"attributes\":{\"data\":{\"x\":[7.2048659324646,7.0867180824279785,6.633469581604004,5.150477409362793,7.4937262535095215,4.459278106689453,8.497293472290039,4.858994007110596,5.992007255554199,6.4071044921875,7.233556747436523,7.193395137786865,4.690868377685547,7.518283843994141,5.933709621429443,8.733721733093262,4.834395408630371,6.478542327880859,8.030146598815918,4.838844299316406,8.001975059509277,6.783727169036865,5.518843173980713,6.927797317504883,5.485507965087891,6.3366851806640625,7.468749046325684,4.899186611175537,5.700028896331787,8.00783634185791,7.893444061279297,4.760928630828857,6.661319732666016,8.491461753845215,5.312767028808594,7.758482933044434,6.334100723266602,6.210172176361084,5.909514904022217,7.725975513458252,5.958026885986328,7.321225166320801,7.541173458099365,8.198389053344727,4.095274448394775,4.131832599639893,6.716653347015381,7.4137444496154785,4.916608810424805,6.308624744415283,5.55284309387207,5.37202787399292,7.6764960289001465,8.318995475769043,7.639721393585205,7.673673152923584,6.6162333488464355,4.239068031311035,4.268006324768066,6.946805477142334,6.26809024810791,5.34116792678833,6.3154730796813965,6.338745594024658,4.871182441711426,5.645030498504639,5.870119094848633,6.045162677764893,7.141695022583008,5.913425922393799,4.960397243499756,4.519049167633057,4.110344409942627,6.368245601654053,5.899072647094727,5.590203762054443,5.911648273468018,4.568964958190918,5.1291093826293945,4.628817558288574,5.42769718170166,4.8705668449401855,8.042887687683105,5.565183639526367,6.130309104919434,7.895052909851074,4.139914035797119,3.8464787006378174,5.764570713043213,8.008882522583008,5.162890434265137,5.615628242492676,4.227773666381836,7.283588409423828,7.234035015106201,8.037076950073242,5.36217737197876,5.644193649291992,6.22810173034668,5.032838344573975,4.066361904144287,5.727682113647461,7.686618328094482,6.332150936126709,8.115071296691895,8.32943344116211,5.573120594024658,3.9111838340759277,7.466270923614502,6.3156633377075195,5.9488525390625,5.080700874328613,3.7624504566192627,4.388303756713867,7.779313087463379,4.492315292358398,7.449376106262207,5.970016956329346,6.346730709075928,7.259074687957764,5.993195533752441,7.629223346710205,5.594927787780762,4.153275012969971,4.275880813598633,7.108665466308594,8.300454139709473,7.498119831085205,7.824471473693848,5.718838214874268,5.111688137054443,7.347633361816406,4.844314098358154,7.3290910720825195,7.383119106292725,7.066104888916016,7.015407085418701,5.787929534912109,6.201210975646973,4.065499305725098,7.637540340423584,6.629048824310303,7.153932571411133,6.2532219886779785,7.208954811096191,7.3672966957092285,5.223880767822266,4.980779647827148,8.753061294555664,8.41115665435791,4.757235527038574,8.748905181884766,7.136058807373047,8.18704605102539,5.311164855957031,7.738969326019287,5.402948379516602,5.64302921295166,6.4724225997924805,6.855410099029541,6.0028605461120605,6.918567657470703,6.406848907470703,7.901382923126221,6.112558841705322,4.873122215270996,5.2455034255981445,4.491095542907715,4.826160907745361,5.517788410186768,5.2023773193359375,7.266055583953857,5.6560258865356445,4.283326148986816,7.93495512008667,6.556900978088379,7.217894554138184,5.835701942443848,5.323153972625732,7.017899036407471,5.613119125366211,3.9273924827575684,5.27921199798584,4.36199426651001,7.883390426635742,5.922837734222412,8.007268905639648,7.827744007110596,8.67483139038086,7.184980392456055,5.830280303955078,4.3222336769104,8.032119750976562,8.526424407958984,5.49582576751709,8.408439636230469,4.652750492095947,6.711198329925537,4.807713985443115,5.017690181732178,6.96328592300415,5.02689266204834,5.489658355712891,8.10013198852539,6.647337913513184,5.374705791473389,5.321556568145752,6.336758613586426,6.123451232910156,6.852286338806152,6.974348068237305,8.177371978759766,6.721118927001953,4.772486686706543,5.663629531860352,5.380125045776367,5.929065227508545,5.300997257232666,7.749911308288574,7.2081098556518555,6.705543041229248,4.603155136108398,7.771373748779297,7.034090995788574,6.219466686248779,8.435880661010742,6.028173446655273,5.573622703552246,6.926103115081787,6.38821268081665,4.828770160675049,5.71301794052124,5.173458576202393,8.094085693359375,5.5471110343933105,7.39490270614624,4.5938496589660645,4.705743789672852,4.415761470794678,7.803547382354736,6.718801975250244,3.8322935104370117,7.316366195678711,3.929560899734497,7.670232772827148,6.547097206115723,7.733503818511963,6.860952377319336,7.591024398803711,7.2691330909729,5.371729373931885,5.232490539550781,6.706778049468994,6.913199424743652,7.6833624839782715,8.167547225952148,8.172201156616211,6.159753322601318,7.991599082946777,6.2237982749938965,5.867202281951904,6.481146335601807,8.807703018188477,6.260930061340332,7.3127055168151855,6.128871440887451,7.439129829406738,5.38018274307251,5.772000312805176,6.277853488922119,7.009239673614502,5.793363094329834,6.859166622161865,5.8209333419799805,5.610291957855225,4.989181041717529,5.228367328643799,7.8502092361450195,7.938733100891113,6.032423496246338,6.2451863288879395,8.37710952758789,7.261094093322754,7.816967010498047,6.627693176269531,6.199069023132324,6.443099021911621,7.3548688888549805,5.371134281158447,4.970363140106201,8.6007080078125,6.223179340362549,8.506081581115723,5.209259033203125,5.192539215087891,5.034799575805664,8.595191955566406,7.363444805145264,4.228857040405273,3.945509672164917,6.662898063659668,7.86771297454834,5.453249931335449,5.506319522857666,6.480490684509277,4.486034870147705,4.056031703948975,7.971331596374512,8.038738250732422,5.084552764892578,8.157912254333496,6.4885077476501465,6.192541599273682,7.869022369384766,5.7207183837890625,5.708410739898682,8.34188175201416,6.435756206512451,5.6377949714660645,4.86322021484375,7.682379245758057,4.207139492034912,6.710626602172852,3.7876853942871094,5.805720806121826,4.568140983581543,8.649557113647461,7.10430383682251,5.236212253570557,5.933840751647949,7.107454299926758,5.672652721405029,8.026873588562012,6.430198669433594,7.485444068908691,6.971306324005127,7.75837516784668,5.857446670532227,7.234081268310547,7.1052632331848145,6.421464920043945,5.07535982131958,4.299410343170166,5.689211368560791,6.204585552215576,5.2943243980407715,4.131703853607178,6.033199787139893,4.476098537445068,7.7637038230896,6.922305107116699,4.472723960876465,6.326456546783447,4.453155517578125,4.7751641273498535,6.270627021789551,5.719324111938477,5.071069717407227,7.4313459396362305,6.685563087463379,6.1019978523254395,4.4546918869018555,7.8404645919799805,7.169235706329346,5.129438400268555,7.224427700042725,6.482880115509033,8.571000099182129,6.492365837097168,7.327225685119629,6.6357293128967285,7.276589870452881,4.462972640991211,5.982089042663574,4.002721309661865,3.772721767425537,7.310036659240723,4.36235237121582,6.396905899047852,7.313066482543945,6.027369976043701,7.140835762023926,3.971163272857666,5.310488700866699,4.354883193969727,5.246100902557373,5.464179515838623,5.00429630279541,7.2610859870910645,6.878224849700928,8.11076545715332,5.09273624420166,5.7015767097473145,6.0952582359313965,4.579401969909668,5.264004230499268,6.179633140563965,7.932003498077393,7.87628173828125,6.107746124267578,5.593315124511719,6.6244425773620605,6.4013752937316895,4.761180877685547,7.612029552459717,7.7216010093688965,8.109233856201172,6.471002578735352,6.511599063873291,6.570740222930908,4.841178894042969,6.087423801422119,4.250979423522949,5.1837663650512695,7.631743907928467,4.634523391723633,6.737658500671387,4.627940654754639,7.761690139770508,6.812140464782715,8.085037231445312,5.390675067901611,6.872992038726807,7.148057460784912,7.304567813873291,5.087342739105225,7.006971836090088,8.913089752197266,4.790867328643799,5.361074447631836,7.2726850509643555,5.811580181121826,5.392579078674316,5.46984338760376,6.35276460647583,7.615857124328613,6.9323272705078125,7.9532246589660645,7.016570091247559,5.11268949508667,7.1232781410217285,6.832047939300537,7.170541286468506,3.7470405101776123,6.94099760055542,4.8389997482299805,7.865414619445801,7.667943954467773,7.056344032287598,7.302124500274658,5.708704948425293,7.060992240905762,7.252039909362793,7.269224166870117,6.89478874206543,8.164074897766113,4.7741618156433105,5.276144027709961,5.046055793762207,8.425582885742188,6.015585899353027,6.32089376449585,6.02906608581543,6.058339595794678,4.9932942390441895,5.671807289123535,4.914087772369385,4.430977821350098,6.981789588928223,5.032272815704346,7.310450077056885,6.4453558921813965,6.485148906707764,5.133294582366943,5.187820911407471,6.115337371826172,4.842862129211426,3.833784818649292,6.684126853942871,7.169254779815674,5.925912380218506,4.525170803070068,6.311285972595215,7.309220790863037,6.008114337921143,5.623710632324219],\"y\":[2.2190446853637695,5.796674728393555,1.8915884494781494,5.340115070343018,3.6053359508514404,4.751714706420898,3.9556984901428223,5.615911960601807,2.178462028503418,3.169160842895508,5.877776145935059,4.1580610275268555,3.1052327156066895,5.753613471984863,5.116937637329102,2.7093725204467773,3.831922769546509,1.4276350736618042,3.3304359912872314,2.310668706893921,2.438898801803589,5.102042198181152,3.389620780944824,2.0814099311828613,4.231376647949219,3.512840747833252,2.662100315093994,2.3977863788604736,3.840207815170288,1.8512663841247559,2.6131553649902344,2.232534170150757,2.5897388458251953,4.062516689300537,5.710015773773193,4.108249187469482,5.402416706085205,1.3762476444244385,4.200976371765137,2.844853639602661,2.0900919437408447,2.8408095836639404,4.275970458984375,4.7239813804626465,4.225534439086914,3.659921884536743,5.620157241821289,4.5491414070129395,5.65234899520874,3.6255199909210205,1.4211496114730835,3.56599497795105,2.6506240367889404,2.541919469833374,3.267630100250244,3.2139880657196045,4.526411056518555,2.961090326309204,5.429015159606934,1.1739130020141602,3.9786651134490967,3.7103335857391357,5.04153299331665,4.831052303314209,2.942283868789673,3.3530209064483643,4.800817966461182,6.079134941101074,2.7901625633239746,6.006886005401611,2.457998514175415,1.5947656631469727,4.428931713104248,4.8581695556640625,1.5038185119628906,4.333374500274658,2.660623788833618,4.609766960144043,5.467363357543945,2.545889377593994,5.661562919616699,5.423218727111816,4.592174530029297,2.867300033569336,4.019428253173828,4.256655216217041,4.111325740814209,4.670656204223633,5.126259803771973,1.6033008098602295,4.435829162597656,4.4224324226379395,4.614863872528076,3.6984000205993652,3.8677871227264404,4.947746753692627,3.038804054260254,4.717976093292236,6.033497333526611,4.708733558654785,4.057339191436768,4.5297346115112305,3.8655409812927246,6.154035568237305,1.9733912944793701,2.9804182052612305,2.604708194732666,4.1651482582092285,1.823559045791626,4.689578533172607,1.4619721174240112,5.547877788543701,2.8759546279907227,2.7732014656066895,4.839534282684326,5.152080535888672,4.146379470825195,4.044687747955322,3.1963753700256348,5.216636657714844,2.516225814819336,4.115633010864258,1.579289436340332,4.483182430267334,3.623415231704712,1.766129732131958,2.4426846504211426,3.4745004177093506,1.5627596378326416,2.483377695083618,1.4089248180389404,4.409694671630859,1.724656343460083,4.1891608238220215,2.3172316551208496,2.9226791858673096,3.74308705329895,2.9577181339263916,1.482900619506836,2.87753963470459,3.611563205718994,1.3364955186843872,4.872929573059082,4.7398481369018555,4.639482021331787,4.010356426239014,5.005928993225098,4.237472057342529,3.3095505237579346,3.479703664779663,4.476287364959717,2.764357089996338,2.5989954471588135,4.222740650177002,5.753913879394531,5.6878252029418945,2.4906134605407715,2.7643539905548096,1.7702786922454834,5.7920613288879395,4.747932434082031,4.632475852966309,6.2337117195129395,2.9707491397857666,5.923125743865967,3.1447503566741943,3.1886088848114014,4.171407699584961,5.497684001922607,5.03291130065918,2.1950244903564453,4.000580787658691,5.189859867095947,3.4191625118255615,5.1687774658203125,4.037271022796631,2.743899345397949,1.5129737854003906,4.951736927032471,2.2691709995269775,2.193413019180298,3.8328607082366943,5.956820487976074,3.0562033653259277,2.9772000312805176,5.398290634155273,4.491457939147949,5.337968826293945,2.6695635318756104,1.9889544248580933,1.644774079322815,3.5982255935668945,4.501643657684326,3.718268394470215,2.8363089561462402,4.07387638092041,2.3885035514831543,3.0353782176971436,1.5244179964065552,3.828237295150757,3.0715537071228027,4.921482086181641,2.036559820175171,4.720046520233154,5.06125020980835,5.0757646560668945,4.607268333435059,5.7627387046813965,5.717653751373291,6.098409652709961,3.4275269508361816,2.0129666328430176,3.789523124694824,2.9174258708953857,5.595170974731445,4.173678874969482,2.9227466583251953,4.664649963378906,1.9481792449951172,3.9329798221588135,2.9783434867858887,2.0760114192962646,3.4042935371398926,3.362865924835205,4.350746154785156,4.7236456871032715,2.5128276348114014,4.264472007751465,4.278858661651611,3.3477725982666016,4.893763542175293,2.288477659225464,5.762113571166992,2.8195512294769287,4.5455474853515625,2.2200798988342285,5.550763130187988,3.9895076751708984,4.426741600036621,2.576145887374878,4.315756797790527,3.1537928581237793,3.3021531105041504,2.8239622116088867,3.255248546600342,3.4240615367889404,4.313817024230957,3.474217176437378,2.6157524585723877,5.516042709350586,3.0255441665649414,2.276076316833496,3.805795907974243,4.966017246246338,2.495227575302124,4.544522285461426,2.6744613647460938,2.907505989074707,2.7583839893341064,3.9423329830169678,1.573117733001709,1.6749385595321655,3.3812332153320312,2.4110636711120605,3.5530037879943848,2.7818071842193604,1.5282468795776367,3.0942931175231934,3.3381645679473877,2.12607741355896,2.8183045387268066,5.56985330581665,5.227520942687988,3.6757285594940186,2.7011678218841553,1.787768840789795,5.954347133636475,2.092664957046509,1.6489695310592651,2.7791714668273926,4.334830284118652,4.807121753692627,1.4325587749481201,2.9440653324127197,4.7015180587768555,1.1011691093444824,2.2577390670776367,5.306115627288818,1.7684882879257202,5.008392810821533,4.163552761077881,5.226304531097412,3.726282835006714,5.078589916229248,4.326589107513428,5.501309871673584,3.5371944904327393,1.6757479906082153,4.00081729888916,3.817589521408081,1.6455135345458984,1.7566096782684326,2.840481996536255,3.0237903594970703,2.5522818565368652,5.579031467437744,2.6077423095703125,3.429575204849243,1.7820736169815063,5.160707950592041,2.1911280155181885,1.5656237602233887,2.537951707839966,2.043801784515381,1.661454677581787,6.155210494995117,4.00681734085083,1.7467368841171265,6.061972141265869,3.7513842582702637,3.479823112487793,3.4097018241882324,3.9809279441833496,4.24824857711792,2.4122793674468994,5.136455059051514,2.7610583305358887,1.800398826599121,3.4064371585845947,3.0253243446350098,4.715668201446533,4.8264665603637695,1.959219217300415,5.094152927398682,3.0178375244140625,1.909105658531189,5.021524906158447,5.220829010009766,6.016265869140625,4.333523273468018,4.034684658050537,5.442873001098633,4.082564353942871,1.9356051683425903,2.965806007385254,4.647272109985352,3.7314202785491943,1.032116174697876,3.5736336708068848,4.863975524902344,3.672459840774536,5.553058624267578,6.210880279541016,1.7365283966064453,5.229241847991943,5.406939506530762,1.21295964717865,3.1169655323028564,4.2039408683776855,5.769185543060303,2.5650439262390137,4.8006439208984375,3.6901333332061768,4.2715888023376465,1.5071001052856445,2.691840171813965,4.251252174377441,3.1263206005096436,4.738956451416016,2.329103946685791,1.9889030456542969,2.193240165710449,4.344054698944092,3.934177875518799,3.7772388458251953,3.192843198776245,4.307671070098877,3.9614503383636475,2.8990478515625,2.4942233562469482,4.318005084991455,5.0066304206848145,2.8727779388427734,3.046570062637329,4.622920989990234,3.0813040733337402,2.3599696159362793,5.018507957458496,1.871891975402832,2.13136625289917,2.9400479793548584,1.513907551765442,3.458698272705078,5.715093612670898,5.6797871589660645,2.093043565750122,1.064138650894165,1.618964672088623,1.622565746307373,5.933712959289551,4.393987655639648,5.399799346923828,3.515503168106079,4.368410110473633,1.8092440366744995,1.5504536628723145,3.7738776206970215,4.240044116973877,3.278191089630127,4.496292591094971,5.223487377166748,3.323620319366455,4.273355007171631,4.304543972015381,4.068535804748535,2.6976637840270996,1.408286213874817,3.365367889404297,4.137485980987549,4.048399448394775,3.15362548828125,4.591951370239258,4.3905439376831055,4.6450886726379395,3.023538827896118,2.1036248207092285,2.1572823524475098,3.2559852600097656,4.757410049438477,2.5005602836608887,2.4698336124420166,4.577765464782715,6.037236213684082,2.3431551456451416,4.07024621963501,3.9585912227630615,1.876326322555542,5.4112396240234375,1.120248556137085,4.7199506759643555,2.6456971168518066,2.965756893157959,1.9306455850601196,3.9474337100982666,3.986712694168091,1.9211996793746948,1.784364104270935,3.0504748821258545,1.7459996938705444,2.9382662773132324,3.139045476913452,2.0529732704162598,5.267008304595947,4.008883953094482,5.5919270515441895,3.1503286361694336,3.510425329208374,3.096649646759033,2.1697022914886475,3.677889108657837,1.3664575815200806,1.0389413833618164,4.792165279388428,1.6979440450668335,4.390985488891602,2.920840263366699,3.1191790103912354,4.387277603149414,2.398066997528076,2.6497724056243896,2.8890669345855713,3.496454954147339,5.174312114715576,4.129668235778809,3.0971806049346924,3.3250129222869873,3.594534158706665,4.24714994430542,3.8772833347320557,2.4993419647216797,3.5026509761810303,4.058250904083252,3.0030643939971924,2.4482479095458984,1.3968867063522339,5.506828308105469]},\"selected\":{\"id\":\"4422\"},\"selection_policy\":{\"id\":\"4421\"}},\"id\":\"4405\",\"type\":\"ColumnDataSource\"},{\"attributes\":{},\"id\":\"4395\",\"type\":\"BasicTickFormatter\"},{\"attributes\":{\"coordinates\":null,\"formatter\":{\"id\":\"4392\"},\"group\":null,\"major_label_policy\":{\"id\":\"4393\"},\"ticker\":{\"id\":\"4345\"}},\"id\":\"4344\",\"type\":\"LinearAxis\"},{\"attributes\":{\"fill_color\":{\"value\":\"#5254a3\"},\"line_color\":{\"value\":null},\"marker\":{\"value\":\"diamond\"},\"size\":{\"value\":12},\"x\":{\"field\":\"x\"},\"y\":{\"field\":\"y\"}},\"id\":\"4406\",\"type\":\"Scatter\"},{\"attributes\":{},\"id\":\"4338\",\"type\":\"LinearScale\"},{\"attributes\":{},\"id\":\"4345\",\"type\":\"BasicTicker\"},{\"attributes\":{\"label\":{\"value\":\"pop\"},\"renderers\":[{\"id\":\"4457\"}]},\"id\":\"4479\",\"type\":\"LegendItem\"},{\"attributes\":{\"fill_alpha\":{\"value\":0.1},\"fill_color\":{\"value\":\"#5254a3\"},\"hatch_alpha\":{\"value\":0.1},\"line_alpha\":{\"value\":0.1},\"line_color\":{\"value\":null},\"marker\":{\"value\":\"diamond\"},\"size\":{\"value\":12},\"x\":{\"field\":\"x\"},\"y\":{\"field\":\"y\"}},\"id\":\"4407\",\"type\":\"Scatter\"},{\"attributes\":{\"fill_color\":{\"value\":\"#8c6d31\"},\"line_color\":{\"value\":null},\"marker\":{\"value\":\"inverted_triangle\"},\"size\":{\"value\":12},\"x\":{\"field\":\"x\"},\"y\":{\"field\":\"y\"}},\"id\":\"4609\",\"type\":\"Scatter\"},{\"attributes\":{\"coordinates\":null,\"data_source\":{\"id\":\"4573\"},\"glyph\":{\"id\":\"4574\"},\"group\":null,\"hover_glyph\":null,\"muted_glyph\":{\"id\":\"4576\"},\"nonselection_glyph\":{\"id\":\"4575\"},\"view\":{\"id\":\"4578\"}},\"id\":\"4577\",\"type\":\"GlyphRenderer\"},{\"attributes\":{\"fill_alpha\":{\"value\":0.1},\"fill_color\":{\"value\":\"#6b6ecf\"},\"hatch_alpha\":{\"value\":0.1},\"line_alpha\":{\"value\":0.1},\"line_color\":{\"value\":null},\"marker\":{\"value\":\"inverted_triangle\"},\"size\":{\"value\":12},\"x\":{\"field\":\"x\"},\"y\":{\"field\":\"y\"}},\"id\":\"4686\",\"type\":\"Scatter\"},{\"attributes\":{},\"id\":\"4356\",\"type\":\"RedoTool\"},{\"attributes\":{},\"id\":\"4341\",\"type\":\"BasicTicker\"},{\"attributes\":{\"fill_color\":{\"value\":\"#6b6ecf\"},\"line_color\":{\"value\":null},\"marker\":{\"value\":\"inverted_triangle\"},\"size\":{\"value\":12},\"x\":{\"field\":\"x\"},\"y\":{\"field\":\"y\"}},\"id\":\"4685\",\"type\":\"Scatter\"},{\"attributes\":{},\"id\":\"4397\",\"type\":\"UnionRenderers\"},{\"attributes\":{},\"id\":\"4334\",\"type\":\"DataRange1d\"},{\"attributes\":{\"source\":{\"id\":\"4480\"}},\"id\":\"4485\",\"type\":\"CDSView\"},{\"attributes\":{},\"id\":\"4718\",\"type\":\"UnionRenderers\"},{\"attributes\":{\"coordinates\":null,\"data_source\":{\"id\":\"4480\"},\"glyph\":{\"id\":\"4481\"},\"group\":null,\"hover_glyph\":null,\"muted_glyph\":{\"id\":\"4483\"},\"nonselection_glyph\":{\"id\":\"4482\"},\"view\":{\"id\":\"4485\"}},\"id\":\"4484\",\"type\":\"GlyphRenderer\"},{\"attributes\":{\"label\":{\"value\":\"reggae\"},\"renderers\":[{\"id\":\"4612\"}]},\"id\":\"4644\",\"type\":\"LegendItem\"},{\"attributes\":{\"coordinates\":null,\"fill_alpha\":0.5,\"fill_color\":\"lightgrey\",\"group\":null,\"level\":\"overlay\",\"line_alpha\":1.0,\"line_color\":\"black\",\"line_dash\":[4,4],\"line_width\":2,\"syncable\":false,\"xs_units\":\"screen\",\"ys_units\":\"screen\"},\"id\":\"4365\",\"type\":\"PolyAnnotation\"},{\"attributes\":{\"coordinates\":null,\"data_source\":{\"id\":\"4608\"},\"glyph\":{\"id\":\"4609\"},\"group\":null,\"hover_glyph\":null,\"muted_glyph\":{\"id\":\"4611\"},\"nonselection_glyph\":{\"id\":\"4610\"},\"view\":{\"id\":\"4613\"}},\"id\":\"4612\",\"type\":\"GlyphRenderer\"},{\"attributes\":{},\"id\":\"4392\",\"type\":\"BasicTickFormatter\"},{\"attributes\":{\"data\":{\"x\":[6.136289596557617,6.684189796447754,8.143381118774414,8.061309814453125,6.947826385498047,4.913064002990723,6.573039531707764,6.4902262687683105,6.771424770355225,5.876528263092041,5.133914947509766,4.466677665710449,5.40032958984375,4.2969970703125,5.501405239105225,6.798335075378418,6.667630672454834,6.810972213745117,7.50490665435791,8.20661735534668,5.717264175415039,4.713409900665283,5.1714301109313965,6.5471954345703125,4.485474586486816,6.43809175491333,8.442142486572266,6.996055603027344,6.87440824508667,5.72824764251709,6.809105396270752,5.077207565307617,6.220001697540283,8.374930381774902,6.722055435180664,7.434559345245361,8.459379196166992,7.91072416305542,6.601039886474609,7.637053966522217,4.136396408081055,7.703830242156982,7.1811017990112305,5.665278911590576,8.20834732055664,4.819036960601807,7.57988977432251,4.174826145172119,6.649494647979736,7.335535049438477,5.632139205932617,4.9239912033081055,7.410867214202881,6.758022785186768,8.050436019897461,7.465994834899902,6.075445652008057,7.192257881164551,6.158156394958496,6.930247783660889,5.502755165100098,4.7511067390441895,5.458031177520752,7.111361980438232,8.414205551147461,5.791450023651123,4.170515060424805,5.476069927215576,7.442885398864746,5.9005327224731445,4.510351657867432,6.432512283325195,4.764453887939453,5.446010112762451,5.2796711921691895,5.115297794342041,7.984018802642822,6.698009014129639,6.5990495681762695,4.557516098022461,6.78021764755249,4.815971374511719,7.935332775115967,6.145519256591797,4.38882303237915,7.189157962799072,6.565962791442871,7.238189697265625,6.555976390838623,4.821964740753174,5.220400333404541,5.859775543212891,4.656612396240234,5.443058967590332,3.996171712875366,7.801186561584473,7.1277265548706055,6.186374664306641,7.591651439666748,6.859974384307861,5.569761276245117,5.976837635040283,5.10329532623291,5.659007549285889,4.228133201599121,6.814157962799072,6.324131965637207,7.420494079589844,6.636996746063232,5.786576747894287,6.02789306640625,6.620626926422119,6.887564659118652,6.119277477264404,6.5737104415893555,6.31953763961792,7.05404806137085,5.773507118225098,6.855487823486328,7.235929489135742],\"y\":[3.6897060871124268,2.783838987350464,4.975817680358887,2.287773370742798,1.8892275094985962,3.5006728172302246,3.764331102371216,4.79285192489624,5.938337802886963,4.697394371032715,2.649801731109619,3.1389546394348145,4.106934547424316,3.3396143913269043,3.620170831680298,3.437488079071045,4.072538375854492,3.641409158706665,3.748955488204956,4.108160018920898,2.0869717597961426,1.7001965045928955,5.945618152618408,2.4362945556640625,3.9503753185272217,6.123837947845459,4.686318874359131,3.5456812381744385,2.9184539318084717,3.296027421951294,3.0673110485076904,1.568986415863037,2.421009063720703,3.6888625621795654,4.898348808288574,3.3813390731811523,3.2643141746520996,4.374645233154297,2.850207567214966,2.52182674407959,4.771732807159424,4.566878318786621,3.5616464614868164,2.8458566665649414,3.418527603149414,4.560850620269775,4.3616533279418945,5.282243728637695,4.265316009521484,2.4148800373077393,3.1577703952789307,4.725905895233154,5.423633098602295,2.5955231189727783,3.1289570331573486,1.4975180625915527,5.600424766540527,5.739397048950195,2.907583236694336,2.7537529468536377,3.8747503757476807,3.4818780422210693,3.1087746620178223,1.9270124435424805,3.9345409870147705,4.384374618530273,4.851513385772705,5.415332317352295,5.548495292663574,2.2652924060821533,5.706234455108643,1.4740568399429321,2.446091413497925,5.261221408843994,5.065521717071533,2.6248631477355957,5.039168834686279,2.3569555282592773,4.1740875244140625,2.5930681228637695,4.7492265701293945,2.839221477508545,2.8646695613861084,5.548541069030762,3.2113330364227295,2.660295248031616,5.290829658508301,5.878651142120361,6.169007778167725,3.2807962894439697,3.2073729038238525,4.435482978820801,4.570552349090576,4.968585968017578,3.5378878116607666,4.78216552734375,1.8671668767929077,3.7028822898864746,5.383042335510254,4.050719261169434,2.148049831390381,3.3845608234405518,2.7636351585388184,1.9974206686019897,4.928849697113037,4.4360151290893555,3.408113956451416,2.573997974395752,3.426450490951538,1.2455146312713623,3.6377370357513428,1.9175657033920288,3.18092942237854,5.34476900100708,4.083240032196045,5.541912078857422,2.41998291015625,3.8869402408599854,2.0012528896331787,2.822305202484131]},\"selected\":{\"id\":\"4639\"},\"selection_policy\":{\"id\":\"4638\"}},\"id\":\"4608\",\"type\":\"ColumnDataSource\"},{\"attributes\":{\"fill_alpha\":{\"value\":0.2},\"fill_color\":{\"value\":\"#e7ba52\"},\"hatch_alpha\":{\"value\":0.2},\"line_alpha\":{\"value\":0.2},\"line_color\":{\"value\":null},\"marker\":{\"value\":\"star\"},\"size\":{\"value\":12},\"x\":{\"field\":\"x\"},\"y\":{\"field\":\"y\"}},\"id\":\"4386\",\"type\":\"Scatter\"},{\"attributes\":{\"data\":{\"x\":[5.268857002258301,5.971240043640137,6.929527759552002,6.531851768493652,7.337416648864746,7.292619705200195,4.418363571166992,5.02055549621582,7.164904594421387,4.2163801193237305,5.083947658538818,5.930084705352783,8.094280242919922,6.435851097106934,4.629563808441162,6.51350736618042,5.3004865646362305,7.174227714538574,8.267067909240723,5.972470283508301,7.332006454467773,7.790921211242676,8.172893524169922,6.133704662322998,6.899563312530518,6.703747749328613,6.813015937805176,6.189717769622803,4.399162292480469,6.976131916046143,3.801734685897827,4.221803665161133,4.6921162605285645,8.314403533935547,4.244045734405518,6.547868251800537,7.370941638946533,6.803012847900391,6.942195892333984,8.175935745239258,6.664248466491699,7.152292251586914,8.046643257141113,5.959303855895996,5.867475986480713,4.2289581298828125,6.451828956604004,4.2859015464782715,7.667086124420166,5.119460582733154,4.438283920288086,7.28006649017334,4.982936382293701,6.079239845275879,5.715699195861816,5.300492763519287,8.131718635559082,5.603383541107178,5.3592448234558105,3.9573450088500977,5.6914143562316895,7.741565704345703,4.591310977935791,4.064122676849365,6.229709625244141,6.409623622894287,7.161244869232178,7.1417436599731445,4.903800964355469,4.070248126983643,4.448980808258057,7.077258586883545,4.857348918914795,5.1356658935546875,6.882480621337891,4.0254292488098145,6.060166358947754,5.1419806480407715,7.455158710479736,5.903811454772949,3.9216854572296143,6.979470252990723,4.6559271812438965,6.348136901855469,5.310675621032715,7.301286697387695,7.696721076965332,4.882049083709717,6.351089954376221,7.744704723358154,6.076559543609619,5.596534729003906,4.700484752655029,4.028502941131592,6.085229396820068,8.061758995056152,5.674513816833496,6.476808071136475,8.508437156677246,6.632554054260254,6.857687950134277,6.702647686004639,7.324375629425049,8.29910659790039,4.539070129394531,5.036570072174072,4.576073169708252,8.161252975463867,7.136127948760986,5.788215637207031,6.87589693069458,5.778944969177246,7.6663432121276855,7.400827407836914,6.4907145500183105,7.096429824829102,4.334641933441162,3.903285264968872,5.0808281898498535,6.170475959777832,6.971311092376709,6.120370864868164,5.207171440124512,7.221242904663086,5.275139331817627,4.39577579498291,5.522449016571045,5.6773200035095215,5.104222297668457,6.4767961502075195,5.163111686706543,6.91942834854126,6.728037357330322,8.57016658782959,5.618209362030029,8.426385879516602,7.824397563934326,7.526717185974121,6.686129570007324,8.592620849609375,7.07661247253418,5.107598304748535,7.031496047973633,5.179846286773682,6.231277942657471,7.578183174133301,7.137071132659912,4.289591312408447,4.921835422515869,5.764748573303223,3.8657147884368896,5.70925235748291,7.664690017700195,6.018658638000488,6.845073699951172,6.446206092834473,6.014550685882568,6.3105597496032715,5.369718551635742,6.314254283905029,7.325509548187256,6.806986331939697,7.018746852874756,7.531695365905762,8.389961242675781,6.037609577178955,7.468851566314697,4.315056800842285,7.2278971672058105,6.234087944030762,5.31924295425415,6.222204208374023,7.272294044494629,5.520174980163574,8.563666343688965,7.402716636657715,7.2077956199646,4.943777084350586,4.711452484130859,4.97769832611084,4.710662364959717,4.549560546875,5.0191426277160645,5.2306976318359375,4.227158546447754,5.1311774253845215,6.6957221031188965,5.616536617279053,7.07706880569458,6.025079727172852,4.811441898345947,6.551638603210449,7.240867614746094,7.1581573486328125,5.509028911590576,6.974159240722656,5.28078556060791,4.4275689125061035,5.599209308624268,4.71221923828125,6.875454902648926,8.543928146362305,4.832705974578857,7.821836948394775,5.721736431121826,5.142107009887695,8.60039234161377,5.286195278167725,7.9080095291137695,4.283271789550781,5.12052583694458,6.206535816192627,5.82194185256958,6.483704566955566,5.50532341003418,8.545791625976562,5.33087682723999,8.201899528503418,4.627593994140625,8.222085952758789,4.54482889175415,8.196268081665039,5.135279655456543,6.944289684295654,7.1464338302612305,7.734489917755127,4.6414475440979,7.12196683883667,8.184348106384277,6.7923903465271,5.916686058044434,5.192873001098633,4.482761383056641,7.523613452911377,4.709508895874023,5.678776741027832,7.997908115386963,5.865286827087402,8.196732521057129,4.850339889526367,4.3941216468811035,6.3532915115356445,6.14502477645874,6.278793811798096,4.0530219078063965,3.7760958671569824,8.156402587890625,4.989251613616943,4.943281650543213,4.932232856750488,5.770251274108887,7.197636127471924,8.405661582946777,6.047301292419434,4.490680694580078,8.409351348876953,8.238822937011719,5.4024152755737305,5.902717113494873,4.941325664520264,5.085174560546875,8.047371864318848,7.661991596221924,4.988744735717773,4.074229717254639,5.494382381439209,4.702425003051758,7.6803178787231445,7.301804542541504,6.463150978088379,5.6685051918029785,7.739291667938232,4.311188220977783,7.918009281158447,5.182626247406006,5.473423004150391,4.952620506286621,6.18086576461792,6.031253814697266,6.2353644371032715,8.224224090576172,4.446317672729492,6.26044225692749,6.590506076812744,6.103573799133301,5.772982120513916,5.138521671295166,5.1441264152526855,6.994686126708984,5.678877830505371,6.130517959594727,5.401139259338379,5.471100807189941,6.529458522796631,6.773427963256836,6.686483860015869,6.395891189575195,7.531192779541016,4.36562442779541,4.2259674072265625,4.132833003997803,5.877285003662109,6.216604709625244,6.944591522216797,6.857232570648193,7.471331596374512,5.619452953338623,4.916542053222656,6.715850830078125,8.49081802368164,4.850789546966553,5.516020774841309,7.222881317138672,6.319125652313232,5.892404556274414,5.746358394622803,7.077112674713135,7.180577278137207,5.716617584228516,5.327646732330322,6.087381839752197,7.609340667724609,7.437819957733154,5.893967151641846,7.499641418457031,5.669045448303223,5.314664840698242,6.7730393409729,6.93740177154541,4.501189708709717,7.002833366394043,4.103915691375732,6.217977046966553,6.790461540222168,5.191167831420898,4.869927883148193,5.605897426605225,4.826958179473877,6.815767765045166,5.113821983337402,4.378962993621826,5.962418556213379,5.514514446258545,6.563048839569092,6.740133285522461,5.355893611907959,6.57537317276001,7.390256404876709,4.969845771789551,4.918850421905518,4.9983086585998535,6.1390910148620605,5.791195869445801,6.1156158447265625,6.8186516761779785,8.519115447998047,5.357997417449951,6.1830644607543945,8.057591438293457,5.778444290161133,7.2833991050720215,8.195171356201172,7.639707088470459,6.372868537902832,5.488550662994385,7.083340167999268,7.415744304656982,5.246490001678467,5.188779830932617,3.863091468811035],\"y\":[1.897279977798462,5.465849876403809,3.194138288497925,3.2085726261138916,4.674698352813721,4.530695915222168,4.3869829177856445,1.3847839832305908,4.054521083831787,2.808069944381714,1.3882979154586792,3.323692560195923,1.8743393421173096,2.046389579772949,1.7763108015060425,2.1599793434143066,3.757707118988037,5.825848579406738,3.9503250122070312,2.5909881591796875,4.397130012512207,3.887795925140381,3.98325514793396,5.845170021057129,1.5871905088424683,2.07426381111145,3.5423412322998047,4.037156581878662,3.2600045204162598,4.031930923461914,2.645451068878174,2.8012235164642334,4.203583717346191,2.7853870391845703,5.1766037940979,3.6264071464538574,3.3259968757629395,3.069871664047241,4.647756576538086,5.051281929016113,2.0517117977142334,1.9198715686798096,3.847407817840576,3.5808746814727783,5.410863399505615,3.541628122329712,2.5344059467315674,2.601850986480713,3.928367853164673,2.4628937244415283,4.853122711181641,2.9099068641662598,4.98677396774292,6.1302170753479,2.4457077980041504,3.0780606269836426,3.282222032546997,3.7299458980560303,2.593013048171997,4.672691822052002,2.0528197288513184,4.36660623550415,2.871922016143799,5.119261741638184,5.592720985412598,5.856043815612793,3.8367326259613037,4.672547817230225,4.326885223388672,4.888325214385986,4.426908016204834,2.2407331466674805,3.326829433441162,3.8530731201171875,3.581019401550293,2.4222662448883057,4.607905387878418,3.9513251781463623,5.149500846862793,2.113023042678833,2.4961609840393066,4.569468021392822,2.004006862640381,2.461286783218384,1.927362322807312,2.237584114074707,1.7883256673812866,1.5090121030807495,4.2180609703063965,1.637184977531433,2.335702419281006,5.215653896331787,3.668384552001953,2.6828250885009766,3.7921433448791504,3.1641221046447754,4.230358600616455,3.585355520248413,3.181694746017456,4.767029285430908,5.060419082641602,5.688068389892578,1.3733599185943604,3.70682954788208,5.1308746337890625,4.085007190704346,2.344129800796509,5.013015270233154,5.168612480163574,6.065730094909668,3.808941125869751,2.7453107833862305,5.265713214874268,1.9582628011703491,3.8727164268493652,3.4033422470092773,5.493022441864014,2.909919500350952,5.5043134689331055,5.289304733276367,4.938539505004883,2.813565492630005,3.5678000450134277,3.10019588470459,5.183706760406494,5.00278902053833,6.094773292541504,5.077653884887695,4.552228927612305,3.4701075553894043,4.332746982574463,4.0534749031066895,5.255617141723633,2.597259283065796,3.830131769180298,3.063053846359253,2.066648483276367,2.6804869174957275,2.4421539306640625,2.9483370780944824,3.468801259994507,3.7580323219299316,4.930079460144043,5.239158630371094,1.0809714794158936,3.4981887340545654,4.9479451179504395,2.441908121109009,3.8400845527648926,5.910526275634766,4.325001239776611,3.4681081771850586,5.45273494720459,2.7417523860931396,3.288374185562134,4.507815837860107,3.860368013381958,3.121119737625122,2.9519166946411133,2.906651020050049,3.8018336296081543,4.989707946777344,5.364316940307617,4.4528656005859375,2.582787036895752,4.822437763214111,3.5557868480682373,4.166737079620361,5.343801975250244,1.3454583883285522,2.1463077068328857,1.86884343624115,4.021421909332275,5.672337532043457,2.968337297439575,4.551721096038818,2.5814623832702637,1.521736741065979,3.1799938678741455,2.0611071586608887,4.1162800788879395,2.017910957336426,5.665144443511963,2.246821641921997,4.705408096313477,3.274862289428711,5.069164276123047,1.3887743949890137,1.3145605325698853,2.415130615234375,2.378382444381714,5.782845973968506,4.502845764160156,3.410088300704956,2.4030821323394775,3.0276405811309814,2.6434667110443115,1.759650707244873,2.057673692703247,5.339653968811035,2.2816033363342285,4.691505432128906,3.9374372959136963,3.8664817810058594,2.448068857192993,2.5465025901794434,2.9694337844848633,3.2113192081451416,2.2071592807769775,4.824558734893799,4.272322177886963,2.1643099784851074,1.587738275527954,2.63946270942688,4.341278076171875,3.561457633972168,2.521057605743408,2.276960611343384,2.8616819381713867,3.176994800567627,3.4374725818634033,1.9491876363754272,5.877659320831299,2.156898021697998,3.807647943496704,1.3790372610092163,3.941206216812134,4.137167453765869,3.6035959720611572,3.8912503719329834,3.725384473800659,4.967503547668457,5.203145503997803,2.716920852661133,4.462311267852783,4.305700778961182,2.5956289768218994,5.702361583709717,4.908538341522217,4.708940505981445,4.548059463500977,5.100699424743652,1.9933586120605469,3.880511999130249,4.9296650886535645,3.2335944175720215,3.3683154582977295,4.689284324645996,5.3159260749816895,5.157780170440674,5.998905181884766,4.695417404174805,5.043394088745117,5.619693279266357,3.5139341354370117,2.235208034515381,4.457597732543945,4.419017314910889,5.393248558044434,5.142912864685059,1.6623896360397339,3.3785271644592285,4.095054626464844,2.3953142166137695,2.8612048625946045,5.5158820152282715,4.429455757141113,1.739506483078003,4.430689811706543,2.6958484649658203,2.6586787700653076,5.055861473083496,2.3711354732513428,3.247838020324707,1.648371934890747,5.7136054039001465,3.64385724067688,5.892613887786865,2.689426898956299,5.215864658355713,3.5210728645324707,2.5620014667510986,1.340844750404358,4.609572887420654,3.194155693054199,1.5687121152877808,3.9020395278930664,3.1273632049560547,4.366039276123047,1.037079095840454,5.8251872062683105,2.225527048110962,1.5149236917495728,2.3525030612945557,4.015460014343262,3.168322801589966,6.080082893371582,4.300251007080078,2.206641912460327,3.9490530490875244,4.051692962646484,2.2511045932769775,1.0836511850357056,4.981144905090332,4.387518405914307,4.666635036468506,3.7444050312042236,2.2438361644744873,3.228433132171631,3.6872060298919678,3.1565918922424316,5.4893293380737305,2.500392198562622,5.1135430335998535,1.6072825193405151,5.340736389160156,4.452452182769775,5.974898815155029,4.8657612800598145,4.903585910797119,2.337186098098755,2.8435492515563965,3.26218581199646,2.5335538387298584,2.5128142833709717,5.0203375816345215,2.3947696685791016,5.464292526245117,3.2052648067474365,2.050715446472168,4.904706954956055,3.6803078651428223,6.13958215713501,4.0248026847839355,3.6677703857421875,3.322124719619751,4.230225086212158,5.568235397338867,4.381688594818115,4.388049125671387,3.6737916469573975,5.167122840881348,4.5488600730896,2.1899192333221436,2.2348384857177734,4.469022274017334,4.090539455413818,2.8469297885894775,3.548088788986206,3.8576645851135254,1.5083255767822266,1.6914703845977783,5.302709579467773,5.097591876983643,2.845046281814575,4.064455032348633,4.744499683380127,5.950314044952393,4.947043418884277,5.364490985870361,5.776180267333984,3.5416674613952637,2.591740608215332,5.006159782409668,3.3719520568847656,4.926115989685059,3.17525315284729,4.788238048553467,1.5434112548828125,3.9235637187957764]},\"selected\":{\"id\":\"4503\"},\"selection_policy\":{\"id\":\"4502\"}},\"id\":\"4480\",\"type\":\"ColumnDataSource\"},{\"attributes\":{\"fill_alpha\":{\"value\":0.2},\"fill_color\":{\"value\":\"#8c6d31\"},\"hatch_alpha\":{\"value\":0.2},\"line_alpha\":{\"value\":0.2},\"line_color\":{\"value\":null},\"marker\":{\"value\":\"inverted_triangle\"},\"size\":{\"value\":12},\"x\":{\"field\":\"x\"},\"y\":{\"field\":\"y\"}},\"id\":\"4611\",\"type\":\"Scatter\"},{\"attributes\":{\"coordinates\":null,\"data_source\":{\"id\":\"4509\"},\"glyph\":{\"id\":\"4510\"},\"group\":null,\"hover_glyph\":null,\"muted_glyph\":{\"id\":\"4512\"},\"nonselection_glyph\":{\"id\":\"4511\"},\"view\":{\"id\":\"4514\"}},\"id\":\"4513\",\"type\":\"GlyphRenderer\"},{\"attributes\":{},\"id\":\"4352\",\"type\":\"ZoomInTool\"},{\"attributes\":{},\"id\":\"4351\",\"type\":\"WheelZoomTool\"},{\"attributes\":{\"label\":{\"value\":\"rock\"},\"renderers\":[{\"id\":\"4484\"}]},\"id\":\"4508\",\"type\":\"LegendItem\"},{\"attributes\":{\"source\":{\"id\":\"4608\"}},\"id\":\"4613\",\"type\":\"CDSView\"},{\"attributes\":{\"fill_color\":{\"value\":\"#8ca252\"},\"line_color\":{\"value\":null},\"marker\":{\"value\":\"triangle\"},\"size\":{\"value\":12},\"x\":{\"field\":\"x\"},\"y\":{\"field\":\"y\"}},\"id\":\"4510\",\"type\":\"Scatter\"},{\"attributes\":{\"overlay\":{\"id\":\"4366\"}},\"id\":\"4361\",\"type\":\"PolySelectTool\"},{\"attributes\":{},\"id\":\"4639\",\"type\":\"Selection\"},{\"attributes\":{\"fill_alpha\":{\"value\":0.2},\"fill_color\":{\"value\":\"#bd9e39\"},\"hatch_alpha\":{\"value\":0.2},\"line_alpha\":{\"value\":0.2},\"line_color\":{\"value\":null},\"marker\":{\"value\":\"square\"},\"size\":{\"value\":12},\"x\":{\"field\":\"x\"},\"y\":{\"field\":\"y\"}},\"id\":\"4483\",\"type\":\"Scatter\"},{\"attributes\":{},\"id\":\"4533\",\"type\":\"UnionRenderers\"},{\"attributes\":{\"tools\":[{\"id\":\"4348\"},{\"id\":\"4349\"},{\"id\":\"4350\"},{\"id\":\"4351\"},{\"id\":\"4352\"},{\"id\":\"4353\"},{\"id\":\"4354\"},{\"id\":\"4355\"},{\"id\":\"4356\"},{\"id\":\"4357\"},{\"id\":\"4358\"},{\"id\":\"4359\"},{\"id\":\"4360\"},{\"id\":\"4361\"},{\"id\":\"4362\"}]},\"id\":\"4367\",\"type\":\"Toolbar\"},{\"attributes\":{},\"id\":\"4502\",\"type\":\"UnionRenderers\"},{\"attributes\":{\"fill_color\":{\"value\":\"#e7ba52\"},\"line_color\":{\"value\":null},\"marker\":{\"value\":\"star\"},\"size\":{\"value\":12},\"x\":{\"field\":\"x\"},\"y\":{\"field\":\"y\"}},\"id\":\"4384\",\"type\":\"Scatter\"},{\"attributes\":{\"fill_alpha\":{\"value\":0.1},\"fill_color\":{\"value\":\"#8c6d31\"},\"hatch_alpha\":{\"value\":0.1},\"line_alpha\":{\"value\":0.1},\"line_color\":{\"value\":null},\"marker\":{\"value\":\"inverted_triangle\"},\"size\":{\"value\":12},\"x\":{\"field\":\"x\"},\"y\":{\"field\":\"y\"}},\"id\":\"4610\",\"type\":\"Scatter\"},{\"attributes\":{\"label\":{\"value\":\"latin\"},\"renderers\":[{\"id\":\"4513\"}]},\"id\":\"4539\",\"type\":\"LegendItem\"},{\"attributes\":{},\"id\":\"4678\",\"type\":\"Selection\"},{\"attributes\":{\"overlay\":{\"id\":\"4365\"}},\"id\":\"4362\",\"type\":\"LassoSelectTool\"},{\"attributes\":{},\"id\":\"4719\",\"type\":\"Selection\"},{\"attributes\":{\"fill_alpha\":{\"value\":0.2},\"fill_color\":{\"value\":\"#8ca252\"},\"hatch_alpha\":{\"value\":0.2},\"line_alpha\":{\"value\":0.2},\"line_color\":{\"value\":null},\"marker\":{\"value\":\"triangle\"},\"size\":{\"value\":12},\"x\":{\"field\":\"x\"},\"y\":{\"field\":\"y\"}},\"id\":\"4512\",\"type\":\"Scatter\"},{\"attributes\":{\"coordinates\":null,\"data_source\":{\"id\":\"4684\"},\"glyph\":{\"id\":\"4685\"},\"group\":null,\"hover_glyph\":null,\"muted_glyph\":{\"id\":\"4687\"},\"nonselection_glyph\":{\"id\":\"4686\"},\"view\":{\"id\":\"4689\"}},\"id\":\"4688\",\"type\":\"GlyphRenderer\"},{\"attributes\":{\"fill_alpha\":{\"value\":0.1},\"fill_color\":{\"value\":\"#8ca252\"},\"hatch_alpha\":{\"value\":0.1},\"line_alpha\":{\"value\":0.1},\"line_color\":{\"value\":null},\"marker\":{\"value\":\"triangle\"},\"size\":{\"value\":12},\"x\":{\"field\":\"x\"},\"y\":{\"field\":\"y\"}},\"id\":\"4511\",\"type\":\"Scatter\"},{\"attributes\":{\"fill_alpha\":{\"value\":0.2},\"fill_color\":{\"value\":\"#6b6ecf\"},\"hatch_alpha\":{\"value\":0.2},\"line_alpha\":{\"value\":0.2},\"line_color\":{\"value\":null},\"marker\":{\"value\":\"inverted_triangle\"},\"size\":{\"value\":12},\"x\":{\"field\":\"x\"},\"y\":{\"field\":\"y\"}},\"id\":\"4687\",\"type\":\"Scatter\"},{\"attributes\":{},\"id\":\"4447\",\"type\":\"Selection\"},{\"attributes\":{\"axis\":{\"id\":\"4340\"},\"coordinates\":null,\"group\":null,\"ticker\":null},\"id\":\"4343\",\"type\":\"Grid\"},{\"attributes\":{\"fill_color\":{\"value\":\"#637939\"},\"line_color\":{\"value\":null},\"marker\":{\"value\":\"star\"},\"size\":{\"value\":12},\"x\":{\"field\":\"x\"},\"y\":{\"field\":\"y\"}},\"id\":\"4541\",\"type\":\"Scatter\"},{\"attributes\":{\"overlay\":{\"id\":\"4363\"}},\"id\":\"4360\",\"type\":\"BoxSelectTool\"},{\"attributes\":{\"data\":{\"x\":[7.128288269042969,7.593785762786865,6.32318639755249,5.274713039398193,7.341845989227295,4.130976676940918,6.613731384277344,4.420175552368164,6.7707133293151855,8.339158058166504,5.177493572235107,8.36845874786377,7.933304309844971,4.8356451988220215,6.352610111236572,4.827658176422119,6.910662651062012,6.376458168029785,6.628305912017822,6.683727741241455,7.462879657745361,7.039005756378174,6.135430812835693,7.219141006469727,7.5667548179626465,7.6522345542907715,4.565736293792725,5.700214385986328,6.421351432800293,6.839457035064697,6.056154251098633,6.49219274520874,5.369035243988037,4.647356033325195,8.121013641357422,5.769369125366211,5.028135299682617,6.447336673736572,7.337428092956543,7.9683990478515625,7.6378278732299805,7.503020763397217,6.684675216674805,3.9569950103759766,5.748724460601807,5.1417341232299805,4.715887546539307,6.691931247711182,4.672636985778809,4.461546421051025,4.626176357269287,5.370106220245361,5.101256370544434,6.759337902069092,6.055020809173584,7.953554630279541,7.523974895477295,3.986752510070801,5.136075496673584,6.0079426765441895,6.596612930297852,6.951208114624023,6.083400726318359,4.5334320068359375,6.32558012008667,7.046448230743408,4.214893341064453,3.8887250423431396,4.574868202209473,5.3248209953308105,6.594748497009277,4.521615505218506,5.837497711181641,8.384136199951172,7.800099849700928,7.273886203765869,7.933958053588867,5.549713134765625,8.18897533416748,4.668850898742676,6.283679962158203,4.972517013549805,4.586153984069824,5.106305122375488,6.0571208000183105,4.046475410461426,7.744881629943848,6.453670024871826,4.308388710021973,5.507817268371582,6.011912822723389,7.820437908172607,4.851949691772461,7.064822196960449,7.201624393463135],\"y\":[1.6781985759735107,3.0820655822753906,3.9968762397766113,3.1557929515838623,5.184783935546875,4.916340351104736,5.535399436950684,3.021122932434082,1.518369436264038,3.2445828914642334,2.0496327877044678,2.381856918334961,2.9208109378814697,4.980500221252441,2.9482946395874023,2.939096689224243,1.3914015293121338,5.4866228103637695,2.7123265266418457,5.423231601715088,1.4329900741577148,3.383366346359253,1.3621982336044312,5.690252780914307,2.3869550228118896,4.990554332733154,3.691891670227051,3.702941656112671,5.048375606536865,2.913972854614258,3.181149959564209,2.589920997619629,4.455517768859863,3.3154456615448,2.285367965698242,4.395387172698975,2.9127299785614014,3.0476596355438232,1.672550082206726,3.006932020187378,5.39654016494751,5.371747970581055,3.6234025955200195,4.135290145874023,4.186705112457275,2.568596601486206,1.8576197624206543,5.2472310066223145,4.7005615234375,4.142858982086182,5.411853313446045,3.847787380218506,3.763326406478882,5.57206916809082,3.355299472808838,3.6937503814697266,3.9810996055603027,3.830368995666504,4.722041130065918,4.0123291015625,2.202960968017578,5.323662757873535,3.8244762420654297,4.97285270690918,4.963254928588867,4.555726051330566,4.79809045791626,4.210206508636475,3.4504315853118896,4.422837257385254,3.4896130561828613,2.2815916538238525,1.6848825216293335,2.4836089611053467,4.598618507385254,3.225233793258667,2.1401405334472656,3.237173318862915,5.0603532791137695,4.812739372253418,2.3358030319213867,3.102893352508545,4.867238521575928,1.5906354188919067,3.0301947593688965,3.112833023071289,1.9886305332183838,1.6009795665740967,5.094935894012451,2.573711395263672,2.2604832649230957,2.110100746154785,1.9986751079559326,2.9259517192840576,5.607510566711426]},\"selected\":{\"id\":\"4719\"},\"selection_policy\":{\"id\":\"4718\"}},\"id\":\"4684\",\"type\":\"ColumnDataSource\"},{\"attributes\":{\"coordinates\":null,\"group\":null},\"id\":\"4389\",\"type\":\"Title\"},{\"attributes\":{\"callback\":null},\"id\":\"4358\",\"type\":\"TapTool\"},{\"attributes\":{\"source\":{\"id\":\"4509\"}},\"id\":\"4514\",\"type\":\"CDSView\"},{\"attributes\":{\"data\":{\"x\":[4.2348222732543945,6.089657783508301,8.567441940307617,6.84102725982666,7.545719146728516,7.373633861541748,4.284256458282471,5.344230651855469,4.014054775238037,4.804394245147705,5.699477195739746,4.914283752441406,7.290045261383057,6.956238746643066,7.674591541290283,7.3376007080078125,4.959446430206299,4.700404167175293,4.443913459777832,7.449682712554932,4.316647052764893,5.171192646026611,6.7709269523620605,6.345012664794922,6.557102680206299,8.487027168273926,6.698577880859375,8.114455223083496,3.8215792179107666,7.441497802734375,6.927491664886475,6.895279407501221,7.698705196380615,6.256101608276367,5.866147518157959,6.911252498626709,7.021735668182373,6.493762493133545,3.990211248397827,5.460168361663818,6.204357147216797,4.09619140625,7.0123138427734375,4.58254337310791,4.925473690032959,5.139803409576416,8.728351593017578,7.180394172668457,8.218273162841797,5.87581729888916,5.4763875007629395,6.5460357666015625,7.041151523590088,3.8494129180908203,6.17999792098999,6.701571941375732,5.966434478759766,7.327831268310547,4.109927177429199,6.241657733917236,8.515290260314941,6.204385757446289,6.724746227264404,7.384915828704834,8.294490814208984,4.321504592895508,5.366545677185059,7.566875457763672,4.019440650939941,8.373717308044434,5.436519145965576,6.0416107177734375,5.424502372741699,7.336050510406494,6.59391975402832,6.054509162902832,6.6463141441345215,7.231939792633057,6.3271074295043945,6.218151092529297,7.106213092803955,5.724743366241455,5.0970988273620605,4.804361820220947,7.981625080108643,8.45997428894043,4.746030807495117,5.090397357940674,7.374574184417725,5.4508256912231445,7.371037006378174,7.926591873168945,6.951628684997559,5.964377403259277,4.866427421569824,6.771717548370361,6.367218971252441,6.50657844543457,5.545417308807373,7.7371063232421875,8.470780372619629,6.297837257385254,5.219242572784424,3.802919864654541,6.726180076599121,7.1868109703063965,5.697588920593262,7.645305156707764,7.311772346496582,6.135881423950195,4.727061748504639,7.076633930206299,5.52601432800293,4.345824718475342,6.307096004486084,7.581147193908691,4.449007034301758,5.458024024963379,5.81780481338501,6.675678730010986,4.228164196014404,8.8991117477417,5.186960697174072,5.694667339324951,7.515109062194824,4.379188537597656,6.255220890045166,7.851156711578369,4.616275787353516,6.956004619598389,6.828606605529785,8.147136688232422,8.537237167358398,4.485440254211426,6.626800537109375,7.414947509765625,5.837127208709717,8.341547012329102,4.370852947235107,7.1546549797058105,4.279675006866455,5.841317653656006,5.531726360321045,6.229092597961426,7.986997604370117,8.302091598510742,5.9221320152282715,6.882931232452393,5.870383262634277,5.008361339569092,7.46730899810791,7.742591381072998,5.067540168762207,6.616385459899902,5.05339241027832,6.5026116371154785,4.988824844360352,6.263184070587158,6.8787102699279785,5.819551944732666,4.795707702636719,5.807324409484863,7.974658489227295,7.102787971496582,7.986903667449951,5.161344051361084,4.628042697906494,6.891698360443115,4.283558368682861,5.529551029205322,8.362866401672363,5.721299171447754,5.6453399658203125,4.502368927001953,6.874568939208984,8.324329376220703,5.266546726226807,6.336361885070801,7.136714935302734,8.437026023864746,5.921891212463379,5.963615894317627,8.160137176513672,7.502630233764648,7.4612956047058105,7.163918972015381,8.805214881896973,6.429190158843994,5.363358974456787,8.008134841918945,5.406369686126709,5.292636394500732,4.570809364318848,4.1068501472473145,8.499183654785156,4.048678874969482,6.8946533203125,5.714332580566406,7.147116184234619,4.603353977203369,6.024581432342529,6.709629535675049,7.050837516784668,5.715611457824707,5.961034297943115,5.006443500518799,4.2220354080200195,4.54945707321167,7.55020809173584,5.678144454956055,7.2622528076171875,5.79765510559082,4.421745777130127,5.705312252044678,6.972330093383789,4.3897905349731445,8.445314407348633,4.886647701263428,6.555378437042236,6.925563812255859,7.66156530380249,4.0439910888671875,5.215012073516846,6.402425765991211,6.425825119018555,5.824295997619629,6.709723949432373,5.018318176269531,5.219780921936035,8.28296947479248,4.633896827697754,6.6701226234436035,7.731907367706299,7.594155311584473,5.614234447479248,5.463789939880371,5.780020713806152,4.932952404022217,7.094075679779053,3.8035898208618164,6.3888349533081055,5.736820220947266,4.506070613861084,8.42379379272461,4.962518215179443,6.148996829986572,6.720690727233887,4.272491455078125,8.525497436523438,8.79655933380127,8.124380111694336,7.956528186798096,6.950351238250732,5.797185897827148,4.664908409118652,6.137779235839844,6.873425483703613,6.867307186126709,5.753514766693115,4.8373703956604,8.13524341583252,5.916450023651123,6.565708637237549,5.741121292114258,5.121921539306641,6.268421173095703,6.707738876342773,6.37299919128418,5.088991641998291,6.246796607971191,5.908658504486084,5.858389377593994,3.8529293537139893,5.920015335083008,8.421005249023438,6.675835609436035,5.918347358703613,4.765230178833008,6.835795879364014,7.240257263183594,6.34642219543457,6.075611591339111,6.464280605316162,7.653097152709961,8.105363845825195,4.473410129547119,7.5361175537109375,4.715428352355957,4.302601337432861,5.922286510467529,6.2163262367248535,4.7064127922058105,5.892970561981201,5.427857398986816,7.305544853210449,6.729910373687744,6.1686692237854,6.096250057220459,7.7679290771484375,3.8791730403900146],\"y\":[3.0925164222717285,2.2526872158050537,4.1233906745910645,2.2776780128479004,3.1219191551208496,1.5744428634643555,3.9742062091827393,5.2213521003723145,2.503244161605835,4.3815507888793945,1.484893560409546,3.262866258621216,3.23037052154541,1.8167495727539062,2.367588996887207,3.401700258255005,2.951570510864258,1.8023722171783447,1.6693305969238281,1.9237663745880127,3.033763885498047,2.3638226985931396,2.5721535682678223,5.9189772605896,4.621521472930908,3.556767463684082,6.163357257843018,4.1337409019470215,3.727975845336914,3.831331253051758,3.0560142993927,5.92625093460083,3.7564589977264404,4.634938716888428,1.9530291557312012,6.042815685272217,5.742483139038086,4.360731601715088,3.8069632053375244,1.9116885662078857,1.6924924850463867,3.142061471939087,1.233038067817688,5.183720111846924,2.0845720767974854,2.7402303218841553,3.1682212352752686,4.802073001861572,3.8509573936462402,4.119390487670898,5.794301986694336,2.9414167404174805,1.5933054685592651,4.528012275695801,2.0991291999816895,4.733688831329346,5.889260768890381,2.4071099758148193,4.74106502532959,1.8174690008163452,4.828533172607422,4.524716854095459,3.708482503890991,1.2015055418014526,4.948891639709473,3.265634298324585,5.2001519203186035,2.1723732948303223,4.5478010177612305,3.9182143211364746,3.3226308822631836,1.31537663936615,5.018192768096924,3.4177982807159424,4.498328685760498,2.633220672607422,1.871399998664856,4.473152160644531,2.5667026042938232,4.504481315612793,2.562178373336792,1.8926198482513428,5.067938327789307,1.8009001016616821,2.391214609146118,2.7564213275909424,3.466303825378418,1.4982123374938965,5.672329425811768,3.319831371307373,5.598713397979736,4.887646675109863,4.703366279602051,4.725970268249512,1.4467600584030151,6.222877502441406,2.107041358947754,3.732797384262085,4.948606014251709,3.484166145324707,2.9006175994873047,5.434019565582275,3.3352763652801514,3.1417064666748047,4.875555515289307,5.779575347900391,5.135303497314453,4.116086483001709,5.157672882080078,2.895909070968628,1.6143980026245117,3.641462564468384,1.902879238128662,2.5199601650238037,6.221486568450928,3.571568727493286,2.690629720687866,1.4453116655349731,4.575728416442871,5.178463459014893,3.8244335651397705,3.3824336528778076,4.957891464233398,4.75779390335083,3.9709181785583496,2.5680172443389893,1.0176960229873657,5.098953723907471,3.526975154876709,1.8623088598251343,2.5760812759399414,3.8145172595977783,2.97430682182312,4.269708156585693,4.3819169998168945,5.772439479827881,2.6037628650665283,2.75311017036438,4.123476982116699,4.928248882293701,4.7491655349731445,2.4597134590148926,1.5097459554672241,5.3388190269470215,2.436769962310791,3.599806785583496,1.6276363134384155,4.799769878387451,1.6299433708190918,3.0319535732269287,2.1163601875305176,1.9466476440429688,4.299039363861084,6.049704074859619,4.14265775680542,1.8344749212265015,2.6639816761016846,3.4692838191986084,2.698737382888794,1.2029664516448975,5.328305721282959,3.2060904502868652,3.734348773956299,4.277976036071777,3.0469305515289307,2.6616578102111816,4.362795352935791,4.936809062957764,3.069584608078003,1.7192108631134033,3.3025386333465576,4.714545726776123,3.9259419441223145,2.484053611755371,3.853403329849243,4.363041877746582,1.454549789428711,5.7350969314575195,4.954407691955566,2.9086966514587402,3.827853202819824,5.449848175048828,3.5854647159576416,5.2670512199401855,2.7012574672698975,2.201523542404175,2.7846243381500244,4.810193061828613,5.0520758628845215,3.112680673599243,3.51800274848938,5.279392719268799,2.8647806644439697,3.1097257137298584,4.598574161529541,3.0151069164276123,4.053487300872803,2.164372682571411,3.954850912094116,3.277897357940674,4.742067813873291,3.0952329635620117,2.381525993347168,2.715881586074829,4.221803665161133,1.6135079860687256,2.3745369911193848,3.9136059284210205,3.2134695053100586,2.9214906692504883,1.5841184854507446,4.136683940887451,4.282997131347656,1.8595932722091675,4.066242694854736,5.549896717071533,3.706723690032959,2.2423861026763916,2.6347038745880127,4.451689720153809,3.4703285694122314,4.635772228240967,2.020822286605835,4.818243503570557,4.401195526123047,3.535407066345215,2.003239870071411,2.1384541988372803,2.477358818054199,2.2065515518188477,2.8545780181884766,3.99308180809021,1.6913665533065796,3.6066606044769287,4.441638946533203,4.016354084014893,4.026192665100098,5.3386945724487305,4.470193862915039,3.2681684494018555,3.891584873199463,4.431697368621826,5.241397380828857,4.144702434539795,1.80460786819458,2.855741262435913,2.50447416305542,3.086947202682495,3.7846240997314453,3.161745071411133,4.828999996185303,2.165595054626465,1.3888294696807861,1.7488504648208618,3.907764196395874,4.345493793487549,5.420783519744873,4.954112529754639,1.8953936100006104,3.652169942855835,2.6288604736328125,3.152495861053467,5.041882514953613,3.1435883045196533,5.140659809112549,1.8733011484146118,3.8091320991516113,4.803448677062988,1.5869743824005127,6.091911792755127,3.053278684616089,3.505411386489868,3.8624160289764404,3.981520175933838,2.3858840465545654,6.3000664710998535,1.7679117918014526,3.1022374629974365,2.960998773574829,4.790103435516357,5.498965740203857,2.5641841888427734,5.190439701080322,3.5665669441223145,4.060649871826172,5.3824968338012695,3.3861889839172363,4.533509254455566,4.8164238929748535,3.953829765319824,3.4320755004882812,3.3065803050994873,3.1733169555664062,4.770841121673584,1.649024248123169,4.098884582519531,1.0499768257141113,4.390780925750732,2.661583185195923,2.7096107006073]},\"selected\":{\"id\":\"4534\"},\"selection_policy\":{\"id\":\"4533\"}},\"id\":\"4509\",\"type\":\"ColumnDataSource\"},{\"attributes\":{\"label\":{\"value\":\"highlife\"},\"renderers\":[{\"id\":\"4688\"}]},\"id\":\"4724\",\"type\":\"LegendItem\"},{\"attributes\":{},\"id\":\"4638\",\"type\":\"UnionRenderers\"},{\"attributes\":{\"source\":{\"id\":\"4684\"}},\"id\":\"4689\",\"type\":\"CDSView\"},{\"attributes\":{},\"id\":\"4422\",\"type\":\"Selection\"},{\"attributes\":{\"coordinates\":null,\"fill_alpha\":0.5,\"fill_color\":\"lightgrey\",\"group\":null,\"level\":\"overlay\",\"line_alpha\":1.0,\"line_color\":\"black\",\"line_dash\":[4,4],\"line_width\":2,\"syncable\":false,\"xs_units\":\"screen\",\"ys_units\":\"screen\"},\"id\":\"4366\",\"type\":\"PolyAnnotation\"},{\"attributes\":{\"coordinates\":null,\"data_source\":{\"id\":\"4645\"},\"glyph\":{\"id\":\"4646\"},\"group\":null,\"hover_glyph\":null,\"muted_glyph\":{\"id\":\"4648\"},\"nonselection_glyph\":{\"id\":\"4647\"},\"view\":{\"id\":\"4650\"}},\"id\":\"4649\",\"type\":\"GlyphRenderer\"},{\"attributes\":{},\"id\":\"4534\",\"type\":\"Selection\"},{\"attributes\":{\"data\":{\"x\":[5.703130722045898,8.523670196533203,5.391687870025635,5.335461616516113,5.296938896179199,7.36457633972168,7.903510093688965,5.946625709533691,6.7490034103393555,6.082585334777832,6.069022178649902,7.000523090362549,4.611683368682861,7.51798677444458,8.20661735534668,5.409305095672607,6.169170379638672,6.431664943695068,7.359591484069824,6.7846808433532715,6.047135829925537,5.011256694793701,6.545533180236816,8.295413970947266,4.511953353881836,8.278070449829102,5.611490249633789,6.969665050506592,4.304738521575928,4.298525810241699,6.18784761428833,5.471166133880615,7.2818498611450195,7.947096347808838,7.3189778327941895,4.202258110046387,7.352901935577393,5.81486701965332,6.020227909088135,7.038382053375244,5.831023693084717,5.124183654785156,6.806066513061523,7.687869071960449,6.162407398223877,5.786214351654053,6.396984577178955,5.344460964202881,5.450344562530518,4.17323637008667,8.423810005187988,7.165252685546875,7.5816450119018555,5.282949924468994,6.3587541580200195,6.940723896026611,7.1282806396484375,7.534862041473389,6.601235866546631,5.5897626876831055,5.220154762268066,5.584109306335449,3.843224287033081,4.807529926300049,8.375372886657715,5.11159086227417,4.484732627868652,8.090081214904785,6.852335453033447,4.462661266326904,7.172872066497803,5.581663131713867,6.2046356201171875,7.616127014160156,7.478944301605225,4.825973987579346,4.485166072845459,5.887236595153809,7.144839286804199],\"y\":[5.79384183883667,3.908264398574829,3.6798949241638184,2.20078706741333,5.276970386505127,5.452226161956787,2.516814947128296,3.513256549835205,3.952853202819824,4.9784674644470215,4.079926013946533,4.169339179992676,5.488275527954102,5.104172229766846,3.345381259918213,4.13783073425293,3.40621280670166,4.941009998321533,6.005772590637207,1.2207971811294556,4.815293788909912,4.674633026123047,6.019767761230469,4.5320210456848145,4.652245044708252,3.4323947429656982,5.077403545379639,5.847171306610107,2.7963273525238037,2.098357677459717,1.852211356163025,2.9937872886657715,3.096989393234253,3.365684986114502,5.238218307495117,4.706717491149902,4.870141506195068,5.934166431427002,4.841439247131348,3.4133663177490234,5.5018086433410645,4.614381790161133,6.021902084350586,2.8911468982696533,5.056206226348877,2.5551722049713135,4.193472385406494,4.134128093719482,5.517521381378174,4.835270404815674,4.116642475128174,1.6272636651992798,2.1387689113616943,4.0306077003479,5.420427322387695,5.770423889160156,1.907749056816101,3.594815492630005,5.62416410446167,5.580191135406494,1.9036922454833984,5.507750988006592,2.8108251094818115,2.3411684036254883,4.604472637176514,4.698873519897461,4.2901482582092285,4.95949649810791,5.968292236328125,2.7045533657073975,2.2725584506988525,5.4487175941467285,4.719850063323975,4.994919300079346,4.800650119781494,5.0153117179870605,2.5164451599121094,3.429938316345215,5.626499176025391]},\"selected\":{\"id\":\"4678\"},\"selection_policy\":{\"id\":\"4677\"}},\"id\":\"4645\",\"type\":\"ColumnDataSource\"},{\"attributes\":{},\"id\":\"4421\",\"type\":\"UnionRenderers\"},{\"attributes\":{},\"id\":\"4349\",\"type\":\"CrosshairTool\"},{\"attributes\":{},\"id\":\"4503\",\"type\":\"Selection\"},{\"attributes\":{\"bottom_units\":\"screen\",\"coordinates\":null,\"fill_alpha\":0.5,\"fill_color\":\"lightgrey\",\"group\":null,\"left_units\":\"screen\",\"level\":\"overlay\",\"line_alpha\":1.0,\"line_color\":\"black\",\"line_dash\":[4,4],\"line_width\":2,\"right_units\":\"screen\",\"syncable\":false,\"top_units\":\"screen\"},\"id\":\"4364\",\"type\":\"BoxAnnotation\"},{\"attributes\":{},\"id\":\"4359\",\"type\":\"SaveTool\"},{\"attributes\":{\"data\":{\"x\":[7.10066032409668,6.154246807098389,4.611268520355225,6.62451171875,5.636684894561768,7.794168472290039,4.084348201751709,8.260308265686035,6.474044322967529,5.265912055969238,6.778472423553467,5.788862228393555,7.376587867736816,7.524343967437744,6.421699523925781,7.523298263549805,6.525524616241455,5.900990009307861,6.439916133880615,5.62376594543457,7.2339253425598145,7.014984130859375,8.395672798156738,7.047604560852051,7.354450225830078,7.64242696762085,4.35627555847168,6.915103435516357,4.953130722045898,5.893896579742432,5.35465669631958,7.324667453765869,6.0185441970825195,6.30671501159668,7.028655052185059,5.204822063446045,5.45841646194458,7.427944183349609,6.190696716308594,4.850534915924072,4.611907005310059,3.892293691635132,7.080217361450195,3.943804979324341,4.996760368347168,4.98505973815918,7.435819625854492,6.3109869956970215,5.648612976074219,6.4450364112854,5.177945613861084,4.353217124938965,7.8632121086120605,6.706690311431885,8.448732376098633,5.313148021697998,7.389855861663818,4.45672607421875,5.954567909240723,7.612288951873779,8.25365161895752,6.071444034576416,6.594325542449951,4.259286880493164,6.141671657562256,5.462554454803467,6.104889392852783,7.9957275390625,7.484554767608643,8.03783893585205,4.380629062652588,4.865224838256836,6.975815773010254,8.025439262390137,5.1519694328308105,4.572300434112549,6.950434684753418,6.356675624847412,5.112325668334961,4.074751377105713,3.870438814163208,4.347567081451416,6.094350337982178,4.94527006149292,6.329861640930176,5.768362998962402,5.635509490966797,6.44929838180542,7.078937530517578,6.8370256423950195,6.8713250160217285,6.716159820556641,4.71261739730835,7.371255397796631,6.408995628356934,7.4519243240356445,5.2392425537109375,6.616550445556641,6.440735340118408,7.707536220550537,7.206528663635254,7.487257480621338,7.1551666259765625,6.823052883148193,7.889614105224609,5.251067638397217,6.550576686859131,4.553479194641113,6.2690205574035645,4.553806781768799,6.1570658683776855,4.073625564575195,6.847017765045166,6.2440996170043945,6.739963531494141,6.339786052703857,4.496222019195557,7.806921482086182,4.14122200012207,5.070462703704834,4.40185546875,6.31105375289917,7.346444606781006,5.183908462524414,6.953085422515869,7.7481913566589355,5.971614360809326,4.239076614379883,3.7111010551452637,6.010042667388916,5.517928600311279,6.664624214172363,5.510569095611572,4.931262016296387,7.695390701293945,6.6239190101623535,7.209240436553955,3.7914364337921143,6.460814952850342,6.343770503997803,5.619271278381348,5.50350284576416,7.3559699058532715,3.9403908252716064,6.547990322113037,8.23890495300293,7.167640209197998,8.265250205993652,6.238816261291504,7.133751392364502,5.941064834594727,8.195821762084961,6.465450286865234,5.187900066375732,4.907951354980469,6.502635955810547,4.392978668212891,7.270744800567627,6.656796932220459,6.33683443069458,4.835345268249512,7.4749040603637695,4.365325927734375,8.330694198608398,5.641746520996094,5.636251926422119,7.7908711433410645,5.209597110748291,4.994842529296875,5.927127361297607,7.456185817718506,4.949068546295166,6.692505836486816,5.003837585449219,6.718331336975098,5.798371315002441,7.2706756591796875,7.7026824951171875,6.253965377807617,5.8237996101379395,6.609179973602295,7.740294456481934,7.74545431137085,5.421511173248291,5.924813747406006,7.98997163772583,5.7725043296813965,6.709452152252197,6.013492584228516,5.770352840423584,7.41911506652832,8.0220365524292,5.549524784088135,7.807398796081543,4.950049877166748,6.4142937660217285,5.857875347137451,7.111175060272217,5.094003200531006,5.901522636413574,6.037010192871094,3.746713161468506,6.322323799133301,7.565147876739502,5.064480304718018,7.763642311096191,7.103837966918945,6.519301414489746,7.406158447265625,6.714443206787109,6.119402885437012,6.914915084838867,6.862972259521484,5.7961745262146,4.499611854553223,7.505465984344482,6.212015151977539,8.151620864868164,5.276269912719727,6.390635013580322,6.485419273376465,4.7234907150268555,8.409232139587402,6.614113807678223,4.429754734039307,5.776444435119629,7.6767897605896,6.089419364929199,5.104435920715332,5.517927169799805,5.514192581176758,5.420098781585693,4.278018474578857,6.803020477294922,5.500487804412842,4.967457294464111,7.137279987335205,4.214865684509277,4.134957313537598,4.898557662963867,8.286540031433105,4.686100006103516,6.613114833831787,5.14382266998291,4.206480979919434,4.504427909851074,8.045692443847656,5.706157207489014,4.770379066467285,5.388584136962891,7.901721000671387,7.930005073547363,7.187520503997803,7.112222194671631,7.239497184753418,7.9083476066589355,8.561150550842285,7.174253940582275,6.362734794616699,5.349164962768555,8.325912475585938,6.546038627624512,4.872218132019043,5.50840950012207,7.769261360168457,5.569690704345703,5.688943862915039,4.934700012207031,3.880871057510376,4.02129602432251,6.185978412628174,5.098235607147217,5.3578596115112305,5.430397033691406,7.662919044494629,6.524699687957764,6.794928073883057,6.732853889465332,7.161659240722656,8.527884483337402,6.521797180175781,5.021036624908447,6.336941242218018,7.692770004272461,8.463247299194336,4.465502738952637,6.580875873565674,5.206719875335693,6.454781532287598,7.819314479827881,5.272078990936279,7.228877544403076,4.293745040893555,7.275325298309326,4.790337085723877,5.469143390655518,6.88997745513916,6.972257137298584,6.4607253074646,6.898290157318115,7.661762714385986,6.876506328582764,5.762557506561279,5.823631286621094,7.335231304168701,5.071139812469482,6.437557220458984,7.923720359802246,8.05769157409668,4.053798198699951,7.440069675445557,4.961437225341797,5.136153697967529],\"y\":[3.695052146911621,3.22760009765625,3.1974036693573,3.1967036724090576,4.825335502624512,4.975773811340332,3.015927314758301,4.54532527923584,4.911757946014404,3.958204746246338,2.7355904579162598,3.190586566925049,1.4618319272994995,2.7770674228668213,4.663327693939209,3.985071897506714,2.5729377269744873,1.5240631103515625,1.3756598234176636,3.3748366832733154,1.5910015106201172,2.4231648445129395,2.647571325302124,3.0595955848693848,1.6632145643234253,4.344045639038086,2.294502019882202,1.3788940906524658,4.857206344604492,3.0992050170898438,4.300774097442627,5.650805473327637,1.8594963550567627,6.228777885437012,1.2572027444839478,2.0182857513427734,2.808138847351074,2.0880208015441895,2.4088151454925537,3.361128568649292,1.954027771949768,3.9455831050872803,4.2285380363464355,3.195319890975952,3.7284421920776367,1.383770227432251,2.569373369216919,2.068063497543335,2.862407684326172,5.564260959625244,5.722393989562988,5.154780864715576,2.1731278896331787,3.148454427719116,3.9861698150634766,4.2400689125061035,5.18709659576416,4.1514716148376465,4.996115684509277,5.264859199523926,2.65185809135437,4.779913425445557,3.6544461250305176,3.556619882583618,4.593155860900879,2.6968348026275635,3.8136277198791504,2.743966817855835,4.597579002380371,3.6307408809661865,2.5826830863952637,3.5841236114501953,2.8359897136688232,4.002188205718994,2.1367030143737793,3.161381959915161,4.322441577911377,5.134662628173828,3.9256367683410645,2.3611395359039307,4.245001316070557,3.9043819904327393,4.216808795928955,3.941840648651123,4.25541877746582,1.111284852027893,1.6987125873565674,5.675891399383545,2.696216106414795,3.2768211364746094,1.5444014072418213,2.9331297874450684,3.1097588539123535,5.806754112243652,5.948910713195801,3.708235740661621,2.1295149326324463,2.3445205688476562,4.206867694854736,3.9020421504974365,1.833449363708496,5.3725504875183105,5.62928581237793,2.1037464141845703,1.5160715579986572,2.5794684886932373,2.5537824630737305,3.432750940322876,3.7169744968414307,3.9682040214538574,6.293188095092773,4.89857816696167,5.917773723602295,2.659762144088745,1.493949294090271,3.3055050373077393,5.271442413330078,5.340217113494873,2.9180169105529785,5.792777061462402,2.570474624633789,6.202049732208252,4.220020771026611,4.231753826141357,3.677614212036133,4.001269817352295,1.5388731956481934,3.0542361736297607,3.4970273971557617,4.065786838531494,1.6046218872070312,1.9640721082687378,5.833296775817871,2.2158772945404053,1.6008520126342773,4.524249076843262,4.978291034698486,3.38262939453125,2.295203924179077,1.460113763809204,5.913456916809082,5.4496636390686035,3.0078797340393066,4.733381748199463,1.993648648262024,3.1167900562286377,4.890697956085205,2.9875428676605225,1.656832218170166,3.6168692111968994,5.2851481437683105,4.896873950958252,4.390110492706299,3.3937246799468994,2.547356605529785,5.798328399658203,5.497159957885742,4.653131008148193,6.28216552734375,4.971371650695801,5.146535396575928,3.4716310501098633,3.44795823097229,4.2573418617248535,2.1489672660827637,4.3562493324279785,3.6181647777557373,3.518235683441162,5.685156345367432,5.40834379196167,4.589243412017822,2.4354605674743652,5.078768730163574,3.9401345252990723,3.4885385036468506,2.0293328762054443,1.6583094596862793,5.2197489738464355,2.929325819015503,4.703124523162842,5.284035682678223,3.6507465839385986,4.253325939178467,3.1397504806518555,2.5747032165527344,2.840172052383423,1.0572400093078613,4.018665790557861,3.4272048473358154,1.6905213594436646,4.315615177154541,2.8673107624053955,3.1611011028289795,2.917459487915039,1.4291914701461792,4.274909019470215,3.9612152576446533,2.100922107696533,4.089056491851807,2.7281010150909424,3.191830635070801,3.2819671630859375,3.5929620265960693,5.4575419425964355,3.0145506858825684,4.198962688446045,5.4489359855651855,2.6830739974975586,4.022159576416016,3.5812978744506836,3.149740695953369,1.4809073209762573,3.148294448852539,3.1102988719940186,1.8575021028518677,4.17458963394165,3.427952289581299,5.086005210876465,5.015821933746338,1.2581977844238281,2.4022860527038574,2.2409145832061768,2.607947826385498,3.4274027347564697,4.595672130584717,4.099149703979492,2.843674659729004,1.369214415550232,3.6497018337249756,4.184041976928711,4.393918037414551,2.3316562175750732,3.351357936859131,2.8033130168914795,2.5929183959960938,3.944563150405884,3.4544851779937744,3.8078668117523193,3.5655033588409424,5.6832594871521,2.1230504512786865,3.0173580646514893,3.429896593093872,3.407952070236206,4.91693115234375,1.8960368633270264,4.888002872467041,3.3908205032348633,3.555762529373169,4.77486515045166,4.727110385894775,2.3816568851470947,5.287827491760254,3.9247851371765137,2.4920096397399902,3.677170991897583,3.779906749725342,3.7262516021728516,3.7032270431518555,2.8726797103881836,3.8838307857513428,5.271212577819824,4.848119735717773,1.9404971599578857,2.124906539916992,2.852381944656372,3.3616721630096436,5.6031293869018555,3.891150712966919,4.015795707702637,3.2293992042541504,3.3595635890960693,2.033754587173462,4.861538887023926,5.450075626373291,2.1599783897399902,5.5879292488098145,4.014941215515137,3.31653094291687,4.399325370788574,4.825926780700684,1.644943118095398,1.1933445930480957,3.9724791049957275,4.475146770477295,5.371633052825928,3.0165956020355225,1.6968796253204346,4.475203514099121,1.6584408283233643,1.4230366945266724,5.6506500244140625,4.477355480194092,5.782809734344482,2.597930669784546,3.9042906761169434,5.819018840789795,1.2817206382751465,2.2903642654418945,1.791388750076294,5.107629299163818,2.504033088684082,4.067601203918457,2.2741665840148926,2.298060178756714,4.0293707847595215,2.1201469898223877,2.9926517009735107,3.8673198223114014,4.409077167510986,4.6584367752075195,4.1481099128723145,4.143198490142822]},\"selected\":{\"id\":\"4398\"},\"selection_policy\":{\"id\":\"4397\"}},\"id\":\"4383\",\"type\":\"ColumnDataSource\"},{\"attributes\":{\"source\":{\"id\":\"4645\"}},\"id\":\"4650\",\"type\":\"CDSView\"},{\"attributes\":{},\"id\":\"4353\",\"type\":\"ZoomOutTool\"},{\"attributes\":{},\"id\":\"4357\",\"type\":\"ResetTool\"},{\"attributes\":{\"fill_alpha\":{\"value\":0.1},\"fill_color\":{\"value\":\"#bd9e39\"},\"hatch_alpha\":{\"value\":0.1},\"line_alpha\":{\"value\":0.1},\"line_color\":{\"value\":null},\"marker\":{\"value\":\"square\"},\"size\":{\"value\":12},\"x\":{\"field\":\"x\"},\"y\":{\"field\":\"y\"}},\"id\":\"4482\",\"type\":\"Scatter\"},{\"attributes\":{\"fill_color\":{\"value\":\"#393b79\"},\"line_color\":{\"value\":null},\"size\":{\"value\":12},\"x\":{\"field\":\"x\"},\"y\":{\"field\":\"y\"}},\"id\":\"4646\",\"type\":\"Scatter\"},{\"attributes\":{\"fill_alpha\":{\"value\":0.2},\"fill_color\":{\"value\":\"#393b79\"},\"hatch_alpha\":{\"value\":0.2},\"line_alpha\":{\"value\":0.2},\"line_color\":{\"value\":null},\"size\":{\"value\":12},\"x\":{\"field\":\"x\"},\"y\":{\"field\":\"y\"}},\"id\":\"4648\",\"type\":\"Scatter\"},{\"attributes\":{\"fill_alpha\":{\"value\":0.1},\"fill_color\":{\"value\":\"#393b79\"},\"hatch_alpha\":{\"value\":0.1},\"line_alpha\":{\"value\":0.1},\"line_color\":{\"value\":null},\"size\":{\"value\":12},\"x\":{\"field\":\"x\"},\"y\":{\"field\":\"y\"}},\"id\":\"4647\",\"type\":\"Scatter\"},{\"attributes\":{},\"id\":\"4336\",\"type\":\"LinearScale\"},{\"attributes\":{},\"id\":\"4677\",\"type\":\"UnionRenderers\"},{\"attributes\":{\"coordinates\":null,\"formatter\":{\"id\":\"4395\"},\"group\":null,\"major_label_policy\":{\"id\":\"4396\"},\"ticker\":{\"id\":\"4341\"}},\"id\":\"4340\",\"type\":\"LinearAxis\"},{\"attributes\":{\"label\":{\"value\":\"afrobeat\"},\"renderers\":[{\"id\":\"4649\"}]},\"id\":\"4683\",\"type\":\"LegendItem\"}],\"root_ids\":[\"4331\"]},\"title\":\"Bokeh Application\",\"version\":\"2.4.3\"}};\n",
       "  const render_items = [{\"docid\":\"c97b763a-d52f-488f-bf4a-2b6766cd4cff\",\"root_ids\":[\"4331\"],\"roots\":{\"4331\":\"87690506-a8b1-4fe3-91ca-60014f66c0e2\"}}];\n",
       "  root.Bokeh.embed.embed_items_notebook(docs_json, render_items);\n",
       "  }\n",
       "  if (root.Bokeh !== undefined) {\n",
       "    embed_document(root);\n",
       "  } else {\n",
       "    let attempts = 0;\n",
       "    const timer = setInterval(function(root) {\n",
       "      if (root.Bokeh !== undefined) {\n",
       "        clearInterval(timer);\n",
       "        embed_document(root);\n",
       "      } else {\n",
       "        attempts++;\n",
       "        if (attempts > 100) {\n",
       "          clearInterval(timer);\n",
       "          console.log(\"Bokeh: ERROR: Unable to run BokehJS code because BokehJS library is missing\");\n",
       "        }\n",
       "      }\n",
       "    }, 10, root)\n",
       "  }\n",
       "})(window);"
      ],
      "application/vnd.bokehjs_exec.v0+json": ""
     },
     "metadata": {
      "application/vnd.bokehjs_exec.v0+json": {
       "id": "4331"
      }
     },
     "output_type": "display_data"
    }
   ],
   "source": [
    "embedding_dict = dict()\n",
    "styles = df.style_primary\n",
    "\n",
    "\n",
    "for ix, style in enumerate(styles):\n",
    "    if(not style in embedding_dict):\n",
    "        embedding_dict.update({style: ([], [])})\n",
    "    embedding_dict[style][0].append(embeddings[ix][0])\n",
    "    embedding_dict[style][1].append(embeddings[ix][1])\n",
    "    \n",
    "\n",
    "TOOLS=\"hover,crosshair,pan,wheel_zoom,zoom_in,zoom_out,box_zoom,undo,redo,reset,tap,save,box_select,poly_select,lasso_select,\"\n",
    "\n",
    "p = figure(tools=TOOLS)\n",
    "\n",
    "for key, values in embedding_dict.items():\n",
    "    p.scatter(values[0], values[1],\n",
    "              fill_color=style_hue_map[key], \n",
    "              line_color=None, legend_label=key, marker=marker_map[key], size=12)\n",
    "p.legend.click_policy=\"hide\"\n",
    "show(p)"
   ]
  },
  {
   "cell_type": "markdown",
   "id": "75fe8a46",
   "metadata": {
    "pycharm": {
     "name": "#%%\n"
    }
   },
   "source": [
    "save(p, f\"UMAP_{run_name}.html\")\n",
    "\n",
    "embedding_dict"
   ]
  },
  {
   "cell_type": "code",
   "execution_count": 56,
   "id": "1a4a1540",
   "metadata": {
    "pycharm": {
     "name": "#%%\n"
    }
   },
   "outputs": [],
   "source": [
    "# from sklearn.manifold import TSNE\n",
    "# umap = TSNE(n_components=embedding_dims)\n",
    "# embeddings = umap.fit_transform(df.drop(\"style_primary\", axis=1))"
   ]
  },
  {
   "cell_type": "code",
   "execution_count": 57,
   "id": "7890b92b",
   "metadata": {
    "pycharm": {
     "name": "#%%\n"
    }
   },
   "outputs": [],
   "source": [
    "# import numpy as np\n",
    "\n",
    "# from bokeh.plotting import figure, show, save\n",
    "# from bokeh.io import output_notebook\n",
    "\n",
    "# TOOLS=\"hover,crosshair,pan,wheel_zoom,zoom_in,zoom_out,box_zoom,undo,redo,reset,tap,save,box_select,poly_select,lasso_select,\"\n",
    "\n",
    "# p = figure(tools=TOOLS)\n",
    "\n",
    "# p.scatter(embeddings[:, 0], embeddings[:, 1],\n",
    "         #  fill_color=colors, fill_alpha=0.6,\n",
    "          # line_color=None)\n",
    "\n",
    "# save(p, \"TSNE.html\") "
   ]
  },
  {
   "cell_type": "markdown",
   "id": "b463363c",
   "metadata": {
    "pycharm": {
     "name": "#%%\n"
    }
   },
   "source": []
  },
  {
   "cell_type": "code",
   "execution_count": null,
   "id": "16bd3cd6",
   "metadata": {
    "pycharm": {
     "name": "#%%\n"
    }
   },
   "outputs": [],
   "source": []
  },
  {
   "cell_type": "code",
   "execution_count": null,
   "id": "c7112492",
   "metadata": {},
   "outputs": [],
   "source": []
  },
  {
   "cell_type": "code",
   "execution_count": null,
   "id": "bd74b2a4",
   "metadata": {},
   "outputs": [],
   "source": []
  }
 ],
 "metadata": {
  "kernelspec": {
   "display_name": "GrooveTransformer",
   "language": "python",
   "name": "groovetransformer"
  },
  "language_info": {
   "codemirror_mode": {
    "name": "ipython",
    "version": 3
   },
   "file_extension": ".py",
   "mimetype": "text/x-python",
   "name": "python",
   "nbconvert_exporter": "python",
   "pygments_lexer": "ipython3",
   "version": "3.9.16"
  }
 },
 "nbformat": 4,
 "nbformat_minor": 5
}
